{
  "cells": [
    {
      "cell_type": "markdown",
      "metadata": {
        "id": "_q63IRlV2KCc"
      },
      "source": [
        "This notebook is based on the article \"**Operad Structure of Poset Matrices**\"\n",
        "Available in https://arxiv.org/abs/2401.06814 and the implementation of the algorithms in **Computational and Combinatorial Enumeration of Poset Matrices**(In Press)."
      ]
    },
    {
      "cell_type": "code",
      "execution_count": null,
      "metadata": {
        "id": "RInhTNlXcHeC"
      },
      "outputs": [],
      "source": [
        "# import  packages\n",
        "import numpy as np\n",
        "import itertools\n",
        "import more_itertools\n",
        "import math"
      ]
    },
    {
      "cell_type": "markdown",
      "metadata": {
        "id": "Rco0NYlIdFui"
      },
      "source": [
        "**isBinary** function determines if a matriz is binary (0,1)."
      ]
    },
    {
      "cell_type": "code",
      "execution_count": null,
      "metadata": {
        "id": "4Lyk_Rh3c-G-"
      },
      "outputs": [],
      "source": [
        "def isBinary(inputarray):\n",
        "  return ((inputarray==0) | (inputarray==1)).all()"
      ]
    },
    {
      "cell_type": "markdown",
      "metadata": {
        "id": "3NU9M8p5eOdv"
      },
      "source": [
        "**isPosetMatrix** function determines if a binary triangular matrix is a poset."
      ]
    },
    {
      "cell_type": "code",
      "execution_count": null,
      "metadata": {
        "id": "8_5MTlCUeRYV"
      },
      "outputs": [],
      "source": [
        "def isPosetMatrix(inputndarray):\n",
        "\n",
        "    if isBinary(inputndarray) and (np.allclose(inputndarray, np.tril(inputndarray)) or np.allclose(inputndarray, np.triu(inputndarray))):\n",
        "        mat=np.matmul(inputndarray,inputndarray)\n",
        "        initial_positions=list(zip(*np.where(inputndarray == 0)))\n",
        "        updated_positions=list(zip(*np.where( mat == 0)))\n",
        "        if  updated_positions==initial_positions:\n",
        "            return True\n",
        "        else:\n",
        "            return False\n",
        "    else:\n",
        "        return False"
      ]
    },
    {
      "cell_type": "markdown",
      "metadata": {
        "id": "0pyScpC-gYCK"
      },
      "source": [
        "**Examples using isPosetMatrix**"
      ]
    },
    {
      "cell_type": "code",
      "execution_count": null,
      "metadata": {
        "id": "zB_Iiq4JkbDP"
      },
      "outputs": [],
      "source": [
        "matrix1=np.array([[1, 0, 0, 0, 0],\n",
        "       [1, 1, 0, 0, 0],\n",
        "       [1, 0, 1, 0, 0],\n",
        "       [1, 0, 0, 1, 0],\n",
        "       [1, 0, 0, 1, 1]])"
      ]
    },
    {
      "cell_type": "code",
      "execution_count": null,
      "metadata": {
        "colab": {
          "base_uri": "https://localhost:8080/"
        },
        "id": "PPe-i4qxkwoY",
        "outputId": "63c901ce-badc-4b16-e2c0-3677eff9092b"
      },
      "outputs": [
        {
          "data": {
            "text/plain": [
              "True"
            ]
          },
          "execution_count": 7,
          "metadata": {},
          "output_type": "execute_result"
        }
      ],
      "source": [
        "isPosetMatrix(matrix1)"
      ]
    },
    {
      "cell_type": "code",
      "execution_count": null,
      "metadata": {
        "id": "HhWG1weihBKc"
      },
      "outputs": [],
      "source": [
        " matrix2= np.array([[1, 0, 0, 0],\n",
        "    [1, 1, 0, 0],\n",
        "    [1, 0, 1, 0],[1, 1, 1, 1]])"
      ]
    },
    {
      "cell_type": "code",
      "execution_count": null,
      "metadata": {
        "colab": {
          "base_uri": "https://localhost:8080/"
        },
        "id": "ESkv7M_O9gLI",
        "outputId": "c7e18c6b-77e0-4794-9363-72d24437cb47"
      },
      "outputs": [
        {
          "data": {
            "text/plain": [
              "array([[1, 0, 0, 0],\n",
              "       [1, 1, 0, 0],\n",
              "       [1, 0, 1, 0],\n",
              "       [1, 1, 1, 1]])"
            ]
          },
          "execution_count": 31,
          "metadata": {},
          "output_type": "execute_result"
        }
      ],
      "source": [
        "matrix2"
      ]
    },
    {
      "cell_type": "code",
      "execution_count": null,
      "metadata": {
        "colab": {
          "base_uri": "https://localhost:8080/"
        },
        "id": "l1SuCDnkhOR3",
        "outputId": "8249e265-dbac-440b-981e-09f64f88f72e"
      },
      "outputs": [
        {
          "data": {
            "text/plain": [
              "True"
            ]
          },
          "execution_count": 9,
          "metadata": {},
          "output_type": "execute_result"
        }
      ],
      "source": [
        "isPosetMatrix(matrix2)"
      ]
    },
    {
      "cell_type": "code",
      "execution_count": null,
      "metadata": {
        "id": "n21gvIbwhhIL"
      },
      "outputs": [],
      "source": [
        "matrix3=np.array([[1,0,0],[1,1,0],[0,1,1]])"
      ]
    },
    {
      "cell_type": "code",
      "execution_count": null,
      "metadata": {
        "colab": {
          "base_uri": "https://localhost:8080/"
        },
        "id": "jt-lTQNdmWXW",
        "outputId": "efca11d5-daf3-4509-d98f-8bd1c2d0eb7d"
      },
      "outputs": [
        {
          "data": {
            "text/plain": [
              "array([[1, 0, 0],\n",
              "       [1, 1, 0],\n",
              "       [0, 1, 1]])"
            ]
          },
          "execution_count": 11,
          "metadata": {},
          "output_type": "execute_result"
        }
      ],
      "source": [
        "matrix3"
      ]
    },
    {
      "cell_type": "code",
      "execution_count": null,
      "metadata": {
        "colab": {
          "base_uri": "https://localhost:8080/"
        },
        "id": "gsJwuFgqhpvT",
        "outputId": "7011c140-ffed-49ea-bd18-4c58a38f4f5f"
      },
      "outputs": [
        {
          "data": {
            "text/plain": [
              "False"
            ]
          },
          "execution_count": 12,
          "metadata": {},
          "output_type": "execute_result"
        }
      ],
      "source": [
        "isPosetMatrix(matrix3)"
      ]
    },
    {
      "cell_type": "markdown",
      "metadata": {
        "id": "YxILsFbJkJw5"
      },
      "source": [
        "**findMax** function returns the list of all the maximal elements of a poset matrix."
      ]
    },
    {
      "cell_type": "code",
      "execution_count": null,
      "metadata": {
        "id": "o_w4HwAgjzqL"
      },
      "outputs": [],
      "source": [
        "def findMax(posetmatrix):\n",
        "\n",
        "    dimPM=posetmatrix.shape[0]\n",
        "    maxList=[x for x in range(dimPM) if sum(posetmatrix[:,x])==1]\n",
        "\n",
        "    return maxList"
      ]
    },
    {
      "cell_type": "markdown",
      "metadata": {
        "id": "Ga3_9fLYkgNe"
      },
      "source": [
        "Example of using **findMax**"
      ]
    },
    {
      "cell_type": "code",
      "execution_count": null,
      "metadata": {
        "colab": {
          "base_uri": "https://localhost:8080/"
        },
        "id": "7Mbg06yvkG9A",
        "outputId": "8a8609fb-e215-438f-ea35-7cc53603081e"
      },
      "outputs": [
        {
          "data": {
            "text/plain": [
              "[1, 2, 4]"
            ]
          },
          "execution_count": 15,
          "metadata": {},
          "output_type": "execute_result"
        }
      ],
      "source": [
        "findMax(matrix1)"
      ]
    },
    {
      "cell_type": "markdown",
      "metadata": {
        "id": "gJ7E1jUZk5q2"
      },
      "source": [
        "**findMin** function returns the list of all the minimal elements of a poset matrix"
      ]
    },
    {
      "cell_type": "code",
      "execution_count": null,
      "metadata": {
        "id": "kLqCnjy5k4UZ"
      },
      "outputs": [],
      "source": [
        "def findMin(posetmatrix):\n",
        "\n",
        "    dimPM=posetmatrix.shape[0]\n",
        "    minList=[ind for ind in range(dimPM) if sum(posetmatrix[ind])==1 ]\n",
        "\n",
        "\n",
        "    return minList"
      ]
    },
    {
      "cell_type": "markdown",
      "metadata": {
        "id": "b08f0PAJlSPN"
      },
      "source": [
        "Example of using **findMin**"
      ]
    },
    {
      "cell_type": "code",
      "execution_count": null,
      "metadata": {
        "colab": {
          "base_uri": "https://localhost:8080/"
        },
        "id": "z2l02KfQlLzT",
        "outputId": "0653b803-65ea-4372-fb1d-a97b5bbfbcc3"
      },
      "outputs": [
        {
          "data": {
            "text/plain": [
              "[0]"
            ]
          },
          "execution_count": 19,
          "metadata": {},
          "output_type": "execute_result"
        }
      ],
      "source": [
        "findMin(matrix1)"
      ]
    },
    {
      "cell_type": "markdown",
      "metadata": {
        "id": "WyOOdsCHmqMV"
      },
      "source": [
        "**findMinMax** function returns the list of all the minimal and maximal elements of a poset matrix"
      ]
    },
    {
      "cell_type": "code",
      "execution_count": null,
      "metadata": {
        "id": "-15tfORrlrZh"
      },
      "outputs": [],
      "source": [
        "def findMinMax(posetmatrix):\n",
        "\n",
        "    dimPM=posetmatrix.shape[0]\n",
        "    minList=[ind for ind in range(dimPM) if sum(posetmatrix[ind])==1 ]\n",
        "    maxList=[x for x in range(dimPM) if sum(posetmatrix[:,x])==1]\n",
        "\n",
        "    return (minList,maxList)"
      ]
    },
    {
      "cell_type": "code",
      "execution_count": null,
      "metadata": {
        "colab": {
          "base_uri": "https://localhost:8080/"
        },
        "id": "acOxOq1Y6p_W",
        "outputId": "cb2ebf66-69c4-4027-8d76-8b4aba6b1974"
      },
      "outputs": [
        {
          "data": {
            "text/plain": [
              "([0], [1, 2, 4])"
            ]
          },
          "execution_count": 22,
          "metadata": {},
          "output_type": "execute_result"
        }
      ],
      "source": [
        "findMinMax(matrix1)"
      ]
    },
    {
      "cell_type": "code",
      "execution_count": null,
      "metadata": {
        "colab": {
          "base_uri": "https://localhost:8080/"
        },
        "id": "_FnyAgCeTyKN",
        "outputId": "ed74bc6c-f798-4984-ca29-3c7ae8ac523d"
      },
      "outputs": [
        {
          "data": {
            "text/plain": [
              "([0], [3])"
            ]
          },
          "execution_count": 21,
          "metadata": {},
          "output_type": "execute_result"
        }
      ],
      "source": [
        "findMinMax(matrix2)"
      ]
    },
    {
      "cell_type": "markdown",
      "metadata": {
        "id": "edd_frAxoe7L"
      },
      "source": [
        "**createU** constructs the submatrix U in a partial composition operation of poset matrices."
      ]
    },
    {
      "cell_type": "code",
      "execution_count": null,
      "metadata": {
        "id": "iQJIcsfLoKoN"
      },
      "outputs": [],
      "source": [
        "def createU(lposetmatrix,rposetmatrix,i):\n",
        "\n",
        "    rowAi=lposetmatrix[i-1]\n",
        "    rowAi=rowAi[0:i-1]\n",
        "    dimE=rposetmatrix.shape[0]\n",
        "    U=np.zeros( (dimE,i-1),dtype='int64' )\n",
        "\n",
        "    for z in range(dimE):\n",
        "      if z in findMax(rposetmatrix):\n",
        "        U[z]=rowAi\n",
        "\n",
        "\n",
        "    return U"
      ]
    },
    {
      "cell_type": "markdown",
      "metadata": {
        "id": "I7Qc5RJbpLqO"
      },
      "source": [
        "**Example of using createU**"
      ]
    },
    {
      "cell_type": "code",
      "execution_count": null,
      "metadata": {
        "colab": {
          "base_uri": "https://localhost:8080/"
        },
        "id": "uzBHw5_SoTH1",
        "outputId": "d1443d59-ad03-43bc-dc06-817dd4f5fbd0"
      },
      "outputs": [
        {
          "data": {
            "text/plain": [
              "array([[0, 0],\n",
              "       [0, 0],\n",
              "       [0, 0],\n",
              "       [1, 0]])"
            ]
          },
          "execution_count": 26,
          "metadata": {},
          "output_type": "execute_result"
        }
      ],
      "source": [
        "createU(matrix1, matrix2,3)"
      ]
    },
    {
      "cell_type": "markdown",
      "metadata": {
        "id": "C-NJMpN_pvZb"
      },
      "source": [
        "**createV** function constructs the submatrix V in a partial composition operation of poset matrices."
      ]
    },
    {
      "cell_type": "code",
      "execution_count": null,
      "metadata": {
        "id": "PgmDu_v1o7XX"
      },
      "outputs": [],
      "source": [
        "def createV(lposetmatrix,rposetmatrix,i):\n",
        "\n",
        "   dimF=lposetmatrix.shape[0]\n",
        "   dimE=rposetmatrix.shape[0]\n",
        "   colAi=lposetmatrix[i:dimF,i-1]\n",
        "\n",
        "   v=np.zeros( (dimF-i,dimE),dtype='int64' )\n",
        "   for k in range(dimE):\n",
        "      if k in findMin(rposetmatrix):\n",
        "         v[:,k]=colAi\n",
        "\n",
        "   return v"
      ]
    },
    {
      "cell_type": "markdown",
      "metadata": {
        "id": "c4g4ht8qp7B8"
      },
      "source": [
        "Example using **createV**."
      ]
    },
    {
      "cell_type": "code",
      "execution_count": null,
      "metadata": {
        "colab": {
          "base_uri": "https://localhost:8080/"
        },
        "id": "0H_JrAUCpEKC",
        "outputId": "3ac7ee39-d03a-461e-8ddf-7625c510f7dc"
      },
      "outputs": [
        {
          "data": {
            "text/plain": [
              "array([[1, 0, 0, 0],\n",
              "       [1, 0, 0, 0],\n",
              "       [1, 0, 0, 0],\n",
              "       [1, 0, 0, 0]])"
            ]
          },
          "execution_count": 30,
          "metadata": {},
          "output_type": "execute_result"
        }
      ],
      "source": [
        "createV(matrix1,matrix2,1)"
      ]
    },
    {
      "cell_type": "code",
      "execution_count": null,
      "metadata": {
        "colab": {
          "base_uri": "https://localhost:8080/"
        },
        "id": "N6yOt_gd9p-K",
        "outputId": "c36df1c7-b317-483f-b3a8-8b5099f1f3d9"
      },
      "outputs": [
        {
          "data": {
            "text/plain": [
              "array([[0, 0, 0, 0, 0],\n",
              "       [1, 0, 0, 0, 0]])"
            ]
          },
          "execution_count": 33,
          "metadata": {},
          "output_type": "execute_result"
        }
      ],
      "source": [
        "createV(matrix2,matrix1,2)"
      ]
    },
    {
      "cell_type": "markdown",
      "metadata": {
        "id": "6FJksdmkqOSc"
      },
      "source": [
        "**createUV** function returns the submatrices U and V."
      ]
    },
    {
      "cell_type": "code",
      "execution_count": null,
      "metadata": {
        "id": "NnUA1oezqlyA"
      },
      "outputs": [],
      "source": [
        "def createUV(lposetmatrix,rposetmatrix,i):\n",
        "\n",
        "    dimF=lposetmatrix.shape[0]\n",
        "    dimE=rposetmatrix.shape[0]\n",
        "    colAi=lposetmatrix[i:dimF,i-1]\n",
        "    rowAi=lposetmatrix[i-1]\n",
        "    rowAi=rowAi[0:i-1]\n",
        "\n",
        "    V=np.zeros( (dimF-i,dimE),dtype='int64')\n",
        "    for k in range(dimE):\n",
        "        if k in findMin(rposetmatrix):\n",
        "            V[:,k]=colAi\n",
        "\n",
        "    U=np.zeros( (dimE,i-1),dtype='int64')\n",
        "    for z in range(dimE):\n",
        "        if z in findMax(rposetmatrix):\n",
        "            U[z]=rowAi\n",
        "\n",
        "    return (V,U)\n",
        "\n",
        "\n"
      ]
    },
    {
      "cell_type": "markdown",
      "metadata": {
        "id": "zgqxzCwVuGwZ"
      },
      "source": [
        "**Example of using createUV to construct the submatrices U and V.**"
      ]
    },
    {
      "cell_type": "code",
      "execution_count": null,
      "metadata": {
        "colab": {
          "base_uri": "https://localhost:8080/"
        },
        "id": "VQnOBeOntQUB",
        "outputId": "8e424134-4a91-437e-db6e-9f9f7d7ae9e6"
      },
      "outputs": [
        {
          "data": {
            "text/plain": [
              "(array([[0, 0, 0, 0],\n",
              "        [0, 0, 0, 0],\n",
              "        [0, 0, 0, 0]]),\n",
              " array([[0],\n",
              "        [0],\n",
              "        [0],\n",
              "        [1]]))"
            ]
          },
          "execution_count": 35,
          "metadata": {},
          "output_type": "execute_result"
        }
      ],
      "source": [
        "createUV(matrix1,matrix2,2)"
      ]
    },
    {
      "cell_type": "markdown",
      "metadata": {
        "id": "hNaYulpCvX1Y"
      },
      "source": [
        "**flattenR(b)** function takes in an ndarray as input and returns a copy of the array collapsed into one dimension"
      ]
    },
    {
      "cell_type": "code",
      "execution_count": null,
      "metadata": {
        "id": "Jkw4rTKKvFgz"
      },
      "outputs": [],
      "source": [
        "def flattenR(b):\n",
        "  return b.flatten()"
      ]
    },
    {
      "cell_type": "code",
      "execution_count": null,
      "metadata": {
        "id": "OJsEgnjBxrAg"
      },
      "outputs": [],
      "source": [
        "def tupletoArray(q):\n",
        "  size=len(q)\n",
        "  calc=int(size/(math.sqrt(size)))\n",
        "  return np.array(q).reshape(calc,calc)"
      ]
    },
    {
      "cell_type": "code",
      "execution_count": null,
      "metadata": {
        "id": "HPZicqrjxwk8"
      },
      "outputs": [],
      "source": [
        "def totuple(a):\n",
        "    try:\n",
        "        return tuple(totuple(i) for i in a)\n",
        "    except TypeError:\n",
        "        return a"
      ]
    },
    {
      "cell_type": "markdown",
      "metadata": {
        "id": "Se8B_hsmyiQf"
      },
      "source": [
        "Set of matrices used for inililiazation of  **counts_list_PM** function."
      ]
    },
    {
      "cell_type": "code",
      "execution_count": null,
      "metadata": {
        "id": "0pOL-LlTxpoT"
      },
      "outputs": [],
      "source": [
        "rightMat=[np.array([[1, 0],\n",
        "    [0, 1]]),np.array([[1, 0],\n",
        "    [1, 1]])]"
      ]
    },
    {
      "cell_type": "code",
      "execution_count": null,
      "metadata": {
        "id": "IchN14-GjqgD"
      },
      "outputs": [],
      "source": [
        "leftMat=rightMat"
      ]
    },
    {
      "cell_type": "code",
      "execution_count": null,
      "metadata": {
        "colab": {
          "base_uri": "https://localhost:8080/"
        },
        "id": "wg4DMuQIjr20",
        "outputId": "a259b9fe-606b-48b1-ba4e-79e16240c211"
      },
      "outputs": [
        {
          "data": {
            "text/plain": [
              "[array([[1, 0],\n",
              "        [0, 1]]),\n",
              " array([[1, 0],\n",
              "        [1, 1]])]"
            ]
          },
          "execution_count": 41,
          "metadata": {},
          "output_type": "execute_result"
        }
      ],
      "source": [
        "rightMat"
      ]
    },
    {
      "cell_type": "code",
      "execution_count": null,
      "metadata": {
        "colab": {
          "base_uri": "https://localhost:8080/"
        },
        "id": "JYg61cdxobTx",
        "outputId": "59000bba-36fd-47ac-8420-b80c03c1ac79"
      },
      "outputs": [
        {
          "data": {
            "text/plain": [
              "[array([[1, 0],\n",
              "        [0, 1]]),\n",
              " array([[1, 0],\n",
              "        [1, 1]])]"
            ]
          },
          "execution_count": 42,
          "metadata": {},
          "output_type": "execute_result"
        }
      ],
      "source": [
        "leftMat"
      ]
    },
    {
      "cell_type": "code",
      "execution_count": null,
      "metadata": {
        "id": "6n1BaGX7XQ-8"
      },
      "outputs": [],
      "source": [
        "leftMatDisc=[leftMat[0]]"
      ]
    },
    {
      "cell_type": "code",
      "execution_count": null,
      "metadata": {
        "colab": {
          "base_uri": "https://localhost:8080/"
        },
        "id": "Or4_D2-DXdEI",
        "outputId": "e2338638-3af7-4ed2-826b-50f2cf331ccb"
      },
      "outputs": [
        {
          "data": {
            "text/plain": [
              "[array([[1, 0],\n",
              "        [0, 1]])]"
            ]
          },
          "execution_count": 44,
          "metadata": {},
          "output_type": "execute_result"
        }
      ],
      "source": [
        "leftMatDisc"
      ]
    },
    {
      "cell_type": "code",
      "execution_count": null,
      "metadata": {
        "id": "DM9JApVdXfGn"
      },
      "outputs": [],
      "source": [
        "leftMatConn=[leftMat[1]]"
      ]
    },
    {
      "cell_type": "code",
      "execution_count": null,
      "metadata": {
        "colab": {
          "base_uri": "https://localhost:8080/"
        },
        "id": "dEOavA3QXmZA",
        "outputId": "82af2068-bf34-4325-871e-32dff5da75df"
      },
      "outputs": [
        {
          "data": {
            "text/plain": [
              "[array([[1, 0],\n",
              "        [1, 1]])]"
            ]
          },
          "execution_count": 47,
          "metadata": {},
          "output_type": "execute_result"
        }
      ],
      "source": [
        "leftMatConn"
      ]
    },
    {
      "cell_type": "markdown",
      "metadata": {
        "id": "mGrQl2ZVCpNl"
      },
      "source": [
        "**counts_list_PM** function computes the number of poset matrices or class of poset matrices generated by an operad or partial composition operation."
      ]
    },
    {
      "cell_type": "code",
      "execution_count": null,
      "metadata": {
        "id": "1yM8p-GCVNSF"
      },
      "outputs": [],
      "source": [
        "def OLDcounts_list_PM(listlposetmatrices=leftMat,listrposetmatrices=rightMat,first_operation=str(),second_operation=str(),third_operation=False, n=1):\n",
        "\n",
        "    counts=[]\n",
        "    #listPMTypes=list()\n",
        "    #list_PM=list()\n",
        "    #num_PMtypes,num_nonPMtypes=list(),list()\n",
        "\n",
        "    for step in range(n):\n",
        "\n",
        "        result=list()\n",
        "        num_PMtypes,num_nonPMtypes=list(),list()\n",
        "        k=len(listlposetmatrices)\n",
        "\n",
        "        for item in range(len(listrposetmatrices)):\n",
        "            rposetmatrix=listrposetmatrices[item]\n",
        "            computed=list(map(first_operation,listlposetmatrices,[rposetmatrix]*k))\n",
        "            result.append(computed)\n",
        "\n",
        "        chainedlist=list(itertools.chain(*result))\n",
        "        flattened_PMlist=list(itertools.chain(*chainedlist))\n",
        "        newList=list(map(flattenR,flattened_PMlist))\n",
        "        tuple_list=totuple(newList)\n",
        "        uniquetuples=set(tuple_list)\n",
        "        listlposetmatrices=list(map(tupletoArray, uniquetuples))\n",
        "\n",
        "        if second_operation!=str():\n",
        "\n",
        "            tupleTypes=tuple(map(second_operation,listlposetmatrices))\n",
        "            x=tupleTypes.count(True)\n",
        "            y=tupleTypes.count(False)\n",
        "            num_PMtypes.append(x)\n",
        "            num_nonPMtypes.append(y)\n",
        "\n",
        "        if third_operation==True:\n",
        "            #list_PM.append(listlposetmatrices)\n",
        "            list_PM=list(zip(listlposetmatrices,tupleTypes))\n",
        "        else:\n",
        "            list_PM=[]\n",
        "\n",
        "        counts.append(len(uniquetuples))\n",
        "\n",
        "    return (counts,list_PM)"
      ]
    },
    {
      "cell_type": "code",
      "execution_count": 86,
      "metadata": {
        "id": "IVLCE9KxKMFk"
      },
      "outputs": [],
      "source": [
        "def counts_list_PM(listlposetmatrices=leftMat,listrposetmatrices=rightMat,first_operation=str(),second_operation=str(),third_operation=False, n=1):\n",
        "\n",
        "    counts=[]\n",
        "    num_PMtypes,num_nonPMtypes=list(),list()\n",
        "\n",
        "    for step in range(n):\n",
        "\n",
        "        result=list()\n",
        "        k=len(listlposetmatrices)\n",
        "\n",
        "        for item in range(len(listrposetmatrices)):\n",
        "\n",
        "            rposetmatrix=listrposetmatrices[item]\n",
        "            computed=list(map(first_operation,listlposetmatrices,[rposetmatrix]*k))\n",
        "            result.append(computed)\n",
        "\n",
        "        chainedlist=list(itertools.chain(*result))\n",
        "        flattened_PMlist=list(itertools.chain(*chainedlist))\n",
        "        newList=list(map(flattenR,flattened_PMlist))\n",
        "        tuple_list=totuple(newList)\n",
        "        uniquetuples=set(tuple_list)\n",
        "        listlposetmatrices=list(map(tupletoArray, uniquetuples))\n",
        "\n",
        "        if second_operation!=str():\n",
        "\n",
        "            tupleTypes=tuple(map(second_operation,listlposetmatrices))\n",
        "            x=tupleTypes.count(True)\n",
        "            y=tupleTypes.count(False)\n",
        "            num_PMtypes.append(x)\n",
        "            num_nonPMtypes.append(y)\n",
        "\n",
        "        if third_operation==True:\n",
        "\n",
        "            list_PM=list(zip(listlposetmatrices,tupleTypes))\n",
        "\n",
        "        else:\n",
        "\n",
        "            list_PM=[]\n",
        "\n",
        "        counts.append(len(uniquetuples))\n",
        "\n",
        "    return (counts,list_PM,num_PMtypes, num_nonPMtypes)"
      ]
    },
    {
      "cell_type": "markdown",
      "metadata": {
        "id": "DYCF3H85DO5c"
      },
      "source": [
        "**generatePM** function generates poset matrices using the  first operad operation"
      ]
    },
    {
      "cell_type": "code",
      "execution_count": null,
      "metadata": {
        "id": "BdRMgxrEzbvT"
      },
      "outputs": [],
      "source": [
        "def generatePM(lposetmatrix,rposetmatrix):\n",
        "\n",
        "   dimE=rposetmatrix.shape[0]\n",
        "   dimF=lposetmatrix.shape[0]\n",
        "   outputlist=[]\n",
        "\n",
        "   for i in range(1,(dimF+1)):\n",
        "\n",
        "      A11=lposetmatrix[0:i-1,0:i-1]\n",
        "      A21=lposetmatrix[i:dimF,i:dimF]\n",
        "      A22=lposetmatrix[i:dimF,0:i-1]\n",
        "      y1=np.zeros( (i-1, dimF+dimE-i),dtype='int64' )\n",
        "      y2= np.zeros((dimE, dimF-i),dtype='int64' )\n",
        "      rowAi=lposetmatrix[i-1]\n",
        "      rowAi=rowAi[0:i-1]\n",
        "      colAi=lposetmatrix[i:dimF,i-1]\n",
        "      vecones=np.ones((dimE),dtype='int64' )\n",
        "      Ui=np.tensordot(vecones, rowAi, 0)\n",
        "      Vi=np.tensordot(vecones, colAi, 0)\n",
        "      Vi=np.transpose(Vi)\n",
        "      block1=np.concatenate((A11, y1), axis=1,dtype='int64')\n",
        "      block2=np.concatenate((Ui,rposetmatrix,y2), axis=1,dtype='int64')\n",
        "      block3=np.concatenate((A22,Vi,A21), axis=1,dtype='int64')\n",
        "      output=np.concatenate((block1,block2,block3), axis=0,dtype='int64')\n",
        "      outputlist.append(output)\n",
        "\n",
        "\n",
        "   return outputlist"
      ]
    },
    {
      "cell_type": "markdown",
      "metadata": {
        "id": "VOvf3md_DvWu"
      },
      "source": [
        "**generatePMMin** function generates the poset matrices using the second operad operation"
      ]
    },
    {
      "cell_type": "code",
      "execution_count": null,
      "metadata": {
        "id": "ie7vB2o41XyK"
      },
      "outputs": [],
      "source": [
        "def generatePMMin(lposetmatrix,rposetmatrix):\n",
        "\n",
        "   #rposetmatrix=matrix2\n",
        "   dimE=rposetmatrix.shape[0]\n",
        "   dimF=lposetmatrix.shape[0]\n",
        "   outputlist=[]\n",
        "\n",
        "   for i in range(1,(dimF+1)):\n",
        "\n",
        "      A11=lposetmatrix[0:i-1,0:i-1]\n",
        "      A21=lposetmatrix[i:dimF,i:dimF]\n",
        "      A22=lposetmatrix[i:dimF,0:i-1]\n",
        "      y1=np.zeros( (i-1, dimF+dimE-i),dtype='int64' )\n",
        "      y2= np.zeros((dimE, dimF-i),dtype='int64' )\n",
        "      rowAi=lposetmatrix[i-1]\n",
        "      rowAi=rowAi[0:i-1]\n",
        "      vecones=np.ones((dimE),dtype='int64' )\n",
        "      Ui=np.tensordot(vecones, rowAi, 0)\n",
        "\n",
        "      v=createV(lposetmatrix,rposetmatrix,i)\n",
        "      block1=np.concatenate((A11, y1), axis=1,dtype='int64')\n",
        "      block2=np.concatenate((Ui,rposetmatrix,y2), axis=1,dtype='int64')\n",
        "      block3=np.concatenate((A22,v,A21), axis=1,dtype='int64')\n",
        "      output=np.concatenate((block1,block2,block3), axis=0,dtype='int64')\n",
        "      outputlist.append(output)\n",
        "\n",
        "   return outputlist"
      ]
    },
    {
      "cell_type": "markdown",
      "metadata": {
        "id": "NMkpvLmyD4Sh"
      },
      "source": [
        "**generatePMMax** function generates the poset matrices using the third operad operation"
      ]
    },
    {
      "cell_type": "code",
      "execution_count": null,
      "metadata": {
        "id": "wmhu5Ulw1eLU"
      },
      "outputs": [],
      "source": [
        "def generatePMMax(lposetmatrix,rposetmatrix):\n",
        "\n",
        "   dimE=rposetmatrix.shape[0]\n",
        "   dimF=lposetmatrix.shape[0]\n",
        "   outputlist=[]\n",
        "\n",
        "   for i in range(1,(dimF+1)):\n",
        "\n",
        "      A11=lposetmatrix[0:i-1,0:i-1]\n",
        "      A21=lposetmatrix[i:dimF,i:dimF]\n",
        "      A22=lposetmatrix[i:dimF,0:i-1]\n",
        "      y1=np.zeros( (i-1, dimF+dimE-i),dtype='int64' )\n",
        "      y2= np.zeros((dimE, dimF-i),dtype='int64' )\n",
        "      U=createU(lposetmatrix,rposetmatrix,i)\n",
        "      vecones=np.ones((dimE),dtype='int64' )\n",
        "      colAi=lposetmatrix[i:dimF,i-1]\n",
        "      Vi=np.tensordot(vecones, colAi, 0)\n",
        "      Vi=np.transpose(Vi)\n",
        "      block1=np.concatenate((A11, y1), axis=1,dtype='int64')\n",
        "      block2=np.concatenate((U,rposetmatrix,y2), axis=1,dtype='int64')\n",
        "      block3=np.concatenate((A22,Vi,A21), axis=1,dtype='int64')\n",
        "      output=np.concatenate((block1,block2,block3), axis=0,dtype='int64')\n",
        "      outputlist.append(output)\n",
        "\n",
        "   return outputlist"
      ]
    },
    {
      "cell_type": "markdown",
      "metadata": {
        "id": "hNJ_wUzWEZbB"
      },
      "source": [
        "**generatePMMinMax** function generates the poset matrices using the partial composition operation defined in terms of the minimal and maximal elements."
      ]
    },
    {
      "cell_type": "code",
      "execution_count": null,
      "metadata": {
        "id": "vQ0pT-lc1pvG"
      },
      "outputs": [],
      "source": [
        "def generatePMMinMax(lposetmatrix,rposetmatrix):\n",
        "\n",
        "   dimE=rposetmatrix.shape[0]\n",
        "   dimF=lposetmatrix.shape[0]\n",
        "   outputlist=[]\n",
        "\n",
        "\n",
        "   for i in range(1,(dimF+1)):\n",
        "\n",
        "      A11=lposetmatrix[0:i-1,0:i-1]\n",
        "      A21=lposetmatrix[i:dimF,i:dimF]\n",
        "      A22=lposetmatrix[i:dimF,0:i-1]\n",
        "      y1=np.zeros( (i-1, dimF+dimE-i),dtype='int64' )\n",
        "      y2= np.zeros((dimE, dimF-i),dtype='int64' )\n",
        "      U=createU(lposetmatrix,rposetmatrix,i)\n",
        "      v=createV(lposetmatrix,rposetmatrix,i)\n",
        "      block1=np.concatenate((A11, y1), axis=1,dtype='int64')\n",
        "      block2=np.concatenate((U,rposetmatrix,y2), axis=1,dtype='int64')\n",
        "      block3=np.concatenate((A22,v,A21), axis=1,dtype='int64')\n",
        "      output=np.concatenate((block1,block2,block3), axis=0,dtype='int64')\n",
        "      outputlist.append(output)\n",
        "\n",
        "   return outputlist"
      ]
    },
    {
      "cell_type": "markdown",
      "metadata": {
        "id": "IYt2xhuQX958"
      },
      "source": [
        "**Count both Disconnected and Connected Poset Matrices\n",
        "generated by generatePM**"
      ]
    },
    {
      "cell_type": "code",
      "execution_count": null,
      "metadata": {
        "colab": {
          "base_uri": "https://localhost:8080/"
        },
        "id": "cVTKKWA93Vcy",
        "outputId": "4faee929-3881-4d5b-b44f-ef23651f6178"
      },
      "outputs": [
        {
          "data": {
            "text/plain": [
              "([6, 22, 90, 394, 1806, 8558, 41586, 206098], [], [], [])"
            ]
          },
          "execution_count": 62,
          "metadata": {},
          "output_type": "execute_result"
        }
      ],
      "source": [
        "counts_list_PM(listlposetmatrices=leftMat,listrposetmatrices=rightMat,first_operation=generatePM,second_operation=str(),third_operation=False,n=8)\n"
      ]
    },
    {
      "cell_type": "markdown",
      "metadata": {
        "id": "7-mHo0uXBGKh"
      },
      "source": [
        "**Count the number of  Connected Poset Matrices generated using generatePM**"
      ]
    },
    {
      "cell_type": "code",
      "execution_count": null,
      "metadata": {
        "colab": {
          "base_uri": "https://localhost:8080/"
        },
        "id": "vN5DQFzXAv39",
        "outputId": "0dbab7f5-c647-44c8-d333-a3aec3e90ad4"
      },
      "outputs": [
        {
          "data": {
            "text/plain": [
              "([3, 11, 45, 197, 903, 4279, 20793, 103049], [], [], [])"
            ]
          },
          "execution_count": 63,
          "metadata": {},
          "output_type": "execute_result"
        }
      ],
      "source": [
        "counts_list_PM(listlposetmatrices=leftMatConn,listrposetmatrices=rightMat,first_operation=generatePM,second_operation=str(),third_operation=False,n=8)"
      ]
    },
    {
      "cell_type": "markdown",
      "metadata": {
        "id": "hdfLmWhYjgxK"
      },
      "source": [
        "**Count the number of Connected and Disconnected Poset Matrices generated using generatePMMin**"
      ]
    },
    {
      "cell_type": "code",
      "execution_count": null,
      "metadata": {
        "colab": {
          "base_uri": "https://localhost:8080/"
        },
        "id": "ZuSHqdMyjgUq",
        "outputId": "835b2fee-772a-43f7-d46e-e1a4da9d1fe9"
      },
      "outputs": [
        {
          "data": {
            "text/plain": [
              "([6, 22, 90, 394, 1806, 8558, 41586, 206098], [], [], [])"
            ]
          },
          "execution_count": 70,
          "metadata": {},
          "output_type": "execute_result"
        }
      ],
      "source": [
        "counts_list_PM(listlposetmatrices=leftMat,listrposetmatrices=rightMat,first_operation=generatePMMin,second_operation=str(),third_operation=False,n=8)"
      ]
    },
    {
      "cell_type": "markdown",
      "metadata": {
        "id": "ofvW8R2miInD"
      },
      "source": [
        "**Count the number of  Connected Poset Matrices generated using generatePMMin**"
      ]
    },
    {
      "cell_type": "code",
      "execution_count": null,
      "metadata": {
        "colab": {
          "base_uri": "https://localhost:8080/"
        },
        "id": "gVI5cypgiETX",
        "outputId": "9ebf88ad-ab50-4958-e261-c9f090fd50d0"
      },
      "outputs": [
        {
          "data": {
            "text/plain": [
              "([3, 11, 45, 197, 903, 4279, 20793, 103049], [], [], [])"
            ]
          },
          "execution_count": 69,
          "metadata": {},
          "output_type": "execute_result"
        }
      ],
      "source": [
        "counts_list_PM(listlposetmatrices=leftMatConn,listrposetmatrices=rightMat,first_operation=generatePMMin,second_operation=str(),third_operation=False,n=8)"
      ]
    },
    {
      "cell_type": "markdown",
      "metadata": {
        "id": "tFOFWtTJkY0t"
      },
      "source": [
        "**Count the number of Connected and Disconnected Poset Matrices generated using generatePMMax**"
      ]
    },
    {
      "cell_type": "code",
      "execution_count": null,
      "metadata": {
        "colab": {
          "background_save": true
        },
        "id": "x8hq3Pi9kX0O",
        "outputId": "536581fc-d39f-44ae-f9c7-dce17179e955"
      },
      "outputs": [
        {
          "data": {
            "text/plain": [
              "([6, 22, 90, 394, 1806, 8558, 41586, 206098], [], [], [])"
            ]
          },
          "execution_count": 71,
          "metadata": {},
          "output_type": "execute_result"
        }
      ],
      "source": [
        "counts_list_PM(listlposetmatrices=leftMat,listrposetmatrices=rightMat,first_operation=generatePMMax,second_operation=str(),third_operation=False,n=8)"
      ]
    },
    {
      "cell_type": "markdown",
      "source": [
        "**Number of Connected Poset Matrices generated by the operad operation generatePMMax**"
      ],
      "metadata": {
        "id": "_nilB1eflbsW"
      }
    },
    {
      "cell_type": "code",
      "source": [
        "counts_list_PM(listlposetmatrices=leftMatConn,listrposetmatrices=rightMat,first_operation=generatePMMax,second_operation=str(),third_operation=False,n=8)"
      ],
      "metadata": {
        "colab": {
          "base_uri": "https://localhost:8080/"
        },
        "id": "M-fZxzjXli_h",
        "outputId": "bfb9f38f-a858-4b82-a4d9-10a05e881311"
      },
      "execution_count": 72,
      "outputs": [
        {
          "output_type": "execute_result",
          "data": {
            "text/plain": [
              "([3, 11, 45, 197, 903, 4279, 20793, 103049], [], [], [])"
            ]
          },
          "metadata": {},
          "execution_count": 72
        }
      ]
    },
    {
      "cell_type": "markdown",
      "metadata": {
        "id": "4AZV240zCslD"
      },
      "source": [
        "**Number of connected and disconnnected poset matrices generated by operad operation generatePMMinMax**"
      ]
    },
    {
      "cell_type": "code",
      "execution_count": null,
      "metadata": {
        "colab": {
          "base_uri": "https://localhost:8080/"
        },
        "id": "CZYHj_3g7MN4",
        "outputId": "93d78696-ccf0-4c49-e90b-f57a96bcb66f"
      },
      "outputs": [
        {
          "data": {
            "text/plain": [
              "([5, 15, 52, 201, 841, 3726, 17213, 82047], [], [], [])"
            ]
          },
          "execution_count": 66,
          "metadata": {},
          "output_type": "execute_result"
        }
      ],
      "source": [
        "counts_list_PM(listlposetmatrices=leftMat,listrposetmatrices=rightMat,first_operation=generatePMMinMax,second_operation=str(),third_operation=False,n=8)\n"
      ]
    },
    {
      "cell_type": "markdown",
      "metadata": {
        "id": "pR35lB32C9YR"
      },
      "source": [
        "**Number of Connected Poset Matrices generated by the operad operation generatePMMinMax**"
      ]
    },
    {
      "cell_type": "code",
      "execution_count": null,
      "metadata": {
        "colab": {
          "base_uri": "https://localhost:8080/"
        },
        "id": "eI2T8NmqDM4r",
        "outputId": "f15a0458-d557-445c-8951-db7833e5c959"
      },
      "outputs": [
        {
          "data": {
            "text/plain": [
              "([2, 6, 22, 90, 394, 1806, 8558, 41586], [], [], [])"
            ]
          },
          "execution_count": 67,
          "metadata": {},
          "output_type": "execute_result"
        }
      ],
      "source": [
        "counts_list_PM(listlposetmatrices=leftMatConn,listrposetmatrices=rightMat,first_operation=generatePMMinMax,second_operation=str(),third_operation=False,n=8)\n"
      ]
    },
    {
      "cell_type": "markdown",
      "metadata": {
        "id": "5tyhpKwuGK8n"
      },
      "source": [
        "**Number of Disconnected Poset Matrices generated by the operad operation generatePMMinMax**"
      ]
    },
    {
      "cell_type": "code",
      "execution_count": null,
      "metadata": {
        "colab": {
          "base_uri": "https://localhost:8080/"
        },
        "id": "k5p7RW-wDbkz",
        "outputId": "66987e94-2c3f-4f74-bcaf-c4cf0e357815"
      },
      "outputs": [
        {
          "data": {
            "text/plain": [
              "([3, 9, 30, 111, 447, 1920, 8655, 40461], [], [], [])"
            ]
          },
          "execution_count": 68,
          "metadata": {},
          "output_type": "execute_result"
        }
      ],
      "source": [
        "counts_list_PM(listlposetmatrices=leftMatDisc,listrposetmatrices=rightMat,first_operation=generatePMMinMax,second_operation=str(),third_operation=False,n=8)\n"
      ]
    },
    {
      "cell_type": "markdown",
      "metadata": {
        "id": "ltOLaV6bCSP9"
      },
      "source": [
        "**dualize** function transforms a poset matrix to its dual representation"
      ]
    },
    {
      "cell_type": "code",
      "execution_count": 73,
      "metadata": {
        "id": "p5Kgsn81Bys1"
      },
      "outputs": [],
      "source": [
        "def dualize(posetmatrix):\n",
        "\n",
        "  dimPoset=posetmatrix.shape[0]\n",
        "  dualmatrix = np.zeros((dimPoset,dimPoset),int)\n",
        "\n",
        "  for s in range(dimPoset):\n",
        "     for r in range(dimPoset):\n",
        "        dualmatrix[s,r]=posetmatrix[dimPoset-r-1,dimPoset-s-1]\n",
        "\n",
        "  return dualmatrix"
      ]
    },
    {
      "cell_type": "markdown",
      "metadata": {
        "id": "p62Dww7SDGuk"
      },
      "source": [
        "**typeOfduality** function determines if a poset matrix is self dualizable or non-self dualizable."
      ]
    },
    {
      "cell_type": "code",
      "execution_count": 74,
      "metadata": {
        "id": "4iT7BifPClU9"
      },
      "outputs": [],
      "source": [
        "def typeOfduality(posetmatrix):\n",
        "\n",
        "    if np.allclose(dualize(posetmatrix),posetmatrix):\n",
        "        return False\n",
        "    else:\n",
        "        return True"
      ]
    },
    {
      "cell_type": "markdown",
      "metadata": {
        "id": "7z9YHgPtRCLr"
      },
      "source": [
        "**Examples using dualize and typeOfduality functions**"
      ]
    },
    {
      "cell_type": "code",
      "source": [
        "matrix1"
      ],
      "metadata": {
        "colab": {
          "base_uri": "https://localhost:8080/"
        },
        "id": "znAzhdkMnY7h",
        "outputId": "8ba244ee-e802-44d1-e119-6178e10c98b1"
      },
      "execution_count": 75,
      "outputs": [
        {
          "output_type": "execute_result",
          "data": {
            "text/plain": [
              "array([[1, 0, 0, 0, 0],\n",
              "       [1, 1, 0, 0, 0],\n",
              "       [1, 0, 1, 0, 0],\n",
              "       [1, 0, 0, 1, 0],\n",
              "       [1, 0, 0, 1, 1]])"
            ]
          },
          "metadata": {},
          "execution_count": 75
        }
      ]
    },
    {
      "cell_type": "code",
      "execution_count": 76,
      "metadata": {
        "colab": {
          "base_uri": "https://localhost:8080/"
        },
        "id": "qAkv7VXARq-Y",
        "outputId": "a06786d9-902b-48ba-a474-38131c11c65d"
      },
      "outputs": [
        {
          "output_type": "execute_result",
          "data": {
            "text/plain": [
              "array([[1, 0, 0, 0, 0],\n",
              "       [1, 1, 0, 0, 0],\n",
              "       [0, 0, 1, 0, 0],\n",
              "       [0, 0, 0, 1, 0],\n",
              "       [1, 1, 1, 1, 1]])"
            ]
          },
          "metadata": {},
          "execution_count": 76
        }
      ],
      "source": [
        "dualize(matrix1)"
      ]
    },
    {
      "cell_type": "code",
      "source": [
        "matrix2"
      ],
      "metadata": {
        "colab": {
          "base_uri": "https://localhost:8080/"
        },
        "id": "poSbNqDqoFXl",
        "outputId": "e712becf-7283-467c-9340-1c7783d3f5d5"
      },
      "execution_count": 79,
      "outputs": [
        {
          "output_type": "execute_result",
          "data": {
            "text/plain": [
              "array([[1, 0, 0, 0],\n",
              "       [1, 1, 0, 0],\n",
              "       [1, 0, 1, 0],\n",
              "       [1, 1, 1, 1]])"
            ]
          },
          "metadata": {},
          "execution_count": 79
        }
      ]
    },
    {
      "cell_type": "code",
      "source": [
        "dualize(matrix2)"
      ],
      "metadata": {
        "colab": {
          "base_uri": "https://localhost:8080/"
        },
        "id": "gA2E3LP7omOa",
        "outputId": "5de8c331-6e0c-4c32-9396-ca548ff0de96"
      },
      "execution_count": 80,
      "outputs": [
        {
          "output_type": "execute_result",
          "data": {
            "text/plain": [
              "array([[1, 0, 0, 0],\n",
              "       [1, 1, 0, 0],\n",
              "       [1, 0, 1, 0],\n",
              "       [1, 1, 1, 1]])"
            ]
          },
          "metadata": {},
          "execution_count": 80
        }
      ]
    },
    {
      "cell_type": "code",
      "execution_count": 81,
      "metadata": {
        "id": "0OdZDXh7SIaC"
      },
      "outputs": [],
      "source": [
        "matrix4=np.array([[1,0],[1,1]])"
      ]
    },
    {
      "cell_type": "code",
      "execution_count": 82,
      "metadata": {
        "colab": {
          "base_uri": "https://localhost:8080/"
        },
        "id": "WFpAiVtPSk26",
        "outputId": "82bdd77c-139f-4733-da9c-a385a805517a"
      },
      "outputs": [
        {
          "output_type": "execute_result",
          "data": {
            "text/plain": [
              "False"
            ]
          },
          "metadata": {},
          "execution_count": 82
        }
      ],
      "source": [
        " typeOfduality(matrix4)"
      ]
    },
    {
      "cell_type": "code",
      "source": [
        " typeOfduality(matrix1)"
      ],
      "metadata": {
        "colab": {
          "base_uri": "https://localhost:8080/"
        },
        "id": "H2arZ0O6o0WV",
        "outputId": "27811c0b-91c0-4b4a-b7fe-0761d4598585"
      },
      "execution_count": 83,
      "outputs": [
        {
          "output_type": "execute_result",
          "data": {
            "text/plain": [
              "True"
            ]
          },
          "metadata": {},
          "execution_count": 83
        }
      ]
    },
    {
      "cell_type": "markdown",
      "metadata": {
        "id": "ShImKkxsT538"
      },
      "source": [
        "**Enumeration of Connected and Disconnected poset matrices generated using generatePM in terms of self dual and non-self dual types.**"
      ]
    },
    {
      "cell_type": "code",
      "execution_count": 84,
      "metadata": {
        "colab": {
          "base_uri": "https://localhost:8080/"
        },
        "id": "X265vDl-Tom0",
        "outputId": "85ee9e03-4caa-4133-a16d-a891f5a2d976"
      },
      "outputs": [
        {
          "output_type": "execute_result",
          "data": {
            "text/plain": [
              "([6, 22, 90],\n",
              " [(array([[1, 0, 0, 0, 0],\n",
              "          [0, 1, 0, 0, 0],\n",
              "          [0, 0, 1, 0, 0],\n",
              "          [0, 0, 1, 1, 0],\n",
              "          [0, 0, 0, 0, 1]]),\n",
              "   True),\n",
              "  (array([[1, 0, 0, 0, 0],\n",
              "          [1, 1, 0, 0, 0],\n",
              "          [1, 1, 1, 0, 0],\n",
              "          [0, 0, 0, 1, 0],\n",
              "          [1, 1, 1, 1, 1]]),\n",
              "   True),\n",
              "  (array([[1, 0, 0, 0, 0],\n",
              "          [1, 1, 0, 0, 0],\n",
              "          [1, 1, 1, 0, 0],\n",
              "          [1, 1, 0, 1, 0],\n",
              "          [1, 1, 0, 1, 1]]),\n",
              "   True),\n",
              "  (array([[1, 0, 0, 0, 0],\n",
              "          [0, 1, 0, 0, 0],\n",
              "          [1, 1, 1, 0, 0],\n",
              "          [0, 0, 0, 1, 0],\n",
              "          [1, 1, 1, 1, 1]]),\n",
              "   True),\n",
              "  (array([[1, 0, 0, 0, 0],\n",
              "          [1, 1, 0, 0, 0],\n",
              "          [1, 1, 1, 0, 0],\n",
              "          [1, 1, 1, 1, 0],\n",
              "          [0, 0, 0, 0, 1]]),\n",
              "   True),\n",
              "  (array([[1, 0, 0, 0, 0],\n",
              "          [0, 1, 0, 0, 0],\n",
              "          [0, 1, 1, 0, 0],\n",
              "          [0, 1, 1, 1, 0],\n",
              "          [1, 1, 1, 1, 1]]),\n",
              "   True),\n",
              "  (array([[1, 0, 0, 0, 0],\n",
              "          [1, 1, 0, 0, 0],\n",
              "          [1, 1, 1, 0, 0],\n",
              "          [1, 0, 0, 1, 0],\n",
              "          [0, 0, 0, 0, 1]]),\n",
              "   True),\n",
              "  (array([[1, 0, 0, 0, 0],\n",
              "          [1, 1, 0, 0, 0],\n",
              "          [1, 1, 1, 0, 0],\n",
              "          [0, 0, 0, 1, 0],\n",
              "          [0, 0, 0, 1, 1]]),\n",
              "   True),\n",
              "  (array([[1, 0, 0, 0, 0],\n",
              "          [0, 1, 0, 0, 0],\n",
              "          [1, 1, 1, 0, 0],\n",
              "          [1, 1, 1, 1, 0],\n",
              "          [1, 1, 1, 1, 1]]),\n",
              "   True),\n",
              "  (array([[1, 0, 0, 0, 0],\n",
              "          [1, 1, 0, 0, 0],\n",
              "          [1, 0, 1, 0, 0],\n",
              "          [0, 0, 0, 1, 0],\n",
              "          [0, 0, 0, 1, 1]]),\n",
              "   True),\n",
              "  (array([[1, 0, 0, 0, 0],\n",
              "          [1, 1, 0, 0, 0],\n",
              "          [1, 1, 1, 0, 0],\n",
              "          [1, 0, 0, 1, 0],\n",
              "          [1, 0, 0, 1, 1]]),\n",
              "   True),\n",
              "  (array([[1, 0, 0, 0, 0],\n",
              "          [1, 1, 0, 0, 0],\n",
              "          [1, 1, 1, 0, 0],\n",
              "          [1, 1, 0, 1, 0],\n",
              "          [1, 1, 1, 1, 1]]),\n",
              "   True),\n",
              "  (array([[1, 0, 0, 0, 0],\n",
              "          [0, 1, 0, 0, 0],\n",
              "          [1, 1, 1, 0, 0],\n",
              "          [1, 1, 0, 1, 0],\n",
              "          [1, 1, 0, 0, 1]]),\n",
              "   True),\n",
              "  (array([[1, 0, 0, 0, 0],\n",
              "          [0, 1, 0, 0, 0],\n",
              "          [0, 0, 1, 0, 0],\n",
              "          [0, 0, 0, 1, 0],\n",
              "          [0, 0, 0, 0, 1]]),\n",
              "   False),\n",
              "  (array([[1, 0, 0, 0, 0],\n",
              "          [1, 1, 0, 0, 0],\n",
              "          [1, 1, 1, 0, 0],\n",
              "          [1, 1, 1, 1, 0],\n",
              "          [1, 0, 0, 0, 1]]),\n",
              "   True),\n",
              "  (array([[1, 0, 0, 0, 0],\n",
              "          [0, 1, 0, 0, 0],\n",
              "          [0, 0, 1, 0, 0],\n",
              "          [1, 1, 1, 1, 0],\n",
              "          [1, 1, 1, 0, 1]]),\n",
              "   True),\n",
              "  (array([[1, 0, 0, 0, 0],\n",
              "          [1, 1, 0, 0, 0],\n",
              "          [0, 0, 1, 0, 0],\n",
              "          [0, 0, 0, 1, 0],\n",
              "          [1, 1, 1, 1, 1]]),\n",
              "   True),\n",
              "  (array([[1, 0, 0, 0, 0],\n",
              "          [1, 1, 0, 0, 0],\n",
              "          [1, 1, 1, 0, 0],\n",
              "          [1, 1, 0, 1, 0],\n",
              "          [1, 0, 0, 0, 1]]),\n",
              "   True),\n",
              "  (array([[1, 0, 0, 0, 0],\n",
              "          [0, 1, 0, 0, 0],\n",
              "          [0, 0, 1, 0, 0],\n",
              "          [0, 0, 1, 1, 0],\n",
              "          [1, 1, 1, 1, 1]]),\n",
              "   True),\n",
              "  (array([[1, 0, 0, 0, 0],\n",
              "          [1, 1, 0, 0, 0],\n",
              "          [1, 0, 1, 0, 0],\n",
              "          [1, 0, 0, 1, 0],\n",
              "          [0, 0, 0, 0, 1]]),\n",
              "   True),\n",
              "  (array([[1, 0, 0, 0, 0],\n",
              "          [0, 1, 0, 0, 0],\n",
              "          [0, 1, 1, 0, 0],\n",
              "          [0, 1, 1, 1, 0],\n",
              "          [0, 1, 1, 1, 1]]),\n",
              "   True),\n",
              "  (array([[1, 0, 0, 0, 0],\n",
              "          [0, 1, 0, 0, 0],\n",
              "          [1, 1, 1, 0, 0],\n",
              "          [0, 0, 0, 1, 0],\n",
              "          [0, 0, 0, 1, 1]]),\n",
              "   True),\n",
              "  (array([[1, 0, 0, 0, 0],\n",
              "          [1, 1, 0, 0, 0],\n",
              "          [0, 0, 1, 0, 0],\n",
              "          [1, 1, 1, 1, 0],\n",
              "          [1, 1, 1, 0, 1]]),\n",
              "   True),\n",
              "  (array([[1, 0, 0, 0, 0],\n",
              "          [0, 1, 0, 0, 0],\n",
              "          [0, 1, 1, 0, 0],\n",
              "          [1, 1, 1, 1, 0],\n",
              "          [0, 0, 0, 0, 1]]),\n",
              "   True),\n",
              "  (array([[1, 0, 0, 0, 0],\n",
              "          [1, 1, 0, 0, 0],\n",
              "          [1, 1, 1, 0, 0],\n",
              "          [1, 1, 1, 1, 0],\n",
              "          [1, 1, 1, 0, 1]]),\n",
              "   True),\n",
              "  (array([[1, 0, 0, 0, 0],\n",
              "          [1, 1, 0, 0, 0],\n",
              "          [0, 0, 1, 0, 0],\n",
              "          [0, 0, 0, 1, 0],\n",
              "          [0, 0, 0, 1, 1]]),\n",
              "   False),\n",
              "  (array([[1, 0, 0, 0, 0],\n",
              "          [1, 1, 0, 0, 0],\n",
              "          [0, 0, 1, 0, 0],\n",
              "          [0, 0, 1, 1, 0],\n",
              "          [1, 1, 1, 1, 1]]),\n",
              "   True),\n",
              "  (array([[1, 0, 0, 0, 0],\n",
              "          [1, 1, 0, 0, 0],\n",
              "          [1, 0, 1, 0, 0],\n",
              "          [1, 0, 1, 1, 0],\n",
              "          [1, 0, 1, 1, 1]]),\n",
              "   True),\n",
              "  (array([[1, 0, 0, 0, 0],\n",
              "          [0, 1, 0, 0, 0],\n",
              "          [1, 1, 1, 0, 0],\n",
              "          [1, 1, 0, 1, 0],\n",
              "          [0, 0, 0, 0, 1]]),\n",
              "   True),\n",
              "  (array([[1, 0, 0, 0, 0],\n",
              "          [0, 1, 0, 0, 0],\n",
              "          [0, 1, 1, 0, 0],\n",
              "          [0, 1, 0, 1, 0],\n",
              "          [1, 1, 1, 1, 1]]),\n",
              "   True),\n",
              "  (array([[1, 0, 0, 0, 0],\n",
              "          [0, 1, 0, 0, 0],\n",
              "          [0, 1, 1, 0, 0],\n",
              "          [0, 0, 0, 1, 0],\n",
              "          [0, 0, 0, 0, 1]]),\n",
              "   True),\n",
              "  (array([[1, 0, 0, 0, 0],\n",
              "          [1, 1, 0, 0, 0],\n",
              "          [1, 0, 1, 0, 0],\n",
              "          [1, 0, 1, 1, 0],\n",
              "          [1, 1, 1, 1, 1]]),\n",
              "   True),\n",
              "  (array([[1, 0, 0, 0, 0],\n",
              "          [0, 1, 0, 0, 0],\n",
              "          [0, 0, 1, 0, 0],\n",
              "          [0, 1, 1, 1, 0],\n",
              "          [1, 1, 1, 1, 1]]),\n",
              "   True),\n",
              "  (array([[1, 0, 0, 0, 0],\n",
              "          [1, 1, 0, 0, 0],\n",
              "          [1, 0, 1, 0, 0],\n",
              "          [1, 0, 0, 1, 0],\n",
              "          [1, 1, 1, 1, 1]]),\n",
              "   False),\n",
              "  (array([[1, 0, 0, 0, 0],\n",
              "          [1, 1, 0, 0, 0],\n",
              "          [1, 0, 1, 0, 0],\n",
              "          [1, 1, 1, 1, 0],\n",
              "          [1, 0, 0, 0, 1]]),\n",
              "   True),\n",
              "  (array([[1, 0, 0, 0, 0],\n",
              "          [0, 1, 0, 0, 0],\n",
              "          [0, 0, 1, 0, 0],\n",
              "          [0, 0, 0, 1, 0],\n",
              "          [0, 1, 1, 1, 1]]),\n",
              "   True),\n",
              "  (array([[1, 0, 0, 0, 0],\n",
              "          [0, 1, 0, 0, 0],\n",
              "          [0, 1, 1, 0, 0],\n",
              "          [0, 1, 1, 1, 0],\n",
              "          [0, 0, 0, 0, 1]]),\n",
              "   False),\n",
              "  (array([[1, 0, 0, 0, 0],\n",
              "          [1, 1, 0, 0, 0],\n",
              "          [1, 1, 1, 0, 0],\n",
              "          [1, 1, 0, 1, 0],\n",
              "          [1, 1, 0, 0, 1]]),\n",
              "   True),\n",
              "  (array([[1, 0, 0, 0, 0],\n",
              "          [0, 1, 0, 0, 0],\n",
              "          [0, 0, 1, 0, 0],\n",
              "          [0, 1, 1, 1, 0],\n",
              "          [0, 1, 1, 0, 1]]),\n",
              "   True),\n",
              "  (array([[1, 0, 0, 0, 0],\n",
              "          [0, 1, 0, 0, 0],\n",
              "          [1, 1, 1, 0, 0],\n",
              "          [1, 1, 0, 1, 0],\n",
              "          [1, 1, 1, 1, 1]]),\n",
              "   True),\n",
              "  (array([[1, 0, 0, 0, 0],\n",
              "          [0, 1, 0, 0, 0],\n",
              "          [0, 0, 1, 0, 0],\n",
              "          [0, 0, 0, 1, 0],\n",
              "          [1, 1, 1, 1, 1]]),\n",
              "   True),\n",
              "  (array([[1, 0, 0, 0, 0],\n",
              "          [1, 1, 0, 0, 0],\n",
              "          [1, 1, 1, 0, 0],\n",
              "          [0, 0, 0, 1, 0],\n",
              "          [0, 0, 0, 0, 1]]),\n",
              "   True),\n",
              "  (array([[1, 0, 0, 0, 0],\n",
              "          [0, 1, 0, 0, 0],\n",
              "          [0, 1, 1, 0, 0],\n",
              "          [1, 1, 1, 1, 0],\n",
              "          [1, 1, 1, 0, 1]]),\n",
              "   True),\n",
              "  (array([[1, 0, 0, 0, 0],\n",
              "          [0, 1, 0, 0, 0],\n",
              "          [0, 0, 1, 0, 0],\n",
              "          [0, 0, 1, 1, 0],\n",
              "          [0, 1, 1, 1, 1]]),\n",
              "   True),\n",
              "  (array([[1, 0, 0, 0, 0],\n",
              "          [1, 1, 0, 0, 0],\n",
              "          [1, 0, 1, 0, 0],\n",
              "          [0, 0, 0, 1, 0],\n",
              "          [0, 0, 0, 0, 1]]),\n",
              "   True),\n",
              "  (array([[1, 0, 0, 0, 0],\n",
              "          [0, 1, 0, 0, 0],\n",
              "          [0, 0, 1, 0, 0],\n",
              "          [1, 1, 1, 1, 0],\n",
              "          [0, 0, 0, 0, 1]]),\n",
              "   True),\n",
              "  (array([[1, 0, 0, 0, 0],\n",
              "          [0, 1, 0, 0, 0],\n",
              "          [1, 1, 1, 0, 0],\n",
              "          [1, 1, 1, 1, 0],\n",
              "          [1, 1, 0, 0, 1]]),\n",
              "   True),\n",
              "  (array([[1, 0, 0, 0, 0],\n",
              "          [1, 1, 0, 0, 0],\n",
              "          [1, 1, 1, 0, 0],\n",
              "          [1, 0, 0, 1, 0],\n",
              "          [1, 1, 1, 1, 1]]),\n",
              "   True),\n",
              "  (array([[1, 0, 0, 0, 0],\n",
              "          [1, 1, 0, 0, 0],\n",
              "          [0, 0, 1, 0, 0],\n",
              "          [0, 0, 1, 1, 0],\n",
              "          [0, 0, 1, 0, 1]]),\n",
              "   True),\n",
              "  (array([[1, 0, 0, 0, 0],\n",
              "          [1, 1, 0, 0, 0],\n",
              "          [1, 0, 1, 0, 0],\n",
              "          [1, 1, 1, 1, 0],\n",
              "          [0, 0, 0, 0, 1]]),\n",
              "   True),\n",
              "  (array([[1, 0, 0, 0, 0],\n",
              "          [0, 1, 0, 0, 0],\n",
              "          [1, 1, 1, 0, 0],\n",
              "          [1, 1, 0, 1, 0],\n",
              "          [1, 1, 0, 1, 1]]),\n",
              "   True),\n",
              "  (array([[1, 0, 0, 0, 0],\n",
              "          [0, 1, 0, 0, 0],\n",
              "          [0, 1, 1, 0, 0],\n",
              "          [0, 1, 0, 1, 0],\n",
              "          [0, 1, 0, 1, 1]]),\n",
              "   True),\n",
              "  (array([[1, 0, 0, 0, 0],\n",
              "          [0, 1, 0, 0, 0],\n",
              "          [0, 0, 1, 0, 0],\n",
              "          [0, 0, 1, 1, 0],\n",
              "          [0, 0, 1, 1, 1]]),\n",
              "   True),\n",
              "  (array([[1, 0, 0, 0, 0],\n",
              "          [1, 1, 0, 0, 0],\n",
              "          [1, 0, 1, 0, 0],\n",
              "          [1, 1, 1, 1, 0],\n",
              "          [1, 1, 1, 1, 1]]),\n",
              "   True),\n",
              "  (array([[1, 0, 0, 0, 0],\n",
              "          [1, 1, 0, 0, 0],\n",
              "          [1, 0, 1, 0, 0],\n",
              "          [0, 0, 0, 1, 0],\n",
              "          [1, 1, 1, 1, 1]]),\n",
              "   True),\n",
              "  (array([[1, 0, 0, 0, 0],\n",
              "          [1, 1, 0, 0, 0],\n",
              "          [1, 1, 1, 0, 0],\n",
              "          [1, 1, 1, 1, 0],\n",
              "          [1, 1, 1, 1, 1]]),\n",
              "   False),\n",
              "  (array([[1, 0, 0, 0, 0],\n",
              "          [0, 1, 0, 0, 0],\n",
              "          [0, 0, 1, 0, 0],\n",
              "          [0, 0, 0, 1, 0],\n",
              "          [0, 0, 1, 1, 1]]),\n",
              "   True),\n",
              "  (array([[1, 0, 0, 0, 0],\n",
              "          [1, 1, 0, 0, 0],\n",
              "          [1, 0, 1, 0, 0],\n",
              "          [1, 0, 0, 1, 0],\n",
              "          [1, 0, 0, 1, 1]]),\n",
              "   True),\n",
              "  (array([[1, 0, 0, 0, 0],\n",
              "          [1, 1, 0, 0, 0],\n",
              "          [0, 0, 1, 0, 0],\n",
              "          [0, 0, 0, 1, 0],\n",
              "          [0, 0, 0, 0, 1]]),\n",
              "   True),\n",
              "  (array([[1, 0, 0, 0, 0],\n",
              "          [1, 1, 0, 0, 0],\n",
              "          [1, 0, 1, 0, 0],\n",
              "          [1, 0, 1, 1, 0],\n",
              "          [1, 0, 1, 0, 1]]),\n",
              "   True),\n",
              "  (array([[1, 0, 0, 0, 0],\n",
              "          [0, 1, 0, 0, 0],\n",
              "          [1, 1, 1, 0, 0],\n",
              "          [1, 1, 1, 1, 0],\n",
              "          [1, 1, 1, 0, 1]]),\n",
              "   False),\n",
              "  (array([[1, 0, 0, 0, 0],\n",
              "          [1, 1, 0, 0, 0],\n",
              "          [1, 1, 1, 0, 0],\n",
              "          [1, 0, 0, 1, 0],\n",
              "          [1, 0, 0, 0, 1]]),\n",
              "   True),\n",
              "  (array([[1, 0, 0, 0, 0],\n",
              "          [0, 1, 0, 0, 0],\n",
              "          [1, 1, 1, 0, 0],\n",
              "          [1, 1, 1, 1, 0],\n",
              "          [0, 0, 0, 0, 1]]),\n",
              "   True),\n",
              "  (array([[1, 0, 0, 0, 0],\n",
              "          [0, 1, 0, 0, 0],\n",
              "          [0, 1, 1, 0, 0],\n",
              "          [0, 1, 1, 1, 0],\n",
              "          [0, 1, 0, 0, 1]]),\n",
              "   True),\n",
              "  (array([[1, 0, 0, 0, 0],\n",
              "          [1, 1, 0, 0, 0],\n",
              "          [0, 0, 1, 0, 0],\n",
              "          [1, 1, 1, 1, 0],\n",
              "          [0, 0, 0, 0, 1]]),\n",
              "   True),\n",
              "  (array([[1, 0, 0, 0, 0],\n",
              "          [1, 1, 0, 0, 0],\n",
              "          [0, 0, 1, 0, 0],\n",
              "          [0, 0, 1, 1, 0],\n",
              "          [0, 0, 0, 0, 1]]),\n",
              "   True),\n",
              "  (array([[1, 0, 0, 0, 0],\n",
              "          [0, 1, 0, 0, 0],\n",
              "          [0, 0, 1, 0, 0],\n",
              "          [0, 0, 0, 1, 0],\n",
              "          [0, 0, 0, 1, 1]]),\n",
              "   True),\n",
              "  (array([[1, 0, 0, 0, 0],\n",
              "          [1, 1, 0, 0, 0],\n",
              "          [0, 0, 1, 0, 0],\n",
              "          [0, 0, 0, 1, 0],\n",
              "          [0, 0, 1, 1, 1]]),\n",
              "   True),\n",
              "  (array([[1, 0, 0, 0, 0],\n",
              "          [1, 1, 0, 0, 0],\n",
              "          [1, 0, 1, 0, 0],\n",
              "          [1, 0, 1, 1, 0],\n",
              "          [1, 0, 0, 0, 1]]),\n",
              "   True),\n",
              "  (array([[1, 0, 0, 0, 0],\n",
              "          [1, 1, 0, 0, 0],\n",
              "          [1, 0, 1, 0, 0],\n",
              "          [1, 0, 0, 1, 0],\n",
              "          [1, 0, 0, 0, 1]]),\n",
              "   True),\n",
              "  (array([[1, 0, 0, 0, 0],\n",
              "          [0, 1, 0, 0, 0],\n",
              "          [0, 1, 1, 0, 0],\n",
              "          [0, 1, 1, 1, 0],\n",
              "          [0, 1, 1, 0, 1]]),\n",
              "   True),\n",
              "  (array([[1, 0, 0, 0, 0],\n",
              "          [1, 1, 0, 0, 0],\n",
              "          [1, 1, 1, 0, 0],\n",
              "          [1, 1, 0, 1, 0],\n",
              "          [0, 0, 0, 0, 1]]),\n",
              "   True),\n",
              "  (array([[1, 0, 0, 0, 0],\n",
              "          [0, 1, 0, 0, 0],\n",
              "          [0, 0, 1, 0, 0],\n",
              "          [1, 1, 1, 1, 0],\n",
              "          [1, 1, 1, 1, 1]]),\n",
              "   True),\n",
              "  (array([[1, 0, 0, 0, 0],\n",
              "          [0, 1, 0, 0, 0],\n",
              "          [0, 1, 1, 0, 0],\n",
              "          [0, 1, 0, 1, 0],\n",
              "          [0, 0, 0, 0, 1]]),\n",
              "   True),\n",
              "  (array([[1, 0, 0, 0, 0],\n",
              "          [0, 1, 0, 0, 0],\n",
              "          [0, 0, 1, 0, 0],\n",
              "          [0, 1, 1, 1, 0],\n",
              "          [0, 1, 1, 1, 1]]),\n",
              "   True),\n",
              "  (array([[1, 0, 0, 0, 0],\n",
              "          [0, 1, 0, 0, 0],\n",
              "          [1, 1, 1, 0, 0],\n",
              "          [0, 0, 0, 1, 0],\n",
              "          [0, 0, 0, 0, 1]]),\n",
              "   True),\n",
              "  (array([[1, 0, 0, 0, 0],\n",
              "          [0, 1, 0, 0, 0],\n",
              "          [0, 1, 1, 0, 0],\n",
              "          [0, 0, 0, 1, 0],\n",
              "          [0, 1, 1, 1, 1]]),\n",
              "   True),\n",
              "  (array([[1, 0, 0, 0, 0],\n",
              "          [0, 1, 0, 0, 0],\n",
              "          [0, 0, 1, 0, 0],\n",
              "          [0, 1, 1, 1, 0],\n",
              "          [0, 0, 0, 0, 1]]),\n",
              "   True),\n",
              "  (array([[1, 0, 0, 0, 0],\n",
              "          [1, 1, 0, 0, 0],\n",
              "          [1, 1, 1, 0, 0],\n",
              "          [1, 1, 1, 1, 0],\n",
              "          [1, 1, 0, 0, 1]]),\n",
              "   True),\n",
              "  (array([[1, 0, 0, 0, 0],\n",
              "          [0, 1, 0, 0, 0],\n",
              "          [0, 1, 1, 0, 0],\n",
              "          [1, 1, 1, 1, 0],\n",
              "          [1, 1, 1, 1, 1]]),\n",
              "   True),\n",
              "  (array([[1, 0, 0, 0, 0],\n",
              "          [1, 1, 0, 0, 0],\n",
              "          [0, 0, 1, 0, 0],\n",
              "          [1, 1, 1, 1, 0],\n",
              "          [1, 1, 1, 1, 1]]),\n",
              "   True),\n",
              "  (array([[1, 0, 0, 0, 0],\n",
              "          [0, 1, 0, 0, 0],\n",
              "          [0, 0, 1, 0, 0],\n",
              "          [0, 0, 1, 1, 0],\n",
              "          [0, 0, 1, 0, 1]]),\n",
              "   True),\n",
              "  (array([[1, 0, 0, 0, 0],\n",
              "          [1, 1, 0, 0, 0],\n",
              "          [1, 0, 1, 0, 0],\n",
              "          [1, 0, 0, 1, 0],\n",
              "          [1, 0, 1, 1, 1]]),\n",
              "   True),\n",
              "  (array([[1, 0, 0, 0, 0],\n",
              "          [0, 1, 0, 0, 0],\n",
              "          [0, 1, 1, 0, 0],\n",
              "          [0, 1, 0, 1, 0],\n",
              "          [0, 1, 0, 0, 1]]),\n",
              "   True),\n",
              "  (array([[1, 0, 0, 0, 0],\n",
              "          [0, 1, 0, 0, 0],\n",
              "          [0, 1, 1, 0, 0],\n",
              "          [0, 0, 0, 1, 0],\n",
              "          [1, 1, 1, 1, 1]]),\n",
              "   True),\n",
              "  (array([[1, 0, 0, 0, 0],\n",
              "          [0, 1, 0, 0, 0],\n",
              "          [0, 1, 1, 0, 0],\n",
              "          [0, 1, 0, 1, 0],\n",
              "          [0, 1, 1, 1, 1]]),\n",
              "   True),\n",
              "  (array([[1, 0, 0, 0, 0],\n",
              "          [1, 1, 0, 0, 0],\n",
              "          [1, 0, 1, 0, 0],\n",
              "          [1, 0, 1, 1, 0],\n",
              "          [0, 0, 0, 0, 1]]),\n",
              "   True),\n",
              "  (array([[1, 0, 0, 0, 0],\n",
              "          [1, 1, 0, 0, 0],\n",
              "          [0, 0, 1, 0, 0],\n",
              "          [0, 0, 1, 1, 0],\n",
              "          [0, 0, 1, 1, 1]]),\n",
              "   True),\n",
              "  (array([[1, 0, 0, 0, 0],\n",
              "          [0, 1, 0, 0, 0],\n",
              "          [0, 1, 1, 0, 0],\n",
              "          [0, 0, 0, 1, 0],\n",
              "          [0, 0, 0, 1, 1]]),\n",
              "   True),\n",
              "  (array([[1, 0, 0, 0, 0],\n",
              "          [1, 1, 0, 0, 0],\n",
              "          [1, 0, 1, 0, 0],\n",
              "          [1, 1, 1, 1, 0],\n",
              "          [1, 1, 1, 0, 1]]),\n",
              "   True)],\n",
              " [84],\n",
              " [6])"
            ]
          },
          "metadata": {},
          "execution_count": 84
        }
      ],
      "source": [
        "counts_list_PM(listlposetmatrices=leftMat,listrposetmatrices=rightMat,first_operation=generatePM,second_operation=typeOfduality,third_operation=True,n=3)"
      ]
    },
    {
      "cell_type": "code",
      "source": [
        "counts_list_PM(listlposetmatrices=leftMat,listrposetmatrices=rightMat,first_operation=generatePM,second_operation=typeOfduality,third_operation=False,n=8)"
      ],
      "metadata": {
        "colab": {
          "base_uri": "https://localhost:8080/"
        },
        "id": "069WFflTpoSX",
        "outputId": "874b528e-dec6-4211-e641-cd0a2e6f349d"
      },
      "execution_count": 88,
      "outputs": [
        {
          "output_type": "execute_result",
          "data": {
            "text/plain": [
              "([6, 22, 90, 394, 1806, 8558, 41586, 206098],\n",
              " [],\n",
              " [4, 16, 84, 372, 1784, 8468, 41496, 205704],\n",
              " [2, 6, 6, 22, 22, 90, 90, 394])"
            ]
          },
          "metadata": {},
          "execution_count": 88
        }
      ]
    },
    {
      "cell_type": "markdown",
      "metadata": {
        "id": "ORF9P4vz-dVK"
      },
      "source": [
        "**Enumeration of Connected poset matrices generated using generatePM in terms of self dual and non-self dual types.**"
      ]
    },
    {
      "cell_type": "code",
      "execution_count": 89,
      "metadata": {
        "colab": {
          "base_uri": "https://localhost:8080/"
        },
        "id": "75v86UVk9Qaz",
        "outputId": "a57d75af-1227-4944-af10-615a93419eb4"
      },
      "outputs": [
        {
          "output_type": "execute_result",
          "data": {
            "text/plain": [
              "([3, 11, 45, 197, 903, 4279, 20793, 103049],\n",
              " [],\n",
              " [2, 8, 42, 186, 892, 4234, 20748, 102852],\n",
              " [1, 3, 3, 11, 11, 45, 45, 197])"
            ]
          },
          "metadata": {},
          "execution_count": 89
        }
      ],
      "source": [
        "counts_list_PM(listlposetmatrices=leftMatConn,listrposetmatrices=rightMat,first_operation=generatePM,second_operation=typeOfduality,third_operation=False,n=8)"
      ]
    },
    {
      "cell_type": "markdown",
      "metadata": {
        "id": "Do8X0FNH-hhi"
      },
      "source": [
        "**Enumeration of Connected and Disconnected poset matrices generated using generatePMMin in terms of self dual and non-self dual types.**"
      ]
    },
    {
      "cell_type": "code",
      "execution_count": 90,
      "metadata": {
        "colab": {
          "base_uri": "https://localhost:8080/"
        },
        "id": "lzoNtjb_-WJc",
        "outputId": "061916d9-0ae4-4859-c881-a1ce74c1b63e"
      },
      "outputs": [
        {
          "output_type": "execute_result",
          "data": {
            "text/plain": [
              "([6, 22, 90, 394, 1806, 8558, 41586, 206098],\n",
              " [],\n",
              " [4, 15, 84, 372, 1788, 8493, 41533, 205909],\n",
              " [2, 7, 6, 22, 18, 65, 53, 189])"
            ]
          },
          "metadata": {},
          "execution_count": 90
        }
      ],
      "source": [
        "counts_list_PM(listlposetmatrices=leftMat,listrposetmatrices=rightMat,first_operation=generatePMMin,second_operation=typeOfduality,third_operation=False,n=8)"
      ]
    },
    {
      "cell_type": "markdown",
      "metadata": {
        "id": "92demKA-AZ7E"
      },
      "source": [
        "**Enumeration of Connected poset matrices generated using generatePMMin in terms of self dual and non-self dual types.**"
      ]
    },
    {
      "cell_type": "code",
      "execution_count": 91,
      "metadata": {
        "colab": {
          "base_uri": "https://localhost:8080/"
        },
        "id": "nzuJ8WUoAsLJ",
        "outputId": "5fff7a72-acc8-429b-af9e-fced3681a0e9"
      },
      "outputs": [
        {
          "output_type": "execute_result",
          "data": {
            "text/plain": [
              "([3, 11, 45, 197, 903, 4279, 20793, 103049],\n",
              " [],\n",
              " [2, 7, 42, 187, 896, 4257, 20778, 103003],\n",
              " [1, 4, 3, 10, 7, 22, 15, 46])"
            ]
          },
          "metadata": {},
          "execution_count": 91
        }
      ],
      "source": [
        "counts_list_PM(listlposetmatrices=leftMatConn,listrposetmatrices=rightMat,first_operation=generatePMMin,second_operation=typeOfduality,third_operation=False,n=8)"
      ]
    },
    {
      "cell_type": "markdown",
      "metadata": {
        "id": "smIJtDOOBVaL"
      },
      "source": [
        "**Enumeration of Connected and Disconnected poset matrices generated using generatePMMax in terms of self dual and non-self dual types.**"
      ]
    },
    {
      "cell_type": "code",
      "execution_count": null,
      "metadata": {
        "colab": {
          "base_uri": "https://localhost:8080/"
        },
        "id": "RXxdioSTBUyR",
        "outputId": "fc36d46a-4265-4f07-ea20-fe8ad1bd482b"
      },
      "outputs": [
        {
          "data": {
            "text/plain": [
              "([6, 22, 90, 394, 1806, 8558, 41586, 206098],\n",
              " [],\n",
              " ([4, 15, 84, 372, 1788, 8493, 41533, 205909], [2, 7, 6, 22, 18, 65, 53, 189]))"
            ]
          },
          "execution_count": 67,
          "metadata": {},
          "output_type": "execute_result"
        }
      ],
      "source": [
        "counts_list_PM(listlposetmatrices=leftMat,listrposetmatrices=rightMat,first_operation=generatePMMax,second_operation=typeOfduality,third_operation=False,n=8)"
      ]
    },
    {
      "cell_type": "markdown",
      "metadata": {
        "id": "xRbEVFdsCuux"
      },
      "source": [
        "**Enumeration of Connected poset matrices generated using generatePMMax in terms of self dual and non-self dual types.**"
      ]
    },
    {
      "cell_type": "code",
      "execution_count": null,
      "metadata": {
        "colab": {
          "base_uri": "https://localhost:8080/"
        },
        "id": "jNXcwkBZCqSh",
        "outputId": "72432e47-6021-4310-a072-7fbe91d202fe"
      },
      "outputs": [
        {
          "data": {
            "text/plain": [
              "([3, 11, 45, 197, 903, 4279, 20793, 103049],\n",
              " [],\n",
              " ([2, 7, 42, 187, 896, 4257, 20778, 103003], [1, 4, 3, 10, 7, 22, 15, 46]))"
            ]
          },
          "execution_count": 69,
          "metadata": {},
          "output_type": "execute_result"
        }
      ],
      "source": [
        "counts_list_PM(listlposetmatrices=leftMatConn,listrposetmatrices=rightMat,first_operation=generatePMMax,second_operation=typeOfduality,third_operation=False,n=8)"
      ]
    },
    {
      "cell_type": "markdown",
      "metadata": {
        "id": "tLKDNLsFD3kQ"
      },
      "source": [
        "**Enumeration of Connected and Disconnected poset matrices generated using generatePMMinMax in terms of self dual and non-self dual types.**"
      ]
    },
    {
      "cell_type": "code",
      "execution_count": null,
      "metadata": {
        "colab": {
          "base_uri": "https://localhost:8080/"
        },
        "id": "oohNdwO4D9xY",
        "outputId": "88decee0-bafa-4c9a-bda2-f069cc71c419"
      },
      "outputs": [
        {
          "data": {
            "text/plain": [
              "([5, 15, 52, 201, 841, 3726, 17213, 82047],\n",
              " [],\n",
              " ([4, 10, 50, 186, 836, 3674, 17198, 81846], [1, 5, 2, 15, 5, 52, 15, 201]))"
            ]
          },
          "execution_count": 70,
          "metadata": {},
          "output_type": "execute_result"
        }
      ],
      "source": [
        "counts_list_PM(listlposetmatrices=leftMat,listrposetmatrices=rightMat,first_operation=generatePMMinMax,second_operation=typeOfduality,third_operation=False,n=8)"
      ]
    },
    {
      "cell_type": "markdown",
      "metadata": {
        "id": "LCV_UHy5FeJJ"
      },
      "source": [
        "**Enumeration of Connected poset matrices generated using generatePMMinMax in terms of self dual and non-self dual types.**"
      ]
    },
    {
      "cell_type": "code",
      "execution_count": null,
      "metadata": {
        "colab": {
          "base_uri": "https://localhost:8080/"
        },
        "id": "UEFcKPyYFh-L",
        "outputId": "95e7ff00-f0e9-40a0-d012-2fab85a6e7b7"
      },
      "outputs": [
        {
          "data": {
            "text/plain": [
              "([2, 6, 22, 90, 394, 1806, 8558, 41586],\n",
              " [],\n",
              " ([2, 4, 22, 84, 394, 1784, 8558, 41496], [0, 2, 0, 6, 0, 22, 0, 90]))"
            ]
          },
          "execution_count": 71,
          "metadata": {},
          "output_type": "execute_result"
        }
      ],
      "source": [
        "counts_list_PM(listlposetmatrices=leftMatConn,listrposetmatrices=rightMat,first_operation=generatePMMinMax,second_operation=typeOfduality,third_operation=False,n=8)"
      ]
    },
    {
      "cell_type": "markdown",
      "metadata": {
        "id": "SJiFhFOfIXBk"
      },
      "source": [
        "**Enumeration of Disonnected poset matrices generated using generatePMMinMax in terms of self dual and non-self dual types.**"
      ]
    },
    {
      "cell_type": "code",
      "execution_count": null,
      "metadata": {
        "colab": {
          "base_uri": "https://localhost:8080/"
        },
        "id": "NIR5L57fHyQh",
        "outputId": "35d4a98b-1ff5-4cab-ca1e-b949e62f7603"
      },
      "outputs": [
        {
          "data": {
            "text/plain": [
              "([3, 9, 30, 111, 447, 1920, 8655, 40461],\n",
              " [],\n",
              " ([2, 6, 28, 102, 442, 1890, 8640, 40350], [1, 3, 2, 9, 5, 30, 15, 111]))"
            ]
          },
          "execution_count": 29,
          "metadata": {},
          "output_type": "execute_result"
        }
      ],
      "source": [
        "counts_list_PM(listlposetmatrices=leftMatDisc,listrposetmatrices=rightMat,first_operation=generatePMMinMax,second_operation=typeOfduality,third_operation=False,n=8)"
      ]
    },
    {
      "cell_type": "markdown",
      "source": [
        "**Enumeration of poset matrices here is based on the partial composition operations defined in Theorem 2.1 of the paper \"Operad Structure of Poset Matrices.\"**"
      ],
      "metadata": {
        "id": "yNan4SY69Kfg"
      }
    },
    {
      "cell_type": "code",
      "execution_count": 92,
      "metadata": {
        "id": "V4qO2o6Cbq6t"
      },
      "outputs": [],
      "source": [
        "def partialComp1(lposetmatrix,rposetmatrix):\n",
        "\n",
        "   dimE=rposetmatrix.shape[0]\n",
        "   dimF=lposetmatrix.shape[0]\n",
        "   outputlist=[]\n",
        "\n",
        "   for i in range(1,(dimF+1)):\n",
        "\n",
        "      A11=lposetmatrix[0:i-1,0:i-1]\n",
        "      A21=lposetmatrix[i:dimF,i:dimF]\n",
        "      A22=lposetmatrix[i:dimF,0:i-1]\n",
        "      y1=np.zeros( (i-1, dimF+dimE-i),dtype='int64' )\n",
        "      y2= np.zeros((dimE, dimF-i),dtype='int64' )\n",
        "      Ui=np.ones((dimE,i-1),dtype='int64' )\n",
        "      Vi=np.ones((dimF-i,  dimE),dtype='int64' )\n",
        "      block1=np.concatenate((A11, y1), axis=1,dtype='int64')\n",
        "      block2=np.concatenate((Ui,rposetmatrix,y2), axis=1,dtype='int64')\n",
        "      block3=np.concatenate((A22,Vi,A21), axis=1,dtype='int64')\n",
        "      output=np.concatenate((block1,block2,block3), axis=0,dtype='int64')\n",
        "      outputlist.append(output)\n",
        "\n",
        "\n",
        "   return outputlist"
      ]
    },
    {
      "cell_type": "code",
      "execution_count": 93,
      "metadata": {
        "colab": {
          "base_uri": "https://localhost:8080/"
        },
        "id": "UDaPesbfcO2B",
        "outputId": "5db46f79-32d9-44fd-a89d-af27d6e2160b"
      },
      "outputs": [
        {
          "output_type": "execute_result",
          "data": {
            "text/plain": [
              "([3, 5, 8, 13, 21, 34, 55, 89, 144, 233, 377, 610, 987, 1597, 2584],\n",
              " [],\n",
              " [],\n",
              " [])"
            ]
          },
          "metadata": {},
          "execution_count": 93
        }
      ],
      "source": [
        "counts_list_PM(listlposetmatrices=leftMatConn,listrposetmatrices=rightMat,first_operation=partialComp1,second_operation=str(),third_operation=False,n=15)"
      ]
    },
    {
      "cell_type": "code",
      "execution_count": null,
      "metadata": {
        "id": "oapLJB8thQHd"
      },
      "outputs": [],
      "source": [
        "def partialComp2(lposetmatrix,rposetmatrix):\n",
        "\n",
        "    dimE=rposetmatrix.shape[0]\n",
        "    dimF=lposetmatrix.shape[0]\n",
        "    outputlist=[]\n",
        "\n",
        "    for i in range(1,(dimF+1)):\n",
        "        A11=lposetmatrix[0:i-1,0:i-1]\n",
        "        A21=lposetmatrix[i:dimF,i:dimF]\n",
        "        A22=np.ones((dimF-i,i-1),dtype='int64' )\n",
        "        y1=np.zeros( (i-1, dimF+dimE-i),dtype='int64' )\n",
        "        y2= np.zeros((dimE, dimF-i),dtype='int64' )\n",
        "        Ui=np.zeros((dimE,i-1),dtype='int64' )\n",
        "        Vi=np.zeros((dimF-i,  dimE),dtype='int64' )\n",
        "        block1=np.concatenate((A11, y1), axis=1,dtype='int64')\n",
        "        block2=np.concatenate((Ui,rposetmatrix,y2), axis=1,dtype='int64')\n",
        "        block3=np.concatenate((A22,Vi,A21), axis=1,dtype='int64')\n",
        "        output=np.concatenate((block1,block2,block3), axis=0,dtype='int64')\n",
        "        outputlist.append(output)\n",
        "\n",
        "    return outputlist"
      ]
    },
    {
      "cell_type": "code",
      "execution_count": null,
      "metadata": {
        "colab": {
          "base_uri": "https://localhost:8080/"
        },
        "id": "qJz4ZgD7hXtU",
        "outputId": "ffb6b24a-4b99-43b3-a257-d8c7040025c2"
      },
      "outputs": [
        {
          "data": {
            "text/plain": [
              "([3, 6, 16, 40, 112, 314, 900, 2634], [], ([], []))"
            ]
          },
          "execution_count": 186,
          "metadata": {},
          "output_type": "execute_result"
        }
      ],
      "source": [
        "counts_list_PM(listlposetmatrices=leftMatConn,listrposetmatrices=rightMat,first_operation=partialComp2,second_operation=str(),third_operation=False,n=8)"
      ]
    },
    {
      "cell_type": "code",
      "execution_count": null,
      "metadata": {
        "id": "28PUSbhpjWDD"
      },
      "outputs": [],
      "source": [
        "def partialComp3(lposetmatrix,rposetmatrix):\n",
        "\n",
        "    dimE=rposetmatrix.shape[0]\n",
        "    dimF=lposetmatrix.shape[0]\n",
        "    outputlist=[]\n",
        "\n",
        "    for i in range(1,(dimF+1)):\n",
        "\n",
        "        A11=lposetmatrix[0:i-1,0:i-1]\n",
        "        A21=lposetmatrix[i:dimF,i:dimF]\n",
        "        A22=np.ones((dimF-i,i-1),dtype='int64' )\n",
        "        y1=np.zeros( (i-1, dimF+dimE-i),dtype='int64' )\n",
        "        y2= np.zeros((dimE, dimF-i),dtype='int64' )\n",
        "        Ui=np.ones((dimE,i-1),dtype='int64' )\n",
        "        Vi=np.zeros((dimF-i,  dimE),dtype='int64' )\n",
        "        block1=np.concatenate((A11, y1), axis=1,dtype='int64')\n",
        "        block2=np.concatenate((Ui,rposetmatrix,y2), axis=1,dtype='int64')\n",
        "        block3=np.concatenate((A22,Vi,A21), axis=1,dtype='int64')\n",
        "        output=np.concatenate((block1,block2,block3), axis=0,dtype='int64')\n",
        "        outputlist.append(output)\n",
        "\n",
        "    return outputlist"
      ]
    },
    {
      "cell_type": "code",
      "execution_count": null,
      "metadata": {
        "colab": {
          "base_uri": "https://localhost:8080/"
        },
        "id": "ONBELO56DUsv",
        "outputId": "dc4918b6-de4d-4c70-e424-605ffb544330"
      },
      "outputs": [
        {
          "data": {
            "text/plain": [
              "([4, 10, 28, 80, 244, 774, 2524, 8414], [], ([], []))"
            ]
          },
          "execution_count": 184,
          "metadata": {},
          "output_type": "execute_result"
        }
      ],
      "source": [
        "counts_list_PM(listlposetmatrices=leftMatConn,listrposetmatrices=rightMat,first_operation=partialComp3,second_operation=str(),third_operation=False,n=8)"
      ]
    },
    {
      "cell_type": "code",
      "execution_count": null,
      "metadata": {
        "id": "75j8jzH_k8QK"
      },
      "outputs": [],
      "source": [
        "def partialComp4(lposetmatrix,rposetmatrix):\n",
        "\n",
        "    dimE=rposetmatrix.shape[0]\n",
        "    dimF=lposetmatrix.shape[0]\n",
        "    outputlist=[]\n",
        "\n",
        "\n",
        "    for i in range(1,(dimF+1)):\n",
        "\n",
        "        A11=lposetmatrix[0:i-1,0:i-1]\n",
        "        A21=lposetmatrix[i:dimF,i:dimF]\n",
        "        A22=np.ones((dimF-i,i-1),dtype='int64' )\n",
        "        y1=np.zeros( (i-1, dimF+dimE-i),dtype='int64' )\n",
        "        y2= np.zeros((dimE, dimF-i),dtype='int64' )\n",
        "        Ui=np.zeros((dimE,i-1),dtype='int64' )\n",
        "        Vi=np.ones((dimF-i,  dimE),dtype='int64' )\n",
        "        block1=np.concatenate((A11, y1), axis=1,dtype='int64')\n",
        "        block2=np.concatenate((Ui,rposetmatrix,y2), axis=1,dtype='int64')\n",
        "        block3=np.concatenate((A22,Vi,A21), axis=1,dtype='int64')\n",
        "        output=np.concatenate((block1,block2,block3), axis=0,dtype='int64')\n",
        "        outputlist.append(output)\n",
        "\n",
        "    return outputlist"
      ]
    },
    {
      "cell_type": "code",
      "execution_count": null,
      "metadata": {
        "colab": {
          "base_uri": "https://localhost:8080/"
        },
        "id": "Zz_U59QioA0Z",
        "outputId": "757b3e08-3060-49fb-b185-05203079f1b3"
      },
      "outputs": [
        {
          "data": {
            "text/plain": [
              "([4, 10, 28, 80, 244, 774, 2524, 8414], [], ([], []))"
            ]
          },
          "execution_count": 182,
          "metadata": {},
          "output_type": "execute_result"
        }
      ],
      "source": [
        "counts_list_PM(listlposetmatrices=leftMatConn,listrposetmatrices=rightMat,first_operation=partialComp4,second_operation=str(),third_operation=False,n=8)"
      ]
    },
    {
      "cell_type": "code",
      "execution_count": null,
      "metadata": {
        "id": "xs2KdSsqqA7F"
      },
      "outputs": [],
      "source": [
        "def partialComp5(lposetmatrix,rposetmatrix):\n",
        "\n",
        "    dimE=rposetmatrix.shape[0]\n",
        "    dimF=lposetmatrix.shape[0]\n",
        "    outputlist=[]\n",
        "\n",
        "    for i in range(1,(dimF+1)):\n",
        "\n",
        "        A11=lposetmatrix[0:i-1,0:i-1]\n",
        "        A21=lposetmatrix[i:dimF,i:dimF]\n",
        "        A22=np.zeros((dimF-i,i-1),dtype='int64' )\n",
        "        y1=np.zeros( (i-1, dimF+dimE-i),dtype='int64' )\n",
        "        y2= np.zeros((dimE, dimF-i),dtype='int64' )\n",
        "        Ui=np.zeros((dimE,i-1),dtype='int64' )\n",
        "        Vi=np.zeros((dimF-i,  dimE),dtype='int64' )\n",
        "\n",
        "        block1=np.concatenate((A11, y1), axis=1,dtype='int64')\n",
        "        block2=np.concatenate((Ui,rposetmatrix,y2), axis=1,dtype='int64')\n",
        "        block3=np.concatenate((A22,Vi,A21), axis=1,dtype='int64')\n",
        "        output=np.concatenate((block1,block2,block3), axis=0,dtype='int64')\n",
        "        outputlist.append(output)\n",
        "\n",
        "    return outputlist"
      ]
    },
    {
      "cell_type": "code",
      "execution_count": null,
      "metadata": {
        "colab": {
          "base_uri": "https://localhost:8080/"
        },
        "id": "sb0IXs3BBTmi",
        "outputId": "4d0a250d-21f0-48f1-b46f-9dfe80adb5b9"
      },
      "outputs": [
        {
          "data": {
            "text/plain": [
              "([3, 5, 8, 13, 21, 34, 55, 89, 144, 233, 377, 610, 987, 1597], [], ([], []))"
            ]
          },
          "execution_count": 179,
          "metadata": {},
          "output_type": "execute_result"
        }
      ],
      "source": [
        "counts_list_PM(listlposetmatrices=leftMatConn,listrposetmatrices=rightMat,first_operation=partialComp5,second_operation=str(),third_operation=False,n=14)"
      ]
    },
    {
      "cell_type": "markdown",
      "metadata": {
        "id": "cPJ-9VDCfZYb"
      },
      "source": [
        "**Test for Connectivity of Poset Matrices**"
      ]
    },
    {
      "cell_type": "code",
      "execution_count": 94,
      "metadata": {
        "id": "wghCmEHYuxl6"
      },
      "outputs": [],
      "source": [
        "def getEltPair(pair,flattenedlistOfPairs):\n",
        "\n",
        "    setp=set()\n",
        "    element1=pair[0]\n",
        "    element2=pair[1]\n",
        "\n",
        "    indiceslist=[i for i, x in enumerate(flattenedlistOfPairs) if x == element1]+[i for i, x in enumerate(flattenedlistOfPairs) if x == element2]\n",
        "\n",
        "    for ind in indiceslist:\n",
        "\n",
        "        if ind%2==0:\n",
        "            setp.add(flattenedlistOfPairs[ind+1])\n",
        "        else:\n",
        "            setp.add(flattenedlistOfPairs[ind-1])\n",
        "\n",
        "    return setp"
      ]
    },
    {
      "cell_type": "code",
      "execution_count": 95,
      "metadata": {
        "id": "MYirW2VugDgF"
      },
      "outputs": [],
      "source": [
        "def isConnected(posetmatrix):\n",
        "\n",
        "    dimposetmatrix=posetmatrix.shape[0]\n",
        "    positions_ones=list(zip(*np.where(posetmatrix == 1)))\n",
        "    new_positions_ones=[io for io in positions_ones if io[0]-io[1]!=0]\n",
        "\n",
        "    if len( new_positions_ones)==0:\n",
        "        return False\n",
        "\n",
        "    list1=[new_positions_ones[0][0],new_positions_ones[0][1]]\n",
        "    set1=set(list1)\n",
        "    list2=new_positions_ones[1:]\n",
        "\n",
        "    for t in range(len(list2)):\n",
        "\n",
        "        commonSet=set1.intersection(set(list2[t]))\n",
        "        flattenedlist1=list(itertools.chain(*list2[t+1:]))\n",
        "        setpts=getEltPair(list2[t],flattenedlist1)\n",
        "        commonSet2=set1.intersection(setpts)\n",
        "\n",
        "        if len(commonSet)>0 or len(commonSet2)>0:\n",
        "            set1=set1.union(set(list2[t]))\n",
        "        else:\n",
        "            return False\n",
        "\n",
        "    if len(set1)==dimposetmatrix:\n",
        "        return True\n",
        "    else:\n",
        "        return False"
      ]
    },
    {
      "cell_type": "markdown",
      "metadata": {
        "id": "a45gRcHadINl"
      },
      "source": [
        "**isSemiRight** function determines if a poset matrix is semi-right dualizable."
      ]
    },
    {
      "cell_type": "code",
      "execution_count": 96,
      "metadata": {
        "id": "ZQE5TVTCRzGT"
      },
      "outputs": [],
      "source": [
        "def isSemiRight(posetmatrix):\n",
        "\n",
        "    dimposetmatrix=posetmatrix.shape[0]\n",
        "    i,depth1=0,0\n",
        "    while i<dimposetmatrix:\n",
        "        if  all(posetmatrix[i:,i]):\n",
        "            depth1=depth1+1\n",
        "            i=i+1\n",
        "        else:\n",
        "            break\n",
        "    if (depth1>0 and not isConnected(posetmatrix[depth1:,depth1:]) and not np.allclose(dualize(posetmatrix[depth1:,depth1:]),posetmatrix[depth1:,depth1:])):\n",
        "        return True\n",
        "    else:\n",
        "        return False"
      ]
    },
    {
      "cell_type": "markdown",
      "source": [
        "**isSemiLeft** function determines if a poset matrix is semi-left dualizable."
      ],
      "metadata": {
        "id": "MdtjTOYF_EcQ"
      }
    },
    {
      "cell_type": "code",
      "execution_count": 97,
      "metadata": {
        "id": "5K5Wx1SAQscF"
      },
      "outputs": [],
      "source": [
        "def isSemiLeft(posetmatrix):\n",
        "\n",
        "    dimposetmatrix=posetmatrix.shape[0]\n",
        "    i,depth2=0,0\n",
        "\n",
        "    while i<dimposetmatrix:\n",
        "        if  all(posetmatrix[dimposetmatrix-i-1,:dimposetmatrix-i]):\n",
        "            depth2=depth2+1\n",
        "            i=i+1\n",
        "        else:\n",
        "            break\n",
        "    else:\n",
        "        depth2\n",
        "    if (depth2>0 and not isConnected(posetmatrix[:-depth2,:-depth2]) and not np.allclose(dualize(posetmatrix[:-depth2,:-depth2]),posetmatrix[:-depth2,:-depth2])):\n",
        "        return  True\n",
        "    else:\n",
        "        return False"
      ]
    },
    {
      "cell_type": "markdown",
      "source": [
        "**isSemiEquidual** function determines if a poset matrix is semi-equidual"
      ],
      "metadata": {
        "id": "AJN0rZTsAobQ"
      }
    },
    {
      "cell_type": "code",
      "execution_count": 98,
      "metadata": {
        "id": "VGFl4fK6iDgt"
      },
      "outputs": [],
      "source": [
        "def isSemiEquidual(posetmatrix):\n",
        "    if isSemiLeft(posetmatrix) or isSemiRight(posetmatrix):\n",
        "        return True\n",
        "    else:\n",
        "        return False"
      ]
    },
    {
      "cell_type": "markdown",
      "metadata": {
        "id": "XblMLcQcdk8b"
      },
      "source": [
        "**Enumeration of poset matrices for the operations isSemiRight and generatePM**"
      ]
    },
    {
      "cell_type": "code",
      "execution_count": 99,
      "metadata": {
        "colab": {
          "base_uri": "https://localhost:8080/"
        },
        "id": "QeC28rF8V_XL",
        "outputId": "f057525e-9e5e-4532-e288-94bc209d076f"
      },
      "outputs": [
        {
          "output_type": "execute_result",
          "data": {
            "text/plain": [
              "([6, 22, 90, 394, 1806, 8558, 41586, 206098],\n",
              " [],\n",
              " [0, 2, 10, 53, 250, 1224, 5982, 29853],\n",
              " [6, 20, 80, 341, 1556, 7334, 35604, 176245])"
            ]
          },
          "metadata": {},
          "execution_count": 99
        }
      ],
      "source": [
        "counts_list_PM(listlposetmatrices=leftMat,listrposetmatrices=rightMat,first_operation=generatePM,second_operation=isSemiRight,third_operation=False,n=8)"
      ]
    },
    {
      "cell_type": "markdown",
      "metadata": {
        "id": "LzxpPvridoSx"
      },
      "source": [
        "**Enumeration of poset matrices corresponding to the operations isSemiRight and generatePMMin**"
      ]
    },
    {
      "cell_type": "code",
      "execution_count": null,
      "metadata": {
        "colab": {
          "base_uri": "https://localhost:8080/"
        },
        "id": "v32E9RNiYWGU",
        "outputId": "11251a0d-2caa-410f-8fdc-e7220813f70c"
      },
      "outputs": [
        {
          "data": {
            "text/plain": [
              "([6, 22, 90, 394, 1806, 8558, 41586, 206098],\n",
              " [],\n",
              " ([0, 2, 10, 53, 249, 1223, 5984, 29863],\n",
              "  [6, 20, 80, 341, 1557, 7335, 35602, 176235]))"
            ]
          },
          "execution_count": 133,
          "metadata": {},
          "output_type": "execute_result"
        }
      ],
      "source": [
        "counts_list_PM(listlposetmatrices=leftMat,listrposetmatrices=rightMat,first_operation=generatePMMin,second_operation=isSemiRight,third_operation=False,n=8)"
      ]
    },
    {
      "cell_type": "markdown",
      "metadata": {
        "id": "vs3OjGdBdu3a"
      },
      "source": [
        "**Enumeration of poset matrices corresponding to operations isSemiRight and generatePMMax**"
      ]
    },
    {
      "cell_type": "code",
      "execution_count": null,
      "metadata": {
        "colab": {
          "base_uri": "https://localhost:8080/"
        },
        "id": "MUZQ-QbLba7H",
        "outputId": "2dc29312-a5a6-4f1d-dc9f-8fafbc8ec4f1"
      },
      "outputs": [
        {
          "data": {
            "text/plain": [
              "([6, 22, 90, 394, 1806, 8558, 41586, 206098],\n",
              " [],\n",
              " ([0, 0, 0, 0, 0, 0, 0, 0], [6, 22, 90, 394, 1806, 8558, 41586, 206098]))"
            ]
          },
          "execution_count": 134,
          "metadata": {},
          "output_type": "execute_result"
        }
      ],
      "source": [
        "counts_list_PM(listlposetmatrices=leftMat,listrposetmatrices=rightMat,first_operation=generatePMMax,second_operation=isSemiRight,third_operation=False,n=8)"
      ]
    },
    {
      "cell_type": "markdown",
      "metadata": {
        "id": "GlQ-i231cYzd"
      },
      "source": [
        "**Enumeration of poset matrices corresponding to operations isSemiRight and generatePMMinMax**"
      ]
    },
    {
      "cell_type": "code",
      "execution_count": null,
      "metadata": {
        "colab": {
          "base_uri": "https://localhost:8080/"
        },
        "id": "RX3jaWyicdyn",
        "outputId": "54509ae6-ef00-4a5b-9395-7613fa51f6a1"
      },
      "outputs": [
        {
          "data": {
            "text/plain": [
              "([5, 15, 52, 201, 841, 3726, 17213, 82047],\n",
              " [],\n",
              " ([0, 0, 0, 0, 0, 0, 0, 0], [5, 15, 52, 201, 841, 3726, 17213, 82047]))"
            ]
          },
          "execution_count": 135,
          "metadata": {},
          "output_type": "execute_result"
        }
      ],
      "source": [
        "counts_list_PM(listlposetmatrices=leftMat,listrposetmatrices=rightMat,first_operation=generatePMMinMax,second_operation=isSemiRight,third_operation=False,n=8)"
      ]
    },
    {
      "cell_type": "markdown",
      "metadata": {
        "id": "p_jl_q_3dzOa"
      },
      "source": [
        "**Enumeration of poset matrices for the operations isSemiLeft and generatePM**"
      ]
    },
    {
      "cell_type": "code",
      "execution_count": null,
      "metadata": {
        "colab": {
          "base_uri": "https://localhost:8080/"
        },
        "id": "7feMcU6QdDYi",
        "outputId": "770441f7-285a-4044-caa8-086b8a5f58f6"
      },
      "outputs": [
        {
          "data": {
            "text/plain": [
              "([6, 22, 90, 394, 1806, 8558, 41586, 206098],\n",
              " [],\n",
              " ([0, 2, 10, 52, 239, 1144, 5487, 27011],\n",
              "  [6, 20, 80, 342, 1567, 7414, 36099, 179087]))"
            ]
          },
          "execution_count": 136,
          "metadata": {},
          "output_type": "execute_result"
        }
      ],
      "source": [
        "counts_list_PM(listlposetmatrices=leftMat,listrposetmatrices=rightMat,first_operation=generatePM,second_operation=isSemiLeft,third_operation=False,n=8)"
      ]
    },
    {
      "cell_type": "markdown",
      "metadata": {
        "id": "YeKn3m2ZeJpo"
      },
      "source": [
        "**Enumeration of poset matrices for the operations isSemiLeft and generatePMMin**"
      ]
    },
    {
      "cell_type": "code",
      "execution_count": null,
      "metadata": {
        "colab": {
          "base_uri": "https://localhost:8080/"
        },
        "id": "bGybhBiSd7M7",
        "outputId": "63c0ef97-6464-41f3-9116-79db59829cb3"
      },
      "outputs": [
        {
          "data": {
            "text/plain": [
              "([6, 22, 90, 394, 1806, 8558, 41586, 206098],\n",
              " [],\n",
              " ([0, 0, 0, 0, 0, 0, 0, 0], [6, 22, 90, 394, 1806, 8558, 41586, 206098]))"
            ]
          },
          "execution_count": 137,
          "metadata": {},
          "output_type": "execute_result"
        }
      ],
      "source": [
        "counts_list_PM(listlposetmatrices=leftMat,listrposetmatrices=rightMat,first_operation=generatePMMin,second_operation=isSemiLeft,third_operation=False,n=8)"
      ]
    },
    {
      "cell_type": "markdown",
      "metadata": {
        "id": "jsW5B3bffE5-"
      },
      "source": [
        "**Enumeration of poset matrices for the operations isSemiLeft and generatePMMax**"
      ]
    },
    {
      "cell_type": "code",
      "execution_count": null,
      "metadata": {
        "colab": {
          "base_uri": "https://localhost:8080/"
        },
        "id": "hHa5aZpufJ-D",
        "outputId": "a2dc177d-b513-47ca-de39-e214960df021"
      },
      "outputs": [
        {
          "data": {
            "text/plain": [
              "([6, 22, 90, 394, 1806, 8558, 41586, 206098],\n",
              " [],\n",
              " ([0, 2, 10, 53, 251, 1255, 6295, 32277],\n",
              "  [6, 20, 80, 341, 1555, 7303, 35291, 173821]))"
            ]
          },
          "execution_count": 138,
          "metadata": {},
          "output_type": "execute_result"
        }
      ],
      "source": [
        "counts_list_PM(listlposetmatrices=leftMat,listrposetmatrices=rightMat,first_operation=generatePMMax,second_operation=isSemiLeft,third_operation=False,n=8)"
      ]
    },
    {
      "cell_type": "markdown",
      "metadata": {
        "id": "PBkRhz6MgDzt"
      },
      "source": [
        "**Enumeration of poset matrices for the operations isSemiLeft and generatePMMinMax**"
      ]
    },
    {
      "cell_type": "code",
      "execution_count": null,
      "metadata": {
        "colab": {
          "base_uri": "https://localhost:8080/"
        },
        "id": "oOmXEitlgKkv",
        "outputId": "9d085500-c05d-48f6-f0ce-2e433953acd8"
      },
      "outputs": [
        {
          "data": {
            "text/plain": [
              "([5, 15, 52, 201, 841, 3726, 17213, 82047],\n",
              " [],\n",
              " ([0, 0, 0, 0, 0, 0, 0, 0], [5, 15, 52, 201, 841, 3726, 17213, 82047]))"
            ]
          },
          "execution_count": 139,
          "metadata": {},
          "output_type": "execute_result"
        }
      ],
      "source": [
        "counts_list_PM(listlposetmatrices=leftMat,listrposetmatrices=rightMat,first_operation=generatePMMinMax,second_operation=isSemiLeft,third_operation=False,n=8)"
      ]
    },
    {
      "cell_type": "markdown",
      "metadata": {
        "id": "GL9JzZ_ljqku"
      },
      "source": [
        "**Enumeration of poset matrices for the operations isSemiEquiDual and generatePM**"
      ]
    },
    {
      "cell_type": "code",
      "execution_count": null,
      "metadata": {
        "id": "lrD5JcIZjun9"
      },
      "outputs": [],
      "source": [
        "a1=np.array([0, 2, 10, 53, 250, 1224, 5982, 29853])"
      ]
    },
    {
      "cell_type": "code",
      "execution_count": null,
      "metadata": {
        "id": "i83gTm-ukklp"
      },
      "outputs": [],
      "source": [
        "a2=np.array([0, 2, 10, 52, 239, 1144, 5487, 27011])"
      ]
    },
    {
      "cell_type": "code",
      "execution_count": null,
      "metadata": {
        "colab": {
          "base_uri": "https://localhost:8080/"
        },
        "id": "uaR9-oc2k9Kd",
        "outputId": "06f8a7b5-ffab-4a98-cd08-e410306527b0"
      },
      "outputs": [
        {
          "data": {
            "text/plain": [
              "array([    0,     4,    20,   105,   489,  2368, 11469, 56864])"
            ]
          },
          "execution_count": 143,
          "metadata": {},
          "output_type": "execute_result"
        }
      ],
      "source": [
        "np.add(a1,a2)"
      ]
    },
    {
      "cell_type": "markdown",
      "metadata": {
        "id": "ELR9kq5glWMa"
      },
      "source": [
        "**Enumeration of poset matrices for the operations isSemiEquiDual and generatePMMin**"
      ]
    },
    {
      "cell_type": "code",
      "execution_count": null,
      "metadata": {
        "id": "GomVSytSlcPp"
      },
      "outputs": [],
      "source": [
        "b1=np.array([0, 2, 10, 53, 249, 1223, 5984, 29863])"
      ]
    },
    {
      "cell_type": "code",
      "execution_count": null,
      "metadata": {
        "id": "WC3BZ6j2mq1M"
      },
      "outputs": [],
      "source": [
        "b2=np.array([0, 0, 0, 0, 0, 0, 0, 0])"
      ]
    },
    {
      "cell_type": "code",
      "execution_count": null,
      "metadata": {
        "colab": {
          "base_uri": "https://localhost:8080/"
        },
        "id": "Z1DoWvzJnD0L",
        "outputId": "2d259c3a-9565-47b4-ea8d-df71c42a1742"
      },
      "outputs": [
        {
          "data": {
            "text/plain": [
              "array([    0,     2,    10,    53,   249,  1223,  5984, 29863])"
            ]
          },
          "execution_count": 146,
          "metadata": {},
          "output_type": "execute_result"
        }
      ],
      "source": [
        "np.add(b1,b2)"
      ]
    },
    {
      "cell_type": "markdown",
      "metadata": {
        "id": "-Wh6SSuMnPz4"
      },
      "source": [
        "**Enumeration of poset matrices for the operations isSemiEquiDual and generatePMMax**"
      ]
    },
    {
      "cell_type": "code",
      "execution_count": null,
      "metadata": {
        "id": "6hYTykENnUsS"
      },
      "outputs": [],
      "source": [
        "c1=np.array([0, 0, 0, 0, 0, 0, 0, 0])"
      ]
    },
    {
      "cell_type": "code",
      "execution_count": null,
      "metadata": {
        "id": "J839lX79nmwM"
      },
      "outputs": [],
      "source": [
        "c2=np.array([0, 2, 10, 53, 251, 1255, 6295, 32277])"
      ]
    },
    {
      "cell_type": "code",
      "execution_count": null,
      "metadata": {
        "colab": {
          "base_uri": "https://localhost:8080/"
        },
        "id": "feLRayvPn_Em",
        "outputId": "e06e64c2-daca-4aa0-83ef-79c335bca2e6"
      },
      "outputs": [
        {
          "data": {
            "text/plain": [
              "array([    0,     2,    10,    53,   251,  1255,  6295, 32277])"
            ]
          },
          "execution_count": 149,
          "metadata": {},
          "output_type": "execute_result"
        }
      ],
      "source": [
        "np.add(c1,c2)"
      ]
    },
    {
      "cell_type": "markdown",
      "metadata": {
        "id": "b_vdO8TPon32"
      },
      "source": [
        "**Enumeration of poset matrices for the operations isSemiEquiDual and generatePMMinMax**"
      ]
    },
    {
      "cell_type": "code",
      "execution_count": null,
      "metadata": {
        "id": "k8XI0nh1oroM"
      },
      "outputs": [],
      "source": [
        "d1=np.array([0, 0, 0, 0, 0, 0, 0, 0])"
      ]
    },
    {
      "cell_type": "code",
      "execution_count": null,
      "metadata": {
        "id": "UJRzx9S7o_Oo"
      },
      "outputs": [],
      "source": [
        "d2=np.array([0, 0, 0, 0, 0, 0, 0, 0])"
      ]
    },
    {
      "cell_type": "code",
      "execution_count": null,
      "metadata": {
        "colab": {
          "base_uri": "https://localhost:8080/"
        },
        "id": "EsdK4Z4JpNTq",
        "outputId": "12bb604d-bdae-4f06-b9ea-298bd939735d"
      },
      "outputs": [
        {
          "data": {
            "text/plain": [
              "array([0, 0, 0, 0, 0, 0, 0, 0])"
            ]
          },
          "execution_count": 153,
          "metadata": {},
          "output_type": "execute_result"
        }
      ],
      "source": [
        "np.add(d1,d2)"
      ]
    },
    {
      "cell_type": "code",
      "execution_count": 100,
      "metadata": {
        "id": "wl9xsbLpp-Hz"
      },
      "outputs": [],
      "source": [
        "def isOrdinalSum(posetmatrix):\n",
        "\n",
        "    level,column=0,0\n",
        "    dimPosetMatrix=posetmatrix.shape[0]\n",
        "\n",
        "    while posetmatrix[-1,column]==1 and posetmatrix[-2,column]==1 and dimPosetMatrix>2:\n",
        "        column=column+1\n",
        "        if column>0:\n",
        "            needarray=np.ones(( column,), dtype=int)\n",
        "        else:\n",
        "            column\n",
        "            break\n",
        "\n",
        "    while  posetmatrix[-1,column]==1 and (posetmatrix[-2,0]!=1 or dimPosetMatrix==2):\n",
        "\n",
        "        column=column+1\n",
        "        if column==dimPosetMatrix:\n",
        "            break\n",
        "\n",
        "    if 'needarray' in vars():\n",
        "\n",
        "        if len(needarray)!=0:\n",
        "            level=level+2\n",
        "        else:\n",
        "            level\n",
        "\n",
        "        for s in range(dimPosetMatrix-3,-1,-1):\n",
        "            if len(needarray)>0 and np.array_equal( needarray,posetmatrix[s,0:column]):\n",
        "                level=level+1\n",
        "            else:\n",
        "                level\n",
        "                break\n",
        "        if level==dimPosetMatrix:\n",
        "            level=level-1\n",
        "\n",
        "\n",
        "    if column>1 and level>1:\n",
        "            column=column-1\n",
        "\n",
        "\n",
        "    return column+level==dimPosetMatrix"
      ]
    },
    {
      "cell_type": "code",
      "execution_count": 101,
      "metadata": {
        "id": "CNKiq2PnqWX7"
      },
      "outputs": [],
      "source": [
        "def isDirectSum(posetmatrix):\n",
        "\n",
        "    level,column=0,0\n",
        "    dimPosetMatrix=posetmatrix.shape[0]\n",
        "\n",
        "    while posetmatrix[-1,column]==0 and posetmatrix[-2,column]==0 and dimPosetMatrix>2:\n",
        "        column=column+1\n",
        "        if column>0:\n",
        "            needarray=np.zeros(( column,), dtype=int)\n",
        "        else:\n",
        "            column\n",
        "            break\n",
        "\n",
        "    while  posetmatrix[-1,column]==0 and (posetmatrix[-2,0]!=0 or dimPosetMatrix==2):\n",
        "\n",
        "\n",
        "        if dimPosetMatrix>2:\n",
        "            column=column+1\n",
        "            level=1\n",
        "        else:\n",
        "            column=2\n",
        "\n",
        "        if column==dimPosetMatrix:\n",
        "            break\n",
        "\n",
        "    if 'needarray' in vars():\n",
        "\n",
        "        if len(needarray)!=0:\n",
        "            level=level+2\n",
        "        else:\n",
        "            level\n",
        "\n",
        "        for s in range(dimPosetMatrix-3,-1,-1):\n",
        "            if len(needarray)>0 and np.array_equal( needarray,posetmatrix[s,0:column]):\n",
        "                level=level+1\n",
        "            else:\n",
        "                level\n",
        "                break\n",
        "        if level==dimPosetMatrix:\n",
        "            level=level-1\n",
        "\n",
        "    return column+level==dimPosetMatrix"
      ]
    },
    {
      "cell_type": "markdown",
      "metadata": {
        "id": "TX9d-oMdqy9l"
      },
      "source": [
        "**Enumeration of poset matrices for the operations isOrdinalSum and generatePM**"
      ]
    },
    {
      "cell_type": "code",
      "execution_count": 102,
      "metadata": {
        "colab": {
          "base_uri": "https://localhost:8080/"
        },
        "id": "J3n8ypnKq3RB",
        "outputId": "45bc16fc-fbef-4c2c-e681-359d3417304a"
      },
      "outputs": [
        {
          "output_type": "execute_result",
          "data": {
            "text/plain": [
              "([3, 11, 45, 197, 903, 4279, 20793, 103049],\n",
              " [],\n",
              " [3, 10, 37, 151, 659, 3013, 14249, 69131],\n",
              " [0, 1, 8, 46, 244, 1266, 6544, 33918])"
            ]
          },
          "metadata": {},
          "execution_count": 102
        }
      ],
      "source": [
        "counts_list_PM(listlposetmatrices=leftMatConn,listrposetmatrices=rightMat,first_operation=generatePM,second_operation=isOrdinalSum,third_operation=False,n=8)"
      ]
    },
    {
      "cell_type": "markdown",
      "metadata": {
        "id": "X7UA7_f1sRcO"
      },
      "source": [
        "**Enumeration of poset matrices for the operations isOrdinalSum and generatePMMin**"
      ]
    },
    {
      "cell_type": "code",
      "execution_count": null,
      "metadata": {
        "colab": {
          "base_uri": "https://localhost:8080/"
        },
        "id": "A2gZNwWSsIVQ",
        "outputId": "f4ee151e-39ed-4595-cca9-24050f83241a"
      },
      "outputs": [
        {
          "data": {
            "text/plain": [
              "([3, 11, 45, 197, 903, 4279, 20793, 103049],\n",
              " [],\n",
              " ([3, 8, 25, 91, 367, 1591, 7263, 34415],\n",
              "  [0, 3, 20, 106, 536, 2688, 13530, 68634]))"
            ]
          },
          "execution_count": 159,
          "metadata": {},
          "output_type": "execute_result"
        }
      ],
      "source": [
        "counts_list_PM(listlposetmatrices=leftMatConn,listrposetmatrices=rightMat,first_operation=generatePMMin,second_operation=isOrdinalSum,third_operation=False,n=8)"
      ]
    },
    {
      "cell_type": "markdown",
      "metadata": {
        "id": "37nfLvGfs6aQ"
      },
      "source": [
        "**Enumeration of poset matrices for the operations isOrdinalSum and generatePMMax**"
      ]
    },
    {
      "cell_type": "code",
      "execution_count": null,
      "metadata": {
        "colab": {
          "base_uri": "https://localhost:8080/"
        },
        "id": "t3JIl0Y5sq9D",
        "outputId": "7951fd16-2283-46ed-f1df-feb2ac47623f"
      },
      "outputs": [
        {
          "data": {
            "text/plain": [
              "([3, 11, 45, 197, 903, 4279, 20793, 103049],\n",
              " [],\n",
              " ([3, 8, 23, 81, 329, 1451, 6723, 32189],\n",
              "  [0, 3, 22, 116, 574, 2828, 14070, 70860]))"
            ]
          },
          "execution_count": 160,
          "metadata": {},
          "output_type": "execute_result"
        }
      ],
      "source": [
        "counts_list_PM(listlposetmatrices=leftMatConn,listrposetmatrices=rightMat,first_operation=generatePMMax,second_operation=isOrdinalSum,third_operation=False,n=8)"
      ]
    },
    {
      "cell_type": "markdown",
      "metadata": {
        "id": "W3Q6nNXQtgyl"
      },
      "source": [
        "**Enumeration of poset matrices for the operations isOrdinalSum and generatePMMinMax**"
      ]
    },
    {
      "cell_type": "code",
      "execution_count": null,
      "metadata": {
        "colab": {
          "base_uri": "https://localhost:8080/"
        },
        "id": "Vl8IVRmatWqn",
        "outputId": "a8d5ae9d-07e3-4176-f7a5-cf105c7d15f3"
      },
      "outputs": [
        {
          "data": {
            "text/plain": [
              "([2, 6, 22, 90, 394, 1806, 8558, 41586],\n",
              " [],\n",
              " ([2, 2, 2, 2, 2, 2, 2, 2], [0, 4, 20, 88, 392, 1804, 8556, 41584]))"
            ]
          },
          "execution_count": 161,
          "metadata": {},
          "output_type": "execute_result"
        }
      ],
      "source": [
        "counts_list_PM(listlposetmatrices=leftMatConn,listrposetmatrices=rightMat,first_operation=generatePMMinMax,second_operation=isOrdinalSum,third_operation=False,n=8)"
      ]
    },
    {
      "cell_type": "markdown",
      "metadata": {
        "id": "LqYDhykN5lDc"
      },
      "source": [
        "**reverseArray** reverses an array"
      ]
    },
    {
      "cell_type": "code",
      "execution_count": null,
      "metadata": {
        "id": "l0ee640J6jMn"
      },
      "outputs": [],
      "source": [
        "def reverseArray(array):\n",
        "    dimArray=len(array)\n",
        "    new_array=np.array([])\n",
        "    for item in range(dimArray):\n",
        "         new_array=np.append(new_array,array[dimArray-1-item])\n",
        "\n",
        "    return new_array.astype(int)"
      ]
    },
    {
      "cell_type": "markdown",
      "source": [
        "**isDoubleDual** function determines if a poset matrix is double dualizable."
      ],
      "metadata": {
        "id": "bmEClbufByti"
      }
    },
    {
      "cell_type": "code",
      "execution_count": null,
      "metadata": {
        "id": "FLmRiARU5fUb"
      },
      "outputs": [],
      "source": [
        "def isDoubleDual(posetmatrix):\n",
        "\n",
        "    last_row=posetmatrix[-1]\n",
        "    first_col=posetmatrix[:,0]\n",
        "\n",
        "    if np.allclose(last_row,reverseArray(first_col)) and len(findMax(posetmatrix))==len(findMin(posetmatrix)):\n",
        "        x=posetmatrix[:-1,:-1]\n",
        "        y=posetmatrix[1:,1:]\n",
        "\n",
        "        if isSemiRight(x) and isSemiLeft(y) and np.allclose(x[1:,1:],y[:-1,:-1]):\n",
        "            return True\n",
        "        else:\n",
        "            return False\n",
        "    else:\n",
        "        return False"
      ]
    },
    {
      "cell_type": "code",
      "execution_count": null,
      "metadata": {
        "colab": {
          "base_uri": "https://localhost:8080/"
        },
        "id": "1pGzivZL58Jo",
        "outputId": "de21db9c-4ff0-402f-bf6f-526d47dad015"
      },
      "outputs": [
        {
          "data": {
            "text/plain": [
              "([3, 11, 45, 197, 903, 4279, 20793, 103049],\n",
              " [],\n",
              " ([0, 0, 2, 8, 42, 195, 966, 4744], [3, 11, 43, 189, 861, 4084, 19827, 98305]))"
            ]
          },
          "execution_count": 169,
          "metadata": {},
          "output_type": "execute_result"
        }
      ],
      "source": [
        "counts_list_PM(listlposetmatrices=leftMatConn,listrposetmatrices=rightMat,first_operation=generatePM,second_operation=isDoubleDual,third_operation=False,n=8)"
      ]
    },
    {
      "cell_type": "markdown",
      "metadata": {
        "id": "ZMXQTvGU8C_v"
      },
      "source": [
        "**Enumeration of poset matrices for the operations isDoubleDual and generatePMMin**"
      ]
    },
    {
      "cell_type": "code",
      "execution_count": null,
      "metadata": {
        "colab": {
          "base_uri": "https://localhost:8080/"
        },
        "id": "_q127Vto8Gq2",
        "outputId": "331ecc3f-464b-4ac7-e2f8-349525b5bb1d"
      },
      "outputs": [
        {
          "data": {
            "text/plain": [
              "([3, 11, 45, 197, 903, 4279, 20793, 103049],\n",
              " [],\n",
              " ([0, 0, 0, 0, 0, 0, 0, 0], [3, 11, 45, 197, 903, 4279, 20793, 103049]))"
            ]
          },
          "execution_count": 172,
          "metadata": {},
          "output_type": "execute_result"
        }
      ],
      "source": [
        "counts_list_PM(listlposetmatrices=leftMatConn,listrposetmatrices=rightMat,first_operation=generatePMMin,second_operation=isDoubleDual,third_operation=False,n=8)"
      ]
    },
    {
      "cell_type": "markdown",
      "metadata": {
        "id": "ylNRbsMH8qDG"
      },
      "source": [
        "**Enumeration of poset matrices for the operations isDoubleDual and generatePMMax**"
      ]
    },
    {
      "cell_type": "code",
      "execution_count": null,
      "metadata": {
        "colab": {
          "base_uri": "https://localhost:8080/"
        },
        "id": "_wNyrhMx8lTa",
        "outputId": "7aa050df-64a5-4b90-f597-83ea1c1bc104"
      },
      "outputs": [
        {
          "data": {
            "text/plain": [
              "([3, 11, 45, 197, 903, 4279, 20793, 103049],\n",
              " [],\n",
              " ([0, 0, 0, 0, 0, 0, 0, 0], [3, 11, 45, 197, 903, 4279, 20793, 103049]))"
            ]
          },
          "execution_count": 173,
          "metadata": {},
          "output_type": "execute_result"
        }
      ],
      "source": [
        "counts_list_PM(listlposetmatrices=leftMatConn,listrposetmatrices=rightMat,first_operation=generatePMMax,second_operation=isDoubleDual,third_operation=False,n=8)"
      ]
    },
    {
      "cell_type": "markdown",
      "metadata": {
        "id": "u5WGN-aI9aS4"
      },
      "source": [
        "**Enumeration of poset matrices for the operations isDoubleDual and generatePMMinMax**"
      ]
    },
    {
      "cell_type": "code",
      "execution_count": null,
      "metadata": {
        "colab": {
          "base_uri": "https://localhost:8080/"
        },
        "id": "xeJb-D4d9RyS",
        "outputId": "a9525ffc-9367-412f-df91-cd5f2b80ee30"
      },
      "outputs": [
        {
          "data": {
            "text/plain": [
              "([2, 6, 22, 90, 394, 1806, 8558, 41586],\n",
              " [],\n",
              " ([0, 0, 0, 0, 0, 0, 0, 0], [2, 6, 22, 90, 394, 1806, 8558, 41586]))"
            ]
          },
          "execution_count": 174,
          "metadata": {},
          "output_type": "execute_result"
        }
      ],
      "source": [
        "counts_list_PM(listlposetmatrices=leftMatConn,listrposetmatrices=rightMat,first_operation=generatePMMinMax,second_operation=isDoubleDual,third_operation=False,n=8)"
      ]
    }
  ],
  "metadata": {
    "colab": {
      "provenance": [],
      "authorship_tag": "ABX9TyPeCb66lo3/9LDHuj/8l7xa"
    },
    "kernelspec": {
      "display_name": "Python 3",
      "name": "python3"
    },
    "language_info": {
      "name": "python"
    }
  },
  "nbformat": 4,
  "nbformat_minor": 0
}