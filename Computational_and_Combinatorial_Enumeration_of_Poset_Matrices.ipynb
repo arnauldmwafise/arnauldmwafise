{
  "cells": [
    {
      "cell_type": "markdown",
      "metadata": {
        "id": "view-in-github",
        "colab_type": "text"
      },
      "source": [
        "<a href=\"https://colab.research.google.com/github/arnauldmwafise/arnauldmwafise/blob/main/Computational_and_Combinatorial_Enumeration_of_Poset_Matrices.ipynb\" target=\"_parent\"><img src=\"https://colab.research.google.com/assets/colab-badge.svg\" alt=\"Open In Colab\"/></a>"
      ]
    },
    {
      "cell_type": "markdown",
      "metadata": {
        "id": "_q63IRlV2KCc"
      },
      "source": [
        "This notebook is based on the article \"**Operad Structure of Poset Matrices**\"\n",
        "available at https://arxiv.org/abs/2401.06814 and the algorithms described in **\"Computational and Combinatorial Enumeration of Poset Matrices\"** available at (https://doi.org/10.31219/osf.io/vg7pr)."
      ]
    },
    {
      "cell_type": "code",
      "execution_count": 1,
      "metadata": {
        "id": "RInhTNlXcHeC"
      },
      "outputs": [],
      "source": [
        "# import  packages\n",
        "import numpy as np\n",
        "import itertools\n",
        "import more_itertools\n",
        "import math"
      ]
    },
    {
      "cell_type": "markdown",
      "metadata": {
        "id": "Rco0NYlIdFui"
      },
      "source": [
        "**isBinary** function determines if a matrix is binary (0,1)."
      ]
    },
    {
      "cell_type": "code",
      "execution_count": 2,
      "metadata": {
        "id": "4Lyk_Rh3c-G-"
      },
      "outputs": [],
      "source": [
        "def isBinary(inputarray):\n",
        "  return ((inputarray==0) | (inputarray==1)).all()"
      ]
    },
    {
      "cell_type": "markdown",
      "metadata": {
        "id": "3NU9M8p5eOdv"
      },
      "source": [
        "**isPosetMatrix** function determines if a triangular binary matrix is a poset."
      ]
    },
    {
      "cell_type": "code",
      "execution_count": 3,
      "metadata": {
        "id": "8_5MTlCUeRYV"
      },
      "outputs": [],
      "source": [
        "def isPosetMatrix(inputndarray):\n",
        "\n",
        "    if isBinary(inputndarray) and (np.allclose(inputndarray, np.tril(inputndarray)) or np.allclose(inputndarray, np.triu(inputndarray))):\n",
        "        mat=np.matmul(inputndarray,inputndarray)\n",
        "        initial_positions=list(zip(*np.where(inputndarray == 0)))\n",
        "        updated_positions=list(zip(*np.where( mat == 0)))\n",
        "        if  updated_positions==initial_positions:\n",
        "            return True\n",
        "        else:\n",
        "            return False\n",
        "    else:\n",
        "        return False"
      ]
    },
    {
      "cell_type": "markdown",
      "metadata": {
        "id": "0pyScpC-gYCK"
      },
      "source": [
        "**Examples using isPosetMatrix**"
      ]
    },
    {
      "cell_type": "code",
      "execution_count": 4,
      "metadata": {
        "id": "zB_Iiq4JkbDP"
      },
      "outputs": [],
      "source": [
        "matrix1=np.array([[1, 0, 0, 0, 0],\n",
        "       [1, 1, 0, 0, 0],\n",
        "       [1, 0, 1, 0, 0],\n",
        "       [1, 0, 0, 1, 0],\n",
        "       [1, 0, 0, 1, 1]])"
      ]
    },
    {
      "cell_type": "code",
      "execution_count": 5,
      "metadata": {
        "colab": {
          "base_uri": "https://localhost:8080/"
        },
        "id": "PPe-i4qxkwoY",
        "outputId": "9a6ada3f-c49b-44bb-a6b0-e48e81d1115b"
      },
      "outputs": [
        {
          "output_type": "execute_result",
          "data": {
            "text/plain": [
              "True"
            ]
          },
          "metadata": {},
          "execution_count": 5
        }
      ],
      "source": [
        "isPosetMatrix(matrix1)"
      ]
    },
    {
      "cell_type": "code",
      "execution_count": 6,
      "metadata": {
        "id": "HhWG1weihBKc"
      },
      "outputs": [],
      "source": [
        " matrix2= np.array([[1, 0, 0, 0],\n",
        "    [1, 1, 0, 0],\n",
        "    [1, 0, 1, 0],[1, 1, 1, 1]])"
      ]
    },
    {
      "cell_type": "code",
      "execution_count": 7,
      "metadata": {
        "colab": {
          "base_uri": "https://localhost:8080/"
        },
        "id": "ESkv7M_O9gLI",
        "outputId": "63c11189-0da2-408a-dc27-dd4bc8027d41"
      },
      "outputs": [
        {
          "output_type": "execute_result",
          "data": {
            "text/plain": [
              "array([[1, 0, 0, 0],\n",
              "       [1, 1, 0, 0],\n",
              "       [1, 0, 1, 0],\n",
              "       [1, 1, 1, 1]])"
            ]
          },
          "metadata": {},
          "execution_count": 7
        }
      ],
      "source": [
        "matrix2"
      ]
    },
    {
      "cell_type": "code",
      "execution_count": 8,
      "metadata": {
        "colab": {
          "base_uri": "https://localhost:8080/"
        },
        "id": "l1SuCDnkhOR3",
        "outputId": "d630de37-7fda-46ac-b7a7-74bc6a108a6c"
      },
      "outputs": [
        {
          "output_type": "execute_result",
          "data": {
            "text/plain": [
              "True"
            ]
          },
          "metadata": {},
          "execution_count": 8
        }
      ],
      "source": [
        "isPosetMatrix(matrix2)"
      ]
    },
    {
      "cell_type": "code",
      "execution_count": 9,
      "metadata": {
        "id": "n21gvIbwhhIL"
      },
      "outputs": [],
      "source": [
        "matrix3=np.array([[1,0,0],[1,1,0],[0,1,1]])"
      ]
    },
    {
      "cell_type": "code",
      "execution_count": 10,
      "metadata": {
        "colab": {
          "base_uri": "https://localhost:8080/"
        },
        "id": "jt-lTQNdmWXW",
        "outputId": "e71e74ab-25d9-492f-a8d4-604e2fc312a1"
      },
      "outputs": [
        {
          "output_type": "execute_result",
          "data": {
            "text/plain": [
              "array([[1, 0, 0],\n",
              "       [1, 1, 0],\n",
              "       [0, 1, 1]])"
            ]
          },
          "metadata": {},
          "execution_count": 10
        }
      ],
      "source": [
        "matrix3"
      ]
    },
    {
      "cell_type": "code",
      "execution_count": 11,
      "metadata": {
        "id": "gsJwuFgqhpvT",
        "colab": {
          "base_uri": "https://localhost:8080/"
        },
        "outputId": "8c10f99e-8453-4759-c780-8ebe202f1be2"
      },
      "outputs": [
        {
          "output_type": "execute_result",
          "data": {
            "text/plain": [
              "False"
            ]
          },
          "metadata": {},
          "execution_count": 11
        }
      ],
      "source": [
        "isPosetMatrix(matrix3)"
      ]
    },
    {
      "cell_type": "markdown",
      "metadata": {
        "id": "YxILsFbJkJw5"
      },
      "source": [
        "**findMax** function returns the set of all the maximal elements of a poset matrix."
      ]
    },
    {
      "cell_type": "code",
      "execution_count": 12,
      "metadata": {
        "id": "o_w4HwAgjzqL"
      },
      "outputs": [],
      "source": [
        "def findMax(posetmatrix):\n",
        "\n",
        "    dimPM=posetmatrix.shape[0]\n",
        "    maxList=[x for x in range(dimPM) if sum(posetmatrix[:,x])==1]\n",
        "\n",
        "    return maxList"
      ]
    },
    {
      "cell_type": "markdown",
      "metadata": {
        "id": "Ga3_9fLYkgNe"
      },
      "source": [
        "Example of using **findMax**"
      ]
    },
    {
      "cell_type": "code",
      "execution_count": 13,
      "metadata": {
        "colab": {
          "base_uri": "https://localhost:8080/"
        },
        "id": "7Mbg06yvkG9A",
        "outputId": "0c0cce0e-c1b4-4683-88c8-9185b7bf5f8c"
      },
      "outputs": [
        {
          "output_type": "execute_result",
          "data": {
            "text/plain": [
              "[1, 2, 4]"
            ]
          },
          "metadata": {},
          "execution_count": 13
        }
      ],
      "source": [
        "findMax(matrix1)"
      ]
    },
    {
      "cell_type": "markdown",
      "metadata": {
        "id": "gJ7E1jUZk5q2"
      },
      "source": [
        "**findMin** function returns the set of all the minimal elements of a poset matrix"
      ]
    },
    {
      "cell_type": "code",
      "execution_count": 14,
      "metadata": {
        "id": "kLqCnjy5k4UZ"
      },
      "outputs": [],
      "source": [
        "def findMin(posetmatrix):\n",
        "\n",
        "    dimPM=posetmatrix.shape[0]\n",
        "    minList=[ind for ind in range(dimPM) if sum(posetmatrix[ind])==1 ]\n",
        "\n",
        "\n",
        "    return minList"
      ]
    },
    {
      "cell_type": "markdown",
      "metadata": {
        "id": "b08f0PAJlSPN"
      },
      "source": [
        "Example of using **findMin**"
      ]
    },
    {
      "cell_type": "code",
      "execution_count": 15,
      "metadata": {
        "colab": {
          "base_uri": "https://localhost:8080/"
        },
        "id": "z2l02KfQlLzT",
        "outputId": "a2e4c8f2-701d-4586-cc58-950d4ccedcd1"
      },
      "outputs": [
        {
          "output_type": "execute_result",
          "data": {
            "text/plain": [
              "[0]"
            ]
          },
          "metadata": {},
          "execution_count": 15
        }
      ],
      "source": [
        "findMin(matrix1)"
      ]
    },
    {
      "cell_type": "markdown",
      "metadata": {
        "id": "edd_frAxoe7L"
      },
      "source": [
        "**createU** constructs the submatrix U in a partial composition operation of poset matrices."
      ]
    },
    {
      "cell_type": "code",
      "execution_count": 16,
      "metadata": {
        "id": "iQJIcsfLoKoN"
      },
      "outputs": [],
      "source": [
        "def createU(lposetmatrix,rposetmatrix,i):\n",
        "\n",
        "    rowAi=lposetmatrix[i-1]\n",
        "    rowAi=rowAi[0:i-1]\n",
        "    dimE=rposetmatrix.shape[0]\n",
        "    U=np.zeros( (dimE,i-1),dtype='int64' )\n",
        "\n",
        "    for z in range(dimE):\n",
        "      if z in findMax(rposetmatrix):\n",
        "        U[z]=rowAi\n",
        "\n",
        "\n",
        "    return U"
      ]
    },
    {
      "cell_type": "markdown",
      "metadata": {
        "id": "I7Qc5RJbpLqO"
      },
      "source": [
        "**Example of using createU**"
      ]
    },
    {
      "cell_type": "code",
      "execution_count": 17,
      "metadata": {
        "colab": {
          "base_uri": "https://localhost:8080/"
        },
        "id": "uzBHw5_SoTH1",
        "outputId": "26a17607-0aa2-4ef6-fdbb-b0662d86fdb3"
      },
      "outputs": [
        {
          "output_type": "execute_result",
          "data": {
            "text/plain": [
              "array([[0, 0],\n",
              "       [0, 0],\n",
              "       [0, 0],\n",
              "       [1, 0]])"
            ]
          },
          "metadata": {},
          "execution_count": 17
        }
      ],
      "source": [
        "createU(matrix1, matrix2,3)"
      ]
    },
    {
      "cell_type": "markdown",
      "metadata": {
        "id": "C-NJMpN_pvZb"
      },
      "source": [
        "**createV** function constructs the submatrix V in a partial composition operation of poset matrices."
      ]
    },
    {
      "cell_type": "code",
      "execution_count": 18,
      "metadata": {
        "id": "PgmDu_v1o7XX"
      },
      "outputs": [],
      "source": [
        "def createV(lposetmatrix,rposetmatrix,i):\n",
        "\n",
        "   dimF=lposetmatrix.shape[0]\n",
        "   dimE=rposetmatrix.shape[0]\n",
        "   colAi=lposetmatrix[i:dimF,i-1]\n",
        "\n",
        "   v=np.zeros( (dimF-i,dimE),dtype='int64' )\n",
        "   for k in range(dimE):\n",
        "      if k in findMin(rposetmatrix):\n",
        "         v[:,k]=colAi\n",
        "\n",
        "   return v"
      ]
    },
    {
      "cell_type": "markdown",
      "metadata": {
        "id": "c4g4ht8qp7B8"
      },
      "source": [
        "Example using **createV**."
      ]
    },
    {
      "cell_type": "code",
      "execution_count": 19,
      "metadata": {
        "colab": {
          "base_uri": "https://localhost:8080/"
        },
        "id": "0H_JrAUCpEKC",
        "outputId": "6111e990-bcef-49c0-bfa8-97947866d89f"
      },
      "outputs": [
        {
          "output_type": "execute_result",
          "data": {
            "text/plain": [
              "array([[1, 0, 0, 0],\n",
              "       [1, 0, 0, 0],\n",
              "       [1, 0, 0, 0],\n",
              "       [1, 0, 0, 0]])"
            ]
          },
          "metadata": {},
          "execution_count": 19
        }
      ],
      "source": [
        "createV(matrix1,matrix2,1)"
      ]
    },
    {
      "cell_type": "code",
      "execution_count": 20,
      "metadata": {
        "colab": {
          "base_uri": "https://localhost:8080/"
        },
        "id": "N6yOt_gd9p-K",
        "outputId": "d99c1f92-ab97-4095-fb29-26dd09a4e7db"
      },
      "outputs": [
        {
          "output_type": "execute_result",
          "data": {
            "text/plain": [
              "array([[0, 0, 0, 0, 0],\n",
              "       [1, 0, 0, 0, 0]])"
            ]
          },
          "metadata": {},
          "execution_count": 20
        }
      ],
      "source": [
        "createV(matrix2,matrix1,2)"
      ]
    },
    {
      "cell_type": "markdown",
      "metadata": {
        "id": "hNaYulpCvX1Y"
      },
      "source": [
        "**flattenR** function takes in an ndarray as input and returns a copy of the array collapsed into one dimension"
      ]
    },
    {
      "cell_type": "code",
      "execution_count": 21,
      "metadata": {
        "id": "Jkw4rTKKvFgz"
      },
      "outputs": [],
      "source": [
        "def flattenR(b):\n",
        "  return b.flatten()"
      ]
    },
    {
      "cell_type": "markdown",
      "source": [
        "**tupletoArray** converts a tuple into a square array of consisting of all its elements."
      ],
      "metadata": {
        "id": "boAN5n4tPki6"
      }
    },
    {
      "cell_type": "code",
      "execution_count": 22,
      "metadata": {
        "id": "OJsEgnjBxrAg"
      },
      "outputs": [],
      "source": [
        "def tupletoArray(q):\n",
        "  size=len(q)\n",
        "  calc=int(size/(math.sqrt(size)))\n",
        "  return np.array(q).reshape(calc,calc)"
      ]
    },
    {
      "cell_type": "markdown",
      "source": [
        "**totuple** converts an iterable collection of items into a nested collection of tuples"
      ],
      "metadata": {
        "id": "yAwukQrAQS7S"
      }
    },
    {
      "cell_type": "code",
      "source": [
        "def totuple(a):\n",
        "    try:\n",
        "        return tuple(totuple(i) for i in a)\n",
        "    except TypeError:\n",
        "        return a"
      ],
      "metadata": {
        "id": "p80ZTEb46ek8"
      },
      "execution_count": 23,
      "outputs": []
    },
    {
      "cell_type": "markdown",
      "metadata": {
        "id": "Se8B_hsmyiQf"
      },
      "source": [
        "Set of matrices used for inililiazation of  **counts_list_PM** function."
      ]
    },
    {
      "cell_type": "code",
      "execution_count": 24,
      "metadata": {
        "id": "0pOL-LlTxpoT"
      },
      "outputs": [],
      "source": [
        "rightMat=[np.array([[1, 0],\n",
        "    [0, 1]]),np.array([[1, 0],\n",
        "    [1, 1]])]"
      ]
    },
    {
      "cell_type": "code",
      "execution_count": 25,
      "metadata": {
        "id": "IchN14-GjqgD"
      },
      "outputs": [],
      "source": [
        "leftMat=rightMat"
      ]
    },
    {
      "cell_type": "code",
      "execution_count": 26,
      "metadata": {
        "colab": {
          "base_uri": "https://localhost:8080/"
        },
        "id": "wg4DMuQIjr20",
        "outputId": "0794737e-f45b-47b0-bd5c-a973d4cc47f8"
      },
      "outputs": [
        {
          "output_type": "execute_result",
          "data": {
            "text/plain": [
              "[array([[1, 0],\n",
              "        [0, 1]]),\n",
              " array([[1, 0],\n",
              "        [1, 1]])]"
            ]
          },
          "metadata": {},
          "execution_count": 26
        }
      ],
      "source": [
        "rightMat"
      ]
    },
    {
      "cell_type": "code",
      "execution_count": 27,
      "metadata": {
        "colab": {
          "base_uri": "https://localhost:8080/"
        },
        "id": "JYg61cdxobTx",
        "outputId": "4d95f415-abae-4679-d6e3-a7d46de24348"
      },
      "outputs": [
        {
          "output_type": "execute_result",
          "data": {
            "text/plain": [
              "[array([[1, 0],\n",
              "        [0, 1]]),\n",
              " array([[1, 0],\n",
              "        [1, 1]])]"
            ]
          },
          "metadata": {},
          "execution_count": 27
        }
      ],
      "source": [
        "leftMat"
      ]
    },
    {
      "cell_type": "code",
      "execution_count": 28,
      "metadata": {
        "id": "6n1BaGX7XQ-8"
      },
      "outputs": [],
      "source": [
        "leftMatDisc=[leftMat[0]]"
      ]
    },
    {
      "cell_type": "code",
      "execution_count": 29,
      "metadata": {
        "colab": {
          "base_uri": "https://localhost:8080/"
        },
        "id": "Or4_D2-DXdEI",
        "outputId": "2f953f29-d83f-4182-af6b-4be1a1dc27fc"
      },
      "outputs": [
        {
          "output_type": "execute_result",
          "data": {
            "text/plain": [
              "[array([[1, 0],\n",
              "        [0, 1]])]"
            ]
          },
          "metadata": {},
          "execution_count": 29
        }
      ],
      "source": [
        "leftMatDisc"
      ]
    },
    {
      "cell_type": "code",
      "execution_count": 30,
      "metadata": {
        "id": "DM9JApVdXfGn"
      },
      "outputs": [],
      "source": [
        "leftMatConn=[leftMat[1]]"
      ]
    },
    {
      "cell_type": "code",
      "execution_count": 31,
      "metadata": {
        "colab": {
          "base_uri": "https://localhost:8080/"
        },
        "id": "dEOavA3QXmZA",
        "outputId": "76131f6c-4144-4e4f-a405-15e2ad35511f"
      },
      "outputs": [
        {
          "output_type": "execute_result",
          "data": {
            "text/plain": [
              "[array([[1, 0],\n",
              "        [1, 1]])]"
            ]
          },
          "metadata": {},
          "execution_count": 31
        }
      ],
      "source": [
        "leftMatConn"
      ]
    },
    {
      "cell_type": "markdown",
      "metadata": {
        "id": "mGrQl2ZVCpNl"
      },
      "source": [
        "**counts_list_PM** function computes the number of poset matrices or a specified class of poset matrices generated by an operad or partial composition operation."
      ]
    },
    {
      "cell_type": "code",
      "source": [
        "def counts_list_PM(listlposetmatrices=leftMat,listrposetmatrices=rightMat,first_operation=str(),second_operation=str(),third_operation=False, n=1):\n",
        "\n",
        "    counts=[]\n",
        "    num_PMtypes,num_nonPMtypes=list(),list()\n",
        "    list_PM=list()\n",
        "\n",
        "    for step in range(n):\n",
        "\n",
        "        result=list()\n",
        "        k=len(listlposetmatrices)\n",
        "\n",
        "        for item in range(len(listrposetmatrices)):\n",
        "\n",
        "            rposetmatrix=listrposetmatrices[item]\n",
        "            computed=list(map(first_operation,listlposetmatrices,[rposetmatrix]*k))\n",
        "            result.append(computed)\n",
        "\n",
        "        chainedlist=list(itertools.chain(*result))\n",
        "        flattened_PMlist=list(itertools.chain(*chainedlist))\n",
        "        newList=list(map(flattenR,flattened_PMlist))\n",
        "        tuple_list=totuple(newList)\n",
        "        uniquetuples=set(tuple_list)\n",
        "        listlposetmatrices=list(map(tupletoArray, uniquetuples))\n",
        "\n",
        "        if second_operation!=str():\n",
        "\n",
        "            tupleTypes=tuple(map(second_operation,listlposetmatrices))\n",
        "            x=tupleTypes.count(True)\n",
        "            y=tupleTypes.count(False)\n",
        "            num_PMtypes.append(x)\n",
        "            num_nonPMtypes.append(y)\n",
        "\n",
        "        if third_operation==True:\n",
        "\n",
        "            if second_operation!=str():\n",
        "\n",
        "               list_PM.append(tuple(zip(listlposetmatrices,tupleTypes)))\n",
        "\n",
        "            else:\n",
        "\n",
        "               list_PM.append(listlposetmatrices)\n",
        "\n",
        "        else:\n",
        "\n",
        "            list_PM\n",
        "\n",
        "        counts.append(len(uniquetuples))\n",
        "\n",
        "    return (counts,list_PM,num_PMtypes, num_nonPMtypes)"
      ],
      "metadata": {
        "id": "P_OrIizjw457"
      },
      "execution_count": 32,
      "outputs": []
    },
    {
      "cell_type": "markdown",
      "metadata": {
        "id": "DYCF3H85DO5c"
      },
      "source": [
        "**generatePM** function generates poset matrices using the  first operad operation"
      ]
    },
    {
      "cell_type": "code",
      "execution_count": 33,
      "metadata": {
        "id": "BdRMgxrEzbvT"
      },
      "outputs": [],
      "source": [
        "def generatePM(lposetmatrix,rposetmatrix):\n",
        "\n",
        "   dimE=rposetmatrix.shape[0]\n",
        "   dimF=lposetmatrix.shape[0]\n",
        "   outputlist=[]\n",
        "\n",
        "   for i in range(1,(dimF+1)):\n",
        "\n",
        "      A11=lposetmatrix[0:i-1,0:i-1]\n",
        "      A21=lposetmatrix[i:dimF,i:dimF]\n",
        "      A22=lposetmatrix[i:dimF,0:i-1]\n",
        "      y1=np.zeros( (i-1, dimF+dimE-i),dtype='int64' )\n",
        "      y2= np.zeros((dimE, dimF-i),dtype='int64' )\n",
        "      rowAi=lposetmatrix[i-1]\n",
        "      rowAi=rowAi[0:i-1]\n",
        "      colAi=lposetmatrix[i:dimF,i-1]\n",
        "      vecones=np.ones((dimE),dtype='int64' )\n",
        "      Ui=np.tensordot(vecones, rowAi, 0)\n",
        "      Vi=np.tensordot(vecones, colAi, 0)\n",
        "      Vi=np.transpose(Vi)\n",
        "      block1=np.concatenate((A11, y1), axis=1,dtype='int64')\n",
        "      block2=np.concatenate((Ui,rposetmatrix,y2), axis=1,dtype='int64')\n",
        "      block3=np.concatenate((A22,Vi,A21), axis=1,dtype='int64')\n",
        "      output=np.concatenate((block1,block2,block3), axis=0,dtype='int64')\n",
        "      outputlist.append(output)\n",
        "\n",
        "\n",
        "   return outputlist"
      ]
    },
    {
      "cell_type": "markdown",
      "metadata": {
        "id": "VOvf3md_DvWu"
      },
      "source": [
        "**generatePMMin** function generates the poset matrices using the second operad operation"
      ]
    },
    {
      "cell_type": "code",
      "execution_count": 34,
      "metadata": {
        "id": "ie7vB2o41XyK"
      },
      "outputs": [],
      "source": [
        "def generatePMMin(lposetmatrix,rposetmatrix):\n",
        "\n",
        "   #rposetmatrix=matrix2\n",
        "   dimE=rposetmatrix.shape[0]\n",
        "   dimF=lposetmatrix.shape[0]\n",
        "   outputlist=[]\n",
        "\n",
        "   for i in range(1,(dimF+1)):\n",
        "\n",
        "      A11=lposetmatrix[0:i-1,0:i-1]\n",
        "      A21=lposetmatrix[i:dimF,i:dimF]\n",
        "      A22=lposetmatrix[i:dimF,0:i-1]\n",
        "      y1=np.zeros( (i-1, dimF+dimE-i),dtype='int64' )\n",
        "      y2= np.zeros((dimE, dimF-i),dtype='int64' )\n",
        "      rowAi=lposetmatrix[i-1]\n",
        "      rowAi=rowAi[0:i-1]\n",
        "      vecones=np.ones((dimE),dtype='int64' )\n",
        "      Ui=np.tensordot(vecones, rowAi, 0)\n",
        "\n",
        "      v=createV(lposetmatrix,rposetmatrix,i)\n",
        "      block1=np.concatenate((A11, y1), axis=1,dtype='int64')\n",
        "      block2=np.concatenate((Ui,rposetmatrix,y2), axis=1,dtype='int64')\n",
        "      block3=np.concatenate((A22,v,A21), axis=1,dtype='int64')\n",
        "      output=np.concatenate((block1,block2,block3), axis=0,dtype='int64')\n",
        "      outputlist.append(output)\n",
        "\n",
        "   return outputlist"
      ]
    },
    {
      "cell_type": "markdown",
      "metadata": {
        "id": "NMkpvLmyD4Sh"
      },
      "source": [
        "**generatePMMax** function generates the poset matrices using the third operad operation"
      ]
    },
    {
      "cell_type": "code",
      "execution_count": 35,
      "metadata": {
        "id": "wmhu5Ulw1eLU"
      },
      "outputs": [],
      "source": [
        "def generatePMMax(lposetmatrix,rposetmatrix):\n",
        "\n",
        "   dimE=rposetmatrix.shape[0]\n",
        "   dimF=lposetmatrix.shape[0]\n",
        "   outputlist=[]\n",
        "\n",
        "   for i in range(1,(dimF+1)):\n",
        "\n",
        "      A11=lposetmatrix[0:i-1,0:i-1]\n",
        "      A21=lposetmatrix[i:dimF,i:dimF]\n",
        "      A22=lposetmatrix[i:dimF,0:i-1]\n",
        "      y1=np.zeros( (i-1, dimF+dimE-i),dtype='int64' )\n",
        "      y2= np.zeros((dimE, dimF-i),dtype='int64' )\n",
        "      U=createU(lposetmatrix,rposetmatrix,i)\n",
        "      vecones=np.ones((dimE),dtype='int64' )\n",
        "      colAi=lposetmatrix[i:dimF,i-1]\n",
        "      Vi=np.tensordot(vecones, colAi, 0)\n",
        "      Vi=np.transpose(Vi)\n",
        "      block1=np.concatenate((A11, y1), axis=1,dtype='int64')\n",
        "      block2=np.concatenate((U,rposetmatrix,y2), axis=1,dtype='int64')\n",
        "      block3=np.concatenate((A22,Vi,A21), axis=1,dtype='int64')\n",
        "      output=np.concatenate((block1,block2,block3), axis=0,dtype='int64')\n",
        "      outputlist.append(output)\n",
        "\n",
        "   return outputlist"
      ]
    },
    {
      "cell_type": "markdown",
      "metadata": {
        "id": "hNJ_wUzWEZbB"
      },
      "source": [
        "**generatePMMinMax** function generates the poset matrices using the partial composition operation defined in terms of the minimal and maximal elements."
      ]
    },
    {
      "cell_type": "code",
      "execution_count": 36,
      "metadata": {
        "id": "vQ0pT-lc1pvG"
      },
      "outputs": [],
      "source": [
        "def generatePMMinMax(lposetmatrix,rposetmatrix):\n",
        "\n",
        "   dimE=rposetmatrix.shape[0]\n",
        "   dimF=lposetmatrix.shape[0]\n",
        "   outputlist=[]\n",
        "\n",
        "\n",
        "   for i in range(1,(dimF+1)):\n",
        "\n",
        "      A11=lposetmatrix[0:i-1,0:i-1]\n",
        "      A21=lposetmatrix[i:dimF,i:dimF]\n",
        "      A22=lposetmatrix[i:dimF,0:i-1]\n",
        "      y1=np.zeros( (i-1, dimF+dimE-i),dtype='int64' )\n",
        "      y2= np.zeros((dimE, dimF-i),dtype='int64' )\n",
        "      U=createU(lposetmatrix,rposetmatrix,i)\n",
        "      v=createV(lposetmatrix,rposetmatrix,i)\n",
        "      block1=np.concatenate((A11, y1), axis=1,dtype='int64')\n",
        "      block2=np.concatenate((U,rposetmatrix,y2), axis=1,dtype='int64')\n",
        "      block3=np.concatenate((A22,v,A21), axis=1,dtype='int64')\n",
        "      output=np.concatenate((block1,block2,block3), axis=0,dtype='int64')\n",
        "      outputlist.append(output)\n",
        "\n",
        "   return outputlist"
      ]
    },
    {
      "cell_type": "markdown",
      "metadata": {
        "id": "IYt2xhuQX958"
      },
      "source": [
        "**Counts both Disconnected and Connected Poset Matrices of size 3x3 to 10x10\n",
        "generated by generatePM**"
      ]
    },
    {
      "cell_type": "code",
      "execution_count": 37,
      "metadata": {
        "colab": {
          "base_uri": "https://localhost:8080/"
        },
        "id": "cVTKKWA93Vcy",
        "outputId": "45ee71f7-a974-4eeb-ccb4-c639a905a80b"
      },
      "outputs": [
        {
          "output_type": "execute_result",
          "data": {
            "text/plain": [
              "([6, 22, 90, 394, 1806, 8558, 41586, 206098], [], [], [])"
            ]
          },
          "metadata": {},
          "execution_count": 37
        }
      ],
      "source": [
        "counts_list_PM(listlposetmatrices=leftMat,listrposetmatrices=rightMat,first_operation=generatePM,second_operation=str(),third_operation=False,n=8)\n"
      ]
    },
    {
      "cell_type": "markdown",
      "source": [
        "**Counts and displays both Disconnected and Connected Poset Matrices of size 3x3 to 5x5\n",
        "generated by generatePM**"
      ],
      "metadata": {
        "id": "Ln-wtj-9xtsL"
      }
    },
    {
      "cell_type": "code",
      "source": [
        "counts_list_PM(listlposetmatrices=leftMat,listrposetmatrices=rightMat,first_operation=generatePM,second_operation=str(),third_operation=True,n=3)"
      ],
      "metadata": {
        "colab": {
          "base_uri": "https://localhost:8080/"
        },
        "id": "bPDTrbFPyGxb",
        "outputId": "5c333eb0-6eb2-42c8-bd64-50fc03509211"
      },
      "execution_count": 39,
      "outputs": [
        {
          "output_type": "execute_result",
          "data": {
            "text/plain": [
              "([6, 22, 90],\n",
              " [[array([[1, 0, 0],\n",
              "          [0, 1, 0],\n",
              "          [1, 1, 1]]),\n",
              "   array([[1, 0, 0],\n",
              "          [1, 1, 0],\n",
              "          [1, 0, 1]]),\n",
              "   array([[1, 0, 0],\n",
              "          [1, 1, 0],\n",
              "          [0, 0, 1]]),\n",
              "   array([[1, 0, 0],\n",
              "          [0, 1, 0],\n",
              "          [0, 0, 1]]),\n",
              "   array([[1, 0, 0],\n",
              "          [0, 1, 0],\n",
              "          [0, 1, 1]]),\n",
              "   array([[1, 0, 0],\n",
              "          [1, 1, 0],\n",
              "          [1, 1, 1]])],\n",
              "  [array([[1, 0, 0, 0],\n",
              "          [0, 1, 0, 0],\n",
              "          [0, 0, 1, 0],\n",
              "          [0, 1, 1, 1]]),\n",
              "   array([[1, 0, 0, 0],\n",
              "          [1, 1, 0, 0],\n",
              "          [1, 1, 1, 0],\n",
              "          [0, 0, 0, 1]]),\n",
              "   array([[1, 0, 0, 0],\n",
              "          [1, 1, 0, 0],\n",
              "          [1, 1, 1, 0],\n",
              "          [1, 1, 1, 1]]),\n",
              "   array([[1, 0, 0, 0],\n",
              "          [0, 1, 0, 0],\n",
              "          [0, 1, 1, 0],\n",
              "          [0, 1, 1, 1]]),\n",
              "   array([[1, 0, 0, 0],\n",
              "          [0, 1, 0, 0],\n",
              "          [0, 0, 1, 0],\n",
              "          [1, 1, 1, 1]]),\n",
              "   array([[1, 0, 0, 0],\n",
              "          [0, 1, 0, 0],\n",
              "          [0, 0, 1, 0],\n",
              "          [0, 0, 0, 1]]),\n",
              "   array([[1, 0, 0, 0],\n",
              "          [1, 1, 0, 0],\n",
              "          [0, 0, 1, 0],\n",
              "          [0, 0, 1, 1]]),\n",
              "   array([[1, 0, 0, 0],\n",
              "          [1, 1, 0, 0],\n",
              "          [1, 0, 1, 0],\n",
              "          [1, 0, 1, 1]]),\n",
              "   array([[1, 0, 0, 0],\n",
              "          [0, 1, 0, 0],\n",
              "          [1, 1, 1, 0],\n",
              "          [1, 1, 1, 1]]),\n",
              "   array([[1, 0, 0, 0],\n",
              "          [1, 1, 0, 0],\n",
              "          [1, 1, 1, 0],\n",
              "          [1, 1, 0, 1]]),\n",
              "   array([[1, 0, 0, 0],\n",
              "          [1, 1, 0, 0],\n",
              "          [1, 0, 1, 0],\n",
              "          [0, 0, 0, 1]]),\n",
              "   array([[1, 0, 0, 0],\n",
              "          [1, 1, 0, 0],\n",
              "          [0, 0, 1, 0],\n",
              "          [0, 0, 0, 1]]),\n",
              "   array([[1, 0, 0, 0],\n",
              "          [0, 1, 0, 0],\n",
              "          [1, 1, 1, 0],\n",
              "          [0, 0, 0, 1]]),\n",
              "   array([[1, 0, 0, 0],\n",
              "          [0, 1, 0, 0],\n",
              "          [0, 1, 1, 0],\n",
              "          [0, 0, 0, 1]]),\n",
              "   array([[1, 0, 0, 0],\n",
              "          [0, 1, 0, 0],\n",
              "          [1, 1, 1, 0],\n",
              "          [1, 1, 0, 1]]),\n",
              "   array([[1, 0, 0, 0],\n",
              "          [0, 1, 0, 0],\n",
              "          [0, 1, 1, 0],\n",
              "          [1, 1, 1, 1]]),\n",
              "   array([[1, 0, 0, 0],\n",
              "          [0, 1, 0, 0],\n",
              "          [0, 1, 1, 0],\n",
              "          [0, 1, 0, 1]]),\n",
              "   array([[1, 0, 0, 0],\n",
              "          [0, 1, 0, 0],\n",
              "          [0, 0, 1, 0],\n",
              "          [0, 0, 1, 1]]),\n",
              "   array([[1, 0, 0, 0],\n",
              "          [1, 1, 0, 0],\n",
              "          [1, 0, 1, 0],\n",
              "          [1, 1, 1, 1]]),\n",
              "   array([[1, 0, 0, 0],\n",
              "          [1, 1, 0, 0],\n",
              "          [1, 1, 1, 0],\n",
              "          [1, 0, 0, 1]]),\n",
              "   array([[1, 0, 0, 0],\n",
              "          [1, 1, 0, 0],\n",
              "          [0, 0, 1, 0],\n",
              "          [1, 1, 1, 1]]),\n",
              "   array([[1, 0, 0, 0],\n",
              "          [1, 1, 0, 0],\n",
              "          [1, 0, 1, 0],\n",
              "          [1, 0, 0, 1]])],\n",
              "  [array([[1, 0, 0, 0, 0],\n",
              "          [0, 1, 0, 0, 0],\n",
              "          [0, 0, 1, 0, 0],\n",
              "          [0, 0, 1, 1, 0],\n",
              "          [0, 0, 0, 0, 1]]),\n",
              "   array([[1, 0, 0, 0, 0],\n",
              "          [1, 1, 0, 0, 0],\n",
              "          [1, 1, 1, 0, 0],\n",
              "          [0, 0, 0, 1, 0],\n",
              "          [1, 1, 1, 1, 1]]),\n",
              "   array([[1, 0, 0, 0, 0],\n",
              "          [1, 1, 0, 0, 0],\n",
              "          [1, 1, 1, 0, 0],\n",
              "          [1, 1, 0, 1, 0],\n",
              "          [1, 1, 0, 1, 1]]),\n",
              "   array([[1, 0, 0, 0, 0],\n",
              "          [0, 1, 0, 0, 0],\n",
              "          [1, 1, 1, 0, 0],\n",
              "          [0, 0, 0, 1, 0],\n",
              "          [1, 1, 1, 1, 1]]),\n",
              "   array([[1, 0, 0, 0, 0],\n",
              "          [1, 1, 0, 0, 0],\n",
              "          [1, 1, 1, 0, 0],\n",
              "          [1, 1, 1, 1, 0],\n",
              "          [0, 0, 0, 0, 1]]),\n",
              "   array([[1, 0, 0, 0, 0],\n",
              "          [0, 1, 0, 0, 0],\n",
              "          [0, 1, 1, 0, 0],\n",
              "          [0, 1, 1, 1, 0],\n",
              "          [1, 1, 1, 1, 1]]),\n",
              "   array([[1, 0, 0, 0, 0],\n",
              "          [1, 1, 0, 0, 0],\n",
              "          [1, 1, 1, 0, 0],\n",
              "          [1, 0, 0, 1, 0],\n",
              "          [0, 0, 0, 0, 1]]),\n",
              "   array([[1, 0, 0, 0, 0],\n",
              "          [1, 1, 0, 0, 0],\n",
              "          [1, 1, 1, 0, 0],\n",
              "          [0, 0, 0, 1, 0],\n",
              "          [0, 0, 0, 1, 1]]),\n",
              "   array([[1, 0, 0, 0, 0],\n",
              "          [0, 1, 0, 0, 0],\n",
              "          [1, 1, 1, 0, 0],\n",
              "          [1, 1, 1, 1, 0],\n",
              "          [1, 1, 1, 1, 1]]),\n",
              "   array([[1, 0, 0, 0, 0],\n",
              "          [1, 1, 0, 0, 0],\n",
              "          [1, 0, 1, 0, 0],\n",
              "          [0, 0, 0, 1, 0],\n",
              "          [0, 0, 0, 1, 1]]),\n",
              "   array([[1, 0, 0, 0, 0],\n",
              "          [1, 1, 0, 0, 0],\n",
              "          [1, 1, 1, 0, 0],\n",
              "          [1, 0, 0, 1, 0],\n",
              "          [1, 0, 0, 1, 1]]),\n",
              "   array([[1, 0, 0, 0, 0],\n",
              "          [1, 1, 0, 0, 0],\n",
              "          [1, 1, 1, 0, 0],\n",
              "          [1, 1, 0, 1, 0],\n",
              "          [1, 1, 1, 1, 1]]),\n",
              "   array([[1, 0, 0, 0, 0],\n",
              "          [0, 1, 0, 0, 0],\n",
              "          [1, 1, 1, 0, 0],\n",
              "          [1, 1, 0, 1, 0],\n",
              "          [1, 1, 0, 0, 1]]),\n",
              "   array([[1, 0, 0, 0, 0],\n",
              "          [0, 1, 0, 0, 0],\n",
              "          [0, 0, 1, 0, 0],\n",
              "          [0, 0, 0, 1, 0],\n",
              "          [0, 0, 0, 0, 1]]),\n",
              "   array([[1, 0, 0, 0, 0],\n",
              "          [1, 1, 0, 0, 0],\n",
              "          [1, 1, 1, 0, 0],\n",
              "          [1, 1, 1, 1, 0],\n",
              "          [1, 0, 0, 0, 1]]),\n",
              "   array([[1, 0, 0, 0, 0],\n",
              "          [0, 1, 0, 0, 0],\n",
              "          [0, 0, 1, 0, 0],\n",
              "          [1, 1, 1, 1, 0],\n",
              "          [1, 1, 1, 0, 1]]),\n",
              "   array([[1, 0, 0, 0, 0],\n",
              "          [1, 1, 0, 0, 0],\n",
              "          [0, 0, 1, 0, 0],\n",
              "          [0, 0, 0, 1, 0],\n",
              "          [1, 1, 1, 1, 1]]),\n",
              "   array([[1, 0, 0, 0, 0],\n",
              "          [1, 1, 0, 0, 0],\n",
              "          [1, 1, 1, 0, 0],\n",
              "          [1, 1, 0, 1, 0],\n",
              "          [1, 0, 0, 0, 1]]),\n",
              "   array([[1, 0, 0, 0, 0],\n",
              "          [0, 1, 0, 0, 0],\n",
              "          [0, 0, 1, 0, 0],\n",
              "          [0, 0, 1, 1, 0],\n",
              "          [1, 1, 1, 1, 1]]),\n",
              "   array([[1, 0, 0, 0, 0],\n",
              "          [1, 1, 0, 0, 0],\n",
              "          [1, 0, 1, 0, 0],\n",
              "          [1, 0, 0, 1, 0],\n",
              "          [0, 0, 0, 0, 1]]),\n",
              "   array([[1, 0, 0, 0, 0],\n",
              "          [0, 1, 0, 0, 0],\n",
              "          [0, 1, 1, 0, 0],\n",
              "          [0, 1, 1, 1, 0],\n",
              "          [0, 1, 1, 1, 1]]),\n",
              "   array([[1, 0, 0, 0, 0],\n",
              "          [0, 1, 0, 0, 0],\n",
              "          [1, 1, 1, 0, 0],\n",
              "          [0, 0, 0, 1, 0],\n",
              "          [0, 0, 0, 1, 1]]),\n",
              "   array([[1, 0, 0, 0, 0],\n",
              "          [1, 1, 0, 0, 0],\n",
              "          [0, 0, 1, 0, 0],\n",
              "          [1, 1, 1, 1, 0],\n",
              "          [1, 1, 1, 0, 1]]),\n",
              "   array([[1, 0, 0, 0, 0],\n",
              "          [0, 1, 0, 0, 0],\n",
              "          [0, 1, 1, 0, 0],\n",
              "          [1, 1, 1, 1, 0],\n",
              "          [0, 0, 0, 0, 1]]),\n",
              "   array([[1, 0, 0, 0, 0],\n",
              "          [1, 1, 0, 0, 0],\n",
              "          [1, 1, 1, 0, 0],\n",
              "          [1, 1, 1, 1, 0],\n",
              "          [1, 1, 1, 0, 1]]),\n",
              "   array([[1, 0, 0, 0, 0],\n",
              "          [1, 1, 0, 0, 0],\n",
              "          [0, 0, 1, 0, 0],\n",
              "          [0, 0, 0, 1, 0],\n",
              "          [0, 0, 0, 1, 1]]),\n",
              "   array([[1, 0, 0, 0, 0],\n",
              "          [1, 1, 0, 0, 0],\n",
              "          [0, 0, 1, 0, 0],\n",
              "          [0, 0, 1, 1, 0],\n",
              "          [1, 1, 1, 1, 1]]),\n",
              "   array([[1, 0, 0, 0, 0],\n",
              "          [1, 1, 0, 0, 0],\n",
              "          [1, 0, 1, 0, 0],\n",
              "          [1, 0, 1, 1, 0],\n",
              "          [1, 0, 1, 1, 1]]),\n",
              "   array([[1, 0, 0, 0, 0],\n",
              "          [0, 1, 0, 0, 0],\n",
              "          [1, 1, 1, 0, 0],\n",
              "          [1, 1, 0, 1, 0],\n",
              "          [0, 0, 0, 0, 1]]),\n",
              "   array([[1, 0, 0, 0, 0],\n",
              "          [0, 1, 0, 0, 0],\n",
              "          [0, 1, 1, 0, 0],\n",
              "          [0, 1, 0, 1, 0],\n",
              "          [1, 1, 1, 1, 1]]),\n",
              "   array([[1, 0, 0, 0, 0],\n",
              "          [0, 1, 0, 0, 0],\n",
              "          [0, 1, 1, 0, 0],\n",
              "          [0, 0, 0, 1, 0],\n",
              "          [0, 0, 0, 0, 1]]),\n",
              "   array([[1, 0, 0, 0, 0],\n",
              "          [1, 1, 0, 0, 0],\n",
              "          [1, 0, 1, 0, 0],\n",
              "          [1, 0, 1, 1, 0],\n",
              "          [1, 1, 1, 1, 1]]),\n",
              "   array([[1, 0, 0, 0, 0],\n",
              "          [0, 1, 0, 0, 0],\n",
              "          [0, 0, 1, 0, 0],\n",
              "          [0, 1, 1, 1, 0],\n",
              "          [1, 1, 1, 1, 1]]),\n",
              "   array([[1, 0, 0, 0, 0],\n",
              "          [1, 1, 0, 0, 0],\n",
              "          [1, 0, 1, 0, 0],\n",
              "          [1, 0, 0, 1, 0],\n",
              "          [1, 1, 1, 1, 1]]),\n",
              "   array([[1, 0, 0, 0, 0],\n",
              "          [1, 1, 0, 0, 0],\n",
              "          [1, 0, 1, 0, 0],\n",
              "          [1, 1, 1, 1, 0],\n",
              "          [1, 0, 0, 0, 1]]),\n",
              "   array([[1, 0, 0, 0, 0],\n",
              "          [0, 1, 0, 0, 0],\n",
              "          [0, 0, 1, 0, 0],\n",
              "          [0, 0, 0, 1, 0],\n",
              "          [0, 1, 1, 1, 1]]),\n",
              "   array([[1, 0, 0, 0, 0],\n",
              "          [0, 1, 0, 0, 0],\n",
              "          [0, 1, 1, 0, 0],\n",
              "          [0, 1, 1, 1, 0],\n",
              "          [0, 0, 0, 0, 1]]),\n",
              "   array([[1, 0, 0, 0, 0],\n",
              "          [1, 1, 0, 0, 0],\n",
              "          [1, 1, 1, 0, 0],\n",
              "          [1, 1, 0, 1, 0],\n",
              "          [1, 1, 0, 0, 1]]),\n",
              "   array([[1, 0, 0, 0, 0],\n",
              "          [0, 1, 0, 0, 0],\n",
              "          [0, 0, 1, 0, 0],\n",
              "          [0, 1, 1, 1, 0],\n",
              "          [0, 1, 1, 0, 1]]),\n",
              "   array([[1, 0, 0, 0, 0],\n",
              "          [0, 1, 0, 0, 0],\n",
              "          [1, 1, 1, 0, 0],\n",
              "          [1, 1, 0, 1, 0],\n",
              "          [1, 1, 1, 1, 1]]),\n",
              "   array([[1, 0, 0, 0, 0],\n",
              "          [0, 1, 0, 0, 0],\n",
              "          [0, 0, 1, 0, 0],\n",
              "          [0, 0, 0, 1, 0],\n",
              "          [1, 1, 1, 1, 1]]),\n",
              "   array([[1, 0, 0, 0, 0],\n",
              "          [1, 1, 0, 0, 0],\n",
              "          [1, 1, 1, 0, 0],\n",
              "          [0, 0, 0, 1, 0],\n",
              "          [0, 0, 0, 0, 1]]),\n",
              "   array([[1, 0, 0, 0, 0],\n",
              "          [0, 1, 0, 0, 0],\n",
              "          [0, 1, 1, 0, 0],\n",
              "          [1, 1, 1, 1, 0],\n",
              "          [1, 1, 1, 0, 1]]),\n",
              "   array([[1, 0, 0, 0, 0],\n",
              "          [0, 1, 0, 0, 0],\n",
              "          [0, 0, 1, 0, 0],\n",
              "          [0, 0, 1, 1, 0],\n",
              "          [0, 1, 1, 1, 1]]),\n",
              "   array([[1, 0, 0, 0, 0],\n",
              "          [1, 1, 0, 0, 0],\n",
              "          [1, 0, 1, 0, 0],\n",
              "          [0, 0, 0, 1, 0],\n",
              "          [0, 0, 0, 0, 1]]),\n",
              "   array([[1, 0, 0, 0, 0],\n",
              "          [0, 1, 0, 0, 0],\n",
              "          [0, 0, 1, 0, 0],\n",
              "          [1, 1, 1, 1, 0],\n",
              "          [0, 0, 0, 0, 1]]),\n",
              "   array([[1, 0, 0, 0, 0],\n",
              "          [0, 1, 0, 0, 0],\n",
              "          [1, 1, 1, 0, 0],\n",
              "          [1, 1, 1, 1, 0],\n",
              "          [1, 1, 0, 0, 1]]),\n",
              "   array([[1, 0, 0, 0, 0],\n",
              "          [1, 1, 0, 0, 0],\n",
              "          [1, 1, 1, 0, 0],\n",
              "          [1, 0, 0, 1, 0],\n",
              "          [1, 1, 1, 1, 1]]),\n",
              "   array([[1, 0, 0, 0, 0],\n",
              "          [1, 1, 0, 0, 0],\n",
              "          [0, 0, 1, 0, 0],\n",
              "          [0, 0, 1, 1, 0],\n",
              "          [0, 0, 1, 0, 1]]),\n",
              "   array([[1, 0, 0, 0, 0],\n",
              "          [1, 1, 0, 0, 0],\n",
              "          [1, 0, 1, 0, 0],\n",
              "          [1, 1, 1, 1, 0],\n",
              "          [0, 0, 0, 0, 1]]),\n",
              "   array([[1, 0, 0, 0, 0],\n",
              "          [0, 1, 0, 0, 0],\n",
              "          [1, 1, 1, 0, 0],\n",
              "          [1, 1, 0, 1, 0],\n",
              "          [1, 1, 0, 1, 1]]),\n",
              "   array([[1, 0, 0, 0, 0],\n",
              "          [0, 1, 0, 0, 0],\n",
              "          [0, 1, 1, 0, 0],\n",
              "          [0, 1, 0, 1, 0],\n",
              "          [0, 1, 0, 1, 1]]),\n",
              "   array([[1, 0, 0, 0, 0],\n",
              "          [0, 1, 0, 0, 0],\n",
              "          [0, 0, 1, 0, 0],\n",
              "          [0, 0, 1, 1, 0],\n",
              "          [0, 0, 1, 1, 1]]),\n",
              "   array([[1, 0, 0, 0, 0],\n",
              "          [1, 1, 0, 0, 0],\n",
              "          [1, 0, 1, 0, 0],\n",
              "          [1, 1, 1, 1, 0],\n",
              "          [1, 1, 1, 1, 1]]),\n",
              "   array([[1, 0, 0, 0, 0],\n",
              "          [1, 1, 0, 0, 0],\n",
              "          [1, 0, 1, 0, 0],\n",
              "          [0, 0, 0, 1, 0],\n",
              "          [1, 1, 1, 1, 1]]),\n",
              "   array([[1, 0, 0, 0, 0],\n",
              "          [1, 1, 0, 0, 0],\n",
              "          [1, 1, 1, 0, 0],\n",
              "          [1, 1, 1, 1, 0],\n",
              "          [1, 1, 1, 1, 1]]),\n",
              "   array([[1, 0, 0, 0, 0],\n",
              "          [0, 1, 0, 0, 0],\n",
              "          [0, 0, 1, 0, 0],\n",
              "          [0, 0, 0, 1, 0],\n",
              "          [0, 0, 1, 1, 1]]),\n",
              "   array([[1, 0, 0, 0, 0],\n",
              "          [1, 1, 0, 0, 0],\n",
              "          [1, 0, 1, 0, 0],\n",
              "          [1, 0, 0, 1, 0],\n",
              "          [1, 0, 0, 1, 1]]),\n",
              "   array([[1, 0, 0, 0, 0],\n",
              "          [1, 1, 0, 0, 0],\n",
              "          [0, 0, 1, 0, 0],\n",
              "          [0, 0, 0, 1, 0],\n",
              "          [0, 0, 0, 0, 1]]),\n",
              "   array([[1, 0, 0, 0, 0],\n",
              "          [1, 1, 0, 0, 0],\n",
              "          [1, 0, 1, 0, 0],\n",
              "          [1, 0, 1, 1, 0],\n",
              "          [1, 0, 1, 0, 1]]),\n",
              "   array([[1, 0, 0, 0, 0],\n",
              "          [0, 1, 0, 0, 0],\n",
              "          [1, 1, 1, 0, 0],\n",
              "          [1, 1, 1, 1, 0],\n",
              "          [1, 1, 1, 0, 1]]),\n",
              "   array([[1, 0, 0, 0, 0],\n",
              "          [1, 1, 0, 0, 0],\n",
              "          [1, 1, 1, 0, 0],\n",
              "          [1, 0, 0, 1, 0],\n",
              "          [1, 0, 0, 0, 1]]),\n",
              "   array([[1, 0, 0, 0, 0],\n",
              "          [0, 1, 0, 0, 0],\n",
              "          [1, 1, 1, 0, 0],\n",
              "          [1, 1, 1, 1, 0],\n",
              "          [0, 0, 0, 0, 1]]),\n",
              "   array([[1, 0, 0, 0, 0],\n",
              "          [0, 1, 0, 0, 0],\n",
              "          [0, 1, 1, 0, 0],\n",
              "          [0, 1, 1, 1, 0],\n",
              "          [0, 1, 0, 0, 1]]),\n",
              "   array([[1, 0, 0, 0, 0],\n",
              "          [1, 1, 0, 0, 0],\n",
              "          [0, 0, 1, 0, 0],\n",
              "          [1, 1, 1, 1, 0],\n",
              "          [0, 0, 0, 0, 1]]),\n",
              "   array([[1, 0, 0, 0, 0],\n",
              "          [1, 1, 0, 0, 0],\n",
              "          [0, 0, 1, 0, 0],\n",
              "          [0, 0, 1, 1, 0],\n",
              "          [0, 0, 0, 0, 1]]),\n",
              "   array([[1, 0, 0, 0, 0],\n",
              "          [0, 1, 0, 0, 0],\n",
              "          [0, 0, 1, 0, 0],\n",
              "          [0, 0, 0, 1, 0],\n",
              "          [0, 0, 0, 1, 1]]),\n",
              "   array([[1, 0, 0, 0, 0],\n",
              "          [1, 1, 0, 0, 0],\n",
              "          [0, 0, 1, 0, 0],\n",
              "          [0, 0, 0, 1, 0],\n",
              "          [0, 0, 1, 1, 1]]),\n",
              "   array([[1, 0, 0, 0, 0],\n",
              "          [1, 1, 0, 0, 0],\n",
              "          [1, 0, 1, 0, 0],\n",
              "          [1, 0, 1, 1, 0],\n",
              "          [1, 0, 0, 0, 1]]),\n",
              "   array([[1, 0, 0, 0, 0],\n",
              "          [1, 1, 0, 0, 0],\n",
              "          [1, 0, 1, 0, 0],\n",
              "          [1, 0, 0, 1, 0],\n",
              "          [1, 0, 0, 0, 1]]),\n",
              "   array([[1, 0, 0, 0, 0],\n",
              "          [0, 1, 0, 0, 0],\n",
              "          [0, 1, 1, 0, 0],\n",
              "          [0, 1, 1, 1, 0],\n",
              "          [0, 1, 1, 0, 1]]),\n",
              "   array([[1, 0, 0, 0, 0],\n",
              "          [1, 1, 0, 0, 0],\n",
              "          [1, 1, 1, 0, 0],\n",
              "          [1, 1, 0, 1, 0],\n",
              "          [0, 0, 0, 0, 1]]),\n",
              "   array([[1, 0, 0, 0, 0],\n",
              "          [0, 1, 0, 0, 0],\n",
              "          [0, 0, 1, 0, 0],\n",
              "          [1, 1, 1, 1, 0],\n",
              "          [1, 1, 1, 1, 1]]),\n",
              "   array([[1, 0, 0, 0, 0],\n",
              "          [0, 1, 0, 0, 0],\n",
              "          [0, 1, 1, 0, 0],\n",
              "          [0, 1, 0, 1, 0],\n",
              "          [0, 0, 0, 0, 1]]),\n",
              "   array([[1, 0, 0, 0, 0],\n",
              "          [0, 1, 0, 0, 0],\n",
              "          [0, 0, 1, 0, 0],\n",
              "          [0, 1, 1, 1, 0],\n",
              "          [0, 1, 1, 1, 1]]),\n",
              "   array([[1, 0, 0, 0, 0],\n",
              "          [0, 1, 0, 0, 0],\n",
              "          [1, 1, 1, 0, 0],\n",
              "          [0, 0, 0, 1, 0],\n",
              "          [0, 0, 0, 0, 1]]),\n",
              "   array([[1, 0, 0, 0, 0],\n",
              "          [0, 1, 0, 0, 0],\n",
              "          [0, 1, 1, 0, 0],\n",
              "          [0, 0, 0, 1, 0],\n",
              "          [0, 1, 1, 1, 1]]),\n",
              "   array([[1, 0, 0, 0, 0],\n",
              "          [0, 1, 0, 0, 0],\n",
              "          [0, 0, 1, 0, 0],\n",
              "          [0, 1, 1, 1, 0],\n",
              "          [0, 0, 0, 0, 1]]),\n",
              "   array([[1, 0, 0, 0, 0],\n",
              "          [1, 1, 0, 0, 0],\n",
              "          [1, 1, 1, 0, 0],\n",
              "          [1, 1, 1, 1, 0],\n",
              "          [1, 1, 0, 0, 1]]),\n",
              "   array([[1, 0, 0, 0, 0],\n",
              "          [0, 1, 0, 0, 0],\n",
              "          [0, 1, 1, 0, 0],\n",
              "          [1, 1, 1, 1, 0],\n",
              "          [1, 1, 1, 1, 1]]),\n",
              "   array([[1, 0, 0, 0, 0],\n",
              "          [1, 1, 0, 0, 0],\n",
              "          [0, 0, 1, 0, 0],\n",
              "          [1, 1, 1, 1, 0],\n",
              "          [1, 1, 1, 1, 1]]),\n",
              "   array([[1, 0, 0, 0, 0],\n",
              "          [0, 1, 0, 0, 0],\n",
              "          [0, 0, 1, 0, 0],\n",
              "          [0, 0, 1, 1, 0],\n",
              "          [0, 0, 1, 0, 1]]),\n",
              "   array([[1, 0, 0, 0, 0],\n",
              "          [1, 1, 0, 0, 0],\n",
              "          [1, 0, 1, 0, 0],\n",
              "          [1, 0, 0, 1, 0],\n",
              "          [1, 0, 1, 1, 1]]),\n",
              "   array([[1, 0, 0, 0, 0],\n",
              "          [0, 1, 0, 0, 0],\n",
              "          [0, 1, 1, 0, 0],\n",
              "          [0, 1, 0, 1, 0],\n",
              "          [0, 1, 0, 0, 1]]),\n",
              "   array([[1, 0, 0, 0, 0],\n",
              "          [0, 1, 0, 0, 0],\n",
              "          [0, 1, 1, 0, 0],\n",
              "          [0, 0, 0, 1, 0],\n",
              "          [1, 1, 1, 1, 1]]),\n",
              "   array([[1, 0, 0, 0, 0],\n",
              "          [0, 1, 0, 0, 0],\n",
              "          [0, 1, 1, 0, 0],\n",
              "          [0, 1, 0, 1, 0],\n",
              "          [0, 1, 1, 1, 1]]),\n",
              "   array([[1, 0, 0, 0, 0],\n",
              "          [1, 1, 0, 0, 0],\n",
              "          [1, 0, 1, 0, 0],\n",
              "          [1, 0, 1, 1, 0],\n",
              "          [0, 0, 0, 0, 1]]),\n",
              "   array([[1, 0, 0, 0, 0],\n",
              "          [1, 1, 0, 0, 0],\n",
              "          [0, 0, 1, 0, 0],\n",
              "          [0, 0, 1, 1, 0],\n",
              "          [0, 0, 1, 1, 1]]),\n",
              "   array([[1, 0, 0, 0, 0],\n",
              "          [0, 1, 0, 0, 0],\n",
              "          [0, 1, 1, 0, 0],\n",
              "          [0, 0, 0, 1, 0],\n",
              "          [0, 0, 0, 1, 1]]),\n",
              "   array([[1, 0, 0, 0, 0],\n",
              "          [1, 1, 0, 0, 0],\n",
              "          [1, 0, 1, 0, 0],\n",
              "          [1, 1, 1, 1, 0],\n",
              "          [1, 1, 1, 0, 1]])]],\n",
              " [],\n",
              " [])"
            ]
          },
          "metadata": {},
          "execution_count": 39
        }
      ]
    },
    {
      "cell_type": "markdown",
      "metadata": {
        "id": "7-mHo0uXBGKh"
      },
      "source": [
        "**Count the number of  Connected Poset Matrices of size 3x3 to 10x10 generated using generatePM**"
      ]
    },
    {
      "cell_type": "code",
      "execution_count": null,
      "metadata": {
        "colab": {
          "base_uri": "https://localhost:8080/"
        },
        "id": "vN5DQFzXAv39",
        "outputId": "31dca965-d256-4c0c-ef93-c38ce36e96ec"
      },
      "outputs": [
        {
          "output_type": "execute_result",
          "data": {
            "text/plain": [
              "([3, 11, 45, 197, 903, 4279, 20793, 103049], [], [], [])"
            ]
          },
          "metadata": {},
          "execution_count": 39
        }
      ],
      "source": [
        "counts_list_PM(listlposetmatrices=leftMatConn,listrposetmatrices=rightMat,first_operation=generatePM,second_operation=str(),third_operation=False,n=8)"
      ]
    },
    {
      "cell_type": "markdown",
      "metadata": {
        "id": "hdfLmWhYjgxK"
      },
      "source": [
        "**Count the number of Connected and Disconnected Poset Matrices of size 3x3 to 10x10 generated using generatePMMin**"
      ]
    },
    {
      "cell_type": "code",
      "execution_count": null,
      "metadata": {
        "colab": {
          "base_uri": "https://localhost:8080/"
        },
        "id": "ZuSHqdMyjgUq",
        "outputId": "11e8918e-4384-4139-c445-07f1d6a7fefa"
      },
      "outputs": [
        {
          "output_type": "execute_result",
          "data": {
            "text/plain": [
              "([6, 22, 90, 394, 1806, 8558, 41586, 206098], [], [], [])"
            ]
          },
          "metadata": {},
          "execution_count": 43
        }
      ],
      "source": [
        "counts_list_PM(listlposetmatrices=leftMat,listrposetmatrices=rightMat,first_operation=generatePMMin,second_operation=str(),third_operation=False,n=8)"
      ]
    },
    {
      "cell_type": "markdown",
      "metadata": {
        "id": "ofvW8R2miInD"
      },
      "source": [
        "**Count the number of  Connected Poset Matrices of size 3x3 to 10x10 generated using generatePMMin**"
      ]
    },
    {
      "cell_type": "code",
      "execution_count": null,
      "metadata": {
        "colab": {
          "base_uri": "https://localhost:8080/"
        },
        "id": "gVI5cypgiETX",
        "outputId": "643d1b0f-52c5-4ad9-ed29-714fee838195"
      },
      "outputs": [
        {
          "output_type": "execute_result",
          "data": {
            "text/plain": [
              "([3, 11, 45, 197, 903, 4279, 20793, 103049], [], [], [])"
            ]
          },
          "metadata": {},
          "execution_count": 44
        }
      ],
      "source": [
        "counts_list_PM(listlposetmatrices=leftMatConn,listrposetmatrices=rightMat,first_operation=generatePMMin,second_operation=str(),third_operation=False,n=8)"
      ]
    },
    {
      "cell_type": "markdown",
      "metadata": {
        "id": "tFOFWtTJkY0t"
      },
      "source": [
        "**Count the number of Connected and Disconnected Poset Matrices of size 3x3 to 10x10 generated using generatePMMax**"
      ]
    },
    {
      "cell_type": "code",
      "execution_count": null,
      "metadata": {
        "colab": {
          "base_uri": "https://localhost:8080/"
        },
        "id": "x8hq3Pi9kX0O",
        "outputId": "083e20a9-4607-452b-9369-833dd2456b59"
      },
      "outputs": [
        {
          "output_type": "execute_result",
          "data": {
            "text/plain": [
              "([6, 22, 90, 394, 1806, 8558, 41586, 206098], [], [], [])"
            ]
          },
          "metadata": {},
          "execution_count": 45
        }
      ],
      "source": [
        "counts_list_PM(listlposetmatrices=leftMat,listrposetmatrices=rightMat,first_operation=generatePMMax,second_operation=str(),third_operation=False,n=8)"
      ]
    },
    {
      "cell_type": "markdown",
      "source": [
        "**Number of Connected Poset Matrices of size 3x3 to 10x10 generated by the operad operation generatePMMax**"
      ],
      "metadata": {
        "id": "_nilB1eflbsW"
      }
    },
    {
      "cell_type": "code",
      "source": [
        "counts_list_PM(listlposetmatrices=leftMatConn,listrposetmatrices=rightMat,first_operation=generatePMMax,second_operation=str(),third_operation=False,n=8)"
      ],
      "metadata": {
        "colab": {
          "base_uri": "https://localhost:8080/"
        },
        "id": "M-fZxzjXli_h",
        "outputId": "73599ced-e6ed-449b-d241-9ec5108d4385"
      },
      "execution_count": null,
      "outputs": [
        {
          "output_type": "execute_result",
          "data": {
            "text/plain": [
              "([3, 11, 45, 197, 903, 4279, 20793, 103049], [], [], [])"
            ]
          },
          "metadata": {},
          "execution_count": 46
        }
      ]
    },
    {
      "cell_type": "markdown",
      "metadata": {
        "id": "4AZV240zCslD"
      },
      "source": [
        "**Number of connected and disconnnected poset matrices of size 3x3 to 10x10 generated by operad operation generatePMMinMax**"
      ]
    },
    {
      "cell_type": "code",
      "execution_count": null,
      "metadata": {
        "colab": {
          "base_uri": "https://localhost:8080/"
        },
        "id": "CZYHj_3g7MN4",
        "outputId": "a9e4d443-3cd6-4c43-da09-305425350752"
      },
      "outputs": [
        {
          "output_type": "execute_result",
          "data": {
            "text/plain": [
              "([5, 15, 52, 201, 841, 3726, 17213, 82047], [], [], [])"
            ]
          },
          "metadata": {},
          "execution_count": 47
        }
      ],
      "source": [
        "counts_list_PM(listlposetmatrices=leftMat,listrposetmatrices=rightMat,first_operation=generatePMMinMax,second_operation=str(),third_operation=False,n=8)\n"
      ]
    },
    {
      "cell_type": "markdown",
      "metadata": {
        "id": "pR35lB32C9YR"
      },
      "source": [
        "**Number of Connected Poset Matrices of size 3x3 to 10x10 generated by the operad operation generatePMMinMax**"
      ]
    },
    {
      "cell_type": "code",
      "execution_count": null,
      "metadata": {
        "colab": {
          "base_uri": "https://localhost:8080/"
        },
        "id": "eI2T8NmqDM4r",
        "outputId": "49cbfed4-839e-4749-ea61-355d752bb7ae"
      },
      "outputs": [
        {
          "output_type": "execute_result",
          "data": {
            "text/plain": [
              "([2, 6, 22, 90, 394, 1806, 8558, 41586], [], [], [])"
            ]
          },
          "metadata": {},
          "execution_count": 48
        }
      ],
      "source": [
        "counts_list_PM(listlposetmatrices=leftMatConn,listrposetmatrices=rightMat,first_operation=generatePMMinMax,second_operation=str(),third_operation=False,n=8)\n"
      ]
    },
    {
      "cell_type": "markdown",
      "metadata": {
        "id": "5tyhpKwuGK8n"
      },
      "source": [
        "**Number of Disconnected Poset Matrices of size 3x3 to 10x10 generated by the operad operation generatePMMinMax**"
      ]
    },
    {
      "cell_type": "code",
      "execution_count": null,
      "metadata": {
        "colab": {
          "base_uri": "https://localhost:8080/"
        },
        "id": "k5p7RW-wDbkz",
        "outputId": "868af536-90a4-4833-c4b6-3861017cfa9d"
      },
      "outputs": [
        {
          "output_type": "execute_result",
          "data": {
            "text/plain": [
              "([3, 9, 30, 111, 447, 1920, 8655, 40461], [], [], [])"
            ]
          },
          "metadata": {},
          "execution_count": 49
        }
      ],
      "source": [
        "counts_list_PM(listlposetmatrices=leftMatDisc,listrposetmatrices=rightMat,first_operation=generatePMMinMax,second_operation=str(),third_operation=False,n=8)\n"
      ]
    },
    {
      "cell_type": "markdown",
      "metadata": {
        "id": "ltOLaV6bCSP9"
      },
      "source": [
        "**dualize** function transforms a poset matrix to its dual representation"
      ]
    },
    {
      "cell_type": "code",
      "execution_count": null,
      "metadata": {
        "id": "p5Kgsn81Bys1"
      },
      "outputs": [],
      "source": [
        "def dualize(posetmatrix):\n",
        "\n",
        "  dimPoset=posetmatrix.shape[0]\n",
        "  dualmatrix = np.zeros((dimPoset,dimPoset),int)\n",
        "\n",
        "  for s in range(dimPoset):\n",
        "     for r in range(dimPoset):\n",
        "        dualmatrix[s,r]=posetmatrix[dimPoset-r-1,dimPoset-s-1]\n",
        "\n",
        "  return dualmatrix"
      ]
    },
    {
      "cell_type": "markdown",
      "metadata": {
        "id": "p62Dww7SDGuk"
      },
      "source": [
        "**typeOfduality** function determines if a poset matrix is self dualizable by returning False or non-self dualizable by returning True."
      ]
    },
    {
      "cell_type": "code",
      "execution_count": null,
      "metadata": {
        "id": "4iT7BifPClU9"
      },
      "outputs": [],
      "source": [
        "def typeOfduality(posetmatrix):\n",
        "\n",
        "    if np.allclose(dualize(posetmatrix),posetmatrix):\n",
        "        return False\n",
        "    else:\n",
        "        return True"
      ]
    },
    {
      "cell_type": "markdown",
      "metadata": {
        "id": "7z9YHgPtRCLr"
      },
      "source": [
        "**Examples using dualize and typeOfduality functions**"
      ]
    },
    {
      "cell_type": "code",
      "source": [
        "matrix1"
      ],
      "metadata": {
        "colab": {
          "base_uri": "https://localhost:8080/"
        },
        "id": "znAzhdkMnY7h",
        "outputId": "db6faaea-76b6-4c6f-bd0b-5c97475ceac9"
      },
      "execution_count": null,
      "outputs": [
        {
          "output_type": "execute_result",
          "data": {
            "text/plain": [
              "array([[1, 0, 0, 0, 0],\n",
              "       [1, 1, 0, 0, 0],\n",
              "       [1, 0, 1, 0, 0],\n",
              "       [1, 0, 0, 1, 0],\n",
              "       [1, 0, 0, 1, 1]])"
            ]
          },
          "metadata": {},
          "execution_count": 42
        }
      ]
    },
    {
      "cell_type": "code",
      "execution_count": null,
      "metadata": {
        "colab": {
          "base_uri": "https://localhost:8080/"
        },
        "id": "qAkv7VXARq-Y",
        "outputId": "60bd79e0-5148-4f6a-c563-6ed7e713d68d"
      },
      "outputs": [
        {
          "output_type": "execute_result",
          "data": {
            "text/plain": [
              "array([[1, 0, 0, 0, 0],\n",
              "       [1, 1, 0, 0, 0],\n",
              "       [0, 0, 1, 0, 0],\n",
              "       [0, 0, 0, 1, 0],\n",
              "       [1, 1, 1, 1, 1]])"
            ]
          },
          "metadata": {},
          "execution_count": 43
        }
      ],
      "source": [
        "dualize(matrix1)"
      ]
    },
    {
      "cell_type": "code",
      "source": [
        "matrix2"
      ],
      "metadata": {
        "colab": {
          "base_uri": "https://localhost:8080/"
        },
        "id": "poSbNqDqoFXl",
        "outputId": "d87c3d56-356c-486f-bd7a-117cfac537ac"
      },
      "execution_count": null,
      "outputs": [
        {
          "output_type": "execute_result",
          "data": {
            "text/plain": [
              "array([[1, 0, 0, 0],\n",
              "       [1, 1, 0, 0],\n",
              "       [1, 0, 1, 0],\n",
              "       [1, 1, 1, 1]])"
            ]
          },
          "metadata": {},
          "execution_count": 44
        }
      ]
    },
    {
      "cell_type": "code",
      "source": [
        "dualize(matrix2)"
      ],
      "metadata": {
        "colab": {
          "base_uri": "https://localhost:8080/"
        },
        "id": "gA2E3LP7omOa",
        "outputId": "0d9c81cd-2ff9-44f8-f588-b98c471e5258"
      },
      "execution_count": null,
      "outputs": [
        {
          "output_type": "execute_result",
          "data": {
            "text/plain": [
              "array([[1, 0, 0, 0],\n",
              "       [1, 1, 0, 0],\n",
              "       [1, 0, 1, 0],\n",
              "       [1, 1, 1, 1]])"
            ]
          },
          "metadata": {},
          "execution_count": 45
        }
      ]
    },
    {
      "cell_type": "code",
      "execution_count": null,
      "metadata": {
        "id": "0OdZDXh7SIaC"
      },
      "outputs": [],
      "source": [
        "matrix4=np.array([[1,0],[1,1]])"
      ]
    },
    {
      "cell_type": "code",
      "execution_count": null,
      "metadata": {
        "colab": {
          "base_uri": "https://localhost:8080/"
        },
        "id": "WFpAiVtPSk26",
        "outputId": "958ccfcb-bf78-446e-fb05-3fe034ad79c8"
      },
      "outputs": [
        {
          "output_type": "execute_result",
          "data": {
            "text/plain": [
              "False"
            ]
          },
          "metadata": {},
          "execution_count": 47
        }
      ],
      "source": [
        " typeOfduality(matrix4)"
      ]
    },
    {
      "cell_type": "code",
      "source": [
        " typeOfduality(matrix1)"
      ],
      "metadata": {
        "colab": {
          "base_uri": "https://localhost:8080/"
        },
        "id": "H2arZ0O6o0WV",
        "outputId": "2b31c4ed-6967-4e41-93cf-7487ff945d56"
      },
      "execution_count": null,
      "outputs": [
        {
          "output_type": "execute_result",
          "data": {
            "text/plain": [
              "True"
            ]
          },
          "metadata": {},
          "execution_count": 48
        }
      ]
    },
    {
      "cell_type": "markdown",
      "metadata": {
        "id": "ShImKkxsT538"
      },
      "source": [
        "**Enumeration of Connected and Disconnected poset matrices of size 3x3 and 4x4, generated using generatePM in terms of self dual and non-self dual types.**"
      ]
    },
    {
      "cell_type": "code",
      "execution_count": null,
      "metadata": {
        "colab": {
          "base_uri": "https://localhost:8080/"
        },
        "id": "X265vDl-Tom0",
        "outputId": "9a713270-289f-4fc8-f83f-4c3e5dd46c86"
      },
      "outputs": [
        {
          "output_type": "execute_result",
          "data": {
            "text/plain": [
              "([6, 22],\n",
              " [((array([[1, 0, 0],\n",
              "           [0, 1, 0],\n",
              "           [1, 1, 1]]),\n",
              "    True),\n",
              "   (array([[1, 0, 0],\n",
              "           [1, 1, 0],\n",
              "           [1, 0, 1]]),\n",
              "    True),\n",
              "   (array([[1, 0, 0],\n",
              "           [1, 1, 0],\n",
              "           [0, 0, 1]]),\n",
              "    True),\n",
              "   (array([[1, 0, 0],\n",
              "           [0, 1, 0],\n",
              "           [0, 0, 1]]),\n",
              "    False),\n",
              "   (array([[1, 0, 0],\n",
              "           [0, 1, 0],\n",
              "           [0, 1, 1]]),\n",
              "    True),\n",
              "   (array([[1, 0, 0],\n",
              "           [1, 1, 0],\n",
              "           [1, 1, 1]]),\n",
              "    False)),\n",
              "  ((array([[1, 0, 0, 0],\n",
              "           [0, 1, 0, 0],\n",
              "           [0, 0, 1, 0],\n",
              "           [0, 1, 1, 1]]),\n",
              "    True),\n",
              "   (array([[1, 0, 0, 0],\n",
              "           [1, 1, 0, 0],\n",
              "           [1, 1, 1, 0],\n",
              "           [0, 0, 0, 1]]),\n",
              "    True),\n",
              "   (array([[1, 0, 0, 0],\n",
              "           [1, 1, 0, 0],\n",
              "           [1, 1, 1, 0],\n",
              "           [1, 1, 1, 1]]),\n",
              "    False),\n",
              "   (array([[1, 0, 0, 0],\n",
              "           [0, 1, 0, 0],\n",
              "           [0, 1, 1, 0],\n",
              "           [0, 1, 1, 1]]),\n",
              "    True),\n",
              "   (array([[1, 0, 0, 0],\n",
              "           [0, 1, 0, 0],\n",
              "           [0, 0, 1, 0],\n",
              "           [1, 1, 1, 1]]),\n",
              "    True),\n",
              "   (array([[1, 0, 0, 0],\n",
              "           [0, 1, 0, 0],\n",
              "           [0, 0, 1, 0],\n",
              "           [0, 0, 0, 1]]),\n",
              "    False),\n",
              "   (array([[1, 0, 0, 0],\n",
              "           [1, 1, 0, 0],\n",
              "           [0, 0, 1, 0],\n",
              "           [0, 0, 1, 1]]),\n",
              "    False),\n",
              "   (array([[1, 0, 0, 0],\n",
              "           [1, 1, 0, 0],\n",
              "           [1, 0, 1, 0],\n",
              "           [1, 0, 1, 1]]),\n",
              "    True),\n",
              "   (array([[1, 0, 0, 0],\n",
              "           [0, 1, 0, 0],\n",
              "           [1, 1, 1, 0],\n",
              "           [1, 1, 1, 1]]),\n",
              "    True),\n",
              "   (array([[1, 0, 0, 0],\n",
              "           [1, 1, 0, 0],\n",
              "           [1, 1, 1, 0],\n",
              "           [1, 1, 0, 1]]),\n",
              "    True),\n",
              "   (array([[1, 0, 0, 0],\n",
              "           [1, 1, 0, 0],\n",
              "           [1, 0, 1, 0],\n",
              "           [0, 0, 0, 1]]),\n",
              "    True),\n",
              "   (array([[1, 0, 0, 0],\n",
              "           [1, 1, 0, 0],\n",
              "           [0, 0, 1, 0],\n",
              "           [0, 0, 0, 1]]),\n",
              "    True),\n",
              "   (array([[1, 0, 0, 0],\n",
              "           [0, 1, 0, 0],\n",
              "           [1, 1, 1, 0],\n",
              "           [0, 0, 0, 1]]),\n",
              "    True),\n",
              "   (array([[1, 0, 0, 0],\n",
              "           [0, 1, 0, 0],\n",
              "           [0, 1, 1, 0],\n",
              "           [0, 0, 0, 1]]),\n",
              "    False),\n",
              "   (array([[1, 0, 0, 0],\n",
              "           [0, 1, 0, 0],\n",
              "           [1, 1, 1, 0],\n",
              "           [1, 1, 0, 1]]),\n",
              "    False),\n",
              "   (array([[1, 0, 0, 0],\n",
              "           [0, 1, 0, 0],\n",
              "           [0, 1, 1, 0],\n",
              "           [1, 1, 1, 1]]),\n",
              "    True),\n",
              "   (array([[1, 0, 0, 0],\n",
              "           [0, 1, 0, 0],\n",
              "           [0, 1, 1, 0],\n",
              "           [0, 1, 0, 1]]),\n",
              "    True),\n",
              "   (array([[1, 0, 0, 0],\n",
              "           [0, 1, 0, 0],\n",
              "           [0, 0, 1, 0],\n",
              "           [0, 0, 1, 1]]),\n",
              "    True),\n",
              "   (array([[1, 0, 0, 0],\n",
              "           [1, 1, 0, 0],\n",
              "           [1, 0, 1, 0],\n",
              "           [1, 1, 1, 1]]),\n",
              "    False),\n",
              "   (array([[1, 0, 0, 0],\n",
              "           [1, 1, 0, 0],\n",
              "           [1, 1, 1, 0],\n",
              "           [1, 0, 0, 1]]),\n",
              "    True),\n",
              "   (array([[1, 0, 0, 0],\n",
              "           [1, 1, 0, 0],\n",
              "           [0, 0, 1, 0],\n",
              "           [1, 1, 1, 1]]),\n",
              "    True),\n",
              "   (array([[1, 0, 0, 0],\n",
              "           [1, 1, 0, 0],\n",
              "           [1, 0, 1, 0],\n",
              "           [1, 0, 0, 1]]),\n",
              "    True))],\n",
              " [4, 16],\n",
              " [2, 6])"
            ]
          },
          "metadata": {},
          "execution_count": 50
        }
      ],
      "source": [
        "counts_list_PM(listlposetmatrices=leftMat,listrposetmatrices=rightMat,first_operation=generatePM,second_operation=typeOfduality,third_operation=True,n=2)"
      ]
    },
    {
      "cell_type": "markdown",
      "source": [
        "**Enumeration of Connected and Disconnected poset matrices of size 3x3 to 10x10 generated using generatePM in terms of self dual and non-self dual types.**"
      ],
      "metadata": {
        "id": "jVJqauP1U8fo"
      }
    },
    {
      "cell_type": "code",
      "source": [
        "counts_list_PM(listlposetmatrices=leftMat,listrposetmatrices=rightMat,first_operation=generatePM,second_operation=typeOfduality,third_operation=False,n=8)"
      ],
      "metadata": {
        "colab": {
          "base_uri": "https://localhost:8080/"
        },
        "id": "069WFflTpoSX",
        "outputId": "6a875eba-299a-4c2d-fe03-0823f9c3a1c4"
      },
      "execution_count": null,
      "outputs": [
        {
          "output_type": "execute_result",
          "data": {
            "text/plain": [
              "([6, 22, 90, 394, 1806, 8558, 41586, 206098],\n",
              " [],\n",
              " [4, 16, 84, 372, 1784, 8468, 41496, 205704],\n",
              " [2, 6, 6, 22, 22, 90, 90, 394])"
            ]
          },
          "metadata": {},
          "execution_count": 51
        }
      ]
    },
    {
      "cell_type": "markdown",
      "metadata": {
        "id": "ORF9P4vz-dVK"
      },
      "source": [
        "**Enumeration of Connected poset matrices of size 3x3 to 10x10 generated using generatePM in terms of self dual and non-self dual types.**"
      ]
    },
    {
      "cell_type": "code",
      "execution_count": null,
      "metadata": {
        "colab": {
          "base_uri": "https://localhost:8080/"
        },
        "id": "75v86UVk9Qaz",
        "outputId": "f8c1bfe8-654a-4fda-8d3c-0a5f37c14017"
      },
      "outputs": [
        {
          "output_type": "execute_result",
          "data": {
            "text/plain": [
              "([3, 11, 45, 197, 903, 4279, 20793, 103049],\n",
              " [],\n",
              " [2, 8, 42, 186, 892, 4234, 20748, 102852],\n",
              " [1, 3, 3, 11, 11, 45, 45, 197])"
            ]
          },
          "metadata": {},
          "execution_count": 61
        }
      ],
      "source": [
        "counts_list_PM(listlposetmatrices=leftMatConn,listrposetmatrices=rightMat,first_operation=generatePM,second_operation=typeOfduality,third_operation=False,n=8)"
      ]
    },
    {
      "cell_type": "markdown",
      "metadata": {
        "id": "Do8X0FNH-hhi"
      },
      "source": [
        "**Enumeration of Connected and Disconnected poset matrices of size 3x3 to 10x10 generated using generatePMMin in terms of self dual and non-self dual types.**"
      ]
    },
    {
      "cell_type": "code",
      "execution_count": null,
      "metadata": {
        "colab": {
          "base_uri": "https://localhost:8080/"
        },
        "id": "lzoNtjb_-WJc",
        "outputId": "81d5deb8-ff52-4f6b-d7d7-4ed87faf623d"
      },
      "outputs": [
        {
          "output_type": "execute_result",
          "data": {
            "text/plain": [
              "([6, 22, 90, 394, 1806, 8558, 41586, 206098],\n",
              " [],\n",
              " [4, 15, 84, 372, 1788, 8493, 41533, 205909],\n",
              " [2, 7, 6, 22, 18, 65, 53, 189])"
            ]
          },
          "metadata": {},
          "execution_count": 62
        }
      ],
      "source": [
        "counts_list_PM(listlposetmatrices=leftMat,listrposetmatrices=rightMat,first_operation=generatePMMin,second_operation=typeOfduality,third_operation=False,n=8)"
      ]
    },
    {
      "cell_type": "markdown",
      "metadata": {
        "id": "92demKA-AZ7E"
      },
      "source": [
        "**Enumeration of Connected poset matrices of size 3x3 to 10x10 generated using generatePMMin in terms of self dual and non-self dual types.**"
      ]
    },
    {
      "cell_type": "code",
      "execution_count": null,
      "metadata": {
        "colab": {
          "base_uri": "https://localhost:8080/"
        },
        "id": "nzuJ8WUoAsLJ",
        "outputId": "eefaf081-aa53-4f05-f5ce-6ae19bfcc84a"
      },
      "outputs": [
        {
          "output_type": "execute_result",
          "data": {
            "text/plain": [
              "([3, 11, 45, 197, 903, 4279, 20793, 103049],\n",
              " [],\n",
              " [2, 7, 42, 187, 896, 4257, 20778, 103003],\n",
              " [1, 4, 3, 10, 7, 22, 15, 46])"
            ]
          },
          "metadata": {},
          "execution_count": 63
        }
      ],
      "source": [
        "counts_list_PM(listlposetmatrices=leftMatConn,listrposetmatrices=rightMat,first_operation=generatePMMin,second_operation=typeOfduality,third_operation=False,n=8)"
      ]
    },
    {
      "cell_type": "markdown",
      "metadata": {
        "id": "smIJtDOOBVaL"
      },
      "source": [
        "**Enumeration of Connected and Disconnected poset matrices of size 3x3 to 10x10 generated using generatePMMax in terms of self dual and non-self dual types.**"
      ]
    },
    {
      "cell_type": "code",
      "execution_count": null,
      "metadata": {
        "colab": {
          "base_uri": "https://localhost:8080/"
        },
        "id": "RXxdioSTBUyR",
        "outputId": "fc36d46a-4265-4f07-ea20-fe8ad1bd482b"
      },
      "outputs": [
        {
          "data": {
            "text/plain": [
              "([6, 22, 90, 394, 1806, 8558, 41586, 206098],\n",
              " [],\n",
              " ([4, 15, 84, 372, 1788, 8493, 41533, 205909], [2, 7, 6, 22, 18, 65, 53, 189]))"
            ]
          },
          "execution_count": 67,
          "metadata": {},
          "output_type": "execute_result"
        }
      ],
      "source": [
        "counts_list_PM(listlposetmatrices=leftMat,listrposetmatrices=rightMat,first_operation=generatePMMax,second_operation=typeOfduality,third_operation=False,n=8)"
      ]
    },
    {
      "cell_type": "markdown",
      "metadata": {
        "id": "xRbEVFdsCuux"
      },
      "source": [
        "**Enumeration of Connected poset matrices of size 3x3 to 10x10 generated using generatePMMax in terms of self dual and non-self dual types.**"
      ]
    },
    {
      "cell_type": "code",
      "execution_count": null,
      "metadata": {
        "colab": {
          "base_uri": "https://localhost:8080/"
        },
        "id": "jNXcwkBZCqSh",
        "outputId": "72432e47-6021-4310-a072-7fbe91d202fe"
      },
      "outputs": [
        {
          "data": {
            "text/plain": [
              "([3, 11, 45, 197, 903, 4279, 20793, 103049],\n",
              " [],\n",
              " ([2, 7, 42, 187, 896, 4257, 20778, 103003], [1, 4, 3, 10, 7, 22, 15, 46]))"
            ]
          },
          "execution_count": 69,
          "metadata": {},
          "output_type": "execute_result"
        }
      ],
      "source": [
        "counts_list_PM(listlposetmatrices=leftMatConn,listrposetmatrices=rightMat,first_operation=generatePMMax,second_operation=typeOfduality,third_operation=False,n=8)"
      ]
    },
    {
      "cell_type": "markdown",
      "metadata": {
        "id": "tLKDNLsFD3kQ"
      },
      "source": [
        "**Enumeration of Connected and Disconnected poset matrices of size 3x3 to 10x10 generated using generatePMMinMax in terms of self dual and non-self dual types.**"
      ]
    },
    {
      "cell_type": "code",
      "execution_count": null,
      "metadata": {
        "colab": {
          "base_uri": "https://localhost:8080/"
        },
        "id": "oohNdwO4D9xY",
        "outputId": "88decee0-bafa-4c9a-bda2-f069cc71c419"
      },
      "outputs": [
        {
          "data": {
            "text/plain": [
              "([5, 15, 52, 201, 841, 3726, 17213, 82047],\n",
              " [],\n",
              " ([4, 10, 50, 186, 836, 3674, 17198, 81846], [1, 5, 2, 15, 5, 52, 15, 201]))"
            ]
          },
          "execution_count": 70,
          "metadata": {},
          "output_type": "execute_result"
        }
      ],
      "source": [
        "counts_list_PM(listlposetmatrices=leftMat,listrposetmatrices=rightMat,first_operation=generatePMMinMax,second_operation=typeOfduality,third_operation=False,n=8)"
      ]
    },
    {
      "cell_type": "markdown",
      "metadata": {
        "id": "LCV_UHy5FeJJ"
      },
      "source": [
        "**Enumeration of Connected poset matrices of size 3x3 to 10x10 generated using generatePMMinMax in terms of self dual and non-self dual types.**"
      ]
    },
    {
      "cell_type": "code",
      "execution_count": null,
      "metadata": {
        "colab": {
          "base_uri": "https://localhost:8080/"
        },
        "id": "UEFcKPyYFh-L",
        "outputId": "95e7ff00-f0e9-40a0-d012-2fab85a6e7b7"
      },
      "outputs": [
        {
          "data": {
            "text/plain": [
              "([2, 6, 22, 90, 394, 1806, 8558, 41586],\n",
              " [],\n",
              " ([2, 4, 22, 84, 394, 1784, 8558, 41496], [0, 2, 0, 6, 0, 22, 0, 90]))"
            ]
          },
          "execution_count": 71,
          "metadata": {},
          "output_type": "execute_result"
        }
      ],
      "source": [
        "counts_list_PM(listlposetmatrices=leftMatConn,listrposetmatrices=rightMat,first_operation=generatePMMinMax,second_operation=typeOfduality,third_operation=False,n=8)"
      ]
    },
    {
      "cell_type": "markdown",
      "metadata": {
        "id": "SJiFhFOfIXBk"
      },
      "source": [
        "**Enumeration of Disonnected poset matrices of size 3x3 to 10x10 generated using generatePMMinMax in terms of self dual and non-self dual types.**"
      ]
    },
    {
      "cell_type": "code",
      "execution_count": null,
      "metadata": {
        "colab": {
          "base_uri": "https://localhost:8080/"
        },
        "id": "NIR5L57fHyQh",
        "outputId": "35d4a98b-1ff5-4cab-ca1e-b949e62f7603"
      },
      "outputs": [
        {
          "data": {
            "text/plain": [
              "([3, 9, 30, 111, 447, 1920, 8655, 40461],\n",
              " [],\n",
              " ([2, 6, 28, 102, 442, 1890, 8640, 40350], [1, 3, 2, 9, 5, 30, 15, 111]))"
            ]
          },
          "execution_count": 29,
          "metadata": {},
          "output_type": "execute_result"
        }
      ],
      "source": [
        "counts_list_PM(listlposetmatrices=leftMatDisc,listrposetmatrices=rightMat,first_operation=generatePMMinMax,second_operation=typeOfduality,third_operation=False,n=8)"
      ]
    },
    {
      "cell_type": "markdown",
      "source": [
        "**Enumeration of poset matrices here is based on the partial composition operations defined in Theorem 2.1 of the paper \"Operad Structure of Poset Matrices(https://arxiv.org/abs/2401.06814 ).\"**"
      ],
      "metadata": {
        "id": "yNan4SY69Kfg"
      }
    },
    {
      "cell_type": "code",
      "execution_count": null,
      "metadata": {
        "id": "V4qO2o6Cbq6t"
      },
      "outputs": [],
      "source": [
        "def partialComp1(lposetmatrix,rposetmatrix):\n",
        "\n",
        "   dimE=rposetmatrix.shape[0]\n",
        "   dimF=lposetmatrix.shape[0]\n",
        "   outputlist=[]\n",
        "\n",
        "   for i in range(1,(dimF+1)):\n",
        "\n",
        "      A11=lposetmatrix[0:i-1,0:i-1]\n",
        "      A21=lposetmatrix[i:dimF,i:dimF]\n",
        "      A22=lposetmatrix[i:dimF,0:i-1]\n",
        "      y1=np.zeros( (i-1, dimF+dimE-i),dtype='int64' )\n",
        "      y2= np.zeros((dimE, dimF-i),dtype='int64' )\n",
        "      Ui=np.ones((dimE,i-1),dtype='int64' )\n",
        "      Vi=np.ones((dimF-i,  dimE),dtype='int64' )\n",
        "      block1=np.concatenate((A11, y1), axis=1,dtype='int64')\n",
        "      block2=np.concatenate((Ui,rposetmatrix,y2), axis=1,dtype='int64')\n",
        "      block3=np.concatenate((A22,Vi,A21), axis=1,dtype='int64')\n",
        "      output=np.concatenate((block1,block2,block3), axis=0,dtype='int64')\n",
        "      outputlist.append(output)\n",
        "\n",
        "\n",
        "   return outputlist"
      ]
    },
    {
      "cell_type": "markdown",
      "source": [
        "**Enumeration of poset matrices of size 3x3 to 17x17 generated using partialComp1.**"
      ],
      "metadata": {
        "id": "h1aNgxKK8kTB"
      }
    },
    {
      "cell_type": "code",
      "execution_count": null,
      "metadata": {
        "colab": {
          "base_uri": "https://localhost:8080/"
        },
        "id": "UDaPesbfcO2B",
        "outputId": "4b4ae332-af45-4bc4-b553-e8f796b11d0a"
      },
      "outputs": [
        {
          "output_type": "execute_result",
          "data": {
            "text/plain": [
              "([3, 5, 8, 13, 21, 34, 55, 89, 144, 233, 377, 610, 987, 1597, 2584],\n",
              " [],\n",
              " [],\n",
              " [])"
            ]
          },
          "metadata": {},
          "execution_count": 39
        }
      ],
      "source": [
        "counts_list_PM(listlposetmatrices=leftMatConn,listrposetmatrices=rightMat,first_operation=partialComp1,second_operation=str(),third_operation=False,n=15)"
      ]
    },
    {
      "cell_type": "code",
      "execution_count": null,
      "metadata": {
        "id": "oapLJB8thQHd"
      },
      "outputs": [],
      "source": [
        "def partialComp2(lposetmatrix,rposetmatrix):\n",
        "\n",
        "    dimE=rposetmatrix.shape[0]\n",
        "    dimF=lposetmatrix.shape[0]\n",
        "    outputlist=[]\n",
        "\n",
        "    for i in range(1,(dimF+1)):\n",
        "        A11=lposetmatrix[0:i-1,0:i-1]\n",
        "        A21=lposetmatrix[i:dimF,i:dimF]\n",
        "        A22=np.ones((dimF-i,i-1),dtype='int64' )\n",
        "        y1=np.zeros( (i-1, dimF+dimE-i),dtype='int64' )\n",
        "        y2= np.zeros((dimE, dimF-i),dtype='int64' )\n",
        "        Ui=np.zeros((dimE,i-1),dtype='int64' )\n",
        "        Vi=np.zeros((dimF-i,  dimE),dtype='int64' )\n",
        "        block1=np.concatenate((A11, y1), axis=1,dtype='int64')\n",
        "        block2=np.concatenate((Ui,rposetmatrix,y2), axis=1,dtype='int64')\n",
        "        block3=np.concatenate((A22,Vi,A21), axis=1,dtype='int64')\n",
        "        output=np.concatenate((block1,block2,block3), axis=0,dtype='int64')\n",
        "        outputlist.append(output)\n",
        "\n",
        "    return outputlist"
      ]
    },
    {
      "cell_type": "code",
      "execution_count": null,
      "metadata": {
        "colab": {
          "base_uri": "https://localhost:8080/"
        },
        "id": "qJz4ZgD7hXtU",
        "outputId": "ffb6b24a-4b99-43b3-a257-d8c7040025c2"
      },
      "outputs": [
        {
          "data": {
            "text/plain": [
              "([3, 6, 16, 40, 112, 314, 900, 2634], [], ([], []))"
            ]
          },
          "execution_count": 186,
          "metadata": {},
          "output_type": "execute_result"
        }
      ],
      "source": [
        "counts_list_PM(listlposetmatrices=leftMatConn,listrposetmatrices=rightMat,first_operation=partialComp2,second_operation=str(),third_operation=False,n=8)"
      ]
    },
    {
      "cell_type": "code",
      "execution_count": null,
      "metadata": {
        "id": "28PUSbhpjWDD"
      },
      "outputs": [],
      "source": [
        "def partialComp3(lposetmatrix,rposetmatrix):\n",
        "\n",
        "    dimE=rposetmatrix.shape[0]\n",
        "    dimF=lposetmatrix.shape[0]\n",
        "    outputlist=[]\n",
        "\n",
        "    for i in range(1,(dimF+1)):\n",
        "\n",
        "        A11=lposetmatrix[0:i-1,0:i-1]\n",
        "        A21=lposetmatrix[i:dimF,i:dimF]\n",
        "        A22=np.ones((dimF-i,i-1),dtype='int64' )\n",
        "        y1=np.zeros( (i-1, dimF+dimE-i),dtype='int64' )\n",
        "        y2= np.zeros((dimE, dimF-i),dtype='int64' )\n",
        "        Ui=np.ones((dimE,i-1),dtype='int64' )\n",
        "        Vi=np.zeros((dimF-i,  dimE),dtype='int64' )\n",
        "        block1=np.concatenate((A11, y1), axis=1,dtype='int64')\n",
        "        block2=np.concatenate((Ui,rposetmatrix,y2), axis=1,dtype='int64')\n",
        "        block3=np.concatenate((A22,Vi,A21), axis=1,dtype='int64')\n",
        "        output=np.concatenate((block1,block2,block3), axis=0,dtype='int64')\n",
        "        outputlist.append(output)\n",
        "\n",
        "    return outputlist"
      ]
    },
    {
      "cell_type": "code",
      "execution_count": null,
      "metadata": {
        "colab": {
          "base_uri": "https://localhost:8080/"
        },
        "id": "ONBELO56DUsv",
        "outputId": "dc4918b6-de4d-4c70-e424-605ffb544330"
      },
      "outputs": [
        {
          "data": {
            "text/plain": [
              "([4, 10, 28, 80, 244, 774, 2524, 8414], [], ([], []))"
            ]
          },
          "execution_count": 184,
          "metadata": {},
          "output_type": "execute_result"
        }
      ],
      "source": [
        "counts_list_PM(listlposetmatrices=leftMatConn,listrposetmatrices=rightMat,first_operation=partialComp3,second_operation=str(),third_operation=False,n=8)"
      ]
    },
    {
      "cell_type": "code",
      "execution_count": null,
      "metadata": {
        "id": "75j8jzH_k8QK"
      },
      "outputs": [],
      "source": [
        "def partialComp4(lposetmatrix,rposetmatrix):\n",
        "\n",
        "    dimE=rposetmatrix.shape[0]\n",
        "    dimF=lposetmatrix.shape[0]\n",
        "    outputlist=[]\n",
        "\n",
        "\n",
        "    for i in range(1,(dimF+1)):\n",
        "\n",
        "        A11=lposetmatrix[0:i-1,0:i-1]\n",
        "        A21=lposetmatrix[i:dimF,i:dimF]\n",
        "        A22=np.ones((dimF-i,i-1),dtype='int64' )\n",
        "        y1=np.zeros( (i-1, dimF+dimE-i),dtype='int64' )\n",
        "        y2= np.zeros((dimE, dimF-i),dtype='int64' )\n",
        "        Ui=np.zeros((dimE,i-1),dtype='int64' )\n",
        "        Vi=np.ones((dimF-i,  dimE),dtype='int64' )\n",
        "        block1=np.concatenate((A11, y1), axis=1,dtype='int64')\n",
        "        block2=np.concatenate((Ui,rposetmatrix,y2), axis=1,dtype='int64')\n",
        "        block3=np.concatenate((A22,Vi,A21), axis=1,dtype='int64')\n",
        "        output=np.concatenate((block1,block2,block3), axis=0,dtype='int64')\n",
        "        outputlist.append(output)\n",
        "\n",
        "    return outputlist"
      ]
    },
    {
      "cell_type": "code",
      "execution_count": null,
      "metadata": {
        "colab": {
          "base_uri": "https://localhost:8080/"
        },
        "id": "Zz_U59QioA0Z",
        "outputId": "757b3e08-3060-49fb-b185-05203079f1b3"
      },
      "outputs": [
        {
          "data": {
            "text/plain": [
              "([4, 10, 28, 80, 244, 774, 2524, 8414], [], ([], []))"
            ]
          },
          "execution_count": 182,
          "metadata": {},
          "output_type": "execute_result"
        }
      ],
      "source": [
        "counts_list_PM(listlposetmatrices=leftMatConn,listrposetmatrices=rightMat,first_operation=partialComp4,second_operation=str(),third_operation=False,n=8)"
      ]
    },
    {
      "cell_type": "code",
      "execution_count": null,
      "metadata": {
        "id": "xs2KdSsqqA7F"
      },
      "outputs": [],
      "source": [
        "def partialComp5(lposetmatrix,rposetmatrix):\n",
        "\n",
        "    dimE=rposetmatrix.shape[0]\n",
        "    dimF=lposetmatrix.shape[0]\n",
        "    outputlist=[]\n",
        "\n",
        "    for i in range(1,(dimF+1)):\n",
        "\n",
        "        A11=lposetmatrix[0:i-1,0:i-1]\n",
        "        A21=lposetmatrix[i:dimF,i:dimF]\n",
        "        A22=np.zeros((dimF-i,i-1),dtype='int64' )\n",
        "        y1=np.zeros( (i-1, dimF+dimE-i),dtype='int64' )\n",
        "        y2= np.zeros((dimE, dimF-i),dtype='int64' )\n",
        "        Ui=np.zeros((dimE,i-1),dtype='int64' )\n",
        "        Vi=np.zeros((dimF-i,  dimE),dtype='int64' )\n",
        "\n",
        "        block1=np.concatenate((A11, y1), axis=1,dtype='int64')\n",
        "        block2=np.concatenate((Ui,rposetmatrix,y2), axis=1,dtype='int64')\n",
        "        block3=np.concatenate((A22,Vi,A21), axis=1,dtype='int64')\n",
        "        output=np.concatenate((block1,block2,block3), axis=0,dtype='int64')\n",
        "        outputlist.append(output)\n",
        "\n",
        "    return outputlist"
      ]
    },
    {
      "cell_type": "markdown",
      "source": [
        "**Enumeration of poset matrices of size 3x3 to 16x16 generated using partialComp1.**"
      ],
      "metadata": {
        "id": "0CcYoqC8-Cw6"
      }
    },
    {
      "cell_type": "code",
      "execution_count": null,
      "metadata": {
        "colab": {
          "base_uri": "https://localhost:8080/"
        },
        "id": "sb0IXs3BBTmi",
        "outputId": "4d0a250d-21f0-48f1-b46f-9dfe80adb5b9"
      },
      "outputs": [
        {
          "data": {
            "text/plain": [
              "([3, 5, 8, 13, 21, 34, 55, 89, 144, 233, 377, 610, 987, 1597], [], ([], []))"
            ]
          },
          "execution_count": 179,
          "metadata": {},
          "output_type": "execute_result"
        }
      ],
      "source": [
        "counts_list_PM(listlposetmatrices=leftMatConn,listrposetmatrices=rightMat,first_operation=partialComp5,second_operation=str(),third_operation=False,n=14)"
      ]
    },
    {
      "cell_type": "code",
      "execution_count": null,
      "metadata": {
        "id": "wghCmEHYuxl6"
      },
      "outputs": [],
      "source": [
        "def getEltPair(pair,flattenedlistOfPairs):\n",
        "\n",
        "    setp=set()\n",
        "    element1=pair[0]\n",
        "    element2=pair[1]\n",
        "\n",
        "    indiceslist=[i for i, x in enumerate(flattenedlistOfPairs) if x == element1]+[i for i, x in enumerate(flattenedlistOfPairs) if x == element2]\n",
        "\n",
        "    for ind in indiceslist:\n",
        "\n",
        "        if ind%2==0:\n",
        "            setp.add(flattenedlistOfPairs[ind+1])\n",
        "        else:\n",
        "            setp.add(flattenedlistOfPairs[ind-1])\n",
        "\n",
        "    return setp"
      ]
    },
    {
      "cell_type": "markdown",
      "source": [
        "**isConnected** function determines if a poset matrix is connected or disconnected."
      ],
      "metadata": {
        "id": "0wXDItVfYU_R"
      }
    },
    {
      "cell_type": "code",
      "execution_count": null,
      "metadata": {
        "id": "MYirW2VugDgF"
      },
      "outputs": [],
      "source": [
        "def isConnected(posetmatrix):\n",
        "\n",
        "    dimposetmatrix=posetmatrix.shape[0]\n",
        "    positions_ones=list(zip(*np.where(posetmatrix == 1)))\n",
        "    new_positions_ones=[io for io in positions_ones if io[0]-io[1]!=0]\n",
        "\n",
        "    if len( new_positions_ones)==0:\n",
        "        return False\n",
        "\n",
        "    list1=[new_positions_ones[0][0],new_positions_ones[0][1]]\n",
        "    set1=set(list1)\n",
        "    list2=new_positions_ones[1:]\n",
        "\n",
        "    for t in range(len(list2)):\n",
        "\n",
        "        commonSet=set1.intersection(set(list2[t]))\n",
        "        flattenedlist1=list(itertools.chain(*list2[t+1:]))\n",
        "        setpts=getEltPair(list2[t],flattenedlist1)\n",
        "        commonSet2=set1.intersection(setpts)\n",
        "\n",
        "        if len(commonSet)>0 or len(commonSet2)>0:\n",
        "            set1=set1.union(set(list2[t]))\n",
        "        else:\n",
        "            return False\n",
        "\n",
        "    if len(set1)==dimposetmatrix:\n",
        "        return True\n",
        "    else:\n",
        "        return False"
      ]
    },
    {
      "cell_type": "code",
      "source": [
        "pmatrix12=np.array([[1,0,0,0],[0,1,0,0],[0,1,1,0],[1,1,1,1]])"
      ],
      "metadata": {
        "id": "nkRKPRarHw4W"
      },
      "execution_count": null,
      "outputs": []
    },
    {
      "cell_type": "code",
      "source": [
        "pmatrix12"
      ],
      "metadata": {
        "colab": {
          "base_uri": "https://localhost:8080/"
        },
        "id": "ZUlTpTQQH250",
        "outputId": "c0219ea2-f4fa-49b6-c8cf-20d522dec705"
      },
      "execution_count": null,
      "outputs": [
        {
          "output_type": "execute_result",
          "data": {
            "text/plain": [
              "array([[1, 0, 0, 0],\n",
              "       [0, 1, 0, 0],\n",
              "       [0, 1, 1, 0],\n",
              "       [1, 1, 1, 1]])"
            ]
          },
          "metadata": {},
          "execution_count": 42
        }
      ]
    },
    {
      "cell_type": "code",
      "source": [
        "isConnected(pmatrix12)"
      ],
      "metadata": {
        "colab": {
          "base_uri": "https://localhost:8080/"
        },
        "id": "uZSzCWDWH5mg",
        "outputId": "6c3a0b09-d5da-425f-da94-5e1599e11a5d"
      },
      "execution_count": null,
      "outputs": [
        {
          "output_type": "execute_result",
          "data": {
            "text/plain": [
              "True"
            ]
          },
          "metadata": {},
          "execution_count": 45
        }
      ]
    },
    {
      "cell_type": "code",
      "source": [
        "pmatrix14=np.array([[1,0,0],[1,1,0],[0,0,1]])"
      ],
      "metadata": {
        "id": "oYzZghefIBc0"
      },
      "execution_count": null,
      "outputs": []
    },
    {
      "cell_type": "code",
      "source": [
        "pmatrix14"
      ],
      "metadata": {
        "colab": {
          "base_uri": "https://localhost:8080/"
        },
        "id": "1IqB96yFIVxW",
        "outputId": "b9bb16b4-7582-43e5-b2d4-fe27500ae11d"
      },
      "execution_count": null,
      "outputs": [
        {
          "output_type": "execute_result",
          "data": {
            "text/plain": [
              "array([[1, 0, 0],\n",
              "       [1, 1, 0],\n",
              "       [0, 0, 1]])"
            ]
          },
          "metadata": {},
          "execution_count": 47
        }
      ]
    },
    {
      "cell_type": "code",
      "source": [
        "isConnected(pmatrix14)"
      ],
      "metadata": {
        "colab": {
          "base_uri": "https://localhost:8080/"
        },
        "id": "jowOukfSIY7I",
        "outputId": "2ba82780-6d57-4407-b350-8c05636ac694"
      },
      "execution_count": null,
      "outputs": [
        {
          "output_type": "execute_result",
          "data": {
            "text/plain": [
              "False"
            ]
          },
          "metadata": {},
          "execution_count": 60
        }
      ]
    },
    {
      "cell_type": "code",
      "source": [
        "pmatrix15=np.array([[1,0,0],[0,1,0],[0,0,1]])"
      ],
      "metadata": {
        "id": "jj68BuZ8Iiyz"
      },
      "execution_count": null,
      "outputs": []
    },
    {
      "cell_type": "code",
      "source": [
        "pmatrix15"
      ],
      "metadata": {
        "colab": {
          "base_uri": "https://localhost:8080/"
        },
        "id": "DANcNltUIyEM",
        "outputId": "a6880183-27f6-4be7-b78e-dffd3e4cde4f"
      },
      "execution_count": null,
      "outputs": [
        {
          "output_type": "execute_result",
          "data": {
            "text/plain": [
              "array([[1, 0, 0],\n",
              "       [0, 1, 0],\n",
              "       [0, 0, 1]])"
            ]
          },
          "metadata": {},
          "execution_count": 62
        }
      ]
    },
    {
      "cell_type": "code",
      "source": [
        "isConnected(pmatrix15)"
      ],
      "metadata": {
        "colab": {
          "base_uri": "https://localhost:8080/"
        },
        "id": "fWas9hlrIuRf",
        "outputId": "a8ed34bb-0073-4919-ceb4-829fa01d52ec"
      },
      "execution_count": null,
      "outputs": [
        {
          "output_type": "execute_result",
          "data": {
            "text/plain": [
              "False"
            ]
          },
          "metadata": {},
          "execution_count": 63
        }
      ]
    },
    {
      "cell_type": "markdown",
      "metadata": {
        "id": "a45gRcHadINl"
      },
      "source": [
        "**isSemiRight** function determines if a poset matrix is semi-right dualizable."
      ]
    },
    {
      "cell_type": "code",
      "execution_count": null,
      "metadata": {
        "id": "ZQE5TVTCRzGT"
      },
      "outputs": [],
      "source": [
        "def isSemiRight(posetmatrix):\n",
        "\n",
        "    dimposetmatrix=posetmatrix.shape[0]\n",
        "    i,depth1=0,0\n",
        "    while i<dimposetmatrix:\n",
        "        if  all(posetmatrix[i:,i]):\n",
        "            depth1=depth1+1\n",
        "            i=i+1\n",
        "        else:\n",
        "            break\n",
        "    if (depth1>0 and not isConnected(posetmatrix[depth1:,depth1:]) and not np.allclose(dualize(posetmatrix[depth1:,depth1:]),posetmatrix[depth1:,depth1:])):\n",
        "        return True\n",
        "    else:\n",
        "        return False"
      ]
    },
    {
      "cell_type": "markdown",
      "source": [
        "**isSemiLeft** function determines if a poset matrix is semi-left dualizable."
      ],
      "metadata": {
        "id": "MdtjTOYF_EcQ"
      }
    },
    {
      "cell_type": "code",
      "execution_count": null,
      "metadata": {
        "id": "5K5Wx1SAQscF"
      },
      "outputs": [],
      "source": [
        "def isSemiLeft(posetmatrix):\n",
        "\n",
        "    dimposetmatrix=posetmatrix.shape[0]\n",
        "    i,depth2=0,0\n",
        "\n",
        "    while i<dimposetmatrix:\n",
        "        if  all(posetmatrix[dimposetmatrix-i-1,:dimposetmatrix-i]):\n",
        "            depth2=depth2+1\n",
        "            i=i+1\n",
        "        else:\n",
        "            break\n",
        "    else:\n",
        "        depth2\n",
        "    if (depth2>0 and not isConnected(posetmatrix[:-depth2,:-depth2]) and not np.allclose(dualize(posetmatrix[:-depth2,:-depth2]),posetmatrix[:-depth2,:-depth2])):\n",
        "        return  True\n",
        "    else:\n",
        "        return False"
      ]
    },
    {
      "cell_type": "markdown",
      "source": [
        "**isSemiEquidual** function determines if a poset matrix is semi-equidual"
      ],
      "metadata": {
        "id": "AJN0rZTsAobQ"
      }
    },
    {
      "cell_type": "code",
      "execution_count": null,
      "metadata": {
        "id": "VGFl4fK6iDgt"
      },
      "outputs": [],
      "source": [
        "def isSemiEquidual(posetmatrix):\n",
        "    if isSemiLeft(posetmatrix) or isSemiRight(posetmatrix):\n",
        "        return True\n",
        "    else:\n",
        "        return False"
      ]
    },
    {
      "cell_type": "markdown",
      "metadata": {
        "id": "XblMLcQcdk8b"
      },
      "source": [
        "**Enumeration of poset matrices for the operations isSemiRight and generatePM**"
      ]
    },
    {
      "cell_type": "code",
      "execution_count": null,
      "metadata": {
        "colab": {
          "base_uri": "https://localhost:8080/"
        },
        "id": "QeC28rF8V_XL",
        "outputId": "6532d20f-747e-4769-db96-244dabd4070b"
      },
      "outputs": [
        {
          "output_type": "execute_result",
          "data": {
            "text/plain": [
              "([6, 22, 90, 394, 1806, 8558, 41586, 206098],\n",
              " [],\n",
              " [0, 2, 10, 53, 250, 1224, 5982, 29853],\n",
              " [6, 20, 80, 341, 1556, 7334, 35604, 176245])"
            ]
          },
          "metadata": {},
          "execution_count": 82
        }
      ],
      "source": [
        "counts_list_PM(listlposetmatrices=leftMat,listrposetmatrices=rightMat,first_operation=generatePM,second_operation=isSemiRight,third_operation=False,n=8)"
      ]
    },
    {
      "cell_type": "markdown",
      "metadata": {
        "id": "LzxpPvridoSx"
      },
      "source": [
        "**Enumeration of poset matrices corresponding to the operations isSemiRight and generatePMMin**"
      ]
    },
    {
      "cell_type": "code",
      "execution_count": null,
      "metadata": {
        "colab": {
          "base_uri": "https://localhost:8080/"
        },
        "id": "v32E9RNiYWGU",
        "outputId": "11251a0d-2caa-410f-8fdc-e7220813f70c"
      },
      "outputs": [
        {
          "data": {
            "text/plain": [
              "([6, 22, 90, 394, 1806, 8558, 41586, 206098],\n",
              " [],\n",
              " ([0, 2, 10, 53, 249, 1223, 5984, 29863],\n",
              "  [6, 20, 80, 341, 1557, 7335, 35602, 176235]))"
            ]
          },
          "execution_count": 133,
          "metadata": {},
          "output_type": "execute_result"
        }
      ],
      "source": [
        "counts_list_PM(listlposetmatrices=leftMat,listrposetmatrices=rightMat,first_operation=generatePMMin,second_operation=isSemiRight,third_operation=False,n=8)"
      ]
    },
    {
      "cell_type": "markdown",
      "metadata": {
        "id": "vs3OjGdBdu3a"
      },
      "source": [
        "**Enumeration of poset matrices corresponding to operations isSemiRight and generatePMMax**"
      ]
    },
    {
      "cell_type": "code",
      "execution_count": null,
      "metadata": {
        "colab": {
          "base_uri": "https://localhost:8080/"
        },
        "id": "MUZQ-QbLba7H",
        "outputId": "2dc29312-a5a6-4f1d-dc9f-8fafbc8ec4f1"
      },
      "outputs": [
        {
          "data": {
            "text/plain": [
              "([6, 22, 90, 394, 1806, 8558, 41586, 206098],\n",
              " [],\n",
              " ([0, 0, 0, 0, 0, 0, 0, 0], [6, 22, 90, 394, 1806, 8558, 41586, 206098]))"
            ]
          },
          "execution_count": 134,
          "metadata": {},
          "output_type": "execute_result"
        }
      ],
      "source": [
        "counts_list_PM(listlposetmatrices=leftMat,listrposetmatrices=rightMat,first_operation=generatePMMax,second_operation=isSemiRight,third_operation=False,n=8)"
      ]
    },
    {
      "cell_type": "markdown",
      "metadata": {
        "id": "GlQ-i231cYzd"
      },
      "source": [
        "**Enumeration of poset matrices corresponding to operations isSemiRight and generatePMMinMax**"
      ]
    },
    {
      "cell_type": "code",
      "execution_count": null,
      "metadata": {
        "colab": {
          "base_uri": "https://localhost:8080/"
        },
        "id": "RX3jaWyicdyn",
        "outputId": "5d7cfb37-7781-4867-d547-ad1c575888e7"
      },
      "outputs": [
        {
          "output_type": "execute_result",
          "data": {
            "text/plain": [
              "([5, 15, 52, 201, 841, 3726, 17213, 82047],\n",
              " [],\n",
              " [0, 0, 0, 0, 0, 0, 0, 0],\n",
              " [5, 15, 52, 201, 841, 3726, 17213, 82047])"
            ]
          },
          "metadata": {},
          "execution_count": 65
        }
      ],
      "source": [
        "counts_list_PM(listlposetmatrices=leftMat,listrposetmatrices=rightMat,first_operation=generatePMMinMax,second_operation=isSemiRight,third_operation=False,n=8)"
      ]
    },
    {
      "cell_type": "markdown",
      "metadata": {
        "id": "p_jl_q_3dzOa"
      },
      "source": [
        "**Enumeration of poset matrices for the operations isSemiLeft and generatePM**"
      ]
    },
    {
      "cell_type": "code",
      "execution_count": null,
      "metadata": {
        "colab": {
          "base_uri": "https://localhost:8080/"
        },
        "id": "7feMcU6QdDYi",
        "outputId": "770441f7-285a-4044-caa8-086b8a5f58f6"
      },
      "outputs": [
        {
          "data": {
            "text/plain": [
              "([6, 22, 90, 394, 1806, 8558, 41586, 206098],\n",
              " [],\n",
              " ([0, 2, 10, 52, 239, 1144, 5487, 27011],\n",
              "  [6, 20, 80, 342, 1567, 7414, 36099, 179087]))"
            ]
          },
          "execution_count": 136,
          "metadata": {},
          "output_type": "execute_result"
        }
      ],
      "source": [
        "counts_list_PM(listlposetmatrices=leftMat,listrposetmatrices=rightMat,first_operation=generatePM,second_operation=isSemiLeft,third_operation=False,n=8)"
      ]
    },
    {
      "cell_type": "markdown",
      "metadata": {
        "id": "YeKn3m2ZeJpo"
      },
      "source": [
        "**Enumeration of poset matrices for the operations isSemiLeft and generatePMMin**"
      ]
    },
    {
      "cell_type": "code",
      "execution_count": null,
      "metadata": {
        "colab": {
          "base_uri": "https://localhost:8080/"
        },
        "id": "bGybhBiSd7M7",
        "outputId": "63c0ef97-6464-41f3-9116-79db59829cb3"
      },
      "outputs": [
        {
          "data": {
            "text/plain": [
              "([6, 22, 90, 394, 1806, 8558, 41586, 206098],\n",
              " [],\n",
              " ([0, 0, 0, 0, 0, 0, 0, 0], [6, 22, 90, 394, 1806, 8558, 41586, 206098]))"
            ]
          },
          "execution_count": 137,
          "metadata": {},
          "output_type": "execute_result"
        }
      ],
      "source": [
        "counts_list_PM(listlposetmatrices=leftMat,listrposetmatrices=rightMat,first_operation=generatePMMin,second_operation=isSemiLeft,third_operation=False,n=8)"
      ]
    },
    {
      "cell_type": "markdown",
      "metadata": {
        "id": "jsW5B3bffE5-"
      },
      "source": [
        "**Enumeration of poset matrices for the operations isSemiLeft and generatePMMax**"
      ]
    },
    {
      "cell_type": "code",
      "execution_count": null,
      "metadata": {
        "colab": {
          "base_uri": "https://localhost:8080/"
        },
        "id": "hHa5aZpufJ-D",
        "outputId": "a2dc177d-b513-47ca-de39-e214960df021"
      },
      "outputs": [
        {
          "data": {
            "text/plain": [
              "([6, 22, 90, 394, 1806, 8558, 41586, 206098],\n",
              " [],\n",
              " ([0, 2, 10, 53, 251, 1255, 6295, 32277],\n",
              "  [6, 20, 80, 341, 1555, 7303, 35291, 173821]))"
            ]
          },
          "execution_count": 138,
          "metadata": {},
          "output_type": "execute_result"
        }
      ],
      "source": [
        "counts_list_PM(listlposetmatrices=leftMat,listrposetmatrices=rightMat,first_operation=generatePMMax,second_operation=isSemiLeft,third_operation=False,n=8)"
      ]
    },
    {
      "cell_type": "markdown",
      "metadata": {
        "id": "PBkRhz6MgDzt"
      },
      "source": [
        "**Enumeration of poset matrices for the operations isSemiLeft and generatePMMinMax**"
      ]
    },
    {
      "cell_type": "code",
      "execution_count": null,
      "metadata": {
        "colab": {
          "base_uri": "https://localhost:8080/"
        },
        "id": "oOmXEitlgKkv",
        "outputId": "9d085500-c05d-48f6-f0ce-2e433953acd8"
      },
      "outputs": [
        {
          "data": {
            "text/plain": [
              "([5, 15, 52, 201, 841, 3726, 17213, 82047],\n",
              " [],\n",
              " ([0, 0, 0, 0, 0, 0, 0, 0], [5, 15, 52, 201, 841, 3726, 17213, 82047]))"
            ]
          },
          "execution_count": 139,
          "metadata": {},
          "output_type": "execute_result"
        }
      ],
      "source": [
        "counts_list_PM(listlposetmatrices=leftMat,listrposetmatrices=rightMat,first_operation=generatePMMinMax,second_operation=isSemiLeft,third_operation=False,n=8)"
      ]
    },
    {
      "cell_type": "markdown",
      "metadata": {
        "id": "GL9JzZ_ljqku"
      },
      "source": [
        "**Enumeration of poset matrices for the operations isSemiEquiDual and generatePM**"
      ]
    },
    {
      "cell_type": "code",
      "execution_count": null,
      "metadata": {
        "id": "lrD5JcIZjun9"
      },
      "outputs": [],
      "source": [
        "a1=np.array([0, 2, 10, 53, 250, 1224, 5982, 29853])"
      ]
    },
    {
      "cell_type": "code",
      "execution_count": null,
      "metadata": {
        "id": "i83gTm-ukklp"
      },
      "outputs": [],
      "source": [
        "a2=np.array([0, 2, 10, 52, 239, 1144, 5487, 27011])"
      ]
    },
    {
      "cell_type": "code",
      "execution_count": null,
      "metadata": {
        "colab": {
          "base_uri": "https://localhost:8080/"
        },
        "id": "uaR9-oc2k9Kd",
        "outputId": "06f8a7b5-ffab-4a98-cd08-e410306527b0"
      },
      "outputs": [
        {
          "data": {
            "text/plain": [
              "array([    0,     4,    20,   105,   489,  2368, 11469, 56864])"
            ]
          },
          "execution_count": 143,
          "metadata": {},
          "output_type": "execute_result"
        }
      ],
      "source": [
        "np.add(a1,a2)"
      ]
    },
    {
      "cell_type": "markdown",
      "metadata": {
        "id": "ELR9kq5glWMa"
      },
      "source": [
        "**Enumeration of poset matrices for the operations isSemiEquiDual and generatePMMin**"
      ]
    },
    {
      "cell_type": "code",
      "execution_count": null,
      "metadata": {
        "id": "GomVSytSlcPp"
      },
      "outputs": [],
      "source": [
        "b1=np.array([0, 2, 10, 53, 249, 1223, 5984, 29863])"
      ]
    },
    {
      "cell_type": "code",
      "execution_count": null,
      "metadata": {
        "id": "WC3BZ6j2mq1M"
      },
      "outputs": [],
      "source": [
        "b2=np.array([0, 0, 0, 0, 0, 0, 0, 0])"
      ]
    },
    {
      "cell_type": "code",
      "execution_count": null,
      "metadata": {
        "colab": {
          "base_uri": "https://localhost:8080/"
        },
        "id": "Z1DoWvzJnD0L",
        "outputId": "2d259c3a-9565-47b4-ea8d-df71c42a1742"
      },
      "outputs": [
        {
          "data": {
            "text/plain": [
              "array([    0,     2,    10,    53,   249,  1223,  5984, 29863])"
            ]
          },
          "execution_count": 146,
          "metadata": {},
          "output_type": "execute_result"
        }
      ],
      "source": [
        "np.add(b1,b2)"
      ]
    },
    {
      "cell_type": "markdown",
      "metadata": {
        "id": "-Wh6SSuMnPz4"
      },
      "source": [
        "**Enumeration of poset matrices for the operations isSemiEquiDual and generatePMMax**"
      ]
    },
    {
      "cell_type": "code",
      "execution_count": null,
      "metadata": {
        "id": "6hYTykENnUsS"
      },
      "outputs": [],
      "source": [
        "c1=np.array([0, 0, 0, 0, 0, 0, 0, 0])"
      ]
    },
    {
      "cell_type": "code",
      "execution_count": null,
      "metadata": {
        "id": "J839lX79nmwM"
      },
      "outputs": [],
      "source": [
        "c2=np.array([0, 2, 10, 53, 251, 1255, 6295, 32277])"
      ]
    },
    {
      "cell_type": "code",
      "execution_count": null,
      "metadata": {
        "colab": {
          "base_uri": "https://localhost:8080/"
        },
        "id": "feLRayvPn_Em",
        "outputId": "e06e64c2-daca-4aa0-83ef-79c335bca2e6"
      },
      "outputs": [
        {
          "data": {
            "text/plain": [
              "array([    0,     2,    10,    53,   251,  1255,  6295, 32277])"
            ]
          },
          "execution_count": 149,
          "metadata": {},
          "output_type": "execute_result"
        }
      ],
      "source": [
        "np.add(c1,c2)"
      ]
    },
    {
      "cell_type": "markdown",
      "metadata": {
        "id": "b_vdO8TPon32"
      },
      "source": [
        "**Enumeration of poset matrices for the operations isSemiEquiDual and generatePMMinMax**"
      ]
    },
    {
      "cell_type": "code",
      "execution_count": null,
      "metadata": {
        "id": "k8XI0nh1oroM"
      },
      "outputs": [],
      "source": [
        "d1=np.array([0, 0, 0, 0, 0, 0, 0, 0])"
      ]
    },
    {
      "cell_type": "code",
      "execution_count": null,
      "metadata": {
        "id": "UJRzx9S7o_Oo"
      },
      "outputs": [],
      "source": [
        "d2=np.array([0, 0, 0, 0, 0, 0, 0, 0])"
      ]
    },
    {
      "cell_type": "code",
      "execution_count": null,
      "metadata": {
        "colab": {
          "base_uri": "https://localhost:8080/"
        },
        "id": "EsdK4Z4JpNTq",
        "outputId": "12bb604d-bdae-4f06-b9ea-298bd939735d"
      },
      "outputs": [
        {
          "data": {
            "text/plain": [
              "array([0, 0, 0, 0, 0, 0, 0, 0])"
            ]
          },
          "execution_count": 153,
          "metadata": {},
          "output_type": "execute_result"
        }
      ],
      "source": [
        "np.add(d1,d2)"
      ]
    },
    {
      "cell_type": "markdown",
      "source": [
        "**isOrdinalSum** determines if a poset matrix is decomposable by the ordinal sum series-parallel poset matrix operation"
      ],
      "metadata": {
        "id": "ZskFLQUydeo0"
      }
    },
    {
      "cell_type": "code",
      "execution_count": null,
      "metadata": {
        "id": "wl9xsbLpp-Hz"
      },
      "outputs": [],
      "source": [
        "def isOrdinalSum(posetmatrix):\n",
        "\n",
        "    level,column=0,0\n",
        "    dimPosetMatrix=posetmatrix.shape[0]\n",
        "\n",
        "    while posetmatrix[-1,column]==1 and posetmatrix[-2,column]==1 and dimPosetMatrix>2:\n",
        "        column=column+1\n",
        "        if column>0:\n",
        "            needarray=np.ones(( column,), dtype=int)\n",
        "        else:\n",
        "            column\n",
        "            break\n",
        "\n",
        "    while  posetmatrix[-1,column]==1 and (posetmatrix[-2,0]!=1 or dimPosetMatrix==2):\n",
        "\n",
        "        column=column+1\n",
        "        if column==dimPosetMatrix:\n",
        "            break\n",
        "\n",
        "    if 'needarray' in vars():\n",
        "\n",
        "        if len(needarray)!=0:\n",
        "            level=level+2\n",
        "        else:\n",
        "            level\n",
        "\n",
        "        for s in range(dimPosetMatrix-3,-1,-1):\n",
        "            if len(needarray)>0 and np.array_equal( needarray,posetmatrix[s,0:column]):\n",
        "                level=level+1\n",
        "            else:\n",
        "                level\n",
        "                break\n",
        "        if level==dimPosetMatrix:\n",
        "            level=level-1\n",
        "\n",
        "\n",
        "    if column>1 and level>1:\n",
        "            column=column-1\n",
        "\n",
        "\n",
        "    return column+level==dimPosetMatrix"
      ]
    },
    {
      "cell_type": "markdown",
      "source": [
        "**Examples using isOrdinalSum** to determine if a poset matrix is decomposable by the ordinal sum series-parallel poset matrix operation"
      ],
      "metadata": {
        "id": "CeQyiaMkc7xL"
      }
    },
    {
      "cell_type": "code",
      "source": [
        "matrix88=np.array([[1, 0, 0, 0],\n",
        "           [0, 1, 0, 0],\n",
        "           [1, 1, 1, 0],\n",
        "           [1, 0, 0, 1]])"
      ],
      "metadata": {
        "id": "-3c-_soTbrs0"
      },
      "execution_count": null,
      "outputs": []
    },
    {
      "cell_type": "code",
      "source": [
        "isOrdinalSum(matrix88)"
      ],
      "metadata": {
        "colab": {
          "base_uri": "https://localhost:8080/"
        },
        "id": "hSATkTtobzjo",
        "outputId": "05719643-d976-4cf4-d57c-7e8d7988ee73"
      },
      "execution_count": null,
      "outputs": [
        {
          "output_type": "execute_result",
          "data": {
            "text/plain": [
              "False"
            ]
          },
          "metadata": {},
          "execution_count": 73
        }
      ]
    },
    {
      "cell_type": "code",
      "source": [
        "matrix99=np.array([[1, 0, 0, 0],\n",
        "           [1, 1, 0, 0],\n",
        "           [0, 0, 1, 0],\n",
        "           [1, 0, 1, 1]])"
      ],
      "metadata": {
        "id": "CaFeQX_1b-XC"
      },
      "execution_count": null,
      "outputs": []
    },
    {
      "cell_type": "code",
      "source": [
        "isOrdinalSum(matrix99)"
      ],
      "metadata": {
        "colab": {
          "base_uri": "https://localhost:8080/"
        },
        "id": "ruXlTOFTccth",
        "outputId": "3374842a-616f-4135-97de-cde15014a669"
      },
      "execution_count": null,
      "outputs": [
        {
          "output_type": "execute_result",
          "data": {
            "text/plain": [
              "False"
            ]
          },
          "metadata": {},
          "execution_count": 75
        }
      ]
    },
    {
      "cell_type": "code",
      "source": [
        "matrix77=np.array([[1, 0, 0, 0],\n",
        "           [1, 1, 0, 0],\n",
        "           [1, 0, 1, 0],\n",
        "           [1, 0, 1, 1]])"
      ],
      "metadata": {
        "id": "hEWFD4jrcgiQ"
      },
      "execution_count": null,
      "outputs": []
    },
    {
      "cell_type": "code",
      "source": [
        "isOrdinalSum(matrix77)"
      ],
      "metadata": {
        "colab": {
          "base_uri": "https://localhost:8080/"
        },
        "id": "ywJzXbtzc06B",
        "outputId": "90f1aaaa-e636-4df4-e43c-daee957ee388"
      },
      "execution_count": null,
      "outputs": [
        {
          "output_type": "execute_result",
          "data": {
            "text/plain": [
              "True"
            ]
          },
          "metadata": {},
          "execution_count": 78
        }
      ]
    },
    {
      "cell_type": "markdown",
      "source": [
        "**isDirectSum** determines if a poset matrix is decomposable by the direct sum series-parallel poset matrix operation"
      ],
      "metadata": {
        "id": "6TfeTNdId4-N"
      }
    },
    {
      "cell_type": "code",
      "execution_count": null,
      "metadata": {
        "id": "CNKiq2PnqWX7"
      },
      "outputs": [],
      "source": [
        "def isDirectSum(posetmatrix):\n",
        "\n",
        "    level,column=0,0\n",
        "    dimPosetMatrix=posetmatrix.shape[0]\n",
        "\n",
        "    while posetmatrix[-1,column]==0 and posetmatrix[-2,column]==0 and dimPosetMatrix>2:\n",
        "        column=column+1\n",
        "        if column>0:\n",
        "            needarray=np.zeros(( column,), dtype=int)\n",
        "        else:\n",
        "            column\n",
        "            break\n",
        "\n",
        "    while  posetmatrix[-1,column]==0 and (posetmatrix[-2,0]!=0 or dimPosetMatrix==2):\n",
        "\n",
        "\n",
        "        if dimPosetMatrix>2:\n",
        "            column=column+1\n",
        "            level=1\n",
        "        else:\n",
        "            column=2\n",
        "\n",
        "        if column==dimPosetMatrix:\n",
        "            break\n",
        "\n",
        "    if 'needarray' in vars():\n",
        "\n",
        "        if len(needarray)!=0:\n",
        "            level=level+2\n",
        "        else:\n",
        "            level\n",
        "\n",
        "        for s in range(dimPosetMatrix-3,-1,-1):\n",
        "            if len(needarray)>0 and np.array_equal( needarray,posetmatrix[s,0:column]):\n",
        "                level=level+1\n",
        "            else:\n",
        "                level\n",
        "                break\n",
        "        if level==dimPosetMatrix:\n",
        "            level=level-1\n",
        "\n",
        "    return column+level==dimPosetMatrix"
      ]
    },
    {
      "cell_type": "markdown",
      "source": [
        "**Enumeration of poset matrices of size 3x3 and 4x4 using the operations isOrdinalSum and generatePM**"
      ],
      "metadata": {
        "id": "N_uPm9get7Hr"
      }
    },
    {
      "cell_type": "code",
      "source": [
        "counts_list_PM(listlposetmatrices=leftMatConn,listrposetmatrices=rightMat,first_operation=generatePM,second_operation=isOrdinalSum,third_operation=True,n=2)"
      ],
      "metadata": {
        "colab": {
          "base_uri": "https://localhost:8080/"
        },
        "id": "vV470sl3lZRX",
        "outputId": "159749fd-152b-42b2-d306-3e8f175a7d4e"
      },
      "execution_count": null,
      "outputs": [
        {
          "output_type": "execute_result",
          "data": {
            "text/plain": [
              "([3, 11],\n",
              " [((array([[1, 0, 0],\n",
              "           [0, 1, 0],\n",
              "           [1, 1, 1]]),\n",
              "    True),\n",
              "   (array([[1, 0, 0],\n",
              "           [1, 1, 0],\n",
              "           [1, 0, 1]]),\n",
              "    True),\n",
              "   (array([[1, 0, 0],\n",
              "           [1, 1, 0],\n",
              "           [1, 1, 1]]),\n",
              "    True)),\n",
              "  ((array([[1, 0, 0, 0],\n",
              "           [1, 1, 0, 0],\n",
              "           [1, 0, 1, 0],\n",
              "           [1, 0, 1, 1]]),\n",
              "    True),\n",
              "   (array([[1, 0, 0, 0],\n",
              "           [0, 1, 0, 0],\n",
              "           [1, 1, 1, 0],\n",
              "           [1, 1, 1, 1]]),\n",
              "    True),\n",
              "   (array([[1, 0, 0, 0],\n",
              "           [1, 1, 0, 0],\n",
              "           [0, 0, 1, 0],\n",
              "           [1, 1, 1, 1]]),\n",
              "    True),\n",
              "   (array([[1, 0, 0, 0],\n",
              "           [0, 1, 0, 0],\n",
              "           [1, 1, 1, 0],\n",
              "           [1, 1, 0, 1]]),\n",
              "    False),\n",
              "   (array([[1, 0, 0, 0],\n",
              "           [0, 1, 0, 0],\n",
              "           [0, 1, 1, 0],\n",
              "           [1, 1, 1, 1]]),\n",
              "    True),\n",
              "   (array([[1, 0, 0, 0],\n",
              "           [1, 1, 0, 0],\n",
              "           [1, 1, 1, 0],\n",
              "           [1, 1, 0, 1]]),\n",
              "    True),\n",
              "   (array([[1, 0, 0, 0],\n",
              "           [1, 1, 0, 0],\n",
              "           [1, 1, 1, 0],\n",
              "           [1, 1, 1, 1]]),\n",
              "    True),\n",
              "   (array([[1, 0, 0, 0],\n",
              "           [1, 1, 0, 0],\n",
              "           [1, 0, 1, 0],\n",
              "           [1, 1, 1, 1]]),\n",
              "    True),\n",
              "   (array([[1, 0, 0, 0],\n",
              "           [1, 1, 0, 0],\n",
              "           [1, 1, 1, 0],\n",
              "           [1, 0, 0, 1]]),\n",
              "    True),\n",
              "   (array([[1, 0, 0, 0],\n",
              "           [0, 1, 0, 0],\n",
              "           [0, 0, 1, 0],\n",
              "           [1, 1, 1, 1]]),\n",
              "    True),\n",
              "   (array([[1, 0, 0, 0],\n",
              "           [1, 1, 0, 0],\n",
              "           [1, 0, 1, 0],\n",
              "           [1, 0, 0, 1]]),\n",
              "    True))],\n",
              " [3, 10],\n",
              " [0, 1])"
            ]
          },
          "metadata": {},
          "execution_count": 68
        }
      ]
    },
    {
      "cell_type": "markdown",
      "metadata": {
        "id": "X7UA7_f1sRcO"
      },
      "source": [
        "**Enumeration of poset matrices of size 3x3 to 10x10 for the operations isOrdinalSum and generatePMMin**"
      ]
    },
    {
      "cell_type": "code",
      "execution_count": null,
      "metadata": {
        "colab": {
          "base_uri": "https://localhost:8080/"
        },
        "id": "A2gZNwWSsIVQ",
        "outputId": "f4ee151e-39ed-4595-cca9-24050f83241a"
      },
      "outputs": [
        {
          "data": {
            "text/plain": [
              "([3, 11, 45, 197, 903, 4279, 20793, 103049],\n",
              " [],\n",
              " ([3, 8, 25, 91, 367, 1591, 7263, 34415],\n",
              "  [0, 3, 20, 106, 536, 2688, 13530, 68634]))"
            ]
          },
          "execution_count": 159,
          "metadata": {},
          "output_type": "execute_result"
        }
      ],
      "source": [
        "counts_list_PM(listlposetmatrices=leftMatConn,listrposetmatrices=rightMat,first_operation=generatePMMin,second_operation=isOrdinalSum,third_operation=False,n=8)"
      ]
    },
    {
      "cell_type": "markdown",
      "metadata": {
        "id": "37nfLvGfs6aQ"
      },
      "source": [
        "**Enumeration of poset matrices of size 3x3 to 10x10 using the operations isOrdinalSum and generatePMMax**"
      ]
    },
    {
      "cell_type": "code",
      "execution_count": null,
      "metadata": {
        "colab": {
          "base_uri": "https://localhost:8080/"
        },
        "id": "t3JIl0Y5sq9D",
        "outputId": "7951fd16-2283-46ed-f1df-feb2ac47623f"
      },
      "outputs": [
        {
          "data": {
            "text/plain": [
              "([3, 11, 45, 197, 903, 4279, 20793, 103049],\n",
              " [],\n",
              " ([3, 8, 23, 81, 329, 1451, 6723, 32189],\n",
              "  [0, 3, 22, 116, 574, 2828, 14070, 70860]))"
            ]
          },
          "execution_count": 160,
          "metadata": {},
          "output_type": "execute_result"
        }
      ],
      "source": [
        "counts_list_PM(listlposetmatrices=leftMatConn,listrposetmatrices=rightMat,first_operation=generatePMMax,second_operation=isOrdinalSum,third_operation=False,n=8)"
      ]
    },
    {
      "cell_type": "markdown",
      "metadata": {
        "id": "W3Q6nNXQtgyl"
      },
      "source": [
        "**Enumeration of poset matrices of size 3x3 to 10x10 using the operations isOrdinalSum and generatePMMinMax**"
      ]
    },
    {
      "cell_type": "code",
      "execution_count": null,
      "metadata": {
        "colab": {
          "base_uri": "https://localhost:8080/"
        },
        "id": "Vl8IVRmatWqn",
        "outputId": "a8d5ae9d-07e3-4176-f7a5-cf105c7d15f3"
      },
      "outputs": [
        {
          "data": {
            "text/plain": [
              "([2, 6, 22, 90, 394, 1806, 8558, 41586],\n",
              " [],\n",
              " ([2, 2, 2, 2, 2, 2, 2, 2], [0, 4, 20, 88, 392, 1804, 8556, 41584]))"
            ]
          },
          "execution_count": 161,
          "metadata": {},
          "output_type": "execute_result"
        }
      ],
      "source": [
        "counts_list_PM(listlposetmatrices=leftMatConn,listrposetmatrices=rightMat,first_operation=generatePMMinMax,second_operation=isOrdinalSum,third_operation=False,n=8)"
      ]
    },
    {
      "cell_type": "markdown",
      "metadata": {
        "id": "LqYDhykN5lDc"
      },
      "source": [
        "**reverseArray** reverses an array"
      ]
    },
    {
      "cell_type": "code",
      "execution_count": null,
      "metadata": {
        "id": "l0ee640J6jMn"
      },
      "outputs": [],
      "source": [
        "def reverseArray(array):\n",
        "    dimArray=len(array)\n",
        "    new_array=np.array([])\n",
        "    for item in range(dimArray):\n",
        "         new_array=np.append(new_array,array[dimArray-1-item])\n",
        "\n",
        "    return new_array.astype(int)"
      ]
    },
    {
      "cell_type": "markdown",
      "source": [
        "**isDoubleDual** function determines if a poset matrix is double dualizable."
      ],
      "metadata": {
        "id": "bmEClbufByti"
      }
    },
    {
      "cell_type": "code",
      "execution_count": null,
      "metadata": {
        "id": "FLmRiARU5fUb"
      },
      "outputs": [],
      "source": [
        "def isDoubleDual(posetmatrix):\n",
        "\n",
        "    last_row=posetmatrix[-1]\n",
        "    first_col=posetmatrix[:,0]\n",
        "\n",
        "    if np.allclose(last_row,reverseArray(first_col)) and len(findMax(posetmatrix))==len(findMin(posetmatrix)):\n",
        "        x=posetmatrix[:-1,:-1]\n",
        "        y=posetmatrix[1:,1:]\n",
        "\n",
        "        if isSemiRight(x) and isSemiLeft(y) and np.allclose(x[1:,1:],y[:-1,:-1]):\n",
        "            return True\n",
        "        else:\n",
        "            return False\n",
        "    else:\n",
        "        return False"
      ]
    },
    {
      "cell_type": "markdown",
      "source": [
        "**Enumeration of poset matrices of size 3x3 to 10x10 using the operations isDoubleDual and generatePM**"
      ],
      "metadata": {
        "id": "3c-hLkQYe7U5"
      }
    },
    {
      "cell_type": "code",
      "execution_count": null,
      "metadata": {
        "colab": {
          "base_uri": "https://localhost:8080/"
        },
        "id": "1pGzivZL58Jo",
        "outputId": "aded1730-4fba-4f67-c11b-1cca0cb3172a"
      },
      "outputs": [
        {
          "output_type": "execute_result",
          "data": {
            "text/plain": [
              "([3, 11, 45, 197, 903, 4279, 20793, 103049],\n",
              " [],\n",
              " [0, 0, 2, 8, 42, 195, 966, 4744],\n",
              " [3, 11, 43, 189, 861, 4084, 19827, 98305])"
            ]
          },
          "metadata": {},
          "execution_count": 56
        }
      ],
      "source": [
        "counts_list_PM(listlposetmatrices=leftMatConn,listrposetmatrices=rightMat,first_operation=generatePM,second_operation=isDoubleDual,third_operation=False,n=8)"
      ]
    },
    {
      "cell_type": "markdown",
      "metadata": {
        "id": "ZMXQTvGU8C_v"
      },
      "source": [
        "**Enumeration of poset matrices of size 3x3 to 10x10 using the operations isDoubleDual and generatePMMin**"
      ]
    },
    {
      "cell_type": "code",
      "execution_count": null,
      "metadata": {
        "colab": {
          "base_uri": "https://localhost:8080/"
        },
        "id": "_q127Vto8Gq2",
        "outputId": "331ecc3f-464b-4ac7-e2f8-349525b5bb1d"
      },
      "outputs": [
        {
          "data": {
            "text/plain": [
              "([3, 11, 45, 197, 903, 4279, 20793, 103049],\n",
              " [],\n",
              " ([0, 0, 0, 0, 0, 0, 0, 0], [3, 11, 45, 197, 903, 4279, 20793, 103049]))"
            ]
          },
          "execution_count": 172,
          "metadata": {},
          "output_type": "execute_result"
        }
      ],
      "source": [
        "counts_list_PM(listlposetmatrices=leftMatConn,listrposetmatrices=rightMat,first_operation=generatePMMin,second_operation=isDoubleDual,third_operation=False,n=8)"
      ]
    },
    {
      "cell_type": "markdown",
      "metadata": {
        "id": "ylNRbsMH8qDG"
      },
      "source": [
        "**Enumeration of poset matrices of size 3x3 to 10x10 using the operations isDoubleDual and generatePMMax**"
      ]
    },
    {
      "cell_type": "code",
      "execution_count": null,
      "metadata": {
        "colab": {
          "base_uri": "https://localhost:8080/"
        },
        "id": "_wNyrhMx8lTa",
        "outputId": "7aa050df-64a5-4b90-f597-83ea1c1bc104"
      },
      "outputs": [
        {
          "data": {
            "text/plain": [
              "([3, 11, 45, 197, 903, 4279, 20793, 103049],\n",
              " [],\n",
              " ([0, 0, 0, 0, 0, 0, 0, 0], [3, 11, 45, 197, 903, 4279, 20793, 103049]))"
            ]
          },
          "execution_count": 173,
          "metadata": {},
          "output_type": "execute_result"
        }
      ],
      "source": [
        "counts_list_PM(listlposetmatrices=leftMatConn,listrposetmatrices=rightMat,first_operation=generatePMMax,second_operation=isDoubleDual,third_operation=False,n=8)"
      ]
    },
    {
      "cell_type": "markdown",
      "metadata": {
        "id": "u5WGN-aI9aS4"
      },
      "source": [
        "**Enumeration of poset matrices of size 3x3 to 10x10 using the operations isDoubleDual and generatePMMinMax**"
      ]
    },
    {
      "cell_type": "code",
      "execution_count": null,
      "metadata": {
        "colab": {
          "base_uri": "https://localhost:8080/"
        },
        "id": "xeJb-D4d9RyS",
        "outputId": "a9525ffc-9367-412f-df91-cd5f2b80ee30"
      },
      "outputs": [
        {
          "data": {
            "text/plain": [
              "([2, 6, 22, 90, 394, 1806, 8558, 41586],\n",
              " [],\n",
              " ([0, 0, 0, 0, 0, 0, 0, 0], [2, 6, 22, 90, 394, 1806, 8558, 41586]))"
            ]
          },
          "execution_count": 174,
          "metadata": {},
          "output_type": "execute_result"
        }
      ],
      "source": [
        "counts_list_PM(listlposetmatrices=leftMatConn,listrposetmatrices=rightMat,first_operation=generatePMMinMax,second_operation=isDoubleDual,third_operation=False,n=8)"
      ]
    },
    {
      "cell_type": "code",
      "source": [
        "def isSemiEquidualizable(posetmatrix):\n",
        "    if isSemiLeft(posetmatrix) or isSemiRight(posetmatrix) or isDoubleDual(posetmatrix):\n",
        "        return True\n",
        "    else:\n",
        "        return False"
      ],
      "metadata": {
        "id": "60w35JJb_bhJ"
      },
      "execution_count": null,
      "outputs": []
    },
    {
      "cell_type": "code",
      "source": [
        "counts_list_PM(listlposetmatrices=leftMat,listrposetmatrices=rightMat,first_operation=generatePM,second_operation=isSemiEquidualizable,third_operation=False,n=8)"
      ],
      "metadata": {
        "colab": {
          "base_uri": "https://localhost:8080/"
        },
        "id": "L-dVGeRA_omn",
        "outputId": "23e829fb-dbcf-49ce-f549-1558275d3ff0"
      },
      "execution_count": null,
      "outputs": [
        {
          "output_type": "execute_result",
          "data": {
            "text/plain": [
              "([6, 22, 90, 394, 1806, 8558, 41586, 206098],\n",
              " [],\n",
              " [0, 4, 22, 113, 523, 2502, 12034, 59305],\n",
              " [6, 18, 68, 281, 1283, 6056, 29552, 146793])"
            ]
          },
          "metadata": {},
          "execution_count": 62
        }
      ]
    },
    {
      "cell_type": "code",
      "source": [
        "counts_list_PM(listlposetmatrices=leftMat,listrposetmatrices=rightMat,first_operation=generatePMMin,second_operation=isSemiEquidualizable,third_operation=False,n=8)"
      ],
      "metadata": {
        "colab": {
          "base_uri": "https://localhost:8080/"
        },
        "id": "SDTsTK5iDfJY",
        "outputId": "88318397-3e61-4d9c-d40f-a05084d28bcb"
      },
      "execution_count": null,
      "outputs": [
        {
          "output_type": "execute_result",
          "data": {
            "text/plain": [
              "([6, 22, 90, 394, 1806, 8558, 41586, 206098],\n",
              " [],\n",
              " [0, 2, 10, 53, 249, 1223, 5984, 29863],\n",
              " [6, 20, 80, 341, 1557, 7335, 35602, 176235])"
            ]
          },
          "metadata": {},
          "execution_count": 63
        }
      ]
    },
    {
      "cell_type": "code",
      "source": [
        "counts_list_PM(listlposetmatrices=leftMat,listrposetmatrices=rightMat,first_operation=generatePMMax,second_operation=isSemiEquidualizable,third_operation=False,n=8)"
      ],
      "metadata": {
        "colab": {
          "base_uri": "https://localhost:8080/"
        },
        "id": "jeJlcaPfIOlG",
        "outputId": "4013128d-596c-4a9b-e650-af6492690137"
      },
      "execution_count": null,
      "outputs": [
        {
          "output_type": "execute_result",
          "data": {
            "text/plain": [
              "([6, 22, 90, 394, 1806, 8558, 41586, 206098],\n",
              " [],\n",
              " [0, 2, 10, 53, 251, 1255, 6295, 32277],\n",
              " [6, 20, 80, 341, 1555, 7303, 35291, 173821])"
            ]
          },
          "metadata": {},
          "execution_count": 65
        }
      ]
    },
    {
      "cell_type": "code",
      "source": [
        "counts_list_PM(listlposetmatrices=leftMat,listrposetmatrices=rightMat,first_operation=generatePMMinMax,second_operation=isSemiEquidualizable,third_operation=False,n=8)"
      ],
      "metadata": {
        "colab": {
          "base_uri": "https://localhost:8080/"
        },
        "id": "eV00jsdpKL2y",
        "outputId": "a4f9ec36-8fc3-4b09-b57e-852f37834481"
      },
      "execution_count": null,
      "outputs": [
        {
          "output_type": "execute_result",
          "data": {
            "text/plain": [
              "([5, 15, 52, 201, 841, 3726, 17213, 82047],\n",
              " [],\n",
              " [0, 0, 0, 0, 0, 0, 0, 0],\n",
              " [5, 15, 52, 201, 841, 3726, 17213, 82047])"
            ]
          },
          "metadata": {},
          "execution_count": 66
        }
      ]
    }
  ],
  "metadata": {
    "colab": {
      "provenance": [],
      "authorship_tag": "ABX9TyO17/KmvnSDu+1a/mWkhDPV",
      "include_colab_link": true
    },
    "kernelspec": {
      "display_name": "Python 3",
      "name": "python3"
    },
    "language_info": {
      "name": "python"
    }
  },
  "nbformat": 4,
  "nbformat_minor": 0
}