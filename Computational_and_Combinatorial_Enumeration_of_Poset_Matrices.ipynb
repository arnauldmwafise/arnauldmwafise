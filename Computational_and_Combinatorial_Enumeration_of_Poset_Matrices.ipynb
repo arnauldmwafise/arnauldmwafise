{
  "cells": [
    {
      "cell_type": "markdown",
      "metadata": {
        "id": "view-in-github",
        "colab_type": "text"
      },
      "source": [
        "<a href=\"https://colab.research.google.com/github/arnauldmwafise/arnauldmwafise/blob/main/Computational_and_Combinatorial_Enumeration_of_Poset_Matrices.ipynb\" target=\"_parent\"><img src=\"https://colab.research.google.com/assets/colab-badge.svg\" alt=\"Open In Colab\"/></a>"
      ]
    },
    {
      "cell_type": "markdown",
      "metadata": {
        "id": "_q63IRlV2KCc"
      },
      "source": [
        "This notebook is based on the article \"**Operad Structure of Poset Matrices**\"\n",
        "available at https://arxiv.org/abs/2401.06814 and the algorithms described in **\"Computational and Combinatorial Enumeration of Poset Matrices\"** available at (https://doi.org/10.31219/osf.io/vg7pr)."
      ]
    },
    {
      "cell_type": "code",
      "execution_count": 1,
      "metadata": {
        "id": "RInhTNlXcHeC"
      },
      "outputs": [],
      "source": [
        "# import  packages\n",
        "import numpy as np\n",
        "import itertools\n",
        "import more_itertools\n",
        "import math\n",
        "import networkx as nx\n",
        "import matplotlib.pyplot as plt\n"
      ]
    },
    {
      "cell_type": "markdown",
      "metadata": {
        "id": "Rco0NYlIdFui"
      },
      "source": [
        "**isBinary** function determines if a matrix is binary (0,1)."
      ]
    },
    {
      "cell_type": "code",
      "execution_count": 2,
      "metadata": {
        "id": "4Lyk_Rh3c-G-"
      },
      "outputs": [],
      "source": [
        "def isBinary(inputarray):\n",
        "  return ((inputarray==0) | (inputarray==1)).all()"
      ]
    },
    {
      "cell_type": "markdown",
      "metadata": {
        "id": "3NU9M8p5eOdv"
      },
      "source": [
        "**isPosetMatrix** function determines if a triangular binary matrix is a poset."
      ]
    },
    {
      "cell_type": "code",
      "execution_count": 11,
      "metadata": {
        "id": "8_5MTlCUeRYV"
      },
      "outputs": [],
      "source": [
        "def isPosetMatrix(inputndarray):\n",
        "    \"\"\"\n",
        "    Test if a 2d numpy array represents a poset matrix.\n",
        "    Args:\n",
        "        inputndarray (np.array): square matrix.\n",
        "    Returns:\n",
        "            True if 2d np.array is poset matrix and False otherwise.\n",
        "    \"\"\"\n",
        "\n",
        "    if isBinary(inputndarray) and (np.allclose(inputndarray, np.tril(inputndarray)) or np.allclose(inputndarray, np.triu(inputndarray))):\n",
        "        mat=np.matmul(inputndarray,inputndarray)\n",
        "        initial_positions=list(zip(*np.where(inputndarray == 0)))\n",
        "        updated_positions=list(zip(*np.where( mat == 0)))\n",
        "        if  updated_positions==initial_positions:\n",
        "            return True\n",
        "        else:\n",
        "            return False\n",
        "    else:\n",
        "        return False"
      ]
    },
    {
      "cell_type": "markdown",
      "metadata": {
        "id": "0pyScpC-gYCK"
      },
      "source": [
        "**Examples using isPosetMatrix**"
      ]
    },
    {
      "cell_type": "code",
      "execution_count": 21,
      "metadata": {
        "id": "zB_Iiq4JkbDP"
      },
      "outputs": [],
      "source": [
        "matrix1=np.array([[1, 0, 0, 0, 0],\n",
        "       [1, 1, 0, 0, 0],\n",
        "       [1, 0, 1, 0, 0],\n",
        "       [1, 0, 0, 1, 0],\n",
        "       [1, 0, 0, 1, 1]])"
      ]
    },
    {
      "cell_type": "code",
      "execution_count": 22,
      "metadata": {
        "colab": {
          "base_uri": "https://localhost:8080/"
        },
        "id": "PPe-i4qxkwoY",
        "outputId": "3bc1f206-1e25-482e-de98-ffc64aa87ce9"
      },
      "outputs": [
        {
          "output_type": "execute_result",
          "data": {
            "text/plain": [
              "True"
            ]
          },
          "metadata": {},
          "execution_count": 22
        }
      ],
      "source": [
        "isPosetMatrix(matrix1)"
      ]
    },
    {
      "cell_type": "code",
      "execution_count": 23,
      "metadata": {
        "id": "HhWG1weihBKc"
      },
      "outputs": [],
      "source": [
        " matrix2= np.array([[1, 0, 0, 0],\n",
        "    [1, 1, 0, 0],\n",
        "    [1, 0, 1, 0],[1, 1, 1, 1]])"
      ]
    },
    {
      "cell_type": "code",
      "execution_count": 24,
      "metadata": {
        "colab": {
          "base_uri": "https://localhost:8080/"
        },
        "id": "ESkv7M_O9gLI",
        "outputId": "69e0b356-9164-41e1-e52d-d81248f491ab"
      },
      "outputs": [
        {
          "output_type": "execute_result",
          "data": {
            "text/plain": [
              "array([[1, 0, 0, 0],\n",
              "       [1, 1, 0, 0],\n",
              "       [1, 0, 1, 0],\n",
              "       [1, 1, 1, 1]])"
            ]
          },
          "metadata": {},
          "execution_count": 24
        }
      ],
      "source": [
        "matrix2"
      ]
    },
    {
      "cell_type": "code",
      "execution_count": 25,
      "metadata": {
        "colab": {
          "base_uri": "https://localhost:8080/"
        },
        "id": "l1SuCDnkhOR3",
        "outputId": "cca4b362-e5b7-4474-c39a-4b4a0bb59a3a"
      },
      "outputs": [
        {
          "output_type": "execute_result",
          "data": {
            "text/plain": [
              "True"
            ]
          },
          "metadata": {},
          "execution_count": 25
        }
      ],
      "source": [
        "isPosetMatrix(matrix2)"
      ]
    },
    {
      "cell_type": "code",
      "execution_count": 26,
      "metadata": {
        "id": "n21gvIbwhhIL"
      },
      "outputs": [],
      "source": [
        "matrix3=np.array([[1,0,0],[1,1,0],[0,1,1]])"
      ]
    },
    {
      "cell_type": "code",
      "execution_count": 27,
      "metadata": {
        "colab": {
          "base_uri": "https://localhost:8080/"
        },
        "id": "jt-lTQNdmWXW",
        "outputId": "ebe08ee1-6b90-49ad-e90c-558f7e3723c2"
      },
      "outputs": [
        {
          "output_type": "execute_result",
          "data": {
            "text/plain": [
              "array([[1, 0, 0],\n",
              "       [1, 1, 0],\n",
              "       [0, 1, 1]])"
            ]
          },
          "metadata": {},
          "execution_count": 27
        }
      ],
      "source": [
        "matrix3"
      ]
    },
    {
      "cell_type": "code",
      "execution_count": 28,
      "metadata": {
        "id": "gsJwuFgqhpvT",
        "colab": {
          "base_uri": "https://localhost:8080/"
        },
        "outputId": "8d7ed33a-009b-4900-a010-18946c6ed73c"
      },
      "outputs": [
        {
          "output_type": "execute_result",
          "data": {
            "text/plain": [
              "False"
            ]
          },
          "metadata": {},
          "execution_count": 28
        }
      ],
      "source": [
        "isPosetMatrix(matrix3)"
      ]
    },
    {
      "cell_type": "code",
      "source": [
        "def visualize_poset_from_triangular_matrix(poset_matrix,labels=None):\n",
        "\n",
        "    \"\"\"\n",
        "    Visualizes the Hasse diagram of a poset represented by a lower or upper triangular matrix.\n",
        "\n",
        "    Args:\n",
        "        matrix (np.array): A square lower triangular NumPy array where matrix[i, j] = 1\n",
        "                           if element i <= element j in the poset, and 0 otherwise.\n",
        "                           The matrix represents the partial order relation.\n",
        "        labels (list, optional): A list of labels for each element in the poset.\n",
        "                                 If None, default numerical labels will be used.\n",
        "    \"\"\"\n",
        "    num_indices=poset_matrix.shape[0]\n",
        "    if labels is None:\n",
        "        labels = list(range(1, (num_indices+1)))\n",
        "    elif len(labels) !=num_indices:\n",
        "        raise ValueError(\"Number of labels must match the number of elements in the matrix.\")\n",
        "\n",
        "    # Identify covering relations\n",
        "    covering_relations = []\n",
        "    n = len(labels)\n",
        "    for i in range(n):\n",
        "        for j in range(n):\n",
        "            if poset_matrix[i, j] == 1 and i != j:\n",
        "                is_covering = True\n",
        "                for k in range(n):\n",
        "                    if k != i and k != j and poset_matrix[i, k] == 1 and poset_matrix[k, j] == 1:\n",
        "                        is_covering = False\n",
        "                        break\n",
        "                if is_covering:\n",
        "                    covering_relations.append((labels[i], labels[j]))\n",
        "\n",
        "    # Construct the graph\n",
        "    G = nx.DiGraph()\n",
        "    G.add_nodes_from(labels)\n",
        "    G.add_edges_from(covering_relations)\n",
        "\n",
        "    # Visualize the Hasse Diagram\n",
        "    pos = nx.spring_layout(G, seed=42)\n",
        "    nx.draw_networkx_nodes(G, pos, node_color='lightblue', node_size=700)\n",
        "    nx.draw_networkx_edges(G, pos, arrowsize=20)\n",
        "    nx.draw_networkx_labels(G, pos, font_size=10, font_weight='bold')\n",
        "\n",
        "    plt.title(\"Hasse diagram representing the poset matrix :{}\".format(poset_matrix))\n",
        "    plt.axis('off') # Hide axes\n",
        "    plt.show()"
      ],
      "metadata": {
        "id": "cOgzoH_bOz3b"
      },
      "execution_count": null,
      "outputs": []
    },
    {
      "cell_type": "markdown",
      "source": [
        "The next three results visualize using the **Hasse diagram the transitively reduced directed acyclic graphs obtained from the poset matrices(matrix1,matrix2,matrix3) defined above.**"
      ],
      "metadata": {
        "id": "q9r0PKtV5ezF"
      }
    },
    {
      "cell_type": "code",
      "source": [
        "visualize_poset_from_triangular_matrix(matrix1)"
      ],
      "metadata": {
        "colab": {
          "base_uri": "https://localhost:8080/",
          "height": 512
        },
        "id": "0Rp6i1wg1d-d",
        "outputId": "5c7009e6-f16b-46f2-e6a1-4700a5d8db03"
      },
      "execution_count": null,
      "outputs": [
        {
          "output_type": "display_data",
          "data": {
            "text/plain": [
              "<Figure size 640x480 with 1 Axes>"
            ],
            "image/png": "[encoded data removed]"
          },
          "metadata": {}
        }
      ]
    },
    {
      "cell_type": "code",
      "source": [
        "visualize_poset_from_triangular_matrix(matrix2)"
      ],
      "metadata": {
        "colab": {
          "base_uri": "https://localhost:8080/",
          "height": 491
        },
        "id": "WDWuVEl10av9",
        "outputId": "010c3077-1e88-4748-84c5-6a48e5b67723"
      },
      "execution_count": null,
      "outputs": [
        {
          "output_type": "display_data",
          "data": {
            "text/plain": [
              "<Figure size 640x480 with 1 Axes>"
            ],
            "image/png": "[encoded data removed]"
          },
          "metadata": {}
        }
      ]
    },
    {
      "cell_type": "code",
      "source": [
        "visualize_poset_from_triangular_matrix(matrix3)"
      ],
      "metadata": {
        "colab": {
          "base_uri": "https://localhost:8080/",
          "height": 470
        },
        "id": "iCcOKR2a5UUB",
        "outputId": "4c95c42f-76fb-4820-e912-a24fb3394d2a"
      },
      "execution_count": null,
      "outputs": [
        {
          "output_type": "display_data",
          "data": {
            "text/plain": [
              "<Figure size 640x480 with 1 Axes>"
            ],
            "image/png": "[encoded data removed]"
          },
          "metadata": {}
        }
      ]
    },
    {
      "cell_type": "markdown",
      "metadata": {
        "id": "YxILsFbJkJw5"
      },
      "source": [
        "**findMax** function returns the set of all the maximal elements of a poset matrix."
      ]
    },
    {
      "cell_type": "code",
      "execution_count": 12,
      "metadata": {
        "id": "o_w4HwAgjzqL"
      },
      "outputs": [],
      "source": [
        "def findMax(posetmatrix):\n",
        "    \"\"\"\n",
        "    Determines all the maximal elemenst of a given poset matrix.\n",
        "    Args:\n",
        "        poset matrix: 2d np.array.\n",
        "    Returns:\n",
        "            List of all the maximal elements of the poset matrix.\n",
        "    \"\"\"\n",
        "\n",
        "    dimPM=posetmatrix.shape[0]\n",
        "    maxList=[x for x in range(dimPM) if sum(posetmatrix[:,x])==1]\n",
        "\n",
        "    return maxList"
      ]
    },
    {
      "cell_type": "markdown",
      "metadata": {
        "id": "Ga3_9fLYkgNe"
      },
      "source": [
        "Example of using **findMax**"
      ]
    },
    {
      "cell_type": "code",
      "execution_count": null,
      "metadata": {
        "colab": {
          "base_uri": "https://localhost:8080/"
        },
        "id": "7Mbg06yvkG9A",
        "outputId": "a9565baa-73b2-4d77-8bb3-c3ef1c6385d8"
      },
      "outputs": [
        {
          "output_type": "execute_result",
          "data": {
            "text/plain": [
              "[1, 2, 4]"
            ]
          },
          "metadata": {},
          "execution_count": 41
        }
      ],
      "source": [
        "findMax(matrix1)"
      ]
    },
    {
      "cell_type": "markdown",
      "metadata": {
        "id": "gJ7E1jUZk5q2"
      },
      "source": [
        "**findMin** function returns the set of all the minimal elements of a poset matrix"
      ]
    },
    {
      "cell_type": "code",
      "execution_count": 13,
      "metadata": {
        "id": "kLqCnjy5k4UZ"
      },
      "outputs": [],
      "source": [
        "def findMin(posetmatrix):\n",
        "    \"\"\"\n",
        "    Determines all the minimal elemenst of a given poset matrix.\n",
        "    Args:\n",
        "        poset matrix: 2d np.array.\n",
        "    Returns:\n",
        "            List of all the minimal elements of the poset matrix.\n",
        "    \"\"\"\n",
        "\n",
        "    dimPM=posetmatrix.shape[0]\n",
        "    minList=[ind for ind in range(dimPM) if sum(posetmatrix[ind])==1 ]\n",
        "\n",
        "\n",
        "    return minList"
      ]
    },
    {
      "cell_type": "markdown",
      "metadata": {
        "id": "b08f0PAJlSPN"
      },
      "source": [
        "Example of using **findMin**"
      ]
    },
    {
      "cell_type": "code",
      "execution_count": null,
      "metadata": {
        "colab": {
          "base_uri": "https://localhost:8080/"
        },
        "id": "z2l02KfQlLzT",
        "outputId": "4a7f5a27-02d1-4400-bd0b-82a6aab066e2"
      },
      "outputs": [
        {
          "output_type": "execute_result",
          "data": {
            "text/plain": [
              "[0]"
            ]
          },
          "metadata": {},
          "execution_count": 43
        }
      ],
      "source": [
        "findMin(matrix1)"
      ]
    },
    {
      "cell_type": "markdown",
      "metadata": {
        "id": "edd_frAxoe7L"
      },
      "source": [
        "**createU** constructs the submatrix U in a partial composition operation of poset matrices."
      ]
    },
    {
      "cell_type": "code",
      "execution_count": 14,
      "metadata": {
        "id": "iQJIcsfLoKoN"
      },
      "outputs": [],
      "source": [
        "def createU(lposetmatrix,rposetmatrix,i):\n",
        "    \"\"\"\n",
        "\n",
        "    Args:\n",
        "       lposetmatrix: 2d np.array representing the poset matrices for the first poset matrix (n x n) of\n",
        "                          the partial composition or operad operation.\n",
        "       rposetmatrix: d np.array representing the poset matrices for the second poset matrix (m x m) of\n",
        "                          the partial composition or operad operation.\n",
        "       i (int): The index in lposetmatrix where rposetmatrix is \"inserted\" (0-indexed).\n",
        "    Returns:\n",
        "            2d np array: (0,1)-matrix of size m × (i − 1).\n",
        "    \"\"\"\n",
        "\n",
        "    rowAi=lposetmatrix[i-1]\n",
        "    rowAi=rowAi[0:i-1]\n",
        "    dimE=rposetmatrix.shape[0]\n",
        "    U=np.zeros( (dimE,i-1),dtype='int64' )\n",
        "\n",
        "    for z in range(dimE):\n",
        "      if z in findMax(rposetmatrix):\n",
        "        U[z]=rowAi\n",
        "\n",
        "\n",
        "    return U"
      ]
    },
    {
      "cell_type": "markdown",
      "metadata": {
        "id": "I7Qc5RJbpLqO"
      },
      "source": [
        "**Example of using createU**"
      ]
    },
    {
      "cell_type": "code",
      "execution_count": null,
      "metadata": {
        "colab": {
          "base_uri": "https://localhost:8080/"
        },
        "id": "uzBHw5_SoTH1",
        "outputId": "bed6e9d3-e1a4-4569-b15f-0207f3680fbc"
      },
      "outputs": [
        {
          "output_type": "execute_result",
          "data": {
            "text/plain": [
              "array([[0, 0],\n",
              "       [0, 0],\n",
              "       [0, 0],\n",
              "       [1, 0]])"
            ]
          },
          "metadata": {},
          "execution_count": 45
        }
      ],
      "source": [
        "createU(matrix1, matrix2,3)"
      ]
    },
    {
      "cell_type": "markdown",
      "metadata": {
        "id": "C-NJMpN_pvZb"
      },
      "source": [
        "**createV** function constructs the submatrix V in a partial composition operation of poset matrices."
      ]
    },
    {
      "cell_type": "code",
      "execution_count": 19,
      "metadata": {
        "id": "PgmDu_v1o7XX"
      },
      "outputs": [],
      "source": [
        "def createV(lposetmatrix,rposetmatrix,i):\n",
        "   \"\"\"\n",
        "    Args:\n",
        "       lposetmatrix: 2d np.array representing the poset matrices for the first poset matrix (n x n) of\n",
        "                          the partial composition or operad operation.\n",
        "       rposetmatrix: d np.array representing the poset matrices for the second poset matrix (m x m) of\n",
        "                          the partial composition or operad operation.\n",
        "       i (int): The index in lposetmatrix where rposetmatrix is \"inserted\" (0-indexed).\n",
        "    Returns:\n",
        "            2d np array: (0,1)-matrix of size (n − i) × m.\n",
        "   \"\"\"\n",
        "\n",
        "   dimF=lposetmatrix.shape[0]\n",
        "   dimE=rposetmatrix.shape[0]\n",
        "   colAi=lposetmatrix[i:dimF,i-1]\n",
        "\n",
        "   v=np.zeros( (dimF-i,dimE),dtype='int64' )\n",
        "   for k in range(dimE):\n",
        "      if k in findMin(rposetmatrix):\n",
        "         v[:,k]=colAi\n",
        "\n",
        "   return v"
      ]
    },
    {
      "cell_type": "markdown",
      "metadata": {
        "id": "c4g4ht8qp7B8"
      },
      "source": [
        "Example using **createV**."
      ]
    },
    {
      "cell_type": "code",
      "execution_count": 29,
      "metadata": {
        "colab": {
          "base_uri": "https://localhost:8080/"
        },
        "id": "0H_JrAUCpEKC",
        "outputId": "e690c637-fd3b-43f2-eb84-536f2d048916"
      },
      "outputs": [
        {
          "output_type": "execute_result",
          "data": {
            "text/plain": [
              "array([[1, 0, 0, 0],\n",
              "       [1, 0, 0, 0],\n",
              "       [1, 0, 0, 0],\n",
              "       [1, 0, 0, 0]])"
            ]
          },
          "metadata": {},
          "execution_count": 29
        }
      ],
      "source": [
        "createV(matrix1,matrix2,1)"
      ]
    },
    {
      "cell_type": "code",
      "execution_count": null,
      "metadata": {
        "colab": {
          "base_uri": "https://localhost:8080/"
        },
        "id": "N6yOt_gd9p-K",
        "outputId": "a7c3768f-ab90-4784-f594-2e058d6b91f4"
      },
      "outputs": [
        {
          "output_type": "execute_result",
          "data": {
            "text/plain": [
              "array([[0, 0, 0, 0, 0],\n",
              "       [1, 0, 0, 0, 0]])"
            ]
          },
          "metadata": {},
          "execution_count": 48
        }
      ],
      "source": [
        "createV(matrix2,matrix1,2)"
      ]
    },
    {
      "cell_type": "markdown",
      "metadata": {
        "id": "hNaYulpCvX1Y"
      },
      "source": [
        "**flattenR** function takes in an ndarray as input and returns a copy of the array collapsed into one dimension"
      ]
    },
    {
      "cell_type": "code",
      "execution_count": null,
      "metadata": {
        "id": "Jkw4rTKKvFgz"
      },
      "outputs": [],
      "source": [
        "def flattenR(b):\n",
        "  return b.flatten()"
      ]
    },
    {
      "cell_type": "markdown",
      "source": [
        "**tupletoArray** converts a tuple into a square array of consisting of all its elements."
      ],
      "metadata": {
        "id": "boAN5n4tPki6"
      }
    },
    {
      "cell_type": "code",
      "execution_count": null,
      "metadata": {
        "id": "OJsEgnjBxrAg"
      },
      "outputs": [],
      "source": [
        "def tupletoArray(q):\n",
        "  size=len(q)\n",
        "  calc=int(size/(math.sqrt(size)))\n",
        "  return np.array(q).reshape(calc,calc)"
      ]
    },
    {
      "cell_type": "markdown",
      "source": [
        "**totuple** converts an iterable collection of items into a nested collection of tuples"
      ],
      "metadata": {
        "id": "yAwukQrAQS7S"
      }
    },
    {
      "cell_type": "code",
      "source": [
        "def totuple(a):\n",
        "    try:\n",
        "        return tuple(totuple(i) for i in a)\n",
        "    except TypeError:\n",
        "        return a"
      ],
      "metadata": {
        "id": "p80ZTEb46ek8"
      },
      "execution_count": null,
      "outputs": []
    },
    {
      "cell_type": "markdown",
      "source": [
        "**getUniqueMatrices** takes a collection of matrices and removes all the duplicate matrices."
      ],
      "metadata": {
        "id": "Rzf9XyVDYUD8"
      }
    },
    {
      "cell_type": "code",
      "execution_count": null,
      "metadata": {
        "id": "wQlL1ekuHsYL"
      },
      "outputs": [],
      "source": [
        "def getUniqueMatrices(matrixlist):\n",
        "\n",
        "        flatmatlist=list(map(flattenR,matrixlist))\n",
        "        tuple_list=totuple(flatmatlist)\n",
        "        uniquetuples=set(tuple_list)\n",
        "        uniquematlst=list(map(tupletoArray, uniquetuples))\n",
        "\n",
        "        return uniquematlst\n"
      ]
    },
    {
      "cell_type": "markdown",
      "source": [
        "**Example** using getUniqueMatrices function"
      ],
      "metadata": {
        "id": "g1hLu5_UkLe4"
      }
    },
    {
      "cell_type": "code",
      "source": [
        "lst_duplicates_matrices=[np.array([[1, 0, 0],\n",
        "        [0, 1, 0],\n",
        "        [0, 0, 1]]),\n",
        " np.array([[1, 0, 0],\n",
        "        [1, 1, 0],\n",
        "        [1, 0, 1]]),\n",
        " np.array([[1, 0, 0],\n",
        "        [1, 1, 0],\n",
        "        [0, 0, 1]]),\n",
        " np.array([[1, 0, 0],\n",
        "        [0, 1, 0],\n",
        "        [0, 0, 1]]),\n",
        " np.array([[1, 0, 0],\n",
        "        [1, 1, 0],\n",
        "        [1, 1, 1]]),\n",
        "  np.array([[1, 0, 0],\n",
        "        [1, 1, 0],\n",
        "        [1, 0, 1]])]"
      ],
      "metadata": {
        "id": "wvy93xDAjPF4"
      },
      "execution_count": null,
      "outputs": []
    },
    {
      "cell_type": "code",
      "source": [
        "getUniqueMatrices(lst_duplicates_matrices)"
      ],
      "metadata": {
        "colab": {
          "base_uri": "https://localhost:8080/"
        },
        "id": "a0bsUuHnj35H",
        "outputId": "5ec8e609-4a50-4806-c8a3-3b3d4ea820e7"
      },
      "execution_count": null,
      "outputs": [
        {
          "output_type": "execute_result",
          "data": {
            "text/plain": [
              "[array([[1, 0, 0],\n",
              "        [0, 1, 0],\n",
              "        [0, 0, 1]]),\n",
              " array([[1, 0, 0],\n",
              "        [1, 1, 0],\n",
              "        [1, 0, 1]]),\n",
              " array([[1, 0, 0],\n",
              "        [1, 1, 0],\n",
              "        [1, 1, 1]]),\n",
              " array([[1, 0, 0],\n",
              "        [1, 1, 0],\n",
              "        [0, 0, 1]])]"
            ]
          },
          "metadata": {},
          "execution_count": 54
        }
      ]
    },
    {
      "cell_type": "markdown",
      "source": [
        "**mergeList** merge a nested list into a single list."
      ],
      "metadata": {
        "id": "mW586KYEWmW1"
      }
    },
    {
      "cell_type": "code",
      "source": [
        "def mergeList(nestedlist):\n",
        "\n",
        "    merged_lst=[]\n",
        "    for i in range(len(nestedlist)):\n",
        "        for j in range(len(nestedlist[i])):\n",
        "            merged_lst +=nestedlist[i][j]\n",
        "\n",
        "    return merged_lst"
      ],
      "metadata": {
        "id": "sjj4Q0mn-cy1"
      },
      "execution_count": null,
      "outputs": []
    },
    {
      "cell_type": "markdown",
      "source": [
        "**Example** using mergeList function."
      ],
      "metadata": {
        "id": "g2n5K2ZFOTsg"
      }
    },
    {
      "cell_type": "code",
      "source": [
        "lst_to_merge=[[[np.array([[1, 0, 0],\n",
        "          [0, 1, 0],\n",
        "          [0, 0, 1]]),\n",
        "   np.array([[1, 0, 0],\n",
        "          [0, 1, 0],\n",
        "          [0, 0, 1]])],\n",
        "  [np.array([[1, 0, 0],\n",
        "          [0, 1, 0],\n",
        "          [1, 1, 1]]),\n",
        "   np.array([[1, 0, 0],\n",
        "          [1, 1, 0],\n",
        "          [1, 0, 1]])]],\n",
        " [[np.array([[1, 0, 0],\n",
        "          [1, 1, 0],\n",
        "          [0, 0, 1]]),\n",
        "   np.array([[1, 0, 0],\n",
        "          [0, 1, 0],\n",
        "          [0, 1, 1]])],\n",
        "  [np.array([[1, 0, 0],\n",
        "          [1, 1, 0],\n",
        "          [1, 1, 1]]),\n",
        "   np.array([[1, 0, 0],\n",
        "          [1, 1, 0],\n",
        "          [1, 1, 1]])]]]"
      ],
      "metadata": {
        "id": "COdL-i6X9gIb"
      },
      "execution_count": null,
      "outputs": []
    },
    {
      "cell_type": "code",
      "source": [
        "mergeList(lst_to_merge)"
      ],
      "metadata": {
        "colab": {
          "base_uri": "https://localhost:8080/"
        },
        "id": "k6f3o7_iWS__",
        "outputId": "6b777e6f-a90d-4a8b-a5ac-45c37138f5b0"
      },
      "execution_count": null,
      "outputs": [
        {
          "output_type": "execute_result",
          "data": {
            "text/plain": [
              "[array([[1, 0, 0],\n",
              "        [0, 1, 0],\n",
              "        [0, 0, 1]]),\n",
              " array([[1, 0, 0],\n",
              "        [0, 1, 0],\n",
              "        [0, 0, 1]]),\n",
              " array([[1, 0, 0],\n",
              "        [0, 1, 0],\n",
              "        [1, 1, 1]]),\n",
              " array([[1, 0, 0],\n",
              "        [1, 1, 0],\n",
              "        [1, 0, 1]]),\n",
              " array([[1, 0, 0],\n",
              "        [1, 1, 0],\n",
              "        [0, 0, 1]]),\n",
              " array([[1, 0, 0],\n",
              "        [0, 1, 0],\n",
              "        [0, 1, 1]]),\n",
              " array([[1, 0, 0],\n",
              "        [1, 1, 0],\n",
              "        [1, 1, 1]]),\n",
              " array([[1, 0, 0],\n",
              "        [1, 1, 0],\n",
              "        [1, 1, 1]])]"
            ]
          },
          "metadata": {},
          "execution_count": 57
        }
      ]
    },
    {
      "cell_type": "markdown",
      "metadata": {
        "id": "Se8B_hsmyiQf"
      },
      "source": [
        "Set of matrices used for inililiazation of  **counts_list_PM** function."
      ]
    },
    {
      "cell_type": "code",
      "execution_count": null,
      "metadata": {
        "id": "0pOL-LlTxpoT"
      },
      "outputs": [],
      "source": [
        "rightMat=[np.array([[1, 0],\n",
        "    [0, 1]]),np.array([[1, 0],\n",
        "    [1, 1]])]"
      ]
    },
    {
      "cell_type": "code",
      "execution_count": null,
      "metadata": {
        "id": "IchN14-GjqgD"
      },
      "outputs": [],
      "source": [
        "leftMat=rightMat"
      ]
    },
    {
      "cell_type": "code",
      "execution_count": null,
      "metadata": {
        "colab": {
          "base_uri": "https://localhost:8080/"
        },
        "id": "wg4DMuQIjr20",
        "outputId": "b08ad5fd-3ef1-4079-936f-b60cda588f60"
      },
      "outputs": [
        {
          "output_type": "execute_result",
          "data": {
            "text/plain": [
              "[array([[1, 0],\n",
              "        [0, 1]]),\n",
              " array([[1, 0],\n",
              "        [1, 1]])]"
            ]
          },
          "metadata": {},
          "execution_count": 60
        }
      ],
      "source": [
        "rightMat"
      ]
    },
    {
      "cell_type": "code",
      "execution_count": null,
      "metadata": {
        "colab": {
          "base_uri": "https://localhost:8080/"
        },
        "id": "JYg61cdxobTx",
        "outputId": "c675dac4-ea56-452e-e80c-09dec7e7a0f3"
      },
      "outputs": [
        {
          "output_type": "execute_result",
          "data": {
            "text/plain": [
              "[array([[1, 0],\n",
              "        [0, 1]]),\n",
              " array([[1, 0],\n",
              "        [1, 1]])]"
            ]
          },
          "metadata": {},
          "execution_count": 61
        }
      ],
      "source": [
        "leftMat"
      ]
    },
    {
      "cell_type": "code",
      "execution_count": null,
      "metadata": {
        "id": "6n1BaGX7XQ-8"
      },
      "outputs": [],
      "source": [
        "leftMatDisc=[leftMat[0]]"
      ]
    },
    {
      "cell_type": "code",
      "execution_count": null,
      "metadata": {
        "colab": {
          "base_uri": "https://localhost:8080/"
        },
        "id": "Or4_D2-DXdEI",
        "outputId": "26c957f1-69c9-4197-ea29-b086a65cf36b"
      },
      "outputs": [
        {
          "output_type": "execute_result",
          "data": {
            "text/plain": [
              "[array([[1, 0],\n",
              "        [0, 1]])]"
            ]
          },
          "metadata": {},
          "execution_count": 63
        }
      ],
      "source": [
        "leftMatDisc"
      ]
    },
    {
      "cell_type": "code",
      "execution_count": null,
      "metadata": {
        "id": "DM9JApVdXfGn"
      },
      "outputs": [],
      "source": [
        "leftMatConn=[leftMat[1]]"
      ]
    },
    {
      "cell_type": "code",
      "execution_count": null,
      "metadata": {
        "colab": {
          "base_uri": "https://localhost:8080/"
        },
        "id": "dEOavA3QXmZA",
        "outputId": "46adb5ea-2fee-4c78-ccb0-0801b9660566"
      },
      "outputs": [
        {
          "output_type": "execute_result",
          "data": {
            "text/plain": [
              "[array([[1, 0],\n",
              "        [1, 1]])]"
            ]
          },
          "metadata": {},
          "execution_count": 65
        }
      ],
      "source": [
        "leftMatConn"
      ]
    },
    {
      "cell_type": "markdown",
      "metadata": {
        "id": "mGrQl2ZVCpNl"
      },
      "source": [
        "**counts_list_PM** function computes the number of poset matrices or a specified class of poset matrices generated by an operad or partial composition operation."
      ]
    },
    {
      "cell_type": "code",
      "source": [
        "def counts_list_PM(listlposetmatrices=leftMat,listrposetmatrices=rightMat,first_operation=str(),second_operation=str(),third_operation=False, n=1):\n",
        "    \"\"\"\n",
        "    Counts the number of distinct poset matrices including permutation equivalent poset matrices\n",
        "     generated by partial composition and operad operations for a given size.\n",
        "     Args:\n",
        "       listlposetmatrices: list of 2d np.array representing the poset matrices for the first poset matrix (p x p) of\n",
        "                          the partial composition or operad operation.\n",
        "                          If default, then list consists of all 2x2 poset matrices represented by list of 2x2 2d arrays\n",
        "                          in LeftMat\n",
        "        listrposetmatrices: list of 2d np.array representing the poset matrices for the second poset matrix (q x q) of\n",
        "                          the partial composition or operad operation.\n",
        "                          If default, then list consists of all 2x2 poset matrices represented by list of 2x2 2d arrays\n",
        "                          in rightMat\n",
        "        first_operation: the defined function name of the partial composition or operad operation.\n",
        "\n",
        "        second_operation: the defined function name of any operation which determines if a structural property exist for a given poset matrix\n",
        "                          with an expected binary outcome\n",
        "\n",
        "        third_operation:If True then the list of np.ndarray poset matrices of sizes (p+q-1 x p+q-1) is presented in the results.\n",
        "                         If default, then no results with the list of np.ndarray poset matrices of sizes (p+q-1 x p+q-1) in the result set.\n",
        "         n: the number of iterations to count the poset matrices. Default is 1, if no other positive integer value is provided.\n",
        "     Returns:\n",
        "            list consisting of 1. the total number of non-duplicate poset matrices after each iteration,\n",
        "                               2. list of non-duplicate poset matrices at each iteration if the third operation is True,\n",
        "                               3. the total number of non-duplicate poset matrices belonging to the class of poset matrices defined\n",
        "                                  in the second_opeartion,\n",
        "                               4. the total number of non-duplicate poset matrices not belonging to the class of poset matrices defined\n",
        "                                  in the second_opeartion.\n",
        "    \"\"\"\n",
        "    counts=[]\n",
        "    num_PMtypes,num_nonPMtypes=list(),list()\n",
        "    list_PM=list()\n",
        "\n",
        "    for step in range(n):\n",
        "\n",
        "        result=list()\n",
        "        k=len(listlposetmatrices)\n",
        "\n",
        "        for item in range(len(listrposetmatrices)):\n",
        "\n",
        "            rposetmatrix=listrposetmatrices[item]\n",
        "            computed=list(map(first_operation,listlposetmatrices,[rposetmatrix]*k))\n",
        "            result.append(computed)\n",
        "\n",
        "        result=mergeList(result)\n",
        "        listlposetmatrices=getUniqueMatrices(result)\n",
        "\n",
        "        if second_operation!=str():\n",
        "\n",
        "            tupleTypes=tuple(map(second_operation,listlposetmatrices))\n",
        "            x=tupleTypes.count(True)\n",
        "            y=tupleTypes.count(False)\n",
        "            num_PMtypes.append(x)\n",
        "            num_nonPMtypes.append(y)\n",
        "\n",
        "        if third_operation==True:\n",
        "\n",
        "            if second_operation!=str():\n",
        "\n",
        "               list_PM.append(tuple(zip(listlposetmatrices,tupleTypes)))\n",
        "\n",
        "            else:\n",
        "\n",
        "               list_PM.append(listlposetmatrices)\n",
        "\n",
        "        else:\n",
        "\n",
        "            list_PM\n",
        "\n",
        "        counts.append(len(listlposetmatrices))\n",
        "\n",
        "    return (counts,list_PM,num_PMtypes, num_nonPMtypes)"
      ],
      "metadata": {
        "id": "e0Y6IGCxVYL5"
      },
      "execution_count": null,
      "outputs": []
    },
    {
      "cell_type": "markdown",
      "metadata": {
        "id": "DYCF3H85DO5c"
      },
      "source": [
        "**generatePM** function generates poset matrices using the  first operad operation"
      ]
    },
    {
      "cell_type": "code",
      "source": [
        "def generatePM(lposetmatrix,rposetmatrix):\n",
        "\n",
        "   \"\"\"\n",
        "     Args:\n",
        "        lposetmatrix (np.ndarray): The first poset matrix (p x p).\n",
        "        rposetmatrix (np.ndarray): The second poset matrix (q x q).\n",
        "     Returns:\n",
        "        list of np.ndarray: The resulting poset matrices of size (n+m-1 x n+m-1).\n",
        "   \"\"\"\n",
        "\n",
        "   dimE=rposetmatrix.shape[0]\n",
        "   dimF=lposetmatrix.shape[0]\n",
        "   outputlist=[]\n",
        "\n",
        "   for i in range(1,(dimF+1)): #i (int): The index in lposetmatrix where rposetmatrix is \"inserted\" (0-indexed).\n",
        "\n",
        "      A11=lposetmatrix[0:i-1,0:i-1]\n",
        "      A21=lposetmatrix[i:dimF,i:dimF]\n",
        "      A22=lposetmatrix[i:dimF,0:i-1]\n",
        "      y1=np.zeros( (i-1, dimF+dimE-i),dtype='int64' )\n",
        "      y2= np.zeros((dimE, dimF-i),dtype='int64' )\n",
        "      rowAi=lposetmatrix[i-1]\n",
        "      rowAi=rowAi[0:i-1]\n",
        "      colAi=lposetmatrix[i:dimF,i-1]\n",
        "      vecones=np.ones((dimE),dtype='int64' )\n",
        "      Ui=np.tensordot(vecones, rowAi, 0)\n",
        "      Vi=np.tensordot(vecones, colAi, 0)\n",
        "      Vi=np.transpose(Vi)\n",
        "      block1=np.concatenate((A11, y1), axis=1,dtype='int64')\n",
        "      block2=np.concatenate((Ui,rposetmatrix,y2), axis=1,dtype='int64')\n",
        "      block3=np.concatenate((A22,Vi,A21), axis=1,dtype='int64')\n",
        "      output=np.concatenate((block1,block2,block3), axis=0,dtype='int64')\n",
        "      outputlist.append(output)\n",
        "\n",
        "\n",
        "   return outputlist"
      ],
      "metadata": {
        "id": "YpB7Si5Noxpe"
      },
      "execution_count": null,
      "outputs": []
    },
    {
      "cell_type": "markdown",
      "source": [
        "**Example using generatePM**"
      ],
      "metadata": {
        "id": "ayVhSELsHHHF"
      }
    },
    {
      "cell_type": "code",
      "source": [
        "generatePM(matrix2,rightMat[1])"
      ],
      "metadata": {
        "colab": {
          "base_uri": "https://localhost:8080/"
        },
        "id": "tnrMg2d6FTY4",
        "outputId": "7dfb42bc-bfae-48c6-9dc9-eebe1015eb2b"
      },
      "execution_count": null,
      "outputs": [
        {
          "output_type": "execute_result",
          "data": {
            "text/plain": [
              "[array([[1, 0, 0, 0, 0],\n",
              "        [1, 1, 0, 0, 0],\n",
              "        [1, 1, 1, 0, 0],\n",
              "        [1, 1, 0, 1, 0],\n",
              "        [1, 1, 1, 1, 1]]),\n",
              " array([[1, 0, 0, 0, 0],\n",
              "        [1, 1, 0, 0, 0],\n",
              "        [1, 1, 1, 0, 0],\n",
              "        [1, 0, 0, 1, 0],\n",
              "        [1, 1, 1, 1, 1]]),\n",
              " array([[1, 0, 0, 0, 0],\n",
              "        [1, 1, 0, 0, 0],\n",
              "        [1, 0, 1, 0, 0],\n",
              "        [1, 0, 1, 1, 0],\n",
              "        [1, 1, 1, 1, 1]]),\n",
              " array([[1, 0, 0, 0, 0],\n",
              "        [1, 1, 0, 0, 0],\n",
              "        [1, 0, 1, 0, 0],\n",
              "        [1, 1, 1, 1, 0],\n",
              "        [1, 1, 1, 1, 1]])]"
            ]
          },
          "metadata": {},
          "execution_count": 152
        }
      ]
    },
    {
      "cell_type": "markdown",
      "metadata": {
        "id": "VOvf3md_DvWu"
      },
      "source": [
        "**generatePMMin** function generates the poset matrices using the second operad operation"
      ]
    },
    {
      "cell_type": "code",
      "execution_count": null,
      "metadata": {
        "id": "ie7vB2o41XyK"
      },
      "outputs": [],
      "source": [
        "def generatePMMin(lposetmatrix,rposetmatrix):\n",
        "\n",
        "   \"\"\"\n",
        "     Args:\n",
        "        lposetmatrix (np.ndarray): The first poset matrix (p x p).\n",
        "        rposetmatrix (np.ndarray): The second poset matrix (q x q).\n",
        "    Returns:\n",
        "        list of np.ndarray: The resulting poset matrices of size (n+m-1 x n+m-1).\n",
        "   \"\"\"\n",
        "   dimE=rposetmatrix.shape[0]\n",
        "   dimF=lposetmatrix.shape[0]\n",
        "   outputlist=[]\n",
        "\n",
        "   for i in range(1,(dimF+1)):#i (int): The index in lposetmatrix where rposetmatrix is \"inserted\" (0-indexed)\n",
        "\n",
        "      A11=lposetmatrix[0:i-1,0:i-1]\n",
        "      A21=lposetmatrix[i:dimF,i:dimF]\n",
        "      A22=lposetmatrix[i:dimF,0:i-1]\n",
        "      y1=np.zeros( (i-1, dimF+dimE-i),dtype='int64' )\n",
        "      y2= np.zeros((dimE, dimF-i),dtype='int64' )\n",
        "      rowAi=lposetmatrix[i-1]\n",
        "      rowAi=rowAi[0:i-1]\n",
        "      vecones=np.ones((dimE),dtype='int64' )\n",
        "      Ui=np.tensordot(vecones, rowAi, 0)\n",
        "\n",
        "      v=createV(lposetmatrix,rposetmatrix,i)\n",
        "      block1=np.concatenate((A11, y1), axis=1,dtype='int64')\n",
        "      block2=np.concatenate((Ui,rposetmatrix,y2), axis=1,dtype='int64')\n",
        "      block3=np.concatenate((A22,v,A21), axis=1,dtype='int64')\n",
        "      output=np.concatenate((block1,block2,block3), axis=0,dtype='int64')\n",
        "      outputlist.append(output)\n",
        "\n",
        "   return outputlist"
      ]
    },
    {
      "cell_type": "markdown",
      "source": [
        "**Example using generatePMMin**"
      ],
      "metadata": {
        "id": "EH0xZ3LlG0Mq"
      }
    },
    {
      "cell_type": "code",
      "source": [
        "generatePMMin(matrix2,rightMat[1])"
      ],
      "metadata": {
        "colab": {
          "base_uri": "https://localhost:8080/"
        },
        "outputId": "92815659-ab95-4341-bd68-8c827ddc519d",
        "id": "wiw3K8ZrGAhP"
      },
      "execution_count": null,
      "outputs": [
        {
          "output_type": "execute_result",
          "data": {
            "text/plain": [
              "[array([[1, 0, 0, 0, 0],\n",
              "        [1, 1, 0, 0, 0],\n",
              "        [1, 0, 1, 0, 0],\n",
              "        [1, 0, 0, 1, 0],\n",
              "        [1, 0, 1, 1, 1]]),\n",
              " array([[1, 0, 0, 0, 0],\n",
              "        [1, 1, 0, 0, 0],\n",
              "        [1, 1, 1, 0, 0],\n",
              "        [1, 0, 0, 1, 0],\n",
              "        [1, 1, 0, 1, 1]]),\n",
              " array([[1, 0, 0, 0, 0],\n",
              "        [1, 1, 0, 0, 0],\n",
              "        [1, 0, 1, 0, 0],\n",
              "        [1, 0, 1, 1, 0],\n",
              "        [1, 1, 1, 0, 1]]),\n",
              " array([[1, 0, 0, 0, 0],\n",
              "        [1, 1, 0, 0, 0],\n",
              "        [1, 0, 1, 0, 0],\n",
              "        [1, 1, 1, 1, 0],\n",
              "        [1, 1, 1, 1, 1]])]"
            ]
          },
          "metadata": {},
          "execution_count": 151
        }
      ]
    },
    {
      "cell_type": "markdown",
      "metadata": {
        "id": "NMkpvLmyD4Sh"
      },
      "source": [
        "**generatePMMax** function generates the poset matrices using the third operad operation"
      ]
    },
    {
      "cell_type": "code",
      "execution_count": null,
      "metadata": {
        "id": "wmhu5Ulw1eLU"
      },
      "outputs": [],
      "source": [
        "def generatePMMax(lposetmatrix,rposetmatrix):\n",
        "\n",
        "   \"\"\"\n",
        "     Args:\n",
        "        lposetmatrix (np.ndarray): The first poset matrix (p x p).\n",
        "        rposetmatrix (np.ndarray): The second poset matrix (q x q).\n",
        "    Returns:\n",
        "        list of np.ndarray: The resulting poset matrices are of size (n+m-1 x n+m-1).\n",
        "   \"\"\"\n",
        "\n",
        "   dimE=rposetmatrix.shape[0]\n",
        "   dimF=lposetmatrix.shape[0]\n",
        "   outputlist=[]\n",
        "\n",
        "   for i in range(1,(dimF+1)):#i (int): The index in lposetmatrix where rposetmatrix is \"inserted\" (0-indexed)\n",
        "\n",
        "      A11=lposetmatrix[0:i-1,0:i-1]\n",
        "      A21=lposetmatrix[i:dimF,i:dimF]\n",
        "      A22=lposetmatrix[i:dimF,0:i-1]\n",
        "      y1=np.zeros( (i-1, dimF+dimE-i),dtype='int64' )\n",
        "      y2= np.zeros((dimE, dimF-i),dtype='int64' )\n",
        "      U=createU(lposetmatrix,rposetmatrix,i)\n",
        "      vecones=np.ones((dimE),dtype='int64' )\n",
        "      colAi=lposetmatrix[i:dimF,i-1]\n",
        "      Vi=np.tensordot(vecones, colAi, 0)\n",
        "      Vi=np.transpose(Vi)\n",
        "      block1=np.concatenate((A11, y1), axis=1,dtype='int64')\n",
        "      block2=np.concatenate((U,rposetmatrix,y2), axis=1,dtype='int64')\n",
        "      block3=np.concatenate((A22,Vi,A21), axis=1,dtype='int64')\n",
        "      output=np.concatenate((block1,block2,block3), axis=0,dtype='int64')\n",
        "      outputlist.append(output)\n",
        "\n",
        "   return outputlist"
      ]
    },
    {
      "cell_type": "markdown",
      "source": [
        "**Example using generatePMMax**"
      ],
      "metadata": {
        "id": "uVWGKRniHTl7"
      }
    },
    {
      "cell_type": "code",
      "source": [
        "generatePMMax(matrix2,rightMat[1])"
      ],
      "metadata": {
        "colab": {
          "base_uri": "https://localhost:8080/"
        },
        "outputId": "6428a59a-08ee-45ea-c5c1-7829736c7ac3",
        "id": "b8Y_4nH6GuZq"
      },
      "execution_count": null,
      "outputs": [
        {
          "output_type": "execute_result",
          "data": {
            "text/plain": [
              "[array([[1, 0, 0, 0, 0],\n",
              "        [1, 1, 0, 0, 0],\n",
              "        [1, 1, 1, 0, 0],\n",
              "        [1, 1, 0, 1, 0],\n",
              "        [1, 1, 1, 1, 1]]),\n",
              " array([[1, 0, 0, 0, 0],\n",
              "        [0, 1, 0, 0, 0],\n",
              "        [1, 1, 1, 0, 0],\n",
              "        [1, 0, 0, 1, 0],\n",
              "        [1, 1, 1, 1, 1]]),\n",
              " array([[1, 0, 0, 0, 0],\n",
              "        [1, 1, 0, 0, 0],\n",
              "        [0, 0, 1, 0, 0],\n",
              "        [1, 0, 1, 1, 0],\n",
              "        [1, 1, 1, 1, 1]]),\n",
              " array([[1, 0, 0, 0, 0],\n",
              "        [1, 1, 0, 0, 0],\n",
              "        [1, 0, 1, 0, 0],\n",
              "        [0, 0, 0, 1, 0],\n",
              "        [1, 1, 1, 1, 1]])]"
            ]
          },
          "metadata": {},
          "execution_count": 150
        }
      ]
    },
    {
      "cell_type": "markdown",
      "metadata": {
        "id": "hNJ_wUzWEZbB"
      },
      "source": [
        "**generatePMMinMax** function generates the poset matrices using the partial composition operation defined in terms of the minimal and maximal elements."
      ]
    },
    {
      "cell_type": "code",
      "execution_count": null,
      "metadata": {
        "id": "vQ0pT-lc1pvG"
      },
      "outputs": [],
      "source": [
        "def generatePMMinMax(lposetmatrix,rposetmatrix):\n",
        "\n",
        "   \"\"\"\n",
        "     Args:\n",
        "        lposetmatrix (np.ndarray): The first poset matrix (p x p).\n",
        "        rposetmatrix (np.ndarray): The second poset matrix (q x q).\n",
        "    Returns:\n",
        "        list of np.ndarray: The resulting poset matrices of size (n+m-1 x n+m-1).\n",
        "   \"\"\"\n",
        "\n",
        "   dimE=rposetmatrix.shape[0]\n",
        "   dimF=lposetmatrix.shape[0]\n",
        "   outputlist=[]\n",
        "\n",
        "\n",
        "   for i in range(1,(dimF+1)):\n",
        "\n",
        "      A11=lposetmatrix[0:i-1,0:i-1]\n",
        "      A21=lposetmatrix[i:dimF,i:dimF]\n",
        "      A22=lposetmatrix[i:dimF,0:i-1]\n",
        "      y1=np.zeros( (i-1, dimF+dimE-i),dtype='int64' )\n",
        "      y2= np.zeros((dimE, dimF-i),dtype='int64' )\n",
        "      U=createU(lposetmatrix,rposetmatrix,i)\n",
        "      v=createV(lposetmatrix,rposetmatrix,i)\n",
        "      block1=np.concatenate((A11, y1), axis=1,dtype='int64')\n",
        "      block2=np.concatenate((U,rposetmatrix,y2), axis=1,dtype='int64')\n",
        "      block3=np.concatenate((A22,v,A21), axis=1,dtype='int64')\n",
        "      output=np.concatenate((block1,block2,block3), axis=0,dtype='int64')\n",
        "      outputlist.append(output)\n",
        "\n",
        "   return outputlist"
      ]
    },
    {
      "cell_type": "markdown",
      "source": [
        "**Example using generatePMMinMax**"
      ],
      "metadata": {
        "id": "AQ3uEPGtHpyb"
      }
    },
    {
      "cell_type": "code",
      "source": [
        "generatePMMinMax(matrix2,rightMat[1])"
      ],
      "metadata": {
        "colab": {
          "base_uri": "https://localhost:8080/"
        },
        "outputId": "e2e46049-f688-47da-dcce-09d044a025f6",
        "id": "sK5K82BCHcxZ"
      },
      "execution_count": null,
      "outputs": [
        {
          "output_type": "execute_result",
          "data": {
            "text/plain": [
              "[array([[1, 0, 0, 0, 0],\n",
              "        [1, 1, 0, 0, 0],\n",
              "        [1, 0, 1, 0, 0],\n",
              "        [1, 0, 0, 1, 0],\n",
              "        [1, 0, 1, 1, 1]]),\n",
              " array([[1, 0, 0, 0, 0],\n",
              "        [0, 1, 0, 0, 0],\n",
              "        [1, 1, 1, 0, 0],\n",
              "        [1, 0, 0, 1, 0],\n",
              "        [1, 1, 0, 1, 1]]),\n",
              " array([[1, 0, 0, 0, 0],\n",
              "        [1, 1, 0, 0, 0],\n",
              "        [0, 0, 1, 0, 0],\n",
              "        [1, 0, 1, 1, 0],\n",
              "        [1, 1, 1, 0, 1]]),\n",
              " array([[1, 0, 0, 0, 0],\n",
              "        [1, 1, 0, 0, 0],\n",
              "        [1, 0, 1, 0, 0],\n",
              "        [0, 0, 0, 1, 0],\n",
              "        [1, 1, 1, 1, 1]])]"
            ]
          },
          "metadata": {},
          "execution_count": 149
        }
      ]
    },
    {
      "cell_type": "markdown",
      "metadata": {
        "id": "IYt2xhuQX958"
      },
      "source": [
        "**Counts both Disconnected and Connected Poset Matrices of size 3x3 to 10x10\n",
        "generated by generatePM**"
      ]
    },
    {
      "cell_type": "code",
      "execution_count": null,
      "metadata": {
        "colab": {
          "base_uri": "https://localhost:8080/"
        },
        "id": "cVTKKWA93Vcy",
        "outputId": "3f2a0637-0259-470a-d763-61bf8753849f"
      },
      "outputs": [
        {
          "output_type": "execute_result",
          "data": {
            "text/plain": [
              "([6, 22, 90, 394, 1806, 8558, 41586, 206098], [], [], [])"
            ]
          },
          "metadata": {},
          "execution_count": 80
        }
      ],
      "source": [
        "counts_list_PM(listlposetmatrices=leftMat,listrposetmatrices=rightMat,first_operation=generatePM,second_operation=str(),third_operation=False,n=8)\n"
      ]
    },
    {
      "cell_type": "markdown",
      "source": [
        "**Counts and displays both Disconnected and Connected Poset Matrices of size 3x3 to 5x5\n",
        "generated by generatePM**"
      ],
      "metadata": {
        "id": "Ln-wtj-9xtsL"
      }
    },
    {
      "cell_type": "code",
      "source": [
        "counts_list_PM(listlposetmatrices=leftMat,listrposetmatrices=rightMat,first_operation=generatePM,second_operation=str(),third_operation=True,n=3)"
      ],
      "metadata": {
        "colab": {
          "base_uri": "https://localhost:8080/"
        },
        "id": "bPDTrbFPyGxb",
        "outputId": "5666ac65-9da4-4ff3-ca36-949d1c3101c7"
      },
      "execution_count": null,
      "outputs": [
        {
          "output_type": "execute_result",
          "data": {
            "text/plain": [
              "([6, 22, 90],\n",
              " [[array([[1, 0, 0],\n",
              "          [0, 1, 0],\n",
              "          [1, 1, 1]]),\n",
              "   array([[1, 0, 0],\n",
              "          [1, 1, 0],\n",
              "          [1, 0, 1]]),\n",
              "   array([[1, 0, 0],\n",
              "          [1, 1, 0],\n",
              "          [0, 0, 1]]),\n",
              "   array([[1, 0, 0],\n",
              "          [0, 1, 0],\n",
              "          [0, 0, 1]]),\n",
              "   array([[1, 0, 0],\n",
              "          [0, 1, 0],\n",
              "          [0, 1, 1]]),\n",
              "   array([[1, 0, 0],\n",
              "          [1, 1, 0],\n",
              "          [1, 1, 1]])],\n",
              "  [array([[1, 0, 0, 0],\n",
              "          [0, 1, 0, 0],\n",
              "          [0, 0, 1, 0],\n",
              "          [0, 1, 1, 1]]),\n",
              "   array([[1, 0, 0, 0],\n",
              "          [1, 1, 0, 0],\n",
              "          [1, 1, 1, 0],\n",
              "          [0, 0, 0, 1]]),\n",
              "   array([[1, 0, 0, 0],\n",
              "          [1, 1, 0, 0],\n",
              "          [1, 1, 1, 0],\n",
              "          [1, 1, 1, 1]]),\n",
              "   array([[1, 0, 0, 0],\n",
              "          [0, 1, 0, 0],\n",
              "          [0, 1, 1, 0],\n",
              "          [0, 1, 1, 1]]),\n",
              "   array([[1, 0, 0, 0],\n",
              "          [0, 1, 0, 0],\n",
              "          [0, 0, 1, 0],\n",
              "          [1, 1, 1, 1]]),\n",
              "   array([[1, 0, 0, 0],\n",
              "          [0, 1, 0, 0],\n",
              "          [0, 0, 1, 0],\n",
              "          [0, 0, 0, 1]]),\n",
              "   array([[1, 0, 0, 0],\n",
              "          [1, 1, 0, 0],\n",
              "          [0, 0, 1, 0],\n",
              "          [0, 0, 1, 1]]),\n",
              "   array([[1, 0, 0, 0],\n",
              "          [1, 1, 0, 0],\n",
              "          [1, 0, 1, 0],\n",
              "          [1, 0, 1, 1]]),\n",
              "   array([[1, 0, 0, 0],\n",
              "          [0, 1, 0, 0],\n",
              "          [1, 1, 1, 0],\n",
              "          [1, 1, 1, 1]]),\n",
              "   array([[1, 0, 0, 0],\n",
              "          [1, 1, 0, 0],\n",
              "          [1, 1, 1, 0],\n",
              "          [1, 1, 0, 1]]),\n",
              "   array([[1, 0, 0, 0],\n",
              "          [1, 1, 0, 0],\n",
              "          [1, 0, 1, 0],\n",
              "          [0, 0, 0, 1]]),\n",
              "   array([[1, 0, 0, 0],\n",
              "          [1, 1, 0, 0],\n",
              "          [0, 0, 1, 0],\n",
              "          [0, 0, 0, 1]]),\n",
              "   array([[1, 0, 0, 0],\n",
              "          [0, 1, 0, 0],\n",
              "          [1, 1, 1, 0],\n",
              "          [0, 0, 0, 1]]),\n",
              "   array([[1, 0, 0, 0],\n",
              "          [0, 1, 0, 0],\n",
              "          [0, 1, 1, 0],\n",
              "          [0, 0, 0, 1]]),\n",
              "   array([[1, 0, 0, 0],\n",
              "          [0, 1, 0, 0],\n",
              "          [1, 1, 1, 0],\n",
              "          [1, 1, 0, 1]]),\n",
              "   array([[1, 0, 0, 0],\n",
              "          [0, 1, 0, 0],\n",
              "          [0, 1, 1, 0],\n",
              "          [1, 1, 1, 1]]),\n",
              "   array([[1, 0, 0, 0],\n",
              "          [0, 1, 0, 0],\n",
              "          [0, 1, 1, 0],\n",
              "          [0, 1, 0, 1]]),\n",
              "   array([[1, 0, 0, 0],\n",
              "          [0, 1, 0, 0],\n",
              "          [0, 0, 1, 0],\n",
              "          [0, 0, 1, 1]]),\n",
              "   array([[1, 0, 0, 0],\n",
              "          [1, 1, 0, 0],\n",
              "          [1, 0, 1, 0],\n",
              "          [1, 1, 1, 1]]),\n",
              "   array([[1, 0, 0, 0],\n",
              "          [1, 1, 0, 0],\n",
              "          [1, 1, 1, 0],\n",
              "          [1, 0, 0, 1]]),\n",
              "   array([[1, 0, 0, 0],\n",
              "          [1, 1, 0, 0],\n",
              "          [0, 0, 1, 0],\n",
              "          [1, 1, 1, 1]]),\n",
              "   array([[1, 0, 0, 0],\n",
              "          [1, 1, 0, 0],\n",
              "          [1, 0, 1, 0],\n",
              "          [1, 0, 0, 1]])],\n",
              "  [array([[1, 0, 0, 0, 0],\n",
              "          [0, 1, 0, 0, 0],\n",
              "          [0, 0, 1, 0, 0],\n",
              "          [0, 0, 1, 1, 0],\n",
              "          [0, 0, 0, 0, 1]]),\n",
              "   array([[1, 0, 0, 0, 0],\n",
              "          [1, 1, 0, 0, 0],\n",
              "          [1, 1, 1, 0, 0],\n",
              "          [0, 0, 0, 1, 0],\n",
              "          [1, 1, 1, 1, 1]]),\n",
              "   array([[1, 0, 0, 0, 0],\n",
              "          [1, 1, 0, 0, 0],\n",
              "          [1, 1, 1, 0, 0],\n",
              "          [1, 1, 0, 1, 0],\n",
              "          [1, 1, 0, 1, 1]]),\n",
              "   array([[1, 0, 0, 0, 0],\n",
              "          [0, 1, 0, 0, 0],\n",
              "          [1, 1, 1, 0, 0],\n",
              "          [0, 0, 0, 1, 0],\n",
              "          [1, 1, 1, 1, 1]]),\n",
              "   array([[1, 0, 0, 0, 0],\n",
              "          [1, 1, 0, 0, 0],\n",
              "          [1, 1, 1, 0, 0],\n",
              "          [1, 1, 1, 1, 0],\n",
              "          [0, 0, 0, 0, 1]]),\n",
              "   array([[1, 0, 0, 0, 0],\n",
              "          [0, 1, 0, 0, 0],\n",
              "          [0, 1, 1, 0, 0],\n",
              "          [0, 1, 1, 1, 0],\n",
              "          [1, 1, 1, 1, 1]]),\n",
              "   array([[1, 0, 0, 0, 0],\n",
              "          [1, 1, 0, 0, 0],\n",
              "          [1, 1, 1, 0, 0],\n",
              "          [1, 0, 0, 1, 0],\n",
              "          [0, 0, 0, 0, 1]]),\n",
              "   array([[1, 0, 0, 0, 0],\n",
              "          [1, 1, 0, 0, 0],\n",
              "          [1, 1, 1, 0, 0],\n",
              "          [0, 0, 0, 1, 0],\n",
              "          [0, 0, 0, 1, 1]]),\n",
              "   array([[1, 0, 0, 0, 0],\n",
              "          [0, 1, 0, 0, 0],\n",
              "          [1, 1, 1, 0, 0],\n",
              "          [1, 1, 1, 1, 0],\n",
              "          [1, 1, 1, 1, 1]]),\n",
              "   array([[1, 0, 0, 0, 0],\n",
              "          [1, 1, 0, 0, 0],\n",
              "          [1, 0, 1, 0, 0],\n",
              "          [0, 0, 0, 1, 0],\n",
              "          [0, 0, 0, 1, 1]]),\n",
              "   array([[1, 0, 0, 0, 0],\n",
              "          [1, 1, 0, 0, 0],\n",
              "          [1, 1, 1, 0, 0],\n",
              "          [1, 0, 0, 1, 0],\n",
              "          [1, 0, 0, 1, 1]]),\n",
              "   array([[1, 0, 0, 0, 0],\n",
              "          [1, 1, 0, 0, 0],\n",
              "          [1, 1, 1, 0, 0],\n",
              "          [1, 1, 0, 1, 0],\n",
              "          [1, 1, 1, 1, 1]]),\n",
              "   array([[1, 0, 0, 0, 0],\n",
              "          [0, 1, 0, 0, 0],\n",
              "          [1, 1, 1, 0, 0],\n",
              "          [1, 1, 0, 1, 0],\n",
              "          [1, 1, 0, 0, 1]]),\n",
              "   array([[1, 0, 0, 0, 0],\n",
              "          [0, 1, 0, 0, 0],\n",
              "          [0, 0, 1, 0, 0],\n",
              "          [0, 0, 0, 1, 0],\n",
              "          [0, 0, 0, 0, 1]]),\n",
              "   array([[1, 0, 0, 0, 0],\n",
              "          [1, 1, 0, 0, 0],\n",
              "          [1, 1, 1, 0, 0],\n",
              "          [1, 1, 1, 1, 0],\n",
              "          [1, 0, 0, 0, 1]]),\n",
              "   array([[1, 0, 0, 0, 0],\n",
              "          [0, 1, 0, 0, 0],\n",
              "          [0, 0, 1, 0, 0],\n",
              "          [1, 1, 1, 1, 0],\n",
              "          [1, 1, 1, 0, 1]]),\n",
              "   array([[1, 0, 0, 0, 0],\n",
              "          [1, 1, 0, 0, 0],\n",
              "          [0, 0, 1, 0, 0],\n",
              "          [0, 0, 0, 1, 0],\n",
              "          [1, 1, 1, 1, 1]]),\n",
              "   array([[1, 0, 0, 0, 0],\n",
              "          [1, 1, 0, 0, 0],\n",
              "          [1, 1, 1, 0, 0],\n",
              "          [1, 1, 0, 1, 0],\n",
              "          [1, 0, 0, 0, 1]]),\n",
              "   array([[1, 0, 0, 0, 0],\n",
              "          [0, 1, 0, 0, 0],\n",
              "          [0, 0, 1, 0, 0],\n",
              "          [0, 0, 1, 1, 0],\n",
              "          [1, 1, 1, 1, 1]]),\n",
              "   array([[1, 0, 0, 0, 0],\n",
              "          [1, 1, 0, 0, 0],\n",
              "          [1, 0, 1, 0, 0],\n",
              "          [1, 0, 0, 1, 0],\n",
              "          [0, 0, 0, 0, 1]]),\n",
              "   array([[1, 0, 0, 0, 0],\n",
              "          [0, 1, 0, 0, 0],\n",
              "          [0, 1, 1, 0, 0],\n",
              "          [0, 1, 1, 1, 0],\n",
              "          [0, 1, 1, 1, 1]]),\n",
              "   array([[1, 0, 0, 0, 0],\n",
              "          [0, 1, 0, 0, 0],\n",
              "          [1, 1, 1, 0, 0],\n",
              "          [0, 0, 0, 1, 0],\n",
              "          [0, 0, 0, 1, 1]]),\n",
              "   array([[1, 0, 0, 0, 0],\n",
              "          [1, 1, 0, 0, 0],\n",
              "          [0, 0, 1, 0, 0],\n",
              "          [1, 1, 1, 1, 0],\n",
              "          [1, 1, 1, 0, 1]]),\n",
              "   array([[1, 0, 0, 0, 0],\n",
              "          [0, 1, 0, 0, 0],\n",
              "          [0, 1, 1, 0, 0],\n",
              "          [1, 1, 1, 1, 0],\n",
              "          [0, 0, 0, 0, 1]]),\n",
              "   array([[1, 0, 0, 0, 0],\n",
              "          [1, 1, 0, 0, 0],\n",
              "          [1, 1, 1, 0, 0],\n",
              "          [1, 1, 1, 1, 0],\n",
              "          [1, 1, 1, 0, 1]]),\n",
              "   array([[1, 0, 0, 0, 0],\n",
              "          [1, 1, 0, 0, 0],\n",
              "          [0, 0, 1, 0, 0],\n",
              "          [0, 0, 0, 1, 0],\n",
              "          [0, 0, 0, 1, 1]]),\n",
              "   array([[1, 0, 0, 0, 0],\n",
              "          [1, 1, 0, 0, 0],\n",
              "          [0, 0, 1, 0, 0],\n",
              "          [0, 0, 1, 1, 0],\n",
              "          [1, 1, 1, 1, 1]]),\n",
              "   array([[1, 0, 0, 0, 0],\n",
              "          [1, 1, 0, 0, 0],\n",
              "          [1, 0, 1, 0, 0],\n",
              "          [1, 0, 1, 1, 0],\n",
              "          [1, 0, 1, 1, 1]]),\n",
              "   array([[1, 0, 0, 0, 0],\n",
              "          [0, 1, 0, 0, 0],\n",
              "          [1, 1, 1, 0, 0],\n",
              "          [1, 1, 0, 1, 0],\n",
              "          [0, 0, 0, 0, 1]]),\n",
              "   array([[1, 0, 0, 0, 0],\n",
              "          [0, 1, 0, 0, 0],\n",
              "          [0, 1, 1, 0, 0],\n",
              "          [0, 1, 0, 1, 0],\n",
              "          [1, 1, 1, 1, 1]]),\n",
              "   array([[1, 0, 0, 0, 0],\n",
              "          [0, 1, 0, 0, 0],\n",
              "          [0, 1, 1, 0, 0],\n",
              "          [0, 0, 0, 1, 0],\n",
              "          [0, 0, 0, 0, 1]]),\n",
              "   array([[1, 0, 0, 0, 0],\n",
              "          [1, 1, 0, 0, 0],\n",
              "          [1, 0, 1, 0, 0],\n",
              "          [1, 0, 1, 1, 0],\n",
              "          [1, 1, 1, 1, 1]]),\n",
              "   array([[1, 0, 0, 0, 0],\n",
              "          [0, 1, 0, 0, 0],\n",
              "          [0, 0, 1, 0, 0],\n",
              "          [0, 1, 1, 1, 0],\n",
              "          [1, 1, 1, 1, 1]]),\n",
              "   array([[1, 0, 0, 0, 0],\n",
              "          [1, 1, 0, 0, 0],\n",
              "          [1, 0, 1, 0, 0],\n",
              "          [1, 0, 0, 1, 0],\n",
              "          [1, 1, 1, 1, 1]]),\n",
              "   array([[1, 0, 0, 0, 0],\n",
              "          [1, 1, 0, 0, 0],\n",
              "          [1, 0, 1, 0, 0],\n",
              "          [1, 1, 1, 1, 0],\n",
              "          [1, 0, 0, 0, 1]]),\n",
              "   array([[1, 0, 0, 0, 0],\n",
              "          [0, 1, 0, 0, 0],\n",
              "          [0, 0, 1, 0, 0],\n",
              "          [0, 0, 0, 1, 0],\n",
              "          [0, 1, 1, 1, 1]]),\n",
              "   array([[1, 0, 0, 0, 0],\n",
              "          [0, 1, 0, 0, 0],\n",
              "          [0, 1, 1, 0, 0],\n",
              "          [0, 1, 1, 1, 0],\n",
              "          [0, 0, 0, 0, 1]]),\n",
              "   array([[1, 0, 0, 0, 0],\n",
              "          [1, 1, 0, 0, 0],\n",
              "          [1, 1, 1, 0, 0],\n",
              "          [1, 1, 0, 1, 0],\n",
              "          [1, 1, 0, 0, 1]]),\n",
              "   array([[1, 0, 0, 0, 0],\n",
              "          [0, 1, 0, 0, 0],\n",
              "          [0, 0, 1, 0, 0],\n",
              "          [0, 1, 1, 1, 0],\n",
              "          [0, 1, 1, 0, 1]]),\n",
              "   array([[1, 0, 0, 0, 0],\n",
              "          [0, 1, 0, 0, 0],\n",
              "          [1, 1, 1, 0, 0],\n",
              "          [1, 1, 0, 1, 0],\n",
              "          [1, 1, 1, 1, 1]]),\n",
              "   array([[1, 0, 0, 0, 0],\n",
              "          [0, 1, 0, 0, 0],\n",
              "          [0, 0, 1, 0, 0],\n",
              "          [0, 0, 0, 1, 0],\n",
              "          [1, 1, 1, 1, 1]]),\n",
              "   array([[1, 0, 0, 0, 0],\n",
              "          [1, 1, 0, 0, 0],\n",
              "          [1, 1, 1, 0, 0],\n",
              "          [0, 0, 0, 1, 0],\n",
              "          [0, 0, 0, 0, 1]]),\n",
              "   array([[1, 0, 0, 0, 0],\n",
              "          [0, 1, 0, 0, 0],\n",
              "          [0, 1, 1, 0, 0],\n",
              "          [1, 1, 1, 1, 0],\n",
              "          [1, 1, 1, 0, 1]]),\n",
              "   array([[1, 0, 0, 0, 0],\n",
              "          [0, 1, 0, 0, 0],\n",
              "          [0, 0, 1, 0, 0],\n",
              "          [0, 0, 1, 1, 0],\n",
              "          [0, 1, 1, 1, 1]]),\n",
              "   array([[1, 0, 0, 0, 0],\n",
              "          [1, 1, 0, 0, 0],\n",
              "          [1, 0, 1, 0, 0],\n",
              "          [0, 0, 0, 1, 0],\n",
              "          [0, 0, 0, 0, 1]]),\n",
              "   array([[1, 0, 0, 0, 0],\n",
              "          [0, 1, 0, 0, 0],\n",
              "          [0, 0, 1, 0, 0],\n",
              "          [1, 1, 1, 1, 0],\n",
              "          [0, 0, 0, 0, 1]]),\n",
              "   array([[1, 0, 0, 0, 0],\n",
              "          [0, 1, 0, 0, 0],\n",
              "          [1, 1, 1, 0, 0],\n",
              "          [1, 1, 1, 1, 0],\n",
              "          [1, 1, 0, 0, 1]]),\n",
              "   array([[1, 0, 0, 0, 0],\n",
              "          [1, 1, 0, 0, 0],\n",
              "          [1, 1, 1, 0, 0],\n",
              "          [1, 0, 0, 1, 0],\n",
              "          [1, 1, 1, 1, 1]]),\n",
              "   array([[1, 0, 0, 0, 0],\n",
              "          [1, 1, 0, 0, 0],\n",
              "          [0, 0, 1, 0, 0],\n",
              "          [0, 0, 1, 1, 0],\n",
              "          [0, 0, 1, 0, 1]]),\n",
              "   array([[1, 0, 0, 0, 0],\n",
              "          [1, 1, 0, 0, 0],\n",
              "          [1, 0, 1, 0, 0],\n",
              "          [1, 1, 1, 1, 0],\n",
              "          [0, 0, 0, 0, 1]]),\n",
              "   array([[1, 0, 0, 0, 0],\n",
              "          [0, 1, 0, 0, 0],\n",
              "          [1, 1, 1, 0, 0],\n",
              "          [1, 1, 0, 1, 0],\n",
              "          [1, 1, 0, 1, 1]]),\n",
              "   array([[1, 0, 0, 0, 0],\n",
              "          [0, 1, 0, 0, 0],\n",
              "          [0, 1, 1, 0, 0],\n",
              "          [0, 1, 0, 1, 0],\n",
              "          [0, 1, 0, 1, 1]]),\n",
              "   array([[1, 0, 0, 0, 0],\n",
              "          [0, 1, 0, 0, 0],\n",
              "          [0, 0, 1, 0, 0],\n",
              "          [0, 0, 1, 1, 0],\n",
              "          [0, 0, 1, 1, 1]]),\n",
              "   array([[1, 0, 0, 0, 0],\n",
              "          [1, 1, 0, 0, 0],\n",
              "          [1, 0, 1, 0, 0],\n",
              "          [1, 1, 1, 1, 0],\n",
              "          [1, 1, 1, 1, 1]]),\n",
              "   array([[1, 0, 0, 0, 0],\n",
              "          [1, 1, 0, 0, 0],\n",
              "          [1, 0, 1, 0, 0],\n",
              "          [0, 0, 0, 1, 0],\n",
              "          [1, 1, 1, 1, 1]]),\n",
              "   array([[1, 0, 0, 0, 0],\n",
              "          [1, 1, 0, 0, 0],\n",
              "          [1, 1, 1, 0, 0],\n",
              "          [1, 1, 1, 1, 0],\n",
              "          [1, 1, 1, 1, 1]]),\n",
              "   array([[1, 0, 0, 0, 0],\n",
              "          [0, 1, 0, 0, 0],\n",
              "          [0, 0, 1, 0, 0],\n",
              "          [0, 0, 0, 1, 0],\n",
              "          [0, 0, 1, 1, 1]]),\n",
              "   array([[1, 0, 0, 0, 0],\n",
              "          [1, 1, 0, 0, 0],\n",
              "          [1, 0, 1, 0, 0],\n",
              "          [1, 0, 0, 1, 0],\n",
              "          [1, 0, 0, 1, 1]]),\n",
              "   array([[1, 0, 0, 0, 0],\n",
              "          [1, 1, 0, 0, 0],\n",
              "          [0, 0, 1, 0, 0],\n",
              "          [0, 0, 0, 1, 0],\n",
              "          [0, 0, 0, 0, 1]]),\n",
              "   array([[1, 0, 0, 0, 0],\n",
              "          [1, 1, 0, 0, 0],\n",
              "          [1, 0, 1, 0, 0],\n",
              "          [1, 0, 1, 1, 0],\n",
              "          [1, 0, 1, 0, 1]]),\n",
              "   array([[1, 0, 0, 0, 0],\n",
              "          [0, 1, 0, 0, 0],\n",
              "          [1, 1, 1, 0, 0],\n",
              "          [1, 1, 1, 1, 0],\n",
              "          [1, 1, 1, 0, 1]]),\n",
              "   array([[1, 0, 0, 0, 0],\n",
              "          [1, 1, 0, 0, 0],\n",
              "          [1, 1, 1, 0, 0],\n",
              "          [1, 0, 0, 1, 0],\n",
              "          [1, 0, 0, 0, 1]]),\n",
              "   array([[1, 0, 0, 0, 0],\n",
              "          [0, 1, 0, 0, 0],\n",
              "          [1, 1, 1, 0, 0],\n",
              "          [1, 1, 1, 1, 0],\n",
              "          [0, 0, 0, 0, 1]]),\n",
              "   array([[1, 0, 0, 0, 0],\n",
              "          [0, 1, 0, 0, 0],\n",
              "          [0, 1, 1, 0, 0],\n",
              "          [0, 1, 1, 1, 0],\n",
              "          [0, 1, 0, 0, 1]]),\n",
              "   array([[1, 0, 0, 0, 0],\n",
              "          [1, 1, 0, 0, 0],\n",
              "          [0, 0, 1, 0, 0],\n",
              "          [1, 1, 1, 1, 0],\n",
              "          [0, 0, 0, 0, 1]]),\n",
              "   array([[1, 0, 0, 0, 0],\n",
              "          [1, 1, 0, 0, 0],\n",
              "          [0, 0, 1, 0, 0],\n",
              "          [0, 0, 1, 1, 0],\n",
              "          [0, 0, 0, 0, 1]]),\n",
              "   array([[1, 0, 0, 0, 0],\n",
              "          [0, 1, 0, 0, 0],\n",
              "          [0, 0, 1, 0, 0],\n",
              "          [0, 0, 0, 1, 0],\n",
              "          [0, 0, 0, 1, 1]]),\n",
              "   array([[1, 0, 0, 0, 0],\n",
              "          [1, 1, 0, 0, 0],\n",
              "          [0, 0, 1, 0, 0],\n",
              "          [0, 0, 0, 1, 0],\n",
              "          [0, 0, 1, 1, 1]]),\n",
              "   array([[1, 0, 0, 0, 0],\n",
              "          [1, 1, 0, 0, 0],\n",
              "          [1, 0, 1, 0, 0],\n",
              "          [1, 0, 1, 1, 0],\n",
              "          [1, 0, 0, 0, 1]]),\n",
              "   array([[1, 0, 0, 0, 0],\n",
              "          [1, 1, 0, 0, 0],\n",
              "          [1, 0, 1, 0, 0],\n",
              "          [1, 0, 0, 1, 0],\n",
              "          [1, 0, 0, 0, 1]]),\n",
              "   array([[1, 0, 0, 0, 0],\n",
              "          [0, 1, 0, 0, 0],\n",
              "          [0, 1, 1, 0, 0],\n",
              "          [0, 1, 1, 1, 0],\n",
              "          [0, 1, 1, 0, 1]]),\n",
              "   array([[1, 0, 0, 0, 0],\n",
              "          [1, 1, 0, 0, 0],\n",
              "          [1, 1, 1, 0, 0],\n",
              "          [1, 1, 0, 1, 0],\n",
              "          [0, 0, 0, 0, 1]]),\n",
              "   array([[1, 0, 0, 0, 0],\n",
              "          [0, 1, 0, 0, 0],\n",
              "          [0, 0, 1, 0, 0],\n",
              "          [1, 1, 1, 1, 0],\n",
              "          [1, 1, 1, 1, 1]]),\n",
              "   array([[1, 0, 0, 0, 0],\n",
              "          [0, 1, 0, 0, 0],\n",
              "          [0, 1, 1, 0, 0],\n",
              "          [0, 1, 0, 1, 0],\n",
              "          [0, 0, 0, 0, 1]]),\n",
              "   array([[1, 0, 0, 0, 0],\n",
              "          [0, 1, 0, 0, 0],\n",
              "          [0, 0, 1, 0, 0],\n",
              "          [0, 1, 1, 1, 0],\n",
              "          [0, 1, 1, 1, 1]]),\n",
              "   array([[1, 0, 0, 0, 0],\n",
              "          [0, 1, 0, 0, 0],\n",
              "          [1, 1, 1, 0, 0],\n",
              "          [0, 0, 0, 1, 0],\n",
              "          [0, 0, 0, 0, 1]]),\n",
              "   array([[1, 0, 0, 0, 0],\n",
              "          [0, 1, 0, 0, 0],\n",
              "          [0, 1, 1, 0, 0],\n",
              "          [0, 0, 0, 1, 0],\n",
              "          [0, 1, 1, 1, 1]]),\n",
              "   array([[1, 0, 0, 0, 0],\n",
              "          [0, 1, 0, 0, 0],\n",
              "          [0, 0, 1, 0, 0],\n",
              "          [0, 1, 1, 1, 0],\n",
              "          [0, 0, 0, 0, 1]]),\n",
              "   array([[1, 0, 0, 0, 0],\n",
              "          [1, 1, 0, 0, 0],\n",
              "          [1, 1, 1, 0, 0],\n",
              "          [1, 1, 1, 1, 0],\n",
              "          [1, 1, 0, 0, 1]]),\n",
              "   array([[1, 0, 0, 0, 0],\n",
              "          [0, 1, 0, 0, 0],\n",
              "          [0, 1, 1, 0, 0],\n",
              "          [1, 1, 1, 1, 0],\n",
              "          [1, 1, 1, 1, 1]]),\n",
              "   array([[1, 0, 0, 0, 0],\n",
              "          [1, 1, 0, 0, 0],\n",
              "          [0, 0, 1, 0, 0],\n",
              "          [1, 1, 1, 1, 0],\n",
              "          [1, 1, 1, 1, 1]]),\n",
              "   array([[1, 0, 0, 0, 0],\n",
              "          [0, 1, 0, 0, 0],\n",
              "          [0, 0, 1, 0, 0],\n",
              "          [0, 0, 1, 1, 0],\n",
              "          [0, 0, 1, 0, 1]]),\n",
              "   array([[1, 0, 0, 0, 0],\n",
              "          [1, 1, 0, 0, 0],\n",
              "          [1, 0, 1, 0, 0],\n",
              "          [1, 0, 0, 1, 0],\n",
              "          [1, 0, 1, 1, 1]]),\n",
              "   array([[1, 0, 0, 0, 0],\n",
              "          [0, 1, 0, 0, 0],\n",
              "          [0, 1, 1, 0, 0],\n",
              "          [0, 1, 0, 1, 0],\n",
              "          [0, 1, 0, 0, 1]]),\n",
              "   array([[1, 0, 0, 0, 0],\n",
              "          [0, 1, 0, 0, 0],\n",
              "          [0, 1, 1, 0, 0],\n",
              "          [0, 0, 0, 1, 0],\n",
              "          [1, 1, 1, 1, 1]]),\n",
              "   array([[1, 0, 0, 0, 0],\n",
              "          [0, 1, 0, 0, 0],\n",
              "          [0, 1, 1, 0, 0],\n",
              "          [0, 1, 0, 1, 0],\n",
              "          [0, 1, 1, 1, 1]]),\n",
              "   array([[1, 0, 0, 0, 0],\n",
              "          [1, 1, 0, 0, 0],\n",
              "          [1, 0, 1, 0, 0],\n",
              "          [1, 0, 1, 1, 0],\n",
              "          [0, 0, 0, 0, 1]]),\n",
              "   array([[1, 0, 0, 0, 0],\n",
              "          [1, 1, 0, 0, 0],\n",
              "          [0, 0, 1, 0, 0],\n",
              "          [0, 0, 1, 1, 0],\n",
              "          [0, 0, 1, 1, 1]]),\n",
              "   array([[1, 0, 0, 0, 0],\n",
              "          [0, 1, 0, 0, 0],\n",
              "          [0, 1, 1, 0, 0],\n",
              "          [0, 0, 0, 1, 0],\n",
              "          [0, 0, 0, 1, 1]]),\n",
              "   array([[1, 0, 0, 0, 0],\n",
              "          [1, 1, 0, 0, 0],\n",
              "          [1, 0, 1, 0, 0],\n",
              "          [1, 1, 1, 1, 0],\n",
              "          [1, 1, 1, 0, 1]])]],\n",
              " [],\n",
              " [])"
            ]
          },
          "metadata": {},
          "execution_count": 156
        }
      ]
    },
    {
      "cell_type": "markdown",
      "metadata": {
        "id": "7-mHo0uXBGKh"
      },
      "source": [
        "**Count the number of  Connected Poset Matrices of size 3x3 to 10x10 generated using generatePM**"
      ]
    },
    {
      "cell_type": "code",
      "execution_count": null,
      "metadata": {
        "colab": {
          "base_uri": "https://localhost:8080/"
        },
        "id": "vN5DQFzXAv39",
        "outputId": "d9469231-2d40-4c12-c057-9a2a669e3ea3"
      },
      "outputs": [
        {
          "output_type": "execute_result",
          "data": {
            "text/plain": [
              "([3, 11, 45, 197, 903, 4279, 20793, 103049], [], [], [])"
            ]
          },
          "metadata": {},
          "execution_count": 38
        }
      ],
      "source": [
        "counts_list_PM(listlposetmatrices=leftMatConn,listrposetmatrices=rightMat,first_operation=generatePM,second_operation=str(),third_operation=False,n=8)"
      ]
    },
    {
      "cell_type": "markdown",
      "metadata": {
        "id": "hdfLmWhYjgxK"
      },
      "source": [
        "**Count the number of Connected and Disconnected Poset Matrices of size 3x3 to 10x10 generated using generatePMMin**"
      ]
    },
    {
      "cell_type": "code",
      "execution_count": null,
      "metadata": {
        "colab": {
          "base_uri": "https://localhost:8080/"
        },
        "id": "ZuSHqdMyjgUq",
        "outputId": "11e8918e-4384-4139-c445-07f1d6a7fefa"
      },
      "outputs": [
        {
          "output_type": "execute_result",
          "data": {
            "text/plain": [
              "([6, 22, 90, 394, 1806, 8558, 41586, 206098], [], [], [])"
            ]
          },
          "metadata": {},
          "execution_count": 43
        }
      ],
      "source": [
        "counts_list_PM(listlposetmatrices=leftMat,listrposetmatrices=rightMat,first_operation=generatePMMin,second_operation=str(),third_operation=False,n=8)"
      ]
    },
    {
      "cell_type": "markdown",
      "metadata": {
        "id": "ofvW8R2miInD"
      },
      "source": [
        "**Count the number of  Connected Poset Matrices of size 3x3 to 10x10 generated using generatePMMin**"
      ]
    },
    {
      "cell_type": "code",
      "execution_count": null,
      "metadata": {
        "colab": {
          "base_uri": "https://localhost:8080/"
        },
        "id": "gVI5cypgiETX",
        "outputId": "643d1b0f-52c5-4ad9-ed29-714fee838195"
      },
      "outputs": [
        {
          "output_type": "execute_result",
          "data": {
            "text/plain": [
              "([3, 11, 45, 197, 903, 4279, 20793, 103049], [], [], [])"
            ]
          },
          "metadata": {},
          "execution_count": 44
        }
      ],
      "source": [
        "counts_list_PM(listlposetmatrices=leftMatConn,listrposetmatrices=rightMat,first_operation=generatePMMin,second_operation=str(),third_operation=False,n=8)"
      ]
    },
    {
      "cell_type": "markdown",
      "metadata": {
        "id": "tFOFWtTJkY0t"
      },
      "source": [
        "**Count the number of Connected and Disconnected Poset Matrices of size 3x3 to 10x10 generated using generatePMMax**"
      ]
    },
    {
      "cell_type": "code",
      "execution_count": null,
      "metadata": {
        "colab": {
          "base_uri": "https://localhost:8080/"
        },
        "id": "x8hq3Pi9kX0O",
        "outputId": "083e20a9-4607-452b-9369-833dd2456b59"
      },
      "outputs": [
        {
          "output_type": "execute_result",
          "data": {
            "text/plain": [
              "([6, 22, 90, 394, 1806, 8558, 41586, 206098], [], [], [])"
            ]
          },
          "metadata": {},
          "execution_count": 45
        }
      ],
      "source": [
        "counts_list_PM(listlposetmatrices=leftMat,listrposetmatrices=rightMat,first_operation=generatePMMax,second_operation=str(),third_operation=False,n=8)"
      ]
    },
    {
      "cell_type": "markdown",
      "source": [
        "**Number of Connected Poset Matrices of size 3x3 to 10x10 generated by the operad operation generatePMMax**"
      ],
      "metadata": {
        "id": "_nilB1eflbsW"
      }
    },
    {
      "cell_type": "code",
      "source": [
        "counts_list_PM(listlposetmatrices=leftMatConn,listrposetmatrices=rightMat,first_operation=generatePMMax,second_operation=str(),third_operation=False,n=8)"
      ],
      "metadata": {
        "colab": {
          "base_uri": "https://localhost:8080/"
        },
        "id": "M-fZxzjXli_h",
        "outputId": "73599ced-e6ed-449b-d241-9ec5108d4385"
      },
      "execution_count": null,
      "outputs": [
        {
          "output_type": "execute_result",
          "data": {
            "text/plain": [
              "([3, 11, 45, 197, 903, 4279, 20793, 103049], [], [], [])"
            ]
          },
          "metadata": {},
          "execution_count": 46
        }
      ]
    },
    {
      "cell_type": "markdown",
      "metadata": {
        "id": "4AZV240zCslD"
      },
      "source": [
        "**Number of connected and disconnnected poset matrices of size 3x3 to 10x10 generated by operad operation generatePMMinMax**"
      ]
    },
    {
      "cell_type": "code",
      "execution_count": null,
      "metadata": {
        "colab": {
          "base_uri": "https://localhost:8080/"
        },
        "id": "CZYHj_3g7MN4",
        "outputId": "a9e4d443-3cd6-4c43-da09-305425350752"
      },
      "outputs": [
        {
          "output_type": "execute_result",
          "data": {
            "text/plain": [
              "([5, 15, 52, 201, 841, 3726, 17213, 82047], [], [], [])"
            ]
          },
          "metadata": {},
          "execution_count": 47
        }
      ],
      "source": [
        "counts_list_PM(listlposetmatrices=leftMat,listrposetmatrices=rightMat,first_operation=generatePMMinMax,second_operation=str(),third_operation=False,n=8)\n"
      ]
    },
    {
      "cell_type": "markdown",
      "metadata": {
        "id": "pR35lB32C9YR"
      },
      "source": [
        "**Number of Connected Poset Matrices of size 3x3 to 10x10 generated by the operad operation generatePMMinMax**"
      ]
    },
    {
      "cell_type": "code",
      "execution_count": null,
      "metadata": {
        "colab": {
          "base_uri": "https://localhost:8080/"
        },
        "id": "eI2T8NmqDM4r",
        "outputId": "49cbfed4-839e-4749-ea61-355d752bb7ae"
      },
      "outputs": [
        {
          "output_type": "execute_result",
          "data": {
            "text/plain": [
              "([2, 6, 22, 90, 394, 1806, 8558, 41586], [], [], [])"
            ]
          },
          "metadata": {},
          "execution_count": 48
        }
      ],
      "source": [
        "counts_list_PM(listlposetmatrices=leftMatConn,listrposetmatrices=rightMat,first_operation=generatePMMinMax,second_operation=str(),third_operation=False,n=8)\n"
      ]
    },
    {
      "cell_type": "markdown",
      "metadata": {
        "id": "5tyhpKwuGK8n"
      },
      "source": [
        "**Number of Disconnected Poset Matrices of size 3x3 to 10x10 generated by the operad operation generatePMMinMax**"
      ]
    },
    {
      "cell_type": "code",
      "execution_count": null,
      "metadata": {
        "colab": {
          "base_uri": "https://localhost:8080/"
        },
        "id": "k5p7RW-wDbkz",
        "outputId": "868af536-90a4-4833-c4b6-3861017cfa9d"
      },
      "outputs": [
        {
          "output_type": "execute_result",
          "data": {
            "text/plain": [
              "([3, 9, 30, 111, 447, 1920, 8655, 40461], [], [], [])"
            ]
          },
          "metadata": {},
          "execution_count": 49
        }
      ],
      "source": [
        "counts_list_PM(listlposetmatrices=leftMatDisc,listrposetmatrices=rightMat,first_operation=generatePMMinMax,second_operation=str(),third_operation=False,n=8)\n"
      ]
    },
    {
      "cell_type": "markdown",
      "metadata": {
        "id": "ltOLaV6bCSP9"
      },
      "source": [
        "**dualize** function transforms a poset matrix to its dual representation"
      ]
    },
    {
      "cell_type": "code",
      "execution_count": null,
      "metadata": {
        "id": "p5Kgsn81Bys1"
      },
      "outputs": [],
      "source": [
        "def dualize(posetmatrix):\n",
        "\n",
        "  dimPoset=posetmatrix.shape[0]\n",
        "  dualmatrix = np.zeros((dimPoset,dimPoset),int)\n",
        "\n",
        "  for s in range(dimPoset):\n",
        "     for r in range(dimPoset):\n",
        "        dualmatrix[s,r]=posetmatrix[dimPoset-r-1,dimPoset-s-1]\n",
        "\n",
        "  return dualmatrix"
      ]
    },
    {
      "cell_type": "markdown",
      "metadata": {
        "id": "p62Dww7SDGuk"
      },
      "source": [
        "**typeOfduality** function determines if a poset matrix is self dualizable by returning False or non-self dualizable by returning True."
      ]
    },
    {
      "cell_type": "code",
      "execution_count": null,
      "metadata": {
        "id": "4iT7BifPClU9"
      },
      "outputs": [],
      "source": [
        "def typeOfduality(posetmatrix):\n",
        "\n",
        "    if np.allclose(dualize(posetmatrix),posetmatrix):\n",
        "        return False\n",
        "    else:\n",
        "        return True"
      ]
    },
    {
      "cell_type": "markdown",
      "metadata": {
        "id": "7z9YHgPtRCLr"
      },
      "source": [
        "**Examples using dualize and typeOfduality functions**"
      ]
    },
    {
      "cell_type": "code",
      "source": [
        "matrix1"
      ],
      "metadata": {
        "colab": {
          "base_uri": "https://localhost:8080/"
        },
        "id": "znAzhdkMnY7h",
        "outputId": "8e4fa78e-1a43-48d5-91b6-0a939d0c1070"
      },
      "execution_count": null,
      "outputs": [
        {
          "output_type": "execute_result",
          "data": {
            "text/plain": [
              "array([[1, 0, 0, 0, 0],\n",
              "       [1, 1, 0, 0, 0],\n",
              "       [1, 0, 1, 0, 0],\n",
              "       [1, 0, 0, 1, 0],\n",
              "       [1, 0, 0, 1, 1]])"
            ]
          },
          "metadata": {},
          "execution_count": 41
        }
      ]
    },
    {
      "cell_type": "code",
      "execution_count": null,
      "metadata": {
        "colab": {
          "base_uri": "https://localhost:8080/"
        },
        "id": "qAkv7VXARq-Y",
        "outputId": "b58026fe-7b85-4acd-ea41-42a219dbb82c"
      },
      "outputs": [
        {
          "output_type": "execute_result",
          "data": {
            "text/plain": [
              "array([[1, 0, 0, 0, 0],\n",
              "       [1, 1, 0, 0, 0],\n",
              "       [0, 0, 1, 0, 0],\n",
              "       [0, 0, 0, 1, 0],\n",
              "       [1, 1, 1, 1, 1]])"
            ]
          },
          "metadata": {},
          "execution_count": 42
        }
      ],
      "source": [
        "dualize(matrix1)"
      ]
    },
    {
      "cell_type": "code",
      "source": [
        "matrix2"
      ],
      "metadata": {
        "colab": {
          "base_uri": "https://localhost:8080/"
        },
        "id": "poSbNqDqoFXl",
        "outputId": "21efb6f3-f132-4ec9-eb72-327b158917a6"
      },
      "execution_count": null,
      "outputs": [
        {
          "output_type": "execute_result",
          "data": {
            "text/plain": [
              "array([[1, 0, 0, 0],\n",
              "       [1, 1, 0, 0],\n",
              "       [1, 0, 1, 0],\n",
              "       [1, 1, 1, 1]])"
            ]
          },
          "metadata": {},
          "execution_count": 43
        }
      ]
    },
    {
      "cell_type": "code",
      "source": [
        "dualize(matrix2)"
      ],
      "metadata": {
        "colab": {
          "base_uri": "https://localhost:8080/"
        },
        "id": "gA2E3LP7omOa",
        "outputId": "41a646e9-0b15-48b8-e28a-3f2c195accc7"
      },
      "execution_count": null,
      "outputs": [
        {
          "output_type": "execute_result",
          "data": {
            "text/plain": [
              "array([[1, 0, 0, 0],\n",
              "       [1, 1, 0, 0],\n",
              "       [1, 0, 1, 0],\n",
              "       [1, 1, 1, 1]])"
            ]
          },
          "metadata": {},
          "execution_count": 44
        }
      ]
    },
    {
      "cell_type": "code",
      "execution_count": null,
      "metadata": {
        "id": "0OdZDXh7SIaC"
      },
      "outputs": [],
      "source": [
        "matrix4=np.array([[1,0],[1,1]])"
      ]
    },
    {
      "cell_type": "code",
      "execution_count": null,
      "metadata": {
        "colab": {
          "base_uri": "https://localhost:8080/"
        },
        "id": "WFpAiVtPSk26",
        "outputId": "b55eca12-71c2-4f47-a799-9d2e066f5199"
      },
      "outputs": [
        {
          "output_type": "execute_result",
          "data": {
            "text/plain": [
              "False"
            ]
          },
          "metadata": {},
          "execution_count": 46
        }
      ],
      "source": [
        " typeOfduality(matrix4)"
      ]
    },
    {
      "cell_type": "code",
      "source": [
        " typeOfduality(matrix1)"
      ],
      "metadata": {
        "colab": {
          "base_uri": "https://localhost:8080/"
        },
        "id": "H2arZ0O6o0WV",
        "outputId": "7574def4-edab-4520-be27-f5d43ecaa21e"
      },
      "execution_count": null,
      "outputs": [
        {
          "output_type": "execute_result",
          "data": {
            "text/plain": [
              "True"
            ]
          },
          "metadata": {},
          "execution_count": 47
        }
      ]
    },
    {
      "cell_type": "code",
      "execution_count": null,
      "metadata": {
        "id": "HwWJy4TvWjBr"
      },
      "outputs": [],
      "source": [
        "unitmat=np.array([[1]])"
      ]
    },
    {
      "cell_type": "code",
      "execution_count": null,
      "metadata": {
        "colab": {
          "base_uri": "https://localhost:8080/"
        },
        "id": "fwCnbjaYWnjz",
        "outputId": "5a9f90e0-df49-4494-f556-a98c100f83dc"
      },
      "outputs": [
        {
          "output_type": "execute_result",
          "data": {
            "text/plain": [
              "array([[1]])"
            ]
          },
          "metadata": {},
          "execution_count": 49
        }
      ],
      "source": [
        "dualize(unitmat)"
      ]
    },
    {
      "cell_type": "markdown",
      "metadata": {
        "id": "ShImKkxsT538"
      },
      "source": [
        "**Enumeration of Connected and Disconnected poset matrices of size 3x3 and 4x4, generated using generatePM in terms of self dual and non-self dual types.**"
      ]
    },
    {
      "cell_type": "code",
      "execution_count": null,
      "metadata": {
        "colab": {
          "base_uri": "https://localhost:8080/"
        },
        "id": "X265vDl-Tom0",
        "outputId": "9a713270-289f-4fc8-f83f-4c3e5dd46c86"
      },
      "outputs": [
        {
          "output_type": "execute_result",
          "data": {
            "text/plain": [
              "([6, 22],\n",
              " [((array([[1, 0, 0],\n",
              "           [0, 1, 0],\n",
              "           [1, 1, 1]]),\n",
              "    True),\n",
              "   (array([[1, 0, 0],\n",
              "           [1, 1, 0],\n",
              "           [1, 0, 1]]),\n",
              "    True),\n",
              "   (array([[1, 0, 0],\n",
              "           [1, 1, 0],\n",
              "           [0, 0, 1]]),\n",
              "    True),\n",
              "   (array([[1, 0, 0],\n",
              "           [0, 1, 0],\n",
              "           [0, 0, 1]]),\n",
              "    False),\n",
              "   (array([[1, 0, 0],\n",
              "           [0, 1, 0],\n",
              "           [0, 1, 1]]),\n",
              "    True),\n",
              "   (array([[1, 0, 0],\n",
              "           [1, 1, 0],\n",
              "           [1, 1, 1]]),\n",
              "    False)),\n",
              "  ((array([[1, 0, 0, 0],\n",
              "           [0, 1, 0, 0],\n",
              "           [0, 0, 1, 0],\n",
              "           [0, 1, 1, 1]]),\n",
              "    True),\n",
              "   (array([[1, 0, 0, 0],\n",
              "           [1, 1, 0, 0],\n",
              "           [1, 1, 1, 0],\n",
              "           [0, 0, 0, 1]]),\n",
              "    True),\n",
              "   (array([[1, 0, 0, 0],\n",
              "           [1, 1, 0, 0],\n",
              "           [1, 1, 1, 0],\n",
              "           [1, 1, 1, 1]]),\n",
              "    False),\n",
              "   (array([[1, 0, 0, 0],\n",
              "           [0, 1, 0, 0],\n",
              "           [0, 1, 1, 0],\n",
              "           [0, 1, 1, 1]]),\n",
              "    True),\n",
              "   (array([[1, 0, 0, 0],\n",
              "           [0, 1, 0, 0],\n",
              "           [0, 0, 1, 0],\n",
              "           [1, 1, 1, 1]]),\n",
              "    True),\n",
              "   (array([[1, 0, 0, 0],\n",
              "           [0, 1, 0, 0],\n",
              "           [0, 0, 1, 0],\n",
              "           [0, 0, 0, 1]]),\n",
              "    False),\n",
              "   (array([[1, 0, 0, 0],\n",
              "           [1, 1, 0, 0],\n",
              "           [0, 0, 1, 0],\n",
              "           [0, 0, 1, 1]]),\n",
              "    False),\n",
              "   (array([[1, 0, 0, 0],\n",
              "           [1, 1, 0, 0],\n",
              "           [1, 0, 1, 0],\n",
              "           [1, 0, 1, 1]]),\n",
              "    True),\n",
              "   (array([[1, 0, 0, 0],\n",
              "           [0, 1, 0, 0],\n",
              "           [1, 1, 1, 0],\n",
              "           [1, 1, 1, 1]]),\n",
              "    True),\n",
              "   (array([[1, 0, 0, 0],\n",
              "           [1, 1, 0, 0],\n",
              "           [1, 1, 1, 0],\n",
              "           [1, 1, 0, 1]]),\n",
              "    True),\n",
              "   (array([[1, 0, 0, 0],\n",
              "           [1, 1, 0, 0],\n",
              "           [1, 0, 1, 0],\n",
              "           [0, 0, 0, 1]]),\n",
              "    True),\n",
              "   (array([[1, 0, 0, 0],\n",
              "           [1, 1, 0, 0],\n",
              "           [0, 0, 1, 0],\n",
              "           [0, 0, 0, 1]]),\n",
              "    True),\n",
              "   (array([[1, 0, 0, 0],\n",
              "           [0, 1, 0, 0],\n",
              "           [1, 1, 1, 0],\n",
              "           [0, 0, 0, 1]]),\n",
              "    True),\n",
              "   (array([[1, 0, 0, 0],\n",
              "           [0, 1, 0, 0],\n",
              "           [0, 1, 1, 0],\n",
              "           [0, 0, 0, 1]]),\n",
              "    False),\n",
              "   (array([[1, 0, 0, 0],\n",
              "           [0, 1, 0, 0],\n",
              "           [1, 1, 1, 0],\n",
              "           [1, 1, 0, 1]]),\n",
              "    False),\n",
              "   (array([[1, 0, 0, 0],\n",
              "           [0, 1, 0, 0],\n",
              "           [0, 1, 1, 0],\n",
              "           [1, 1, 1, 1]]),\n",
              "    True),\n",
              "   (array([[1, 0, 0, 0],\n",
              "           [0, 1, 0, 0],\n",
              "           [0, 1, 1, 0],\n",
              "           [0, 1, 0, 1]]),\n",
              "    True),\n",
              "   (array([[1, 0, 0, 0],\n",
              "           [0, 1, 0, 0],\n",
              "           [0, 0, 1, 0],\n",
              "           [0, 0, 1, 1]]),\n",
              "    True),\n",
              "   (array([[1, 0, 0, 0],\n",
              "           [1, 1, 0, 0],\n",
              "           [1, 0, 1, 0],\n",
              "           [1, 1, 1, 1]]),\n",
              "    False),\n",
              "   (array([[1, 0, 0, 0],\n",
              "           [1, 1, 0, 0],\n",
              "           [1, 1, 1, 0],\n",
              "           [1, 0, 0, 1]]),\n",
              "    True),\n",
              "   (array([[1, 0, 0, 0],\n",
              "           [1, 1, 0, 0],\n",
              "           [0, 0, 1, 0],\n",
              "           [1, 1, 1, 1]]),\n",
              "    True),\n",
              "   (array([[1, 0, 0, 0],\n",
              "           [1, 1, 0, 0],\n",
              "           [1, 0, 1, 0],\n",
              "           [1, 0, 0, 1]]),\n",
              "    True))],\n",
              " [4, 16],\n",
              " [2, 6])"
            ]
          },
          "metadata": {},
          "execution_count": 50
        }
      ],
      "source": [
        "counts_list_PM(listlposetmatrices=leftMat,listrposetmatrices=rightMat,first_operation=generatePM,second_operation=typeOfduality,third_operation=True,n=2)"
      ]
    },
    {
      "cell_type": "markdown",
      "source": [
        "**Enumeration of Connected and Disconnected poset matrices of size 3x3 to 10x10 generated using generatePM in terms of self dual and non-self dual types.**"
      ],
      "metadata": {
        "id": "jVJqauP1U8fo"
      }
    },
    {
      "cell_type": "code",
      "source": [
        "counts_list_PM(listlposetmatrices=leftMat,listrposetmatrices=rightMat,first_operation=generatePM,second_operation=typeOfduality,third_operation=False,n=8)"
      ],
      "metadata": {
        "colab": {
          "base_uri": "https://localhost:8080/"
        },
        "id": "069WFflTpoSX",
        "outputId": "6a875eba-299a-4c2d-fe03-0823f9c3a1c4"
      },
      "execution_count": null,
      "outputs": [
        {
          "output_type": "execute_result",
          "data": {
            "text/plain": [
              "([6, 22, 90, 394, 1806, 8558, 41586, 206098],\n",
              " [],\n",
              " [4, 16, 84, 372, 1784, 8468, 41496, 205704],\n",
              " [2, 6, 6, 22, 22, 90, 90, 394])"
            ]
          },
          "metadata": {},
          "execution_count": 51
        }
      ]
    },
    {
      "cell_type": "markdown",
      "metadata": {
        "id": "ORF9P4vz-dVK"
      },
      "source": [
        "**Enumeration of Connected poset matrices of size 3x3 to 10x10 generated using generatePM in terms of self dual and non-self dual types.**"
      ]
    },
    {
      "cell_type": "code",
      "execution_count": null,
      "metadata": {
        "colab": {
          "base_uri": "https://localhost:8080/"
        },
        "id": "75v86UVk9Qaz",
        "outputId": "f8c1bfe8-654a-4fda-8d3c-0a5f37c14017"
      },
      "outputs": [
        {
          "output_type": "execute_result",
          "data": {
            "text/plain": [
              "([3, 11, 45, 197, 903, 4279, 20793, 103049],\n",
              " [],\n",
              " [2, 8, 42, 186, 892, 4234, 20748, 102852],\n",
              " [1, 3, 3, 11, 11, 45, 45, 197])"
            ]
          },
          "metadata": {},
          "execution_count": 61
        }
      ],
      "source": [
        "counts_list_PM(listlposetmatrices=leftMatConn,listrposetmatrices=rightMat,first_operation=generatePM,second_operation=typeOfduality,third_operation=False,n=8)"
      ]
    },
    {
      "cell_type": "markdown",
      "metadata": {
        "id": "Do8X0FNH-hhi"
      },
      "source": [
        "**Enumeration of Connected and Disconnected poset matrices of size 3x3 to 10x10 generated using generatePMMin in terms of self dual and non-self dual types.**"
      ]
    },
    {
      "cell_type": "code",
      "execution_count": null,
      "metadata": {
        "colab": {
          "base_uri": "https://localhost:8080/"
        },
        "id": "lzoNtjb_-WJc",
        "outputId": "81d5deb8-ff52-4f6b-d7d7-4ed87faf623d"
      },
      "outputs": [
        {
          "output_type": "execute_result",
          "data": {
            "text/plain": [
              "([6, 22, 90, 394, 1806, 8558, 41586, 206098],\n",
              " [],\n",
              " [4, 15, 84, 372, 1788, 8493, 41533, 205909],\n",
              " [2, 7, 6, 22, 18, 65, 53, 189])"
            ]
          },
          "metadata": {},
          "execution_count": 62
        }
      ],
      "source": [
        "counts_list_PM(listlposetmatrices=leftMat,listrposetmatrices=rightMat,first_operation=generatePMMin,second_operation=typeOfduality,third_operation=False,n=8)"
      ]
    },
    {
      "cell_type": "markdown",
      "metadata": {
        "id": "92demKA-AZ7E"
      },
      "source": [
        "**Enumeration of Connected poset matrices of size 3x3 to 10x10 generated using generatePMMin in terms of self dual and non-self dual types.**"
      ]
    },
    {
      "cell_type": "code",
      "execution_count": null,
      "metadata": {
        "colab": {
          "base_uri": "https://localhost:8080/"
        },
        "id": "nzuJ8WUoAsLJ",
        "outputId": "eefaf081-aa53-4f05-f5ce-6ae19bfcc84a"
      },
      "outputs": [
        {
          "output_type": "execute_result",
          "data": {
            "text/plain": [
              "([3, 11, 45, 197, 903, 4279, 20793, 103049],\n",
              " [],\n",
              " [2, 7, 42, 187, 896, 4257, 20778, 103003],\n",
              " [1, 4, 3, 10, 7, 22, 15, 46])"
            ]
          },
          "metadata": {},
          "execution_count": 63
        }
      ],
      "source": [
        "counts_list_PM(listlposetmatrices=leftMatConn,listrposetmatrices=rightMat,first_operation=generatePMMin,second_operation=typeOfduality,third_operation=False,n=8)"
      ]
    },
    {
      "cell_type": "markdown",
      "metadata": {
        "id": "smIJtDOOBVaL"
      },
      "source": [
        "**Enumeration of Connected and Disconnected poset matrices of size 3x3 to 10x10 generated using generatePMMax in terms of self dual and non-self dual types.**"
      ]
    },
    {
      "cell_type": "code",
      "execution_count": null,
      "metadata": {
        "colab": {
          "base_uri": "https://localhost:8080/"
        },
        "id": "RXxdioSTBUyR",
        "outputId": "fc36d46a-4265-4f07-ea20-fe8ad1bd482b"
      },
      "outputs": [
        {
          "data": {
            "text/plain": [
              "([6, 22, 90, 394, 1806, 8558, 41586, 206098],\n",
              " [],\n",
              " ([4, 15, 84, 372, 1788, 8493, 41533, 205909], [2, 7, 6, 22, 18, 65, 53, 189]))"
            ]
          },
          "execution_count": 67,
          "metadata": {},
          "output_type": "execute_result"
        }
      ],
      "source": [
        "counts_list_PM(listlposetmatrices=leftMat,listrposetmatrices=rightMat,first_operation=generatePMMax,second_operation=typeOfduality,third_operation=False,n=8)"
      ]
    },
    {
      "cell_type": "markdown",
      "metadata": {
        "id": "xRbEVFdsCuux"
      },
      "source": [
        "**Enumeration of Connected poset matrices of size 3x3 to 10x10 generated using generatePMMax in terms of self dual and non-self dual types.**"
      ]
    },
    {
      "cell_type": "code",
      "execution_count": null,
      "metadata": {
        "colab": {
          "base_uri": "https://localhost:8080/"
        },
        "id": "jNXcwkBZCqSh",
        "outputId": "72432e47-6021-4310-a072-7fbe91d202fe"
      },
      "outputs": [
        {
          "data": {
            "text/plain": [
              "([3, 11, 45, 197, 903, 4279, 20793, 103049],\n",
              " [],\n",
              " ([2, 7, 42, 187, 896, 4257, 20778, 103003], [1, 4, 3, 10, 7, 22, 15, 46]))"
            ]
          },
          "execution_count": 69,
          "metadata": {},
          "output_type": "execute_result"
        }
      ],
      "source": [
        "counts_list_PM(listlposetmatrices=leftMatConn,listrposetmatrices=rightMat,first_operation=generatePMMax,second_operation=typeOfduality,third_operation=False,n=8)"
      ]
    },
    {
      "cell_type": "markdown",
      "metadata": {
        "id": "tLKDNLsFD3kQ"
      },
      "source": [
        "**Enumeration of Connected and Disconnected poset matrices of size 3x3 to 10x10 generated using generatePMMinMax in terms of self dual and non-self dual types.**"
      ]
    },
    {
      "cell_type": "code",
      "execution_count": null,
      "metadata": {
        "colab": {
          "base_uri": "https://localhost:8080/"
        },
        "id": "oohNdwO4D9xY",
        "outputId": "88decee0-bafa-4c9a-bda2-f069cc71c419"
      },
      "outputs": [
        {
          "data": {
            "text/plain": [
              "([5, 15, 52, 201, 841, 3726, 17213, 82047],\n",
              " [],\n",
              " ([4, 10, 50, 186, 836, 3674, 17198, 81846], [1, 5, 2, 15, 5, 52, 15, 201]))"
            ]
          },
          "execution_count": 70,
          "metadata": {},
          "output_type": "execute_result"
        }
      ],
      "source": [
        "counts_list_PM(listlposetmatrices=leftMat,listrposetmatrices=rightMat,first_operation=generatePMMinMax,second_operation=typeOfduality,third_operation=False,n=8)"
      ]
    },
    {
      "cell_type": "markdown",
      "metadata": {
        "id": "LCV_UHy5FeJJ"
      },
      "source": [
        "**Enumeration of Connected poset matrices of size 3x3 to 10x10 generated using generatePMMinMax in terms of self dual and non-self dual types.**"
      ]
    },
    {
      "cell_type": "code",
      "execution_count": null,
      "metadata": {
        "colab": {
          "base_uri": "https://localhost:8080/"
        },
        "id": "UEFcKPyYFh-L",
        "outputId": "95e7ff00-f0e9-40a0-d012-2fab85a6e7b7"
      },
      "outputs": [
        {
          "data": {
            "text/plain": [
              "([2, 6, 22, 90, 394, 1806, 8558, 41586],\n",
              " [],\n",
              " ([2, 4, 22, 84, 394, 1784, 8558, 41496], [0, 2, 0, 6, 0, 22, 0, 90]))"
            ]
          },
          "execution_count": 71,
          "metadata": {},
          "output_type": "execute_result"
        }
      ],
      "source": [
        "counts_list_PM(listlposetmatrices=leftMatConn,listrposetmatrices=rightMat,first_operation=generatePMMinMax,second_operation=typeOfduality,third_operation=False,n=8)"
      ]
    },
    {
      "cell_type": "markdown",
      "metadata": {
        "id": "SJiFhFOfIXBk"
      },
      "source": [
        "**Enumeration of Disonnected poset matrices of size 3x3 to 10x10 generated using generatePMMinMax in terms of self dual and non-self dual types.**"
      ]
    },
    {
      "cell_type": "code",
      "execution_count": null,
      "metadata": {
        "colab": {
          "base_uri": "https://localhost:8080/"
        },
        "id": "NIR5L57fHyQh",
        "outputId": "35d4a98b-1ff5-4cab-ca1e-b949e62f7603"
      },
      "outputs": [
        {
          "data": {
            "text/plain": [
              "([3, 9, 30, 111, 447, 1920, 8655, 40461],\n",
              " [],\n",
              " ([2, 6, 28, 102, 442, 1890, 8640, 40350], [1, 3, 2, 9, 5, 30, 15, 111]))"
            ]
          },
          "execution_count": 29,
          "metadata": {},
          "output_type": "execute_result"
        }
      ],
      "source": [
        "counts_list_PM(listlposetmatrices=leftMatDisc,listrposetmatrices=rightMat,first_operation=generatePMMinMax,second_operation=typeOfduality,third_operation=False,n=8)"
      ]
    },
    {
      "cell_type": "markdown",
      "source": [
        "**Enumeration of poset matrices here is based on the partial composition operations defined in Theorem 2.1 of the paper \"Operad Structure of Poset Matrices(https://arxiv.org/abs/2401.06814 ).\"**"
      ],
      "metadata": {
        "id": "yNan4SY69Kfg"
      }
    },
    {
      "cell_type": "code",
      "execution_count": null,
      "metadata": {
        "id": "V4qO2o6Cbq6t"
      },
      "outputs": [],
      "source": [
        "def partialComp1(lposetmatrix,rposetmatrix):\n",
        "\n",
        "   dimE=rposetmatrix.shape[0]\n",
        "   dimF=lposetmatrix.shape[0]\n",
        "   outputlist=[]\n",
        "\n",
        "   for i in range(1,(dimF+1)):\n",
        "\n",
        "      A11=lposetmatrix[0:i-1,0:i-1]\n",
        "      A21=lposetmatrix[i:dimF,i:dimF]\n",
        "      A22=lposetmatrix[i:dimF,0:i-1]\n",
        "      y1=np.zeros( (i-1, dimF+dimE-i),dtype='int64' )\n",
        "      y2= np.zeros((dimE, dimF-i),dtype='int64' )\n",
        "      Ui=np.ones((dimE,i-1),dtype='int64' )\n",
        "      Vi=np.ones((dimF-i,  dimE),dtype='int64' )\n",
        "      block1=np.concatenate((A11, y1), axis=1,dtype='int64')\n",
        "      block2=np.concatenate((Ui,rposetmatrix,y2), axis=1,dtype='int64')\n",
        "      block3=np.concatenate((A22,Vi,A21), axis=1,dtype='int64')\n",
        "      output=np.concatenate((block1,block2,block3), axis=0,dtype='int64')\n",
        "      outputlist.append(output)\n",
        "\n",
        "\n",
        "   return outputlist"
      ]
    },
    {
      "cell_type": "markdown",
      "source": [
        "**Enumeration of poset matrices of size 3x3 to 17x17 generated using partialComp1.**"
      ],
      "metadata": {
        "id": "h1aNgxKK8kTB"
      }
    },
    {
      "cell_type": "code",
      "execution_count": null,
      "metadata": {
        "colab": {
          "base_uri": "https://localhost:8080/"
        },
        "id": "UDaPesbfcO2B",
        "outputId": "4b4ae332-af45-4bc4-b553-e8f796b11d0a"
      },
      "outputs": [
        {
          "output_type": "execute_result",
          "data": {
            "text/plain": [
              "([3, 5, 8, 13, 21, 34, 55, 89, 144, 233, 377, 610, 987, 1597, 2584],\n",
              " [],\n",
              " [],\n",
              " [])"
            ]
          },
          "metadata": {},
          "execution_count": 39
        }
      ],
      "source": [
        "counts_list_PM(listlposetmatrices=leftMatConn,listrposetmatrices=rightMat,first_operation=partialComp1,second_operation=str(),third_operation=False,n=15)"
      ]
    },
    {
      "cell_type": "code",
      "execution_count": null,
      "metadata": {
        "id": "oapLJB8thQHd"
      },
      "outputs": [],
      "source": [
        "def partialComp2(lposetmatrix,rposetmatrix):\n",
        "\n",
        "    dimE=rposetmatrix.shape[0]\n",
        "    dimF=lposetmatrix.shape[0]\n",
        "    outputlist=[]\n",
        "\n",
        "    for i in range(1,(dimF+1)):\n",
        "        A11=lposetmatrix[0:i-1,0:i-1]\n",
        "        A21=lposetmatrix[i:dimF,i:dimF]\n",
        "        A22=np.ones((dimF-i,i-1),dtype='int64' )\n",
        "        y1=np.zeros( (i-1, dimF+dimE-i),dtype='int64' )\n",
        "        y2= np.zeros((dimE, dimF-i),dtype='int64' )\n",
        "        Ui=np.zeros((dimE,i-1),dtype='int64' )\n",
        "        Vi=np.zeros((dimF-i,  dimE),dtype='int64' )\n",
        "        block1=np.concatenate((A11, y1), axis=1,dtype='int64')\n",
        "        block2=np.concatenate((Ui,rposetmatrix,y2), axis=1,dtype='int64')\n",
        "        block3=np.concatenate((A22,Vi,A21), axis=1,dtype='int64')\n",
        "        output=np.concatenate((block1,block2,block3), axis=0,dtype='int64')\n",
        "        outputlist.append(output)\n",
        "\n",
        "    return outputlist"
      ]
    },
    {
      "cell_type": "code",
      "execution_count": null,
      "metadata": {
        "colab": {
          "base_uri": "https://localhost:8080/"
        },
        "id": "qJz4ZgD7hXtU",
        "outputId": "ffb6b24a-4b99-43b3-a257-d8c7040025c2"
      },
      "outputs": [
        {
          "data": {
            "text/plain": [
              "([3, 6, 16, 40, 112, 314, 900, 2634], [], ([], []))"
            ]
          },
          "execution_count": 186,
          "metadata": {},
          "output_type": "execute_result"
        }
      ],
      "source": [
        "counts_list_PM(listlposetmatrices=leftMatConn,listrposetmatrices=rightMat,first_operation=partialComp2,second_operation=str(),third_operation=False,n=8)"
      ]
    },
    {
      "cell_type": "code",
      "execution_count": null,
      "metadata": {
        "id": "28PUSbhpjWDD"
      },
      "outputs": [],
      "source": [
        "def partialComp3(lposetmatrix,rposetmatrix):\n",
        "\n",
        "    dimE=rposetmatrix.shape[0]\n",
        "    dimF=lposetmatrix.shape[0]\n",
        "    outputlist=[]\n",
        "\n",
        "    for i in range(1,(dimF+1)):\n",
        "\n",
        "        A11=lposetmatrix[0:i-1,0:i-1]\n",
        "        A21=lposetmatrix[i:dimF,i:dimF]\n",
        "        A22=np.ones((dimF-i,i-1),dtype='int64' )\n",
        "        y1=np.zeros( (i-1, dimF+dimE-i),dtype='int64' )\n",
        "        y2= np.zeros((dimE, dimF-i),dtype='int64' )\n",
        "        Ui=np.ones((dimE,i-1),dtype='int64' )\n",
        "        Vi=np.zeros((dimF-i,  dimE),dtype='int64' )\n",
        "        block1=np.concatenate((A11, y1), axis=1,dtype='int64')\n",
        "        block2=np.concatenate((Ui,rposetmatrix,y2), axis=1,dtype='int64')\n",
        "        block3=np.concatenate((A22,Vi,A21), axis=1,dtype='int64')\n",
        "        output=np.concatenate((block1,block2,block3), axis=0,dtype='int64')\n",
        "        outputlist.append(output)\n",
        "\n",
        "    return outputlist"
      ]
    },
    {
      "cell_type": "code",
      "execution_count": null,
      "metadata": {
        "colab": {
          "base_uri": "https://localhost:8080/"
        },
        "id": "ONBELO56DUsv",
        "outputId": "dc4918b6-de4d-4c70-e424-605ffb544330"
      },
      "outputs": [
        {
          "data": {
            "text/plain": [
              "([4, 10, 28, 80, 244, 774, 2524, 8414], [], ([], []))"
            ]
          },
          "execution_count": 184,
          "metadata": {},
          "output_type": "execute_result"
        }
      ],
      "source": [
        "counts_list_PM(listlposetmatrices=leftMatConn,listrposetmatrices=rightMat,first_operation=partialComp3,second_operation=str(),third_operation=False,n=8)"
      ]
    },
    {
      "cell_type": "code",
      "execution_count": null,
      "metadata": {
        "id": "75j8jzH_k8QK"
      },
      "outputs": [],
      "source": [
        "def partialComp4(lposetmatrix,rposetmatrix):\n",
        "\n",
        "    dimE=rposetmatrix.shape[0]\n",
        "    dimF=lposetmatrix.shape[0]\n",
        "    outputlist=[]\n",
        "\n",
        "\n",
        "    for i in range(1,(dimF+1)):\n",
        "\n",
        "        A11=lposetmatrix[0:i-1,0:i-1]\n",
        "        A21=lposetmatrix[i:dimF,i:dimF]\n",
        "        A22=np.ones((dimF-i,i-1),dtype='int64' )\n",
        "        y1=np.zeros( (i-1, dimF+dimE-i),dtype='int64' )\n",
        "        y2= np.zeros((dimE, dimF-i),dtype='int64' )\n",
        "        Ui=np.zeros((dimE,i-1),dtype='int64' )\n",
        "        Vi=np.ones((dimF-i,  dimE),dtype='int64' )\n",
        "        block1=np.concatenate((A11, y1), axis=1,dtype='int64')\n",
        "        block2=np.concatenate((Ui,rposetmatrix,y2), axis=1,dtype='int64')\n",
        "        block3=np.concatenate((A22,Vi,A21), axis=1,dtype='int64')\n",
        "        output=np.concatenate((block1,block2,block3), axis=0,dtype='int64')\n",
        "        outputlist.append(output)\n",
        "\n",
        "    return outputlist"
      ]
    },
    {
      "cell_type": "code",
      "execution_count": null,
      "metadata": {
        "colab": {
          "base_uri": "https://localhost:8080/"
        },
        "id": "Zz_U59QioA0Z",
        "outputId": "757b3e08-3060-49fb-b185-05203079f1b3"
      },
      "outputs": [
        {
          "data": {
            "text/plain": [
              "([4, 10, 28, 80, 244, 774, 2524, 8414], [], ([], []))"
            ]
          },
          "execution_count": 182,
          "metadata": {},
          "output_type": "execute_result"
        }
      ],
      "source": [
        "counts_list_PM(listlposetmatrices=leftMatConn,listrposetmatrices=rightMat,first_operation=partialComp4,second_operation=str(),third_operation=False,n=8)"
      ]
    },
    {
      "cell_type": "code",
      "execution_count": null,
      "metadata": {
        "id": "xs2KdSsqqA7F"
      },
      "outputs": [],
      "source": [
        "def partialComp5(lposetmatrix,rposetmatrix):\n",
        "\n",
        "    dimE=rposetmatrix.shape[0]\n",
        "    dimF=lposetmatrix.shape[0]\n",
        "    outputlist=[]\n",
        "\n",
        "    for i in range(1,(dimF+1)):\n",
        "\n",
        "        A11=lposetmatrix[0:i-1,0:i-1]\n",
        "        A21=lposetmatrix[i:dimF,i:dimF]\n",
        "        A22=np.zeros((dimF-i,i-1),dtype='int64' )\n",
        "        y1=np.zeros( (i-1, dimF+dimE-i),dtype='int64' )\n",
        "        y2= np.zeros((dimE, dimF-i),dtype='int64' )\n",
        "        Ui=np.zeros((dimE,i-1),dtype='int64' )\n",
        "        Vi=np.zeros((dimF-i,  dimE),dtype='int64' )\n",
        "\n",
        "        block1=np.concatenate((A11, y1), axis=1,dtype='int64')\n",
        "        block2=np.concatenate((Ui,rposetmatrix,y2), axis=1,dtype='int64')\n",
        "        block3=np.concatenate((A22,Vi,A21), axis=1,dtype='int64')\n",
        "        output=np.concatenate((block1,block2,block3), axis=0,dtype='int64')\n",
        "        outputlist.append(output)\n",
        "\n",
        "    return outputlist"
      ]
    },
    {
      "cell_type": "markdown",
      "source": [
        "**Enumeration of poset matrices of size 3x3 to 16x16 generated using partialComp1.**"
      ],
      "metadata": {
        "id": "0CcYoqC8-Cw6"
      }
    },
    {
      "cell_type": "code",
      "execution_count": null,
      "metadata": {
        "colab": {
          "base_uri": "https://localhost:8080/"
        },
        "id": "sb0IXs3BBTmi",
        "outputId": "4d0a250d-21f0-48f1-b46f-9dfe80adb5b9"
      },
      "outputs": [
        {
          "data": {
            "text/plain": [
              "([3, 5, 8, 13, 21, 34, 55, 89, 144, 233, 377, 610, 987, 1597], [], ([], []))"
            ]
          },
          "execution_count": 179,
          "metadata": {},
          "output_type": "execute_result"
        }
      ],
      "source": [
        "counts_list_PM(listlposetmatrices=leftMatConn,listrposetmatrices=rightMat,first_operation=partialComp5,second_operation=str(),third_operation=False,n=14)"
      ]
    },
    {
      "cell_type": "markdown",
      "source": [
        "**isConnected** function determines if a poset matrix is connected or disconnected."
      ],
      "metadata": {
        "id": "0wXDItVfYU_R"
      }
    },
    {
      "cell_type": "code",
      "execution_count": null,
      "metadata": {
        "id": "3Ol06yc4zkvP"
      },
      "outputs": [],
      "source": [
        "def isUnitMatrix(posetmatrix):\n",
        "\n",
        "    if np.all(posetmatrix== 1) and posetmatrix.shape[0]==1:\n",
        "        return True\n",
        "    else:\n",
        "        return False"
      ]
    },
    {
      "cell_type": "code",
      "execution_count": null,
      "metadata": {
        "id": "4k-KJuGB8VqO"
      },
      "outputs": [],
      "source": [
        "def isConnected(posetmatrix):\n",
        "\n",
        "    if posetmatrix.shape[0]==0:\n",
        "        return False\n",
        "\n",
        "    if posetmatrix.shape[0]==1:\n",
        "        return isUnitMatrix(posetmatrix)\n",
        "\n",
        "    else:\n",
        "\n",
        "        graph = nx.from_numpy_array(posetmatrix)\n",
        "        is_connected = nx.is_connected(graph)\n",
        "        return is_connected"
      ]
    },
    {
      "cell_type": "code",
      "source": [
        "pmatrix12=np.array([[1,0,0,0],[0,1,0,0],[0,1,1,0],[1,1,1,1]])"
      ],
      "metadata": {
        "id": "nkRKPRarHw4W"
      },
      "execution_count": null,
      "outputs": []
    },
    {
      "cell_type": "code",
      "source": [
        "pmatrix12"
      ],
      "metadata": {
        "colab": {
          "base_uri": "https://localhost:8080/"
        },
        "id": "ZUlTpTQQH250",
        "outputId": "a79e8abd-af93-4148-9866-b593f94b8b1d"
      },
      "execution_count": null,
      "outputs": [
        {
          "output_type": "execute_result",
          "data": {
            "text/plain": [
              "array([[1, 0, 0, 0],\n",
              "       [0, 1, 0, 0],\n",
              "       [0, 1, 1, 0],\n",
              "       [1, 1, 1, 1]])"
            ]
          },
          "metadata": {},
          "execution_count": 56
        }
      ]
    },
    {
      "cell_type": "code",
      "source": [
        "isConnected(pmatrix12)"
      ],
      "metadata": {
        "colab": {
          "base_uri": "https://localhost:8080/"
        },
        "id": "uZSzCWDWH5mg",
        "outputId": "232e3f9e-694b-424d-b4b8-3ca124aa3fe4"
      },
      "execution_count": null,
      "outputs": [
        {
          "output_type": "execute_result",
          "data": {
            "text/plain": [
              "True"
            ]
          },
          "metadata": {},
          "execution_count": 57
        }
      ]
    },
    {
      "cell_type": "code",
      "source": [
        "pmatrix14=np.array([[1,0,0],[1,1,0],[0,0,1]])"
      ],
      "metadata": {
        "id": "oYzZghefIBc0"
      },
      "execution_count": null,
      "outputs": []
    },
    {
      "cell_type": "code",
      "source": [
        "pmatrix14"
      ],
      "metadata": {
        "colab": {
          "base_uri": "https://localhost:8080/"
        },
        "id": "1IqB96yFIVxW",
        "outputId": "a713a040-54e1-4aed-e10c-9e40e2899c25"
      },
      "execution_count": null,
      "outputs": [
        {
          "output_type": "execute_result",
          "data": {
            "text/plain": [
              "array([[1, 0, 0],\n",
              "       [1, 1, 0],\n",
              "       [0, 0, 1]])"
            ]
          },
          "metadata": {},
          "execution_count": 59
        }
      ]
    },
    {
      "cell_type": "code",
      "source": [
        "isConnected(pmatrix14)"
      ],
      "metadata": {
        "colab": {
          "base_uri": "https://localhost:8080/"
        },
        "id": "jowOukfSIY7I",
        "outputId": "a44a9908-9a7d-438c-c194-c44873663780"
      },
      "execution_count": null,
      "outputs": [
        {
          "output_type": "execute_result",
          "data": {
            "text/plain": [
              "False"
            ]
          },
          "metadata": {},
          "execution_count": 60
        }
      ]
    },
    {
      "cell_type": "code",
      "source": [
        "pmatrix15=np.array([[1,0,0],[0,1,0],[0,0,1]])"
      ],
      "metadata": {
        "id": "jj68BuZ8Iiyz"
      },
      "execution_count": null,
      "outputs": []
    },
    {
      "cell_type": "code",
      "source": [
        "pmatrix15"
      ],
      "metadata": {
        "colab": {
          "base_uri": "https://localhost:8080/"
        },
        "id": "DANcNltUIyEM",
        "outputId": "dfd94903-0fba-44fc-e544-c568663e3bd2"
      },
      "execution_count": null,
      "outputs": [
        {
          "output_type": "execute_result",
          "data": {
            "text/plain": [
              "array([[1, 0, 0],\n",
              "       [0, 1, 0],\n",
              "       [0, 0, 1]])"
            ]
          },
          "metadata": {},
          "execution_count": 62
        }
      ]
    },
    {
      "cell_type": "code",
      "source": [
        "isConnected(pmatrix15)"
      ],
      "metadata": {
        "colab": {
          "base_uri": "https://localhost:8080/"
        },
        "id": "fWas9hlrIuRf",
        "outputId": "aa30a37c-65b4-4a9a-9027-7347f266c285"
      },
      "execution_count": null,
      "outputs": [
        {
          "output_type": "execute_result",
          "data": {
            "text/plain": [
              "False"
            ]
          },
          "metadata": {},
          "execution_count": 63
        }
      ]
    },
    {
      "cell_type": "markdown",
      "metadata": {
        "id": "a45gRcHadINl"
      },
      "source": [
        "**isSemiRight** function determines if a poset matrix is semi-right dualizable."
      ]
    },
    {
      "cell_type": "code",
      "execution_count": null,
      "metadata": {
        "id": "ZQE5TVTCRzGT"
      },
      "outputs": [],
      "source": [
        "def isSemiRight(posetmatrix):\n",
        "\n",
        "    dimposetmatrix=posetmatrix.shape[0]\n",
        "    i,depth1=0,0\n",
        "    while i<dimposetmatrix:\n",
        "        if  all(posetmatrix[i:,i]):\n",
        "            depth1=depth1+1\n",
        "            i=i+1\n",
        "        else:\n",
        "            break\n",
        "    if (depth1>0 and not isConnected(posetmatrix[depth1:,depth1:]) and not np.allclose(dualize(posetmatrix[depth1:,depth1:]),posetmatrix[depth1:,depth1:])):\n",
        "        return True\n",
        "    else:\n",
        "        return False"
      ]
    },
    {
      "cell_type": "markdown",
      "source": [
        "**isSemiLeft** function determines if a poset matrix is semi-left dualizable."
      ],
      "metadata": {
        "id": "MdtjTOYF_EcQ"
      }
    },
    {
      "cell_type": "code",
      "execution_count": null,
      "metadata": {
        "id": "5K5Wx1SAQscF"
      },
      "outputs": [],
      "source": [
        "def isSemiLeft(posetmatrix):\n",
        "\n",
        "    dimposetmatrix=posetmatrix.shape[0]\n",
        "    i,depth2=0,0\n",
        "\n",
        "    while i<dimposetmatrix:\n",
        "        if  all(posetmatrix[dimposetmatrix-i-1,:dimposetmatrix-i]):\n",
        "            depth2=depth2+1\n",
        "            i=i+1\n",
        "        else:\n",
        "            break\n",
        "    else:\n",
        "        depth2\n",
        "    if (depth2>0 and not isConnected(posetmatrix[:-depth2,:-depth2]) and not np.allclose(dualize(posetmatrix[:-depth2,:-depth2]),posetmatrix[:-depth2,:-depth2])):\n",
        "        return  True\n",
        "    else:\n",
        "        return False"
      ]
    },
    {
      "cell_type": "markdown",
      "source": [
        "**isSemiEquidual** function determines if a poset matrix is semi-equidual"
      ],
      "metadata": {
        "id": "AJN0rZTsAobQ"
      }
    },
    {
      "cell_type": "code",
      "execution_count": null,
      "metadata": {
        "id": "VGFl4fK6iDgt"
      },
      "outputs": [],
      "source": [
        "def isSemiEquidual(posetmatrix):\n",
        "    if isSemiLeft(posetmatrix) or isSemiRight(posetmatrix):\n",
        "        return True\n",
        "    else:\n",
        "        return False"
      ]
    },
    {
      "cell_type": "markdown",
      "metadata": {
        "id": "XblMLcQcdk8b"
      },
      "source": [
        "**Enumeration of poset matrices for the operations isSemiRight and generatePM**"
      ]
    },
    {
      "cell_type": "code",
      "execution_count": null,
      "metadata": {
        "colab": {
          "base_uri": "https://localhost:8080/"
        },
        "id": "QeC28rF8V_XL",
        "outputId": "22cf59a5-fd4d-446e-c4ee-8a7faa7934ee"
      },
      "outputs": [
        {
          "output_type": "execute_result",
          "data": {
            "text/plain": [
              "([6, 22, 90, 394, 1806, 8558, 41586, 206098],\n",
              " [],\n",
              " [0, 2, 10, 52, 238, 1130, 5364, 26112],\n",
              " [6, 20, 80, 342, 1568, 7428, 36222, 179986])"
            ]
          },
          "metadata": {},
          "execution_count": 67
        }
      ],
      "source": [
        "counts_list_PM(listlposetmatrices=leftMat,listrposetmatrices=rightMat,first_operation=generatePM,second_operation=isSemiRight,third_operation=False,n=8)"
      ]
    },
    {
      "cell_type": "markdown",
      "metadata": {
        "id": "LzxpPvridoSx"
      },
      "source": [
        "**Enumeration of poset matrices corresponding to the operations isSemiRight and generatePMMin**"
      ]
    },
    {
      "cell_type": "code",
      "execution_count": null,
      "metadata": {
        "colab": {
          "base_uri": "https://localhost:8080/"
        },
        "id": "v32E9RNiYWGU",
        "outputId": "11251a0d-2caa-410f-8fdc-e7220813f70c"
      },
      "outputs": [
        {
          "data": {
            "text/plain": [
              "([6, 22, 90, 394, 1806, 8558, 41586, 206098],\n",
              " [],\n",
              " ([0, 2, 10, 53, 249, 1223, 5984, 29863],\n",
              "  [6, 20, 80, 341, 1557, 7335, 35602, 176235]))"
            ]
          },
          "execution_count": 133,
          "metadata": {},
          "output_type": "execute_result"
        }
      ],
      "source": [
        "counts_list_PM(listlposetmatrices=leftMat,listrposetmatrices=rightMat,first_operation=generatePMMin,second_operation=isSemiRight,third_operation=False,n=8)"
      ]
    },
    {
      "cell_type": "markdown",
      "metadata": {
        "id": "vs3OjGdBdu3a"
      },
      "source": [
        "**Enumeration of poset matrices corresponding to operations isSemiRight and generatePMMax**"
      ]
    },
    {
      "cell_type": "code",
      "execution_count": null,
      "metadata": {
        "colab": {
          "base_uri": "https://localhost:8080/"
        },
        "id": "MUZQ-QbLba7H",
        "outputId": "2dc29312-a5a6-4f1d-dc9f-8fafbc8ec4f1"
      },
      "outputs": [
        {
          "data": {
            "text/plain": [
              "([6, 22, 90, 394, 1806, 8558, 41586, 206098],\n",
              " [],\n",
              " ([0, 0, 0, 0, 0, 0, 0, 0], [6, 22, 90, 394, 1806, 8558, 41586, 206098]))"
            ]
          },
          "execution_count": 134,
          "metadata": {},
          "output_type": "execute_result"
        }
      ],
      "source": [
        "counts_list_PM(listlposetmatrices=leftMat,listrposetmatrices=rightMat,first_operation=generatePMMax,second_operation=isSemiRight,third_operation=False,n=8)"
      ]
    },
    {
      "cell_type": "markdown",
      "metadata": {
        "id": "GlQ-i231cYzd"
      },
      "source": [
        "**Enumeration of poset matrices corresponding to operations isSemiRight and generatePMMinMax**"
      ]
    },
    {
      "cell_type": "code",
      "execution_count": null,
      "metadata": {
        "colab": {
          "base_uri": "https://localhost:8080/"
        },
        "id": "RX3jaWyicdyn",
        "outputId": "5d7cfb37-7781-4867-d547-ad1c575888e7"
      },
      "outputs": [
        {
          "output_type": "execute_result",
          "data": {
            "text/plain": [
              "([5, 15, 52, 201, 841, 3726, 17213, 82047],\n",
              " [],\n",
              " [0, 0, 0, 0, 0, 0, 0, 0],\n",
              " [5, 15, 52, 201, 841, 3726, 17213, 82047])"
            ]
          },
          "metadata": {},
          "execution_count": 65
        }
      ],
      "source": [
        "counts_list_PM(listlposetmatrices=leftMat,listrposetmatrices=rightMat,first_operation=generatePMMinMax,second_operation=isSemiRight,third_operation=False,n=8)"
      ]
    },
    {
      "cell_type": "markdown",
      "metadata": {
        "id": "p_jl_q_3dzOa"
      },
      "source": [
        "**Enumeration of poset matrices for the operations isSemiLeft and generatePM**"
      ]
    },
    {
      "cell_type": "code",
      "execution_count": null,
      "metadata": {
        "colab": {
          "base_uri": "https://localhost:8080/"
        },
        "id": "7feMcU6QdDYi",
        "outputId": "770441f7-285a-4044-caa8-086b8a5f58f6"
      },
      "outputs": [
        {
          "data": {
            "text/plain": [
              "([6, 22, 90, 394, 1806, 8558, 41586, 206098],\n",
              " [],\n",
              " ([0, 2, 10, 52, 239, 1144, 5487, 27011],\n",
              "  [6, 20, 80, 342, 1567, 7414, 36099, 179087]))"
            ]
          },
          "execution_count": 136,
          "metadata": {},
          "output_type": "execute_result"
        }
      ],
      "source": [
        "counts_list_PM(listlposetmatrices=leftMat,listrposetmatrices=rightMat,first_operation=generatePM,second_operation=isSemiLeft,third_operation=False,n=8)"
      ]
    },
    {
      "cell_type": "markdown",
      "metadata": {
        "id": "YeKn3m2ZeJpo"
      },
      "source": [
        "**Enumeration of poset matrices for the operations isSemiLeft and generatePMMin**"
      ]
    },
    {
      "cell_type": "code",
      "execution_count": null,
      "metadata": {
        "colab": {
          "base_uri": "https://localhost:8080/"
        },
        "id": "bGybhBiSd7M7",
        "outputId": "63c0ef97-6464-41f3-9116-79db59829cb3"
      },
      "outputs": [
        {
          "data": {
            "text/plain": [
              "([6, 22, 90, 394, 1806, 8558, 41586, 206098],\n",
              " [],\n",
              " ([0, 0, 0, 0, 0, 0, 0, 0], [6, 22, 90, 394, 1806, 8558, 41586, 206098]))"
            ]
          },
          "execution_count": 137,
          "metadata": {},
          "output_type": "execute_result"
        }
      ],
      "source": [
        "counts_list_PM(listlposetmatrices=leftMat,listrposetmatrices=rightMat,first_operation=generatePMMin,second_operation=isSemiLeft,third_operation=False,n=8)"
      ]
    },
    {
      "cell_type": "markdown",
      "metadata": {
        "id": "jsW5B3bffE5-"
      },
      "source": [
        "**Enumeration of poset matrices for the operations isSemiLeft and generatePMMax**"
      ]
    },
    {
      "cell_type": "code",
      "execution_count": null,
      "metadata": {
        "colab": {
          "base_uri": "https://localhost:8080/"
        },
        "id": "hHa5aZpufJ-D",
        "outputId": "a2dc177d-b513-47ca-de39-e214960df021"
      },
      "outputs": [
        {
          "data": {
            "text/plain": [
              "([6, 22, 90, 394, 1806, 8558, 41586, 206098],\n",
              " [],\n",
              " ([0, 2, 10, 53, 251, 1255, 6295, 32277],\n",
              "  [6, 20, 80, 341, 1555, 7303, 35291, 173821]))"
            ]
          },
          "execution_count": 138,
          "metadata": {},
          "output_type": "execute_result"
        }
      ],
      "source": [
        "counts_list_PM(listlposetmatrices=leftMat,listrposetmatrices=rightMat,first_operation=generatePMMax,second_operation=isSemiLeft,third_operation=False,n=8)"
      ]
    },
    {
      "cell_type": "markdown",
      "metadata": {
        "id": "PBkRhz6MgDzt"
      },
      "source": [
        "**Enumeration of poset matrices for the operations isSemiLeft and generatePMMinMax**"
      ]
    },
    {
      "cell_type": "code",
      "execution_count": null,
      "metadata": {
        "colab": {
          "base_uri": "https://localhost:8080/"
        },
        "id": "oOmXEitlgKkv",
        "outputId": "9d085500-c05d-48f6-f0ce-2e433953acd8"
      },
      "outputs": [
        {
          "data": {
            "text/plain": [
              "([5, 15, 52, 201, 841, 3726, 17213, 82047],\n",
              " [],\n",
              " ([0, 0, 0, 0, 0, 0, 0, 0], [5, 15, 52, 201, 841, 3726, 17213, 82047]))"
            ]
          },
          "execution_count": 139,
          "metadata": {},
          "output_type": "execute_result"
        }
      ],
      "source": [
        "counts_list_PM(listlposetmatrices=leftMat,listrposetmatrices=rightMat,first_operation=generatePMMinMax,second_operation=isSemiLeft,third_operation=False,n=8)"
      ]
    },
    {
      "cell_type": "markdown",
      "metadata": {
        "id": "GL9JzZ_ljqku"
      },
      "source": [
        "**Enumeration of poset matrices for the operations isSemiEquiDual and generatePM**"
      ]
    },
    {
      "cell_type": "code",
      "execution_count": null,
      "metadata": {
        "id": "lrD5JcIZjun9"
      },
      "outputs": [],
      "source": [
        "a1=np.array([0, 2, 10, 53, 250, 1224, 5982, 29853])"
      ]
    },
    {
      "cell_type": "code",
      "execution_count": null,
      "metadata": {
        "id": "i83gTm-ukklp"
      },
      "outputs": [],
      "source": [
        "a2=np.array([0, 2, 10, 52, 239, 1144, 5487, 27011])"
      ]
    },
    {
      "cell_type": "code",
      "execution_count": null,
      "metadata": {
        "colab": {
          "base_uri": "https://localhost:8080/"
        },
        "id": "uaR9-oc2k9Kd",
        "outputId": "06f8a7b5-ffab-4a98-cd08-e410306527b0"
      },
      "outputs": [
        {
          "data": {
            "text/plain": [
              "array([    0,     4,    20,   105,   489,  2368, 11469, 56864])"
            ]
          },
          "execution_count": 143,
          "metadata": {},
          "output_type": "execute_result"
        }
      ],
      "source": [
        "np.add(a1,a2)"
      ]
    },
    {
      "cell_type": "markdown",
      "metadata": {
        "id": "ELR9kq5glWMa"
      },
      "source": [
        "**Enumeration of poset matrices for the operations isSemiEquiDual and generatePMMin**"
      ]
    },
    {
      "cell_type": "code",
      "execution_count": null,
      "metadata": {
        "id": "GomVSytSlcPp"
      },
      "outputs": [],
      "source": [
        "b1=np.array([0, 2, 10, 53, 249, 1223, 5984, 29863])"
      ]
    },
    {
      "cell_type": "code",
      "execution_count": null,
      "metadata": {
        "id": "WC3BZ6j2mq1M"
      },
      "outputs": [],
      "source": [
        "b2=np.array([0, 0, 0, 0, 0, 0, 0, 0])"
      ]
    },
    {
      "cell_type": "code",
      "execution_count": null,
      "metadata": {
        "colab": {
          "base_uri": "https://localhost:8080/"
        },
        "id": "Z1DoWvzJnD0L",
        "outputId": "2d259c3a-9565-47b4-ea8d-df71c42a1742"
      },
      "outputs": [
        {
          "data": {
            "text/plain": [
              "array([    0,     2,    10,    53,   249,  1223,  5984, 29863])"
            ]
          },
          "execution_count": 146,
          "metadata": {},
          "output_type": "execute_result"
        }
      ],
      "source": [
        "np.add(b1,b2)"
      ]
    },
    {
      "cell_type": "markdown",
      "metadata": {
        "id": "-Wh6SSuMnPz4"
      },
      "source": [
        "**Enumeration of poset matrices for the operations isSemiEquiDual and generatePMMax**"
      ]
    },
    {
      "cell_type": "code",
      "execution_count": null,
      "metadata": {
        "id": "6hYTykENnUsS"
      },
      "outputs": [],
      "source": [
        "c1=np.array([0, 0, 0, 0, 0, 0, 0, 0])"
      ]
    },
    {
      "cell_type": "code",
      "execution_count": null,
      "metadata": {
        "id": "J839lX79nmwM"
      },
      "outputs": [],
      "source": [
        "c2=np.array([0, 2, 10, 53, 251, 1255, 6295, 32277])"
      ]
    },
    {
      "cell_type": "code",
      "execution_count": null,
      "metadata": {
        "colab": {
          "base_uri": "https://localhost:8080/"
        },
        "id": "feLRayvPn_Em",
        "outputId": "e06e64c2-daca-4aa0-83ef-79c335bca2e6"
      },
      "outputs": [
        {
          "data": {
            "text/plain": [
              "array([    0,     2,    10,    53,   251,  1255,  6295, 32277])"
            ]
          },
          "execution_count": 149,
          "metadata": {},
          "output_type": "execute_result"
        }
      ],
      "source": [
        "np.add(c1,c2)"
      ]
    },
    {
      "cell_type": "markdown",
      "metadata": {
        "id": "b_vdO8TPon32"
      },
      "source": [
        "**Enumeration of poset matrices for the operations isSemiEquiDual and generatePMMinMax**"
      ]
    },
    {
      "cell_type": "code",
      "execution_count": null,
      "metadata": {
        "id": "k8XI0nh1oroM"
      },
      "outputs": [],
      "source": [
        "d1=np.array([0, 0, 0, 0, 0, 0, 0, 0])"
      ]
    },
    {
      "cell_type": "code",
      "execution_count": null,
      "metadata": {
        "id": "UJRzx9S7o_Oo"
      },
      "outputs": [],
      "source": [
        "d2=np.array([0, 0, 0, 0, 0, 0, 0, 0])"
      ]
    },
    {
      "cell_type": "code",
      "execution_count": null,
      "metadata": {
        "colab": {
          "base_uri": "https://localhost:8080/"
        },
        "id": "EsdK4Z4JpNTq",
        "outputId": "12bb604d-bdae-4f06-b9ea-298bd939735d"
      },
      "outputs": [
        {
          "data": {
            "text/plain": [
              "array([0, 0, 0, 0, 0, 0, 0, 0])"
            ]
          },
          "execution_count": 153,
          "metadata": {},
          "output_type": "execute_result"
        }
      ],
      "source": [
        "np.add(d1,d2)"
      ]
    },
    {
      "cell_type": "markdown",
      "source": [
        "**isOrdinalSum** determines if a poset matrix is decomposable by the ordinal sum series-parallel poset matrix operation"
      ],
      "metadata": {
        "id": "ZskFLQUydeo0"
      }
    },
    {
      "cell_type": "code",
      "execution_count": null,
      "metadata": {
        "id": "VHx6fQZAcLo6"
      },
      "outputs": [],
      "source": [
        "def isOrdinalSum(posetmatrix):\n",
        "\n",
        "    if np.all(posetmatrix== 1) and len(posetmatrix)==1:\n",
        "        return True\n",
        "\n",
        "    level,column=0,0\n",
        "    dimPosetMatrix=posetmatrix.shape[0]\n",
        "\n",
        "    while posetmatrix[-1,column]==1 and posetmatrix[-2,column]==1 and dimPosetMatrix>2:\n",
        "        column=column+1\n",
        "        if column>0:\n",
        "            needarray=np.ones(( column,), dtype=int)\n",
        "        else:\n",
        "            column\n",
        "            break\n",
        "\n",
        "    while  posetmatrix[-1,column]==1 and (posetmatrix[-2,0]!=1 or dimPosetMatrix==2):\n",
        "\n",
        "        column=column+1\n",
        "        if column==dimPosetMatrix:\n",
        "            break\n",
        "\n",
        "    if 'needarray' in vars():\n",
        "\n",
        "        if len(needarray)!=0:\n",
        "            level=level+2\n",
        "        else:\n",
        "            level\n",
        "\n",
        "        for s in range(dimPosetMatrix-3,-1,-1):\n",
        "            if len(needarray)>0 and np.array_equal( needarray,posetmatrix[s,0:column]):\n",
        "                level=level+1\n",
        "            else:\n",
        "                level\n",
        "                break\n",
        "        if level==dimPosetMatrix:\n",
        "            level=level-1\n",
        "\n",
        "\n",
        "    if column>1 and level>1:\n",
        "            column=column-1\n",
        "\n",
        "\n",
        "    return column+level==dimPosetMatrix"
      ]
    },
    {
      "cell_type": "markdown",
      "source": [
        "**Examples using isOrdinalSum** to determine if a poset matrix is decomposable by the ordinal sum series-parallel poset matrix operation"
      ],
      "metadata": {
        "id": "CeQyiaMkc7xL"
      }
    },
    {
      "cell_type": "code",
      "source": [
        "matrix88=np.array([[1, 0, 0, 0],\n",
        "           [0, 1, 0, 0],\n",
        "           [1, 1, 1, 0],\n",
        "           [1, 0, 0, 1]])"
      ],
      "metadata": {
        "id": "-3c-_soTbrs0"
      },
      "execution_count": null,
      "outputs": []
    },
    {
      "cell_type": "code",
      "source": [
        "isOrdinalSum(matrix88)"
      ],
      "metadata": {
        "colab": {
          "base_uri": "https://localhost:8080/"
        },
        "id": "hSATkTtobzjo",
        "outputId": "41d13114-daed-4af2-eb07-df134b5bc584"
      },
      "execution_count": null,
      "outputs": [
        {
          "output_type": "execute_result",
          "data": {
            "text/plain": [
              "False"
            ]
          },
          "metadata": {},
          "execution_count": 99
        }
      ]
    },
    {
      "cell_type": "code",
      "source": [
        "matrix99=np.array([[1, 0, 0, 0],\n",
        "           [1, 1, 0, 0],\n",
        "           [0, 0, 1, 0],\n",
        "           [1, 0, 1, 1]])"
      ],
      "metadata": {
        "id": "CaFeQX_1b-XC"
      },
      "execution_count": null,
      "outputs": []
    },
    {
      "cell_type": "code",
      "source": [
        "isOrdinalSum(matrix99)"
      ],
      "metadata": {
        "colab": {
          "base_uri": "https://localhost:8080/"
        },
        "id": "ruXlTOFTccth",
        "outputId": "9cef2040-adde-49ce-cb6d-dbc2ecad32fa"
      },
      "execution_count": null,
      "outputs": [
        {
          "output_type": "execute_result",
          "data": {
            "text/plain": [
              "False"
            ]
          },
          "metadata": {},
          "execution_count": 101
        }
      ]
    },
    {
      "cell_type": "code",
      "source": [
        "matrix77=np.array([[1, 0, 0, 0],\n",
        "           [1, 1, 0, 0],\n",
        "           [1, 0, 1, 0],\n",
        "           [1, 0, 1, 1]])"
      ],
      "metadata": {
        "id": "hEWFD4jrcgiQ"
      },
      "execution_count": null,
      "outputs": []
    },
    {
      "cell_type": "code",
      "source": [
        "isOrdinalSum(matrix77)"
      ],
      "metadata": {
        "colab": {
          "base_uri": "https://localhost:8080/"
        },
        "id": "ywJzXbtzc06B",
        "outputId": "9e33aa8c-a40a-4fa0-9843-65aced86d510"
      },
      "execution_count": null,
      "outputs": [
        {
          "output_type": "execute_result",
          "data": {
            "text/plain": [
              "True"
            ]
          },
          "metadata": {},
          "execution_count": 103
        }
      ]
    },
    {
      "cell_type": "markdown",
      "source": [
        "**createSubMatrix** takes a set of indices of a matrix and returns the submatrix associated with that set of indices."
      ],
      "metadata": {
        "id": "RL9tV7E0RfGC"
      }
    },
    {
      "cell_type": "code",
      "execution_count": null,
      "metadata": {
        "id": "nfsH8dtskHDK"
      },
      "outputs": [],
      "source": [
        "def createSubMatrix(matrix,set):\n",
        "\n",
        "    lst=list(set)\n",
        "    subarr=[[matrix[i,j] for j in lst]for i in lst]\n",
        "    return np.array(subarr)\n"
      ]
    },
    {
      "cell_type": "code",
      "execution_count": null,
      "metadata": {
        "id": "vrAnUJ3C-LiM"
      },
      "outputs": [],
      "source": [
        "def are_all_true(data):\n",
        "    return all(data)"
      ]
    },
    {
      "cell_type": "markdown",
      "source": [
        "**isDirectSum** determines if a poset matrix is decomposable by the direct sum series-parallel poset matrix operation"
      ],
      "metadata": {
        "id": "6TfeTNdId4-N"
      }
    },
    {
      "cell_type": "code",
      "execution_count": null,
      "metadata": {
        "id": "IA9f-dJ1rDP8"
      },
      "outputs": [],
      "source": [
        "def isDirectSum(matrix):\n",
        "\n",
        "  if not isConnected(matrix):\n",
        "        graph_matrix = nx.from_numpy_array(matrix)\n",
        "        connected_components = list(nx.connected_components(graph_matrix))\n",
        "        matrixlist=list(map(createSubMatrix,[matrix]*(len(connected_components)),connected_components))\n",
        "        list_if_ords=list(map(isOrdinalSum,matrixlist))\n",
        "\n",
        "        return are_all_true(list_if_ords)\n",
        "  else:\n",
        "      return False"
      ]
    },
    {
      "cell_type": "markdown",
      "source": [
        "**Enumeration of poset matrices of size 3x3 and 4x4 using the operations isOrdinalSum and generatePM**"
      ],
      "metadata": {
        "id": "N_uPm9get7Hr"
      }
    },
    {
      "cell_type": "code",
      "source": [
        "counts_list_PM(listlposetmatrices=leftMatConn,listrposetmatrices=rightMat,first_operation=generatePM,second_operation=isOrdinalSum,third_operation=True,n=2)"
      ],
      "metadata": {
        "colab": {
          "base_uri": "https://localhost:8080/"
        },
        "id": "vV470sl3lZRX",
        "outputId": "08ec6fda-c799-4ff7-d89b-98fd024325d7"
      },
      "execution_count": null,
      "outputs": [
        {
          "output_type": "execute_result",
          "data": {
            "text/plain": [
              "([3, 11],\n",
              " [((array([[1, 0, 0],\n",
              "           [0, 1, 0],\n",
              "           [1, 1, 1]]),\n",
              "    True),\n",
              "   (array([[1, 0, 0],\n",
              "           [1, 1, 0],\n",
              "           [1, 0, 1]]),\n",
              "    True),\n",
              "   (array([[1, 0, 0],\n",
              "           [1, 1, 0],\n",
              "           [1, 1, 1]]),\n",
              "    True)),\n",
              "  ((array([[1, 0, 0, 0],\n",
              "           [1, 1, 0, 0],\n",
              "           [1, 0, 1, 0],\n",
              "           [1, 0, 1, 1]]),\n",
              "    True),\n",
              "   (array([[1, 0, 0, 0],\n",
              "           [0, 1, 0, 0],\n",
              "           [1, 1, 1, 0],\n",
              "           [1, 1, 1, 1]]),\n",
              "    True),\n",
              "   (array([[1, 0, 0, 0],\n",
              "           [1, 1, 0, 0],\n",
              "           [0, 0, 1, 0],\n",
              "           [1, 1, 1, 1]]),\n",
              "    True),\n",
              "   (array([[1, 0, 0, 0],\n",
              "           [0, 1, 0, 0],\n",
              "           [1, 1, 1, 0],\n",
              "           [1, 1, 0, 1]]),\n",
              "    False),\n",
              "   (array([[1, 0, 0, 0],\n",
              "           [0, 1, 0, 0],\n",
              "           [0, 1, 1, 0],\n",
              "           [1, 1, 1, 1]]),\n",
              "    True),\n",
              "   (array([[1, 0, 0, 0],\n",
              "           [1, 1, 0, 0],\n",
              "           [1, 1, 1, 0],\n",
              "           [1, 1, 0, 1]]),\n",
              "    True),\n",
              "   (array([[1, 0, 0, 0],\n",
              "           [1, 1, 0, 0],\n",
              "           [1, 1, 1, 0],\n",
              "           [1, 1, 1, 1]]),\n",
              "    True),\n",
              "   (array([[1, 0, 0, 0],\n",
              "           [1, 1, 0, 0],\n",
              "           [1, 0, 1, 0],\n",
              "           [1, 1, 1, 1]]),\n",
              "    True),\n",
              "   (array([[1, 0, 0, 0],\n",
              "           [1, 1, 0, 0],\n",
              "           [1, 1, 1, 0],\n",
              "           [1, 0, 0, 1]]),\n",
              "    True),\n",
              "   (array([[1, 0, 0, 0],\n",
              "           [0, 1, 0, 0],\n",
              "           [0, 0, 1, 0],\n",
              "           [1, 1, 1, 1]]),\n",
              "    True),\n",
              "   (array([[1, 0, 0, 0],\n",
              "           [1, 1, 0, 0],\n",
              "           [1, 0, 1, 0],\n",
              "           [1, 0, 0, 1]]),\n",
              "    True))],\n",
              " [3, 10],\n",
              " [0, 1])"
            ]
          },
          "metadata": {},
          "execution_count": 113
        }
      ]
    },
    {
      "cell_type": "markdown",
      "metadata": {
        "id": "X7UA7_f1sRcO"
      },
      "source": [
        "**Enumeration of poset matrices of size 3x3 to 10x10 for the operations isOrdinalSum and generatePMMin**"
      ]
    },
    {
      "cell_type": "code",
      "execution_count": null,
      "metadata": {
        "colab": {
          "base_uri": "https://localhost:8080/"
        },
        "id": "A2gZNwWSsIVQ",
        "outputId": "9fc5ff7e-eb57-43aa-d721-7f96c27f9c33"
      },
      "outputs": [
        {
          "output_type": "execute_result",
          "data": {
            "text/plain": [
              "([3, 11, 45, 197, 903, 4279, 20793, 103049],\n",
              " [],\n",
              " [3, 8, 25, 91, 367, 1591, 7263, 34415],\n",
              " [0, 3, 20, 106, 536, 2688, 13530, 68634])"
            ]
          },
          "metadata": {},
          "execution_count": 114
        }
      ],
      "source": [
        "counts_list_PM(listlposetmatrices=leftMatConn,listrposetmatrices=rightMat,first_operation=generatePMMin,second_operation=isOrdinalSum,third_operation=False,n=8)"
      ]
    },
    {
      "cell_type": "markdown",
      "metadata": {
        "id": "37nfLvGfs6aQ"
      },
      "source": [
        "**Enumeration of poset matrices of size 3x3 to 10x10 using the operations isOrdinalSum and generatePMMax**"
      ]
    },
    {
      "cell_type": "code",
      "execution_count": null,
      "metadata": {
        "colab": {
          "base_uri": "https://localhost:8080/"
        },
        "id": "t3JIl0Y5sq9D",
        "outputId": "7951fd16-2283-46ed-f1df-feb2ac47623f"
      },
      "outputs": [
        {
          "data": {
            "text/plain": [
              "([3, 11, 45, 197, 903, 4279, 20793, 103049],\n",
              " [],\n",
              " ([3, 8, 23, 81, 329, 1451, 6723, 32189],\n",
              "  [0, 3, 22, 116, 574, 2828, 14070, 70860]))"
            ]
          },
          "execution_count": 160,
          "metadata": {},
          "output_type": "execute_result"
        }
      ],
      "source": [
        "counts_list_PM(listlposetmatrices=leftMatConn,listrposetmatrices=rightMat,first_operation=generatePMMax,second_operation=isOrdinalSum,third_operation=False,n=8)"
      ]
    },
    {
      "cell_type": "markdown",
      "metadata": {
        "id": "W3Q6nNXQtgyl"
      },
      "source": [
        "**Enumeration of poset matrices of size 3x3 to 10x10 using the operations isOrdinalSum and generatePMMinMax**"
      ]
    },
    {
      "cell_type": "code",
      "execution_count": null,
      "metadata": {
        "colab": {
          "base_uri": "https://localhost:8080/"
        },
        "id": "Vl8IVRmatWqn",
        "outputId": "a8d5ae9d-07e3-4176-f7a5-cf105c7d15f3"
      },
      "outputs": [
        {
          "data": {
            "text/plain": [
              "([2, 6, 22, 90, 394, 1806, 8558, 41586],\n",
              " [],\n",
              " ([2, 2, 2, 2, 2, 2, 2, 2], [0, 4, 20, 88, 392, 1804, 8556, 41584]))"
            ]
          },
          "execution_count": 161,
          "metadata": {},
          "output_type": "execute_result"
        }
      ],
      "source": [
        "counts_list_PM(listlposetmatrices=leftMatConn,listrposetmatrices=rightMat,first_operation=generatePMMinMax,second_operation=isOrdinalSum,third_operation=False,n=8)"
      ]
    },
    {
      "cell_type": "markdown",
      "source": [
        "**Enumeration of poset matrices of size 3x3 and 4x4 using the operations isDirectSum and generatePM**"
      ],
      "metadata": {
        "id": "lJh-XZkPWIVL"
      }
    },
    {
      "cell_type": "code",
      "execution_count": null,
      "metadata": {
        "colab": {
          "base_uri": "https://localhost:8080/"
        },
        "outputId": "d994182c-06c4-4701-b862-95e59fa93306",
        "id": "unR_ZbMOTWvi"
      },
      "outputs": [
        {
          "output_type": "execute_result",
          "data": {
            "text/plain": [
              "([6, 22, 90, 394, 1806, 8558, 41586, 206098],\n",
              " [],\n",
              " [3, 11, 43, 176, 755, 3374, 12401, 63397],\n",
              " [3, 11, 47, 218, 1051, 5184, 29185, 142701])"
            ]
          },
          "metadata": {},
          "execution_count": 117
        }
      ],
      "source": [
        "counts_list_PM(listlposetmatrices=leftMat,listrposetmatrices=rightMat,first_operation=generatePM,second_operation=isDirectSum,third_operation=False,n=8)"
      ]
    },
    {
      "cell_type": "markdown",
      "source": [
        "**isDoubleDual** function determines if a poset matrix is double dualizable."
      ],
      "metadata": {
        "id": "bmEClbufByti"
      }
    },
    {
      "cell_type": "code",
      "execution_count": null,
      "metadata": {
        "id": "tNHoI66x5ZGv"
      },
      "outputs": [],
      "source": [
        "def isDoubleDual(posetmatrix):\n",
        "\n",
        "    last_row=posetmatrix[-1]\n",
        "    first_col=posetmatrix[:,0]\n",
        "\n",
        "    if np.allclose(last_row,first_col[::-1]) and len(findMax(posetmatrix))==len(findMin(posetmatrix)):\n",
        "        x=posetmatrix[:-1,:-1]\n",
        "        y=posetmatrix[1:,1:]\n",
        "\n",
        "        if isSemiRight(x) and isSemiLeft(y) and np.allclose(x[1:,1:],y[:-1,:-1]):\n",
        "            return True\n",
        "        else:\n",
        "            return False\n",
        "    else:\n",
        "        return False"
      ]
    },
    {
      "cell_type": "markdown",
      "source": [
        "**Enumeration of poset matrices of size 3x3 to 10x10 using the operations isDoubleDual and generatePM**"
      ],
      "metadata": {
        "id": "3c-hLkQYe7U5"
      }
    },
    {
      "cell_type": "code",
      "execution_count": null,
      "metadata": {
        "colab": {
          "base_uri": "https://localhost:8080/"
        },
        "id": "1pGzivZL58Jo",
        "outputId": "aded1730-4fba-4f67-c11b-1cca0cb3172a"
      },
      "outputs": [
        {
          "output_type": "execute_result",
          "data": {
            "text/plain": [
              "([3, 11, 45, 197, 903, 4279, 20793, 103049],\n",
              " [],\n",
              " [0, 0, 2, 8, 42, 195, 966, 4744],\n",
              " [3, 11, 43, 189, 861, 4084, 19827, 98305])"
            ]
          },
          "metadata": {},
          "execution_count": 56
        }
      ],
      "source": [
        "counts_list_PM(listlposetmatrices=leftMatConn,listrposetmatrices=rightMat,first_operation=generatePM,second_operation=isDoubleDual,third_operation=False,n=8)"
      ]
    },
    {
      "cell_type": "code",
      "execution_count": null,
      "metadata": {
        "colab": {
          "base_uri": "https://localhost:8080/"
        },
        "outputId": "607c1c83-41a3-4277-97f5-21f4da092790",
        "id": "bxiB-y3THAz-"
      },
      "outputs": [
        {
          "output_type": "execute_result",
          "data": {
            "text/plain": [
              "([3, 11, 45, 197, 903, 4279, 20793, 103049],\n",
              " [],\n",
              " [0, 0, 2, 8, 42, 186, 892, 4234],\n",
              " [3, 11, 43, 189, 861, 4093, 19901, 98815])"
            ]
          },
          "metadata": {},
          "execution_count": 96
        }
      ],
      "source": [
        "counts_list_PM(listlposetmatrices=leftMatConn,listrposetmatrices=rightMat,first_operation=generatePM,second_operation=isDoubleDual,third_operation=False,n=8)"
      ]
    },
    {
      "cell_type": "markdown",
      "metadata": {
        "id": "ZMXQTvGU8C_v"
      },
      "source": [
        "**Enumeration of poset matrices of size 3x3 to 10x10 using the operations isDoubleDual and generatePMMin**"
      ]
    },
    {
      "cell_type": "code",
      "execution_count": null,
      "metadata": {
        "colab": {
          "base_uri": "https://localhost:8080/"
        },
        "id": "_q127Vto8Gq2",
        "outputId": "331ecc3f-464b-4ac7-e2f8-349525b5bb1d"
      },
      "outputs": [
        {
          "data": {
            "text/plain": [
              "([3, 11, 45, 197, 903, 4279, 20793, 103049],\n",
              " [],\n",
              " ([0, 0, 0, 0, 0, 0, 0, 0], [3, 11, 45, 197, 903, 4279, 20793, 103049]))"
            ]
          },
          "execution_count": 172,
          "metadata": {},
          "output_type": "execute_result"
        }
      ],
      "source": [
        "counts_list_PM(listlposetmatrices=leftMatConn,listrposetmatrices=rightMat,first_operation=generatePMMin,second_operation=isDoubleDual,third_operation=False,n=8)"
      ]
    },
    {
      "cell_type": "markdown",
      "metadata": {
        "id": "ylNRbsMH8qDG"
      },
      "source": [
        "**Enumeration of poset matrices of size 3x3 to 10x10 using the operations isDoubleDual and generatePMMax**"
      ]
    },
    {
      "cell_type": "code",
      "execution_count": null,
      "metadata": {
        "colab": {
          "base_uri": "https://localhost:8080/"
        },
        "id": "_wNyrhMx8lTa",
        "outputId": "7aa050df-64a5-4b90-f597-83ea1c1bc104"
      },
      "outputs": [
        {
          "data": {
            "text/plain": [
              "([3, 11, 45, 197, 903, 4279, 20793, 103049],\n",
              " [],\n",
              " ([0, 0, 0, 0, 0, 0, 0, 0], [3, 11, 45, 197, 903, 4279, 20793, 103049]))"
            ]
          },
          "execution_count": 173,
          "metadata": {},
          "output_type": "execute_result"
        }
      ],
      "source": [
        "counts_list_PM(listlposetmatrices=leftMatConn,listrposetmatrices=rightMat,first_operation=generatePMMax,second_operation=isDoubleDual,third_operation=False,n=8)"
      ]
    },
    {
      "cell_type": "markdown",
      "metadata": {
        "id": "u5WGN-aI9aS4"
      },
      "source": [
        "**Enumeration of poset matrices of size 3x3 to 10x10 using the operations isDoubleDual and generatePMMinMax**"
      ]
    },
    {
      "cell_type": "code",
      "execution_count": null,
      "metadata": {
        "colab": {
          "base_uri": "https://localhost:8080/"
        },
        "id": "xeJb-D4d9RyS",
        "outputId": "a9525ffc-9367-412f-df91-cd5f2b80ee30"
      },
      "outputs": [
        {
          "data": {
            "text/plain": [
              "([2, 6, 22, 90, 394, 1806, 8558, 41586],\n",
              " [],\n",
              " ([0, 0, 0, 0, 0, 0, 0, 0], [2, 6, 22, 90, 394, 1806, 8558, 41586]))"
            ]
          },
          "execution_count": 174,
          "metadata": {},
          "output_type": "execute_result"
        }
      ],
      "source": [
        "counts_list_PM(listlposetmatrices=leftMatConn,listrposetmatrices=rightMat,first_operation=generatePMMinMax,second_operation=isDoubleDual,third_operation=False,n=8)"
      ]
    },
    {
      "cell_type": "code",
      "source": [
        "def isSemiEquidualizable(posetmatrix):\n",
        "    if isSemiLeft(posetmatrix) or isSemiRight(posetmatrix) or isDoubleDual(posetmatrix):\n",
        "        return True\n",
        "    else:\n",
        "        return False"
      ],
      "metadata": {
        "id": "60w35JJb_bhJ"
      },
      "execution_count": null,
      "outputs": []
    },
    {
      "cell_type": "code",
      "source": [
        "counts_list_PM(listlposetmatrices=leftMat,listrposetmatrices=rightMat,first_operation=generatePM,second_operation=isSemiEquidualizable,third_operation=False,n=8)"
      ],
      "metadata": {
        "colab": {
          "base_uri": "https://localhost:8080/"
        },
        "id": "L-dVGeRA_omn",
        "outputId": "23e829fb-dbcf-49ce-f549-1558275d3ff0"
      },
      "execution_count": null,
      "outputs": [
        {
          "output_type": "execute_result",
          "data": {
            "text/plain": [
              "([6, 22, 90, 394, 1806, 8558, 41586, 206098],\n",
              " [],\n",
              " [0, 4, 22, 113, 523, 2502, 12034, 59305],\n",
              " [6, 18, 68, 281, 1283, 6056, 29552, 146793])"
            ]
          },
          "metadata": {},
          "execution_count": 62
        }
      ]
    },
    {
      "cell_type": "code",
      "source": [
        "counts_list_PM(listlposetmatrices=leftMat,listrposetmatrices=rightMat,first_operation=generatePMMin,second_operation=isSemiEquidualizable,third_operation=False,n=8)"
      ],
      "metadata": {
        "colab": {
          "base_uri": "https://localhost:8080/"
        },
        "id": "SDTsTK5iDfJY",
        "outputId": "88318397-3e61-4d9c-d40f-a05084d28bcb"
      },
      "execution_count": null,
      "outputs": [
        {
          "output_type": "execute_result",
          "data": {
            "text/plain": [
              "([6, 22, 90, 394, 1806, 8558, 41586, 206098],\n",
              " [],\n",
              " [0, 2, 10, 53, 249, 1223, 5984, 29863],\n",
              " [6, 20, 80, 341, 1557, 7335, 35602, 176235])"
            ]
          },
          "metadata": {},
          "execution_count": 63
        }
      ]
    },
    {
      "cell_type": "code",
      "source": [
        "counts_list_PM(listlposetmatrices=leftMat,listrposetmatrices=rightMat,first_operation=generatePMMax,second_operation=isSemiEquidualizable,third_operation=False,n=8)"
      ],
      "metadata": {
        "colab": {
          "base_uri": "https://localhost:8080/"
        },
        "id": "jeJlcaPfIOlG",
        "outputId": "4013128d-596c-4a9b-e650-af6492690137"
      },
      "execution_count": null,
      "outputs": [
        {
          "output_type": "execute_result",
          "data": {
            "text/plain": [
              "([6, 22, 90, 394, 1806, 8558, 41586, 206098],\n",
              " [],\n",
              " [0, 2, 10, 53, 251, 1255, 6295, 32277],\n",
              " [6, 20, 80, 341, 1555, 7303, 35291, 173821])"
            ]
          },
          "metadata": {},
          "execution_count": 65
        }
      ]
    },
    {
      "cell_type": "code",
      "source": [
        "counts_list_PM(listlposetmatrices=leftMat,listrposetmatrices=rightMat,first_operation=generatePMMinMax,second_operation=isSemiEquidualizable,third_operation=False,n=8)"
      ],
      "metadata": {
        "colab": {
          "base_uri": "https://localhost:8080/"
        },
        "id": "eV00jsdpKL2y",
        "outputId": "a4f9ec36-8fc3-4b09-b57e-852f37834481"
      },
      "execution_count": null,
      "outputs": [
        {
          "output_type": "execute_result",
          "data": {
            "text/plain": [
              "([5, 15, 52, 201, 841, 3726, 17213, 82047],\n",
              " [],\n",
              " [0, 0, 0, 0, 0, 0, 0, 0],\n",
              " [5, 15, 52, 201, 841, 3726, 17213, 82047])"
            ]
          },
          "metadata": {},
          "execution_count": 66
        }
      ]
    }
  ],
  "metadata": {
    "colab": {
      "provenance": [],
      "authorship_tag": "ABX9TyMyUF3tLy94/K+Zp839eOj9",
      "include_colab_link": true
    },
    "kernelspec": {
      "display_name": "Python 3",
      "name": "python3"
    },
    "language_info": {
      "name": "python"
    }
  },
  "nbformat": 4,
  "nbformat_minor": 0
}